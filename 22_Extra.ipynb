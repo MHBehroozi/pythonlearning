{
 "cells": [
  {
   "cell_type": "markdown",
   "id": "e993db91-49c5-4022-b2d2-db001bb4f998",
   "metadata": {},
   "source": [
    "# methpds of math"
   ]
  },
  {
   "cell_type": "raw",
   "id": "08dbc9c1-05a3-485d-98ca-bfb92c2c5d0b",
   "metadata": {},
   "source": [
    "شامل یکسرس متدهای ریاضی و ثابت هاست\n"
   ]
  },
  {
   "cell_type": "code",
   "execution_count": 36,
   "id": "56d2fc37-e685-42d3-a3ed-b6f61ffad0c8",
   "metadata": {},
   "outputs": [
    {
     "name": "stdout",
     "output_type": "stream",
     "text": [
      "3.141592653589793\n",
      "2.718281828459045\n",
      "6.283185307179586\n",
      "inf\n",
      "-inf\n",
      "True\n",
      "nan\n",
      "True\n",
      "5\n",
      "4\n",
      "4.33\n",
      "120\n",
      "0.2329900014453396\n",
      "0.6989700043360189\n",
      "2.321928094887362\n",
      "5.0\n",
      "25.0\n",
      "0.8509035245341184\n",
      "0.5253219888177297\n",
      "2578.3100780887044\n",
      "0.7853981633974483\n",
      "(0.32500000000000284, 45.0)\n",
      "-45.325\n",
      "1.3250000000000028\n",
      "47.0\n",
      "1\n",
      "90\n",
      "5.0\n",
      "1\n",
      "72\n",
      "144\n",
      "3\n"
     ]
    },
    {
     "data": {
      "text/plain": [
       "11"
      ]
     },
     "execution_count": 36,
     "metadata": {},
     "output_type": "execute_result"
    }
   ],
   "source": [
    "import math\n",
    "\n",
    "# عدد پی\n",
    "# میتونیم باستفاده از رند هرچند رقم را خاستیم جدا بکنیم\n",
    "print(math.pi)\n",
    "\n",
    "# ثابت اپل\n",
    "print(math.e)\n",
    "\n",
    "# ثابت تاو\n",
    "print(math.tau)\n",
    "\n",
    "# بینهایت و منفی بینهایت\n",
    "print(math.inf)\n",
    "print(-math.inf)\n",
    "\n",
    "# چک اینکه یک عدد بینهایت است یا ن\n",
    "x = math.inf\n",
    "print(math.isinf(x))\n",
    "\n",
    "# nan\n",
    "# تعریف نشده\n",
    "print(math.nan)\n",
    "\n",
    "# چک کردن نن\n",
    "x = math.nan\n",
    "print(math.isnan(x))\n",
    "\n",
    "# کوچکترین عدد صحیحی که بزرگتر مساوی عدد باشد\n",
    "x = 4.33\n",
    "print(math.ceil(x))\n",
    "\n",
    "# بزرگترین عدد صحیحی که بزرگتر مساوی عدد باشد\n",
    "x = 4.33\n",
    "print(math.floor(x))\n",
    "\n",
    "# قدرالمطلق\n",
    "x = -4.33\n",
    "print(math.fabs(x))\n",
    "\n",
    "# فاکتوریل\n",
    "x = 5\n",
    "print(math.factorial(x))\n",
    "\n",
    "# لگاریتم\n",
    "y = 1000\n",
    "x = 5\n",
    "print(math.log(x, y))\n",
    "\n",
    "# دوتا لگاریتم پر استفاده\n",
    "print(math.log10(x))\n",
    "print(math.log2(x))\n",
    "\n",
    "# ریشه دوم یا جذر\n",
    "x = 25\n",
    "print(math.sqrt(x))\n",
    "\n",
    "# توان \n",
    "y = 2\n",
    "x = 5\n",
    "print(math.pow(x, y))\n",
    "\n",
    "# متدهای مثلثاتی\n",
    "# دیفالت بر اساس رادیان\n",
    "x = 45\n",
    "print(math.sin(x))\n",
    "print(math.cos(x))\n",
    "\n",
    "# تبدیل رادیان و درجه بهم\n",
    "print(math.degrees(x))\n",
    "print(math.radians(x))\n",
    "\n",
    "# بخش اعشاری و خود عدد را جدا میکند\n",
    "# در تاپل قرار میدهد\n",
    "x = 45.325\n",
    "print(math.modf(x))\n",
    "\n",
    "# مقدار اولی و علامت دومی را برمیدارد\n",
    "x = 45.325\n",
    "y = -2\n",
    "print(math.copysign(x, y))\n",
    "\n",
    "# باقیمانده تقسیم را نمایش میدهد\n",
    "x = 45.325\n",
    "y = -2\n",
    "print(math.fmod(x, y))\n",
    "\n",
    "#  جمع را نمایش میدهد\n",
    "# ورودی باید قابل پیمایش باشد\n",
    "x = 45\n",
    "y = 2\n",
    "print(math.fsum((x, y)))\n",
    "\n",
    "# بزرگترین مقسوم علیه مشترک\n",
    "x = 45\n",
    "y = 2\n",
    "print(math.gcd(x, y))\n",
    "\n",
    "# کوچکترین مضرب مشترک\n",
    "x = 45\n",
    "y = 2\n",
    "print(math.lcm(x, y))\n",
    "\n",
    "# در مختصات و پیدا کردن فاصله\n",
    "# پیدا کردن وتر مثلث\n",
    "x = 4\n",
    "y = 3\n",
    "print(math.hypot(x, y))\n",
    "\n",
    "# بعد جذر به نزدیک ترین عدد صحیح گرد میکند\n",
    "y = 3\n",
    "print(math.isqrt(y))\n",
    "\n",
    "# حاصلضرب چند عدد\n",
    "print(math.prod([1, 3, 4, 6]))\n",
    "# حاصل را بر استارت ضرب میکند\n",
    "print(math.prod([1, 3, 4, 6], start=2))\n",
    "\n",
    "# قسمت اعشار را جدا میکند\n",
    "# y = 3.568\n",
    "print(math.trunc(y))\n",
    "\n",
    "# متد های بدون مث\n",
    "round(2.3)\n",
    "min([2, 3])\n",
    "max([2, 3])\n",
    "sum([2, 3, 6])\n",
    "\n",
    "# cmath\n",
    "# جزو مباحث تخصصی ریاضی است"
   ]
  },
  {
   "cell_type": "markdown",
   "id": "cbb79497-0783-48aa-a3d0-56996074f648",
   "metadata": {},
   "source": [
    "# Union"
   ]
  },
  {
   "cell_type": "raw",
   "id": "3a2c03af-4f24-4590-88d3-4711de4532e3",
   "metadata": {},
   "source": [
    "یک داده دو نوع مختلف از تایپ داشته باشد\n",
    "\n",
    "باید از تایپینگ ایمپورت شود\n",
    "\n",
    "بجای یونیون اومدن از یک عکلگر استفاده کردند که کار ما را راحت تر بکند\n",
    "اپراتور پای\n",
    "\n",
    "\n"
   ]
  },
  {
   "cell_type": "code",
   "execution_count": 1,
   "id": "a273a3b4-74f9-426c-96fa-a300fe493565",
   "metadata": {},
   "outputs": [],
   "source": [
    "from typing import Union\n",
    "\n",
    "x: Union[int, float] = 5.3"
   ]
  },
  {
   "cell_type": "code",
   "execution_count": 2,
   "id": "ca2a77fd-fc16-4e77-9bfb-c72234985432",
   "metadata": {},
   "outputs": [],
   "source": [
    "# از نسخه ۳.۱۰ به بعد ارایه شده است\n",
    "x: int | float = 5.3"
   ]
  },
  {
   "cell_type": "code",
   "execution_count": 3,
   "id": "71a9bdfb-c9c0-4a0a-993c-0ec69ec44395",
   "metadata": {},
   "outputs": [
    {
     "name": "stdout",
     "output_type": "stream",
     "text": [
      "True\n",
      "True\n"
     ]
    }
   ],
   "source": [
    "# برای اینکه ببینم نمونه ایی از یک تایپ است یا ن با استفاده از یونین و عملگر پای\n",
    "\n",
    "from typing import Union\n",
    "\n",
    "print(isinstance(5.66, Union[int, float]))\n",
    "\n",
    "print(isinstance(5.66, int | float))\n"
   ]
  },
  {
   "cell_type": "markdown",
   "id": "9f346b57-521d-477f-8eec-5c6b7e9da5df",
   "metadata": {},
   "source": [
    "# match - case"
   ]
  },
  {
   "cell_type": "raw",
   "id": "dd3f5e41-716c-4019-b070-1507754ea6d0",
   "metadata": {},
   "source": [
    "switch - case در زبان های دیگر\n",
    "\n",
    "در مچ کیس قابلیت پشتیبانی از لیست تاپل و دیکشنری است\n",
    "\n"
   ]
  },
  {
   "cell_type": "code",
   "execution_count": 4,
   "id": "a6f6c00b-2f95-4aa0-acaa-d19c2c3d2d38",
   "metadata": {},
   "outputs": [
    {
     "name": "stdin",
     "output_type": "stream",
     "text": [
      "x :  6\n",
      "y :  2\n",
      "op :  +\n"
     ]
    },
    {
     "name": "stdout",
     "output_type": "stream",
     "text": [
      "8\n"
     ]
    }
   ],
   "source": [
    "x = int(input(\"x : \"))\n",
    "y = int(input(\"y : \"))\n",
    "op = input(\"op : \")\n",
    "\n",
    "match op:\n",
    "    case \"+\":\n",
    "        print(x + y)\n",
    "    case \"-\":\n",
    "        print(x - y)\n",
    "    case \"*\":\n",
    "        print(x * y)\n",
    "    case \"/\":\n",
    "        print(x / y)\n",
    "    # برای مقدار دیفالت\n",
    "    case _:\n",
    "        print(\"Invalid operator!\")\n"
   ]
  },
  {
   "cell_type": "code",
   "execution_count": 9,
   "id": "71806cff-6189-4949-9707-d85dcc70b3fc",
   "metadata": {},
   "outputs": [
    {
     "name": "stdout",
     "output_type": "stream",
     "text": [
      "next\n"
     ]
    }
   ],
   "source": [
    "from random import randint\n",
    "# 6 6 -> win\n",
    "# 1 1 -> lose\n",
    "# 6 y -> repeat\n",
    "# x 6 -> repeat\n",
    "# x y -> next\n",
    "\n",
    "x = randint(1, 6)\n",
    "y = randint(1, 6)\n",
    "\n",
    "# متغییری که مقدار مشخص ندارد باید در آخر بیاییند\n",
    "match (x, y):\n",
    "    # یا هم میشه استفاده کرد\n",
    "    case(6, 6) | (3, 3):\n",
    "        print(\"win\")\n",
    "    case(1, 1):\n",
    "        print(\"lose\")\n",
    "    case(6, y):\n",
    "        print(\"repeat\")\n",
    "    case(x, 6):\n",
    "        print(\"repeat\")\n",
    "    # شرط هم میشود استفاده کرد\n",
    "    case(x, y) if 1 <= x <= 6 and 1 <= y <= 6:\n",
    "        print(\"next\")\n",
    "    case _:\n",
    "        print(\"error\")\n",
    "        "
   ]
  },
  {
   "cell_type": "code",
   "execution_count": 10,
   "id": "0aedb531-690d-4dbe-a1d3-5c94deeee12e",
   "metadata": {},
   "outputs": [
    {
     "name": "stdout",
     "output_type": "stream",
     "text": [
      "repeat\n"
     ]
    }
   ],
   "source": [
    "# with dict\n",
    "\n",
    "x = randint(1, 6)\n",
    "y = randint(1, 6)\n",
    "\n",
    "match {\"x\": x, \"y\": y}:\n",
    "    case{\"x\": 6, \"y\": 6}:\n",
    "        print(\"win\")\n",
    "    case{\"x\": 1, \"y\": 1}:\n",
    "        print(\"lose\")\n",
    "    case{\"x\": x, \"y\": y}:\n",
    "        print(\"repeat\")\n"
   ]
  },
  {
   "cell_type": "code",
   "execution_count": 11,
   "id": "d3b5ca6a-9c6f-4d74-bdc8-a522098141e1",
   "metadata": {},
   "outputs": [
    {
     "name": "stdout",
     "output_type": "stream",
     "text": [
      "win\n"
     ]
    }
   ],
   "source": [
    "# براینکه نشان دهیم بقیه برایمان اهمیتی ندارد\n",
    "# از ستاره استفاده میکنیم\n",
    "\n",
    "x = 6\n",
    "y = 1\n",
    "z = 3\n",
    "\n",
    "match (x, y, z):\n",
    "    case(6, *others):\n",
    "        print(\"win\")\n",
    "    case _:\n",
    "        print(\"lose\")\n",
    "        "
   ]
  },
  {
   "cell_type": "code",
   "execution_count": 12,
   "id": "20f334fc-ce52-4ba2-b15b-3e9e028a8d2b",
   "metadata": {},
   "outputs": [
    {
     "name": "stdout",
     "output_type": "stream",
     "text": [
      "lose\n"
     ]
    }
   ],
   "source": [
    "\n",
    "x = 6\n",
    "y = 1\n",
    "z = 3\n",
    "a = 5\n",
    "b = 7\n",
    "\n",
    "match (x, y, z, a, b):\n",
    "    case(6, *others, 6):\n",
    "        print(\"win\")\n",
    "    case _:\n",
    "        print(\"lose\")"
   ]
  },
  {
   "cell_type": "code",
   "execution_count": 18,
   "id": "9c5518c3-ee68-4fe4-b569-bc5331924890",
   "metadata": {},
   "outputs": [
    {
     "name": "stdout",
     "output_type": "stream",
     "text": [
      "win\n"
     ]
    }
   ],
   "source": [
    "# همینطور در دیکشنری\n",
    "# از دوتا ستاره استفاده میکنیم\n",
    "\n",
    "x = 6\n",
    "y = 1\n",
    "z = 3\n",
    "\n",
    "match {\"x\": x, \"y\": y, \"z\": z}:\n",
    "    case{\"x\": 6, **others}:\n",
    "        print(\"win\")\n",
    "    case _:\n",
    "        print(\"lose\")"
   ]
  },
  {
   "cell_type": "code",
   "execution_count": 19,
   "id": "81e20ec1-1696-4fe1-a62f-c09933b44afd",
   "metadata": {},
   "outputs": [
    {
     "name": "stdout",
     "output_type": "stream",
     "text": [
      "repeat {'x': 3, 'y': 2}\n"
     ]
    }
   ],
   "source": [
    "# میتونیم اسم مستعار بدهیم و مقدار دیکشنری را چاپ بکند\n",
    "\n",
    "x = randint(1, 6)\n",
    "y = randint(1, 6)\n",
    "\n",
    "match {\"x\": x, \"y\": y}:\n",
    "    case{\"x\": 6, \"y\": 6}:\n",
    "        print(\"win\")\n",
    "    case{\"x\": 1, \"y\": 1}:\n",
    "        print(\"lose\")\n",
    "    case ـ as a:\n",
    "        print(\"repeat\", a)\n",
    "        "
   ]
  },
  {
   "cell_type": "code",
   "execution_count": 20,
   "id": "a8dde9ad-cf3d-4681-bd6f-24790677ee44",
   "metadata": {},
   "outputs": [
    {
     "name": "stdout",
     "output_type": "stream",
     "text": [
      "yess!\n"
     ]
    }
   ],
   "source": [
    "# میتونیم تایپ ها را نیز بررسی بکنیم\n",
    "\n",
    "x = 6\n",
    "y = \"d\"\n",
    "\n",
    "match (x, y):\n",
    "    case(int(), str()):\n",
    "        print(\"yess!\")\n",
    "    case _:\n",
    "        print(\"noo!\")"
   ]
  },
  {
   "cell_type": "markdown",
   "id": "5fc65e6a-1d5f-475d-8b39-ce1404d9762f",
   "metadata": {},
   "source": [
    "# محیط تعاملی"
   ]
  },
  {
   "cell_type": "raw",
   "id": "e5d997ab-1fc5-4539-9db8-434abcdfa0a9",
   "metadata": {},
   "source": [
    "با نوشتن کلمه پایتون وارد محیط تعاملی میشویم در سی ام دی یا ...\n",
    "\n",
    "یا با باز کردن مفسر پایتون\n",
    "\n",
    "با این کامند ها از این محیط خارج میشود\n",
    "quit() - exit()\n",
    "\n",
    "برای ورود به پایتون یکسری کلمات میتونیم استفاه بکنیم که به ما کمک میکند یکسری ویژگی ها را داشته باشیم\n",
    "\n",
    "مثلا\n",
    "python -q\n",
    "\n",
    "با این دستور بدون ورود به محیط تعاملی یکسری دستورات را اجرا میکند\n",
    "python -c \"print(0 + 2)\"\n",
    "\n",
    "میتونیم یک فایل را باز بکنیم و آرگومان به آن بدهیم\n",
    "\n",
    "مثلا\n",
    "python test.py hello 3\n",
    "\n",
    "با نوشتن کلمه هاپ وارد یک محیطی میشویم بنام هلپ\n",
    "help()\n",
    "\n",
    "که میتونیم درون آن یکسری اطلاعات که در مورد یک چیز خاص میخاهیم را انتخاب بکنیم و از اطلاعاتش استفاده بکنیم\n",
    "\n",
    "با کیو میتونیم از قسمتهای مختلف خارج شویم\n",
    "q\n",
    "\n",
    "در محیط تعاملی نیاز به نوشتن پرینت نیست\n",
    "\n",
    "با اندر اسکور مقدار قبلی را بدست می آوریم\n",
    "\n",
    "دستورات چند خطی هم میشود در محیط تعاملی استفاده کرد که با سه نقطه مشخص میشوند که با اینتر به خط بعدی میرود\n",
    "\n",
    "براینکه ادامه نیابد یک اینتر دیگر میزنیم و خارج میشود\n",
    "\n",
    "میتونیم کتابخونه ها را نیز ایمپورت کنیم\n",
    "import math\n",
    "\n"
   ]
  },
  {
   "cell_type": "markdown",
   "id": "0e535aba-f329-4f71-91ad-183797b5ca30",
   "metadata": {},
   "source": [
    "# datatime"
   ]
  },
  {
   "cell_type": "code",
   "execution_count": 22,
   "id": "d1a53250-9cea-4539-9105-1bee3729a520",
   "metadata": {},
   "outputs": [
    {
     "name": "stdout",
     "output_type": "stream",
     "text": [
      "2023-08-15 15:28:22.342853\n"
     ]
    }
   ],
   "source": [
    "import datetime\n",
    "\n",
    "# زمان فعلی\n",
    "now = datetime.datetime.now()\n",
    "print(now)"
   ]
  },
  {
   "cell_type": "code",
   "execution_count": 24,
   "id": "0d23ad92-1c4c-43a5-af93-593081033248",
   "metadata": {},
   "outputs": [
    {
     "name": "stdout",
     "output_type": "stream",
     "text": [
      "2023-08-15\n"
     ]
    }
   ],
   "source": [
    "# شاید فقط تاریخ را میخاهیم ساعت را نمیخاهیم\n",
    "\n",
    "from datetime import date\n",
    "\n",
    "now = date.today()\n",
    "print(now)"
   ]
  },
  {
   "cell_type": "code",
   "execution_count": 45,
   "id": "94694469-8bff-49f7-bec6-c32215763d6b",
   "metadata": {},
   "outputs": [
    {
     "name": "stdout",
     "output_type": "stream",
     "text": [
      "2023-06-12 22:36:00\n",
      "22\n",
      "2023\n",
      "36\n",
      "<class 'datetime.datetime'>\n"
     ]
    }
   ],
   "source": [
    "# میتونیم یک تاریخ خودمان بسازیم\n",
    "# ماه سال و روز اجباری است\n",
    "# علاوبر تاریخ ساعت و زمان را دارد\n",
    "\n",
    "import datetime\n",
    "\n",
    "D = datetime.datetime(2023, 6, 12, 22, 36)\n",
    "print(D)\n",
    "# میتونیم هریک از ایتم ها را تکی داشته باشیم\n",
    "print(D.hour)\n",
    "print(D.year)\n",
    "print(D.minute)\n",
    "print(type(D))"
   ]
  },
  {
   "cell_type": "code",
   "execution_count": 30,
   "id": "3691cf43-2986-4940-81a0-943bd357a43e",
   "metadata": {},
   "outputs": [
    {
     "name": "stdout",
     "output_type": "stream",
     "text": [
      "2023-06-12\n",
      "<class 'datetime.date'>\n"
     ]
    }
   ],
   "source": [
    "# حالا فقط با تاریخ\n",
    "\n",
    "from datetime import date\n",
    "\n",
    "D = date(2023, 6, 12)\n",
    "print(D)\n",
    "print(type(D))"
   ]
  },
  {
   "cell_type": "code",
   "execution_count": 36,
   "id": "eb04b7f8-c427-4470-9f86-5b973e5df831",
   "metadata": {},
   "outputs": [
    {
     "name": "stdout",
     "output_type": "stream",
     "text": [
      "2035-01-14\n"
     ]
    }
   ],
   "source": [
    "# ما زمانیکه استفاده میکنیم برا اساس یک مبدا است که  که به شکل ثانیه محاسبه میشود مبدا آن سال ۱۹۷۰ است\n",
    "\n",
    "from datetime import date\n",
    "\n",
    "# ثانیه را بعد از مبدا محاسبه میکند و یک تاریخ میدهد\n",
    "D = date.fromtimestamp(2052352533)\n",
    "print(D)\n"
   ]
  },
  {
   "cell_type": "code",
   "execution_count": 38,
   "id": "f47878ff-81fc-433f-9be1-77f74b1f138f",
   "metadata": {},
   "outputs": [
    {
     "name": "stdout",
     "output_type": "stream",
     "text": [
      "2023\n",
      "8\n",
      "15\n"
     ]
    }
   ],
   "source": [
    "# حلا شاید بخاهیم از تاریخ یا ماه یا سال یا روز را بدست بیاوریم\n",
    "\n",
    "from datetime import date\n",
    "\n",
    "D = date.today()\n",
    "print(D.year)\n",
    "print(D.month)\n",
    "print(D.day)"
   ]
  },
  {
   "cell_type": "code",
   "execution_count": 42,
   "id": "2ffba3ea-4b3c-4aac-979c-6b1d6a9e64d8",
   "metadata": {},
   "outputs": [
    {
     "name": "stdout",
     "output_type": "stream",
     "text": [
      "12:26:14.003659\n",
      "12\n",
      "3659\n"
     ]
    }
   ],
   "source": [
    "# ماژول زمان نیز داریم\n",
    "# میتونیم بهش ساعت دقیقه و ثانیه و حتی واحدهای پایینتر را پاس دهیم\n",
    "\n",
    "from datetime import time\n",
    "\n",
    "t = time(12, 26 , 14, 3659)\n",
    "print(t)\n",
    "# هرکدام از واحدها را خواستیم میتوانیم بگیم نشان دهد\n",
    "print(t.hour)\n",
    "print(t.microsecond)"
   ]
  },
  {
   "cell_type": "code",
   "execution_count": 50,
   "id": "1487e57f-5510-4e95-8ad1-954796882d46",
   "metadata": {},
   "outputs": [
    {
     "name": "stdout",
     "output_type": "stream",
     "text": [
      "153 days, 0:00:00\n",
      "<class 'datetime.timedelta'>\n"
     ]
    }
   ],
   "source": [
    "# میتونیم اختلاف دوتا تاریخ را محاسبه کنیم\n",
    "\n",
    "import datetime\n",
    "\n",
    "D1 = datetime.datetime(2023, 6, 12, 22, 36)\n",
    "D2 = datetime.datetime(2023, 11, 12, 22, 36)\n",
    "\n",
    "print(D2 - D1)\n",
    "\n",
    "# تایپ اختلاف دوتا تاریخ\n",
    "# timedelta\n",
    "\n",
    "D3 = D2 - D1\n",
    "print(type(D3))\n",
    "\n",
    "# این قابلیت را داریم که دوتا تایم دلتا را نیز از هم دیگر کم کنیم"
   ]
  },
  {
   "cell_type": "code",
   "execution_count": 52,
   "id": "75d9759c-d4e1-4d60-b39c-3680cafcc708",
   "metadata": {},
   "outputs": [
    {
     "name": "stdout",
     "output_type": "stream",
     "text": [
      "7 days, 0:00:00\n",
      "1209600.0\n"
     ]
    }
   ],
   "source": [
    "# خودمون میتونیم تایم دلتا ایجاد بکنیم\n",
    "import datetime\n",
    "\n",
    "td1 = datetime.timedelta(weeks=2)\n",
    "td2 = datetime.timedelta(weeks=3)\n",
    "\n",
    "print(td2 - td1)\n",
    "\n",
    "# میتونیم به ثانیه هم آنها را تبدیل بکنیم\n",
    "print(td1.total_seconds())"
   ]
  },
  {
   "cell_type": "code",
   "execution_count": 54,
   "id": "4aa109fd-281a-4118-9342-adb1054a80e4",
   "metadata": {},
   "outputs": [
    {
     "name": "stdout",
     "output_type": "stream",
     "text": [
      "*2023/Aug/15-15:58*\n"
     ]
    }
   ],
   "source": [
    "# تغییر فرمت دیتاتایم\n",
    "# strftime\n",
    "\n",
    "import datetime\n",
    "\n",
    "now = datetime.datetime.now()\n",
    "\n",
    "# برای اطلاعات مراجعه به داکیومنت\n",
    "print(now.strftime(\"*%Y/%b/%d-%H:%M*\"))"
   ]
  },
  {
   "cell_type": "code",
   "execution_count": 55,
   "id": "d5f0810e-055d-417f-aa06-6e964926c205",
   "metadata": {},
   "outputs": [
    {
     "name": "stdout",
     "output_type": "stream",
     "text": [
      "2023-08-15 15:58:00\n"
     ]
    }
   ],
   "source": [
    "# فرمت و تاریخ را میدهیم به ما تاریخ نرمال را میدهد\n",
    "# strptime\n",
    "\n",
    "import datetime\n",
    "\n",
    "now = datetime.datetime.now()\n",
    "print(now.strptime(\"*2023/Aug/15-15:58*\", \"*%Y/%b/%d-%H:%M*\"))"
   ]
  },
  {
   "cell_type": "markdown",
   "id": "6d026669-b391-4bab-a650-e564d806bb81",
   "metadata": {},
   "source": [
    "# OS"
   ]
  },
  {
   "cell_type": "raw",
   "id": "dcb59464-498f-4eb6-aabb-4d70bfb4a1f6",
   "metadata": {},
   "source": [
    "کمک میکنه با سیستم عامل در ارتباط باشیم\n",
    "\n",
    "یکسری تغییرات را در دایرکتوری ها بدهیم یا به اطلاعات سیستم دسترسی داشته باشیم\n",
    "\n"
   ]
  },
  {
   "cell_type": "code",
   "execution_count": 73,
   "id": "46ea69d8-fe00-4c76-8965-9d50de99c8af",
   "metadata": {},
   "outputs": [
    {
     "name": "stdout",
     "output_type": "stream",
     "text": [
      "posix\n",
      "/home/amir/Downloads/۱\n",
      "False\n"
     ]
    }
   ],
   "source": [
    "import os\n",
    "\n",
    "# به ما میگه در چه سیتم عاملی هستیم\n",
    "print(os.name)\n",
    "\n",
    "# دایرکتوری فعلی را نمایش میدهد\n",
    "print(os.getcwd())\n",
    "\n",
    "# میتونیم اسم فایل یا دایرکتوری را تغییر بدهیم\n",
    "# ورودی اول مسیر را میدهیم و در ورودی بعدی مسیر با تغییرات جدید\n",
    "# میتونیم مسیردهی را از ریشه بدهیم\n",
    "os.rename(\"test/test.py\" , \"test/new.py\")\n",
    "os.rename(r\"/home/amir/Downloads/۱/test/new.py\" , r\"/home/amir/Downloads/۱/test/test.py\")\n",
    "\n",
    "# میتونیم بررسی بکنیم که ایا دسترسی به فایل داریم یا ن\n",
    "# ورودی اول دایرکتوری است ورودی بعدی نوع دسترسی\n",
    "# چند نوع دسترسی داریم\n",
    "# W_OK -> writable\n",
    "# R_OK -> readable\n",
    "# X_OK -> قابل اجرا\n",
    "print(os.access(\"test/new.py\", os.F_OK))\n"
   ]
  },
  {
   "cell_type": "code",
   "execution_count": 74,
   "id": "83c0cf59-2ad3-4554-b616-cfb114a33000",
   "metadata": {},
   "outputs": [
    {
     "name": "stdout",
     "output_type": "stream",
     "text": [
      "['.ipynb_checkpoints', '01_SyntaxLearn_Introduction.ipynb', '02_SyntaxLearn_DataTypes_1.ipynb', '03_SyntaxLearn_Print&Output.ipynb', '04_SyntaxLearn_Control_ifelse.ipynb', '05_SyntaxLearn_Control_Iteration.ipynb', '06_SyntaxLearn_Function_1_Syntax.ipynb', '07_SyntaxLearn_NameSpace&Scope.ipynb', '08_SyntaxLearn_DataTypeMethods_2.ipynb', '09_SyntaxLearn_Function_2_Addition.ipynb', '10_SyntaxLearn_Comprehension&Walrus.ipynb', 'new.txt', 'README.md', 'sample2.txt', '13_Files.ipynb', '12_Modules&Packages.ipynb', '11_EncodDecod_UNICODE.ipynb', 'Screenshot from 2023-07-24 17-23-24.png', 'Screenshot from 2023-07-24 17-47-30.png', 'Screenshot from 2023-07-25 11-19-48.png', '16_Class.ipynb', '17_Class.ipynb', '14_Class.ipynb', '15_Class.ipynb', '19_Class.ipynb', '18_Class.ipynb', 'Screenshot from 2023-08-02 11-44-48.png', 'Screenshot from 2023-08-02 18-28-09.png', 'Screenshot from 2023-08-02 18-28-26.png', 'Screenshot from 2023-08-02 18-28-47.png', 'Screenshot from 2023-08-02 18-29-10.png', '20_Class.ipynb', 'test.txt', 'text.txt', '22_Extra.ipynb', '21_Exception.ipynb', 'test']\n",
      "['.ipynb_checkpoints', 'test.py']\n"
     ]
    }
   ],
   "source": [
    "import os \n",
    "\n",
    "# تمام فایل های موجود در یک دایرکتوری\n",
    "# میتونیم ادرس هم بدهیم\n",
    "print(os.listdir())\n",
    "print(os.listdir(\"test\"))\n"
   ]
  },
  {
   "cell_type": "code",
   "execution_count": 94,
   "id": "51b8cf96-ccc4-4d82-9191-65d209ce28f2",
   "metadata": {},
   "outputs": [
    {
     "name": "stdout",
     "output_type": "stream",
     "text": [
      "None\n",
      "None\n",
      "None\n",
      "/home/amir/.local/share/Trash/files/new/reza/now\n"
     ]
    }
   ],
   "source": [
    "import os \n",
    "\n",
    "# ساخت یک دایرکتوری جدید\n",
    "# البته نمیشه دایرکتوری تودرتو درست کرد\n",
    "print(os.mkdir(\"now\"))\n",
    "\n",
    "# برای ساخت دایرکتوری تو در تو\n",
    "print(os.makedirs(\"new/reza/test\"))\n",
    "\n",
    "# تغییر مسیر دایرکتوری\n",
    "print(os.chdir(\"now\"))\n",
    "print(os.getcwd())\n"
   ]
  },
  {
   "cell_type": "code",
   "execution_count": 84,
   "id": "88981920-8b74-4df1-abf9-da1e392ead21",
   "metadata": {},
   "outputs": [
    {
     "name": "stdout",
     "output_type": "stream",
     "text": [
      "environ({'SHELL': '/bin/bash', 'SESSION_MANAGER': 'local/amir:@/tmp/.ICE-unix/795,unix/amir:/tmp/.ICE-unix/795', 'XDG_MENU_PREFIX': 'gnome-', 'CONDA_EXE': '/opt/anaconda/bin/conda', '_CE_M': '', 'LC_ADDRESS': 'en_US.UTF-8', 'LC_NAME': 'en_US.UTF-8', 'SSH_AUTH_SOCK': '/run/user/1000/keyring/ssh', 'DESKTOP_SESSION': 'gnome', 'LC_MONETARY': 'en_US.UTF-8', 'PWD': '/home/amir', 'LOGNAME': 'amir', 'XDG_SESSION_DESKTOP': 'gnome', 'CONDA_ROOT': '/opt/anaconda', 'XDG_SESSION_TYPE': 'wayland', 'CONDA_PREFIX': '/opt/anaconda', 'SYSTEMD_EXEC_PID': '932', 'XAUTHORITY': '/run/user/1000/.mutter-Xwaylandauth.6TPF91', 'GJS_DEBUG_TOPICS': 'JS ERROR;JS LOG', 'MOTD_SHOWN': 'pam', 'GDM_LANG': 'en_US.UTF-8', 'HOME': '/home/amir', 'USERNAME': 'amir', 'LANG': 'en_US.UTF-8', 'LC_PAPER': 'en_US.UTF-8', 'XDG_CURRENT_DESKTOP': 'GNOME', 'WAYLAND_DISPLAY': 'wayland-0', 'CONDA_PROMPT_MODIFIER': '(base) ', 'INVOCATION_ID': '51d0bfa6175b494ebf27ef13f61ba7e3', 'MANAGERPID': '645', 'GJS_DEBUG_OUTPUT': 'stderr', 'GNOME_SETUP_DISPLAY': ':1', 'XDG_SESSION_CLASS': 'user', 'LC_IDENTIFICATION': 'en_US.UTF-8', '_CE_CONDA': '', 'USER': 'amir', 'CONDA_SHLVL': '1', 'DISPLAY': ':0', 'SHLVL': '1', 'LC_TELEPHONE': 'en_US.UTF-8', 'LC_MEASUREMENT': 'en_US.UTF-8', 'CONDA_PYTHON_EXE': '/opt/anaconda/bin/python', 'XDG_RUNTIME_DIR': '/run/user/1000', 'CONDA_DEFAULT_ENV': 'base', 'DEBUGINFOD_URLS': 'https://debuginfod.archlinux.org ', 'LC_TIME': 'en_US.UTF-8', 'JOURNAL_STREAM': '8:25827', 'PATH': '/opt/anaconda/bin:/opt/anaconda/condabin:/usr/local/bin:/usr/bin:/usr/local/sbin:/usr/lib/jvm/default/bin:/usr/bin/site_perl:/usr/bin/vendor_perl:/usr/bin/core_perl', 'GDMSESSION': 'gnome', 'DBUS_SESSION_BUS_ADDRESS': 'unix:path=/run/user/1000/bus', 'HG': '/usr/bin/hg', 'MAIL': '/var/spool/mail/amir', 'QT_SCALE_FACTOR': '1', 'GIO_LAUNCHED_DESKTOP_FILE_PID': '1784', 'GIO_LAUNCHED_DESKTOP_FILE': '/usr/share/applications/anaconda-navigator.desktop', 'LC_NUMERIC': 'en_US.UTF-8', '_': '/opt/anaconda/bin/jupyter', 'PYDEVD_USE_FRAME_EVAL': 'NO', 'JPY_SESSION_NAME': 'Downloads/۱/ea206fee-e7c7-491c-b443-57829fc32777', 'JPY_PARENT_PID': '2140', 'TERM': 'xterm-color', 'CLICOLOR': '1', 'FORCE_COLOR': '1', 'CLICOLOR_FORCE': '1', 'PAGER': 'cat', 'GIT_PAGER': 'cat', 'MPLBACKEND': 'module://matplotlib_inline.backend_inline'})\n"
     ]
    }
   ],
   "source": [
    "import os\n",
    "\n",
    "# دسترسی به متغییر های محیطی\n",
    "\n",
    "print(os.environ)"
   ]
  },
  {
   "cell_type": "code",
   "execution_count": 99,
   "id": "ad32028d-36eb-4231-a41a-fa747e2002b5",
   "metadata": {},
   "outputs": [
    {
     "name": "stdout",
     "output_type": "stream",
     "text": [
      "None\n",
      "/home/amir/Downloads/۱\n",
      "amir\n",
      "<generator object _walk at 0x7f065c1630d0>\n",
      "('/home/amir/Downloads/۱', ['.ipynb_checkpoints', 'test'], ['01_SyntaxLearn_Introduction.ipynb', '02_SyntaxLearn_DataTypes_1.ipynb', '03_SyntaxLearn_Print&Output.ipynb', '04_SyntaxLearn_Control_ifelse.ipynb', '05_SyntaxLearn_Control_Iteration.ipynb', '06_SyntaxLearn_Function_1_Syntax.ipynb', '07_SyntaxLearn_NameSpace&Scope.ipynb', '08_SyntaxLearn_DataTypeMethods_2.ipynb', '09_SyntaxLearn_Function_2_Addition.ipynb', '10_SyntaxLearn_Comprehension&Walrus.ipynb', 'new.txt', 'README.md', 'sample2.txt', '13_Files.ipynb', '12_Modules&Packages.ipynb', '11_EncodDecod_UNICODE.ipynb', 'Screenshot from 2023-07-24 17-23-24.png', 'Screenshot from 2023-07-24 17-47-30.png', 'Screenshot from 2023-07-25 11-19-48.png', '16_Class.ipynb', '17_Class.ipynb', '14_Class.ipynb', '15_Class.ipynb', '19_Class.ipynb', '18_Class.ipynb', 'Screenshot from 2023-08-02 11-44-48.png', 'Screenshot from 2023-08-02 18-28-09.png', 'Screenshot from 2023-08-02 18-28-26.png', 'Screenshot from 2023-08-02 18-28-47.png', 'Screenshot from 2023-08-02 18-29-10.png', '20_Class.ipynb', 'test.txt', 'text.txt', '22_Extra.ipynb', '21_Exception.ipynb'])\n",
      "('/home/amir/Downloads/۱/.ipynb_checkpoints', [], ['03_SyntaxLearn_Print&Output-checkpoint.ipynb', '02_SyntaxLearn_DataTypes_1-checkpoint.ipynb', '04_SyntaxLearn_Control_ifelse-checkpoint.ipynb', '05_SyntaxLearn_Control_Iteration-checkpoint.ipynb', '06_SyntaxLearn_Function_1_Syntax-checkpoint.ipynb', '07_SyntaxLearn_NameSpace&Scope-checkpoint.ipynb', '08_SyntaxLearn_DataTypeMethods_2-checkpoint.ipynb', '09_SyntaxLearn_Function_2_Addition-checkpoint.ipynb', '10_SyntaxLearn_Comprehension&Walrus-checkpoint.ipynb', '13_Files-checkpoint.ipynb', '12_Modules&Packages-checkpoint.ipynb', '11_EncodDecod_UNICODE-checkpoint.ipynb', '16_Class-checkpoint.ipynb', '17_Class-checkpoint.ipynb', '14_Class-checkpoint.ipynb', '15_Class-checkpoint.ipynb', '19_Class-checkpoint.ipynb', '18_Class-checkpoint.ipynb', '20_Class-checkpoint.ipynb', '22_Extra-checkpoint.ipynb', '21_Exception-checkpoint.ipynb'])\n",
      "('/home/amir/Downloads/۱/test', ['.ipynb_checkpoints'], ['test.py'])\n",
      "('/home/amir/Downloads/۱/test/.ipynb_checkpoints', [], ['test-checkpoint.py'])\n",
      "None\n"
     ]
    }
   ],
   "source": [
    "import os\n",
    "\n",
    "# کاربری که لاگین کرده\n",
    "print(os.getlogin())\n",
    "\n",
    "# محتویات یک دایرکتوری و زیر دایکتوری هایش را نشان میدهد\n",
    "# باید مسسیر را به آن پاس دهیم\n",
    "# یک جنراتور برمیگرداند\n",
    "print(os.walk(os.getcwd()))\n",
    "for i in os.walk(os.getcwd()):\n",
    "    print(i)\n",
    "    \n",
    "# حذف یک فایل\n",
    "print(os.remove(\"test/test.py\"))\n",
    "\n",
    "# حذف یک دایرکتوری خالی\n",
    "os.rmdir(\"test\")"
   ]
  },
  {
   "cell_type": "code",
   "execution_count": 100,
   "id": "22747a88-f456-4020-b314-8c226ad7476d",
   "metadata": {},
   "outputs": [
    {
     "name": "stdout",
     "output_type": "stream",
     "text": [
      "Tue Aug 15 05:16:13 PM +0330 2023\n"
     ]
    },
    {
     "data": {
      "text/plain": [
       "0"
      ]
     },
     "execution_count": 100,
     "metadata": {},
     "output_type": "execute_result"
    }
   ],
   "source": [
    "# دستوراتی که در سی ام دی میزنیم در اینجا میتونیم بزنیم\n",
    "\n",
    "import os\n",
    "\n",
    "os.system(\"date\")"
   ]
  },
  {
   "cell_type": "markdown",
   "id": "cdc89d8b-dcdd-4fff-badc-521f920729f8",
   "metadata": {},
   "source": [
    "# shutil"
   ]
  },
  {
   "cell_type": "raw",
   "id": "ae53b64f-deba-4633-9d15-64ab0926e15f",
   "metadata": {},
   "source": [
    "یکسری عملیات های سطح بالا با فایل ها\n"
   ]
  },
  {
   "cell_type": "code",
   "execution_count": 102,
   "id": "258ff94c-c933-47ad-bbc0-82647eb94370",
   "metadata": {},
   "outputs": [
    {
     "ename": "SameFileError",
     "evalue": "'test/new.py' and 'test/new.py' are the same file",
     "output_type": "error",
     "traceback": [
      "\u001b[0;31m---------------------------------------------------------------------------\u001b[0m",
      "\u001b[0;31mSameFileError\u001b[0m                             Traceback (most recent call last)",
      "Cell \u001b[0;32mIn[102], line 9\u001b[0m\n\u001b[1;32m      6\u001b[0m shutil\u001b[38;5;241m.\u001b[39mcopyfile(\u001b[38;5;124mr\u001b[39m\u001b[38;5;124m\"\u001b[39m\u001b[38;5;124mtest/new.py\u001b[39m\u001b[38;5;124m\"\u001b[39m, \u001b[38;5;124mr\u001b[39m\u001b[38;5;124m\"\u001b[39m\u001b[38;5;124mtest/test2.py\u001b[39m\u001b[38;5;124m\"\u001b[39m)\n\u001b[1;32m      8\u001b[0m \u001b[38;5;66;03m# وقتی نخاهیم اسم را تغییر دهیم\u001b[39;00m\n\u001b[0;32m----> 9\u001b[0m \u001b[43mshutil\u001b[49m\u001b[38;5;241;43m.\u001b[39;49m\u001b[43mcopy\u001b[49m\u001b[43m(\u001b[49m\u001b[38;5;124;43mr\u001b[39;49m\u001b[38;5;124;43m\"\u001b[39;49m\u001b[38;5;124;43mtest/new.py\u001b[39;49m\u001b[38;5;124;43m\"\u001b[39;49m\u001b[43m,\u001b[49m\u001b[43m \u001b[49m\u001b[38;5;124;43mr\u001b[39;49m\u001b[38;5;124;43m\"\u001b[39;49m\u001b[38;5;124;43mtest\u001b[39;49m\u001b[38;5;124;43m\"\u001b[39;49m\u001b[43m)\u001b[49m\n",
      "File \u001b[0;32m/opt/anaconda/lib/python3.10/shutil.py:417\u001b[0m, in \u001b[0;36mcopy\u001b[0;34m(src, dst, follow_symlinks)\u001b[0m\n\u001b[1;32m    415\u001b[0m \u001b[38;5;28;01mif\u001b[39;00m os\u001b[38;5;241m.\u001b[39mpath\u001b[38;5;241m.\u001b[39misdir(dst):\n\u001b[1;32m    416\u001b[0m     dst \u001b[38;5;241m=\u001b[39m os\u001b[38;5;241m.\u001b[39mpath\u001b[38;5;241m.\u001b[39mjoin(dst, os\u001b[38;5;241m.\u001b[39mpath\u001b[38;5;241m.\u001b[39mbasename(src))\n\u001b[0;32m--> 417\u001b[0m \u001b[43mcopyfile\u001b[49m\u001b[43m(\u001b[49m\u001b[43msrc\u001b[49m\u001b[43m,\u001b[49m\u001b[43m \u001b[49m\u001b[43mdst\u001b[49m\u001b[43m,\u001b[49m\u001b[43m \u001b[49m\u001b[43mfollow_symlinks\u001b[49m\u001b[38;5;241;43m=\u001b[39;49m\u001b[43mfollow_symlinks\u001b[49m\u001b[43m)\u001b[49m\n\u001b[1;32m    418\u001b[0m copymode(src, dst, follow_symlinks\u001b[38;5;241m=\u001b[39mfollow_symlinks)\n\u001b[1;32m    419\u001b[0m \u001b[38;5;28;01mreturn\u001b[39;00m dst\n",
      "File \u001b[0;32m/opt/anaconda/lib/python3.10/shutil.py:234\u001b[0m, in \u001b[0;36mcopyfile\u001b[0;34m(src, dst, follow_symlinks)\u001b[0m\n\u001b[1;32m    231\u001b[0m sys\u001b[38;5;241m.\u001b[39maudit(\u001b[38;5;124m\"\u001b[39m\u001b[38;5;124mshutil.copyfile\u001b[39m\u001b[38;5;124m\"\u001b[39m, src, dst)\n\u001b[1;32m    233\u001b[0m \u001b[38;5;28;01mif\u001b[39;00m _samefile(src, dst):\n\u001b[0;32m--> 234\u001b[0m     \u001b[38;5;28;01mraise\u001b[39;00m SameFileError(\u001b[38;5;124m\"\u001b[39m\u001b[38;5;132;01m{!r}\u001b[39;00m\u001b[38;5;124m and \u001b[39m\u001b[38;5;132;01m{!r}\u001b[39;00m\u001b[38;5;124m are the same file\u001b[39m\u001b[38;5;124m\"\u001b[39m\u001b[38;5;241m.\u001b[39mformat(src, dst))\n\u001b[1;32m    236\u001b[0m file_size \u001b[38;5;241m=\u001b[39m \u001b[38;5;241m0\u001b[39m\n\u001b[1;32m    237\u001b[0m \u001b[38;5;28;01mfor\u001b[39;00m i, fn \u001b[38;5;129;01min\u001b[39;00m \u001b[38;5;28menumerate\u001b[39m([src, dst]):\n",
      "\u001b[0;31mSameFileError\u001b[0m: 'test/new.py' and 'test/new.py' are the same file"
     ]
    }
   ],
   "source": [
    "import shutil\n",
    "\n",
    "# کپی کردن یک فایل\n",
    "# اسم فایل مقصد و مبدا را مشخص میکنیم\n",
    "# اسم فایل را نیز میشود تغییر داد\n",
    "shutil.copyfile(r\"test/new.py\", r\"test/test2.py\")\n",
    "\n",
    "# وقتی نخاهیم اسم را تغییر دهیم\n",
    "shutil.copy(r\"test/new.py\", r\"test\")\n",
    "\n",
    "# اطلاعات متا دیتا را نیز میشود انتقال داد\n",
    "# متا دیتا یکسری دیتا درمورد زمان ساخت و دسترسی و اینها\n",
    "shutil.copy2(r\"test/new.py\", r\"test\")\n",
    "\n",
    "# اگر کل محتویات یک دایرکتوری را بخاهیم انتقال دهیم\n",
    "shutil.copytree(r\"test/new.py\", r\"test\")\n",
    "\n",
    "# میتونیم یک دایرکتوری را پاک بکنیم چه پر باشد چ خالی\n",
    "shutil.rmtree(\"test\")\n",
    "\n",
    "# انتقال یک فایل\n",
    "# اگر فایلی از قبل به همان نام در دایرکتوری مبدا باشد آن را جایگزین میکند\n",
    "shutil.move(r\"test/new.py\", r\"test2\")\n"
   ]
  },
  {
   "cell_type": "code",
   "execution_count": null,
   "id": "415c9c22-f00d-486e-b41b-74c8e27a3d59",
   "metadata": {},
   "outputs": [],
   "source": []
  }
 ],
 "metadata": {
  "kernelspec": {
   "display_name": "Python 3 (ipykernel)",
   "language": "python",
   "name": "python3"
  },
  "language_info": {
   "codemirror_mode": {
    "name": "ipython",
    "version": 3
   },
   "file_extension": ".py",
   "mimetype": "text/x-python",
   "name": "python",
   "nbconvert_exporter": "python",
   "pygments_lexer": "ipython3",
   "version": "3.10.9"
  }
 },
 "nbformat": 4,
 "nbformat_minor": 5
}
