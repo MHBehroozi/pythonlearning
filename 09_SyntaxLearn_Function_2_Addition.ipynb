{
 "cells": [
  {
   "cell_type": "markdown",
   "id": "43339155-a82d-49bd-bc50-ce5b5af81280",
   "metadata": {
    "tags": []
   },
   "source": [
    "# Lambda لامبدا"
   ]
  },
  {
   "cell_type": "markdown",
   "id": "cb0aa999-0a7d-444f-a6c6-04d94f34494d",
   "metadata": {},
   "source": [
    "از این توابع کوچک برای مپینگ و فیلتر زیاد استفاده می شود"
   ]
  },
  {
   "cell_type": "markdown",
   "id": "a88c1edb-4c91-420a-9e77-fc6e96022b4a",
   "metadata": {},
   "source": [
    "خود به خود عبارتی را برگشت میدهند"
   ]
  },
  {
   "cell_type": "markdown",
   "id": "16663e8e-b5c6-4fd8-aecf-d159aedbdb9a",
   "metadata": {},
   "source": [
    "هرچنتا میتونن ورودی بگیرن اما بدنه آنها یک عبارت دارد"
   ]
  },
  {
   "cell_type": "markdown",
   "id": "82d709de-7ed6-4861-8784-406a52a4fbc9",
   "metadata": {},
   "source": [
    "برای توابع کوچک و یک خطی از توابع لامبدا استفاده می شود که ناشناس و یکبارمصرف هستند"
   ]
  },
  {
   "cell_type": "code",
   "execution_count": 1,
   "id": "23b37612-e17b-4ba5-9e9c-e2a964c72686",
   "metadata": {},
   "outputs": [
    {
     "name": "stdout",
     "output_type": "stream",
     "text": [
      "25\n"
     ]
    }
   ],
   "source": [
    "f = lambda x: x**2  # ابتدا کلمه کلیدی لامبدا، بعد ورودی ها و بعد دونقطه محاسبه. ریترن نمی \n",
    "print(f(5))\n",
    "# در لامبدا نمی توان حلقه نوشت"
   ]
  },
  {
   "cell_type": "code",
   "execution_count": 2,
   "id": "b1bcc217-4f77-4123-b98a-c54164d9cd98",
   "metadata": {},
   "outputs": [
    {
     "name": "stdout",
     "output_type": "stream",
     "text": [
      "<map object at 0x7f7d60c5ed10>\n",
      "[1, 4, 9, 16]\n",
      "[1, 4, 9, 16]\n"
     ]
    }
   ],
   "source": [
    "# map\n",
    "# map(func, list)\n",
    "# عناصر لیست را به تابع میفرست و یک لیست جدید از نوع شیء مپ خروجی می دهد\n",
    "\n",
    "def func(x):\n",
    "    return x**2\n",
    "\n",
    "li = [1, 2, 3, 4]\n",
    "newli = map(lambda x: x**2, li)\n",
    "\n",
    "newli2 = map(func, li)\n",
    "\n",
    "print(newli) #شیء مپ را چاپ می کند\n",
    "print(list(newli))\n",
    "print(list(newli2))\n",
    "\n"
   ]
  },
  {
   "cell_type": "code",
   "execution_count": 3,
   "id": "cee1a197-b796-4518-bc6f-c303e2617692",
   "metadata": {},
   "outputs": [
    {
     "name": "stdout",
     "output_type": "stream",
     "text": [
      "[6, 7, 8, 9]\n"
     ]
    }
   ],
   "source": [
    "# filter\n",
    "# filter(func, list)\n",
    "# عناصر لیست را به تابع می فرستد براساس ترو یا فالس بودن نگه میدارد و به عنوان خروجی برمیگرداند\n",
    "\n",
    "li = [1, 2, 3, 4, 5, 6, 7, 8, 9]\n",
    "newli = list(filter(lambda x: x>5, li))\n",
    "print(newli)\n"
   ]
  },
  {
   "attachments": {
    "55d3ee31-38a1-4fd0-9341-c4997e385a30.png": {
     "image/png": "[encoded data removed]"
    }
   },
   "cell_type": "markdown",
   "id": "5629edbf-db78-4457-8a97-71a2e81d5955",
   "metadata": {},
   "source": [
    "![image.png](attachment:55d3ee31-38a1-4fd0-9341-c4997e385a30.png)  reduce"
   ]
  },
  {
   "cell_type": "code",
   "execution_count": 4,
   "id": "0e07cdc2-96fb-4a89-9fe4-37cd23140821",
   "metadata": {},
   "outputs": [
    {
     "name": "stdout",
     "output_type": "stream",
     "text": [
      "120\n"
     ]
    }
   ],
   "source": [
    "# reduce\n",
    "# reduce(func, list)\n",
    "# نیازمند ایمپورت هست\n",
    "\n",
    "from functools import reduce\n",
    "\n",
    "li = [1, 2, 3, 4, 5]\n",
    "result = reduce(lambda x,y: x*y, li) # فاکتوریل\n",
    "print(result)"
   ]
  },
  {
   "cell_type": "code",
   "execution_count": 4,
   "id": "7c464d40-00d3-4a16-aa49-fc69d3fc3c67",
   "metadata": {},
   "outputs": [
    {
     "name": "stdout",
     "output_type": "stream",
     "text": [
      "[3, 9, 4, 1, 4, 7, 1, 25, 2, 8]\n",
      "['r34', 'asas', '34r34r345']\n"
     ]
    }
   ],
   "source": [
    "# کلید تابع sorted\n",
    "# sorted(li, key = func)\n",
    "li = [4, 1, 2, 3, 4, 8, 7, 1, 25, 9]\n",
    "li1 = [\"asas\" , \"r34\" , \"34r34r345\"]\n",
    "newli1 = sorted(li1, key = len)  \n",
    "newli = sorted(li, key = lambda x: x%3)  # همان لیست بر میگرداند نه شیء دیگر\n",
    "print(newli)\n",
    "print(newli1)\n"
   ]
  },
  {
   "cell_type": "code",
   "execution_count": 6,
   "id": "5bb79d83-3000-4c7f-9830-a0f57bb0388e",
   "metadata": {},
   "outputs": [
    {
     "name": "stdout",
     "output_type": "stream",
     "text": [
      "True\n"
     ]
    }
   ],
   "source": [
    "s = \"ali\"\n",
    "start_with = lambda x: True if x.startswith(\"a\") else False\n",
    "\n",
    "print(start_with(\"a\"))"
   ]
  },
  {
   "cell_type": "code",
   "execution_count": 12,
   "id": "06a71932-9435-4dd4-9335-a9f0f77f20f7",
   "metadata": {},
   "outputs": [
    {
     "name": "stdout",
     "output_type": "stream",
     "text": [
      "True\n",
      "True\n",
      "False\n",
      "False\n"
     ]
    }
   ],
   "source": [
    "is_num = lambda s: s.replace(\".\" , \"\" , 1).isdigit()\n",
    "\n",
    "print(is_num('32'))\n",
    "print(is_num('3.2'))\n",
    "print(is_num('asad'))\n",
    "print(is_num('3a2'))\n"
   ]
  },
  {
   "cell_type": "markdown",
   "id": "7ab0c64c",
   "metadata": {},
   "source": [
    "# Iterator ایتریتور"
   ]
  },
  {
   "cell_type": "markdown",
   "id": "fdf0006b",
   "metadata": {},
   "source": [
    "Iteration : While و For عمل تکرار را انجام می دهند"
   ]
  },
  {
   "cell_type": "markdown",
   "id": "4c8ace0e",
   "metadata": {},
   "source": [
    "Iterable : تمام آبجکت هایی که روی آنها می توانیم عمل تکرار را انجام دهیم"
   ]
  },
  {
   "cell_type": "code",
   "execution_count": 6,
   "id": "c3d63f3a",
   "metadata": {},
   "outputs": [
    {
     "name": "stdout",
     "output_type": "stream",
     "text": [
      "['__add__', '__class__', '__class_getitem__', '__contains__', '__delattr__', '__delitem__', '__dir__', '__doc__', '__eq__', '__format__', '__ge__', '__getattribute__', '__getitem__', '__gt__', '__hash__', '__iadd__', '__imul__', '__init__', '__init_subclass__', '__iter__', '__le__', '__len__', '__lt__', '__mul__', '__ne__', '__new__', '__reduce__', '__reduce_ex__', '__repr__', '__reversed__', '__rmul__', '__setattr__', '__setitem__', '__sizeof__', '__str__', '__subclasshook__', 'append', 'clear', 'copy', 'count', 'extend', 'index', 'insert', 'pop', 'remove', 'reverse', 'sort']\n",
      "True\n"
     ]
    }
   ],
   "source": [
    "l = [1, 2, 3]\n",
    "print(dir(l))  # اتریبیوت های آبجکت را چاپ می کند\n",
    "print(\"__iter__\" in dir(l))  # بررسی وجود صفت تکرارپذیر در صفات لیست\n"
   ]
  },
  {
   "cell_type": "markdown",
   "id": "6c01b374",
   "metadata": {},
   "source": [
    "Iterator : تکرارگر ها آبجکت های ایتریبل هستند که آخرین وضعیت خود را حفظ می کنند"
   ]
  },
  {
   "cell_type": "code",
   "execution_count": 7,
   "id": "b6431c97",
   "metadata": {},
   "outputs": [
    {
     "name": "stdout",
     "output_type": "stream",
     "text": [
      "False\n",
      "True\n",
      "1\n",
      "2\n",
      "6\n",
      "4\n"
     ]
    },
    {
     "ename": "StopIteration",
     "evalue": "",
     "output_type": "error",
     "traceback": [
      "\u001b[1;31m---------------------------------------------------------------------------\u001b[0m",
      "\u001b[1;31mStopIteration\u001b[0m                             Traceback (most recent call last)",
      "Input \u001b[1;32mIn [7]\u001b[0m, in \u001b[0;36m<cell line: 14>\u001b[1;34m()\u001b[0m\n\u001b[0;32m     11\u001b[0m \u001b[38;5;28mprint\u001b[39m(\u001b[38;5;28mnext\u001b[39m(newlist) \u001b[38;5;241m*\u001b[39m \u001b[38;5;241m2\u001b[39m)\n\u001b[0;32m     12\u001b[0m \u001b[38;5;28mprint\u001b[39m(\u001b[38;5;28mnext\u001b[39m(newlist))\n\u001b[1;32m---> 14\u001b[0m \u001b[38;5;28mprint\u001b[39m(\u001b[38;5;28;43mnext\u001b[39;49m\u001b[43m(\u001b[49m\u001b[43mnewlist\u001b[49m\u001b[43m)\u001b[49m)\n",
      "\u001b[1;31mStopIteration\u001b[0m: "
     ]
    }
   ],
   "source": [
    "# بتوانیم در آن ها متد نکست را اجرا کنیم Next\n",
    "i = [1, 2, 3, 4]\n",
    "print(\"__next__\" in dir(i))  # ایتریتور نیست\n",
    "\n",
    "newlist = iter(i)  # این تابع تبدیل به ایتریتور می کند\n",
    "print(\"__next__\" in dir(newlist))\n",
    "# i.__iter__()  # روش دیگر برای فعال کردن ایتریتور در آبجکت\n",
    "\n",
    "print(next(newlist))\n",
    "print(newlist.__next__())  # شکل دیگر پیمایش\n",
    "print(next(newlist) * 2)\n",
    "print(next(newlist))\n",
    "\n",
    "print(next(newlist))  # در پایان ارور می دهد"
   ]
  },
  {
   "cell_type": "code",
   "execution_count": 16,
   "id": "2073f071",
   "metadata": {},
   "outputs": [
    {
     "name": "stdout",
     "output_type": "stream",
     "text": [
      "1\n",
      "2\n",
      "3\n",
      "4\n",
      "******************************\n",
      "1\n",
      "2\n",
      "3\n"
     ]
    }
   ],
   "source": [
    "# مثال\n",
    "l = iter([1, 2, 3, 4])\n",
    "while True:\n",
    "    try:\n",
    "        print(next(l))\n",
    "    except StopIteration:\n",
    "        break\n",
    "\n",
    "print(\"*\"*30)\n",
    "l2 = [1 ,2, 3]\n",
    "for i in l2:\n",
    "    print(i)\n",
    "    \n",
    "# در واقع فوور ابجکت را به ایتریتور تبدیل میکنند\n",
    "# tryExcept در فصل های آینده بررسی خواهد شد"
   ]
  },
  {
   "cell_type": "code",
   "execution_count": 19,
   "id": "0d54c92f",
   "metadata": {},
   "outputs": [
    {
     "name": "stdout",
     "output_type": "stream",
     "text": [
      "0\n",
      "1\n",
      "2\n",
      "3\n",
      "******************************\n",
      "21\n",
      "22\n",
      "23\n",
      "24\n",
      "25\n"
     ]
    }
   ],
   "source": [
    "# ایتریتور ها می توانند بدون پایان باشند\n",
    "from itertools import count\n",
    "\n",
    "counter = count()  # داخل  پرانتز عدد شروع نوشته می شود\n",
    "for i in range(4):\n",
    "    print(next(counter))\n",
    "print(\"*\"*30)\n",
    "counter2 = count(21)  # داخل  پرانتز عدد شروع نوشته می شود\n",
    "print(next(counter2))\n",
    "print(next(counter2))\n",
    "print(next(counter2))\n",
    "print(next(counter2))\n",
    "print(next(counter2))\n",
    "\n",
    "# count لِیزی هست\n",
    "# لیزی در دنیای برنامه نویسی خوبه و یعنی تا نیاز نباشه استفاده نمیشه\n",
    "# در واقع اگر کانتر را در حلق هم بندازیم اینطور نیست که از اول بی نهایت باشه در هر چرخه هر بار نیاز باشد عدد جدید می دهد"
   ]
  },
  {
   "cell_type": "markdown",
   "id": "eeb6e863",
   "metadata": {},
   "source": [
    "# Decorator دکوراتور"
   ]
  },
  {
   "cell_type": "markdown",
   "id": "52e3f9f4",
   "metadata": {},
   "source": [
    "دکوراتور بیلت این پایتون نیست بلکه ابزاری است که تعریف می کنیم"
   ]
  },
  {
   "cell_type": "markdown",
   "id": "b6996b46",
   "metadata": {},
   "source": [
    "دکوراتور یک تابع یا کلاس را گرفته و به شکل ویرایش شده یا تزیین شده بر می گرداند"
   ]
  },
  {
   "cell_type": "markdown",
   "id": "514503b5-0f0d-44ee-8f8d-e9b21e420a0a",
   "metadata": {},
   "source": [
    "                              توابع تو در تو \n",
    "ارسال تابع بعنوان ارگومان"
   ]
  },
  {
   "cell_type": "markdown",
   "id": "b97d9a02",
   "metadata": {},
   "source": [
    "نام دیگر دکوراتور wrapper"
   ]
  },
  {
   "attachments": {
    "image-2.png": {
     "image/png": "[encoded data removed]"
    }
   },
   "cell_type": "markdown",
   "id": "66c2f197",
   "metadata": {},
   "source": [
    "![image-2.png](attachment:image-2.png)"
   ]
  },
  {
   "cell_type": "code",
   "execution_count": 10,
   "id": "5d798fc3",
   "metadata": {},
   "outputs": [
    {
     "name": "stdout",
     "output_type": "stream",
     "text": [
      "reza\n",
      "********************\n",
      "reza\n",
      "********************\n"
     ]
    }
   ],
   "source": [
    "def dec(func):\n",
    "    def inner():\n",
    "        print('*' * 20)\n",
    "        func()\n",
    "        print('*' * 20)\n",
    "    return inner\n",
    "\n",
    "def f():\n",
    "    print('reza')\n",
    "\n",
    "f()  # حالت عادی تابع\n",
    "\n",
    "dfunc = dec(f)  # حالت دکور شده تابع\n",
    "dfunc()\n",
    "# یک تابع را ویژگی هایش را بیشتر میکند\n",
    "# توجه شود که همه آبجکت ها از جمله توابع تعریفی در پایتون فرست کلاس هستند و امکان ارسال به عنوان آرگومان وجود دارد"
   ]
  },
  {
   "cell_type": "code",
   "execution_count": 11,
   "id": "44656fe2",
   "metadata": {},
   "outputs": [
    {
     "name": "stdout",
     "output_type": "stream",
     "text": [
      "********************\n",
      "reza\n",
      "********************\n"
     ]
    }
   ],
   "source": [
    "# در صورتی که بخواهیم تابع هنگام تعریف دکور شود می توان از روش زیر هنگام تعریف استفاده کرد\n",
    "\n",
    "def dec(func):\n",
    "    def inner():\n",
    "        print('*' * 20)\n",
    "        func()\n",
    "        print('*' * 20)\n",
    "    return inner\n",
    "\n",
    "@dec\n",
    "def f():\n",
    "    print('reza')\n",
    "    \n",
    "f()\n",
    "\n"
   ]
  },
  {
   "cell_type": "code",
   "execution_count": 6,
   "id": "5c03b16a-0d81-40cd-b2b1-30f336a1eabd",
   "metadata": {},
   "outputs": [
    {
     "name": "stdout",
     "output_type": "stream",
     "text": [
      "0.6666666666666666\n",
      "warning!!\n",
      "\n",
      "0.6666666666666666\n",
      "warning!!\n"
     ]
    }
   ],
   "source": [
    "\n",
    "def dec(func):\n",
    "    def inner(x,y):\n",
    "        if y == 0:\n",
    "            print(\"warning!!\")\n",
    "        else:\n",
    "            func(x ,y)\n",
    "    return inner\n",
    "\n",
    "@dec\n",
    "def f(x, y):\n",
    "    print((x/y))\n",
    "\n",
    "f(2, 3)\n",
    "f(2, 0)\n",
    "\n",
    "print()\n",
    "\n",
    "def dec(func):\n",
    "    def inner(x,y):\n",
    "        if y == 0:\n",
    "            return (\"warning!!\")\n",
    "        return func(x ,y)\n",
    "    return inner\n",
    "\n",
    "@dec\n",
    "def f(x, y):\n",
    "    return x/y\n",
    "\n",
    "print(f(2, 3))\n",
    "print(f(2, 0))"
   ]
  },
  {
   "cell_type": "code",
   "execution_count": 15,
   "id": "aa5ddb1e",
   "metadata": {},
   "outputs": [
    {
     "name": "stdout",
     "output_type": "stream",
     "text": [
      "********************\n",
      "(2, 3, 5)\n",
      "{}\n",
      "5\n"
     ]
    }
   ],
   "source": [
    "# برای دکوراتور لازم است آرگومان های تابع در نظر گرفته شود\n",
    "# راهکار کلی به شکل زیر است\n",
    "\n",
    "def dec(func):\n",
    "    def inner(*x, **y):\n",
    "        print('*' * 20)\n",
    "        print(x)\n",
    "        print(y)\n",
    "        return func(*x, **y)\n",
    "    return inner\n",
    "\n",
    "@dec\n",
    "def f(x, y, z):\n",
    "    return(max(x,y,z))\n",
    "\n",
    "print(f(2, 3, 5))"
   ]
  },
  {
   "cell_type": "code",
   "execution_count": 19,
   "id": "78541361-0dda-4a80-9f1c-3cb017e40f52",
   "metadata": {},
   "outputs": [
    {
     "name": "stdout",
     "output_type": "stream",
     "text": [
      "********************\n",
      "********************\n"
     ]
    },
    {
     "data": {
      "text/plain": [
       "'I am Hoseyn'"
      ]
     },
     "execution_count": 19,
     "metadata": {},
     "output_type": "execute_result"
    }
   ],
   "source": [
    "def star(func):\n",
    "    def inner(*x, **y):\n",
    "        print('*' * 20)\n",
    "        f = func(*x, **y)\n",
    "        print('*' * 20)\n",
    "        return f\n",
    "    return inner\n",
    "\n",
    "@star\n",
    "def msg(name):\n",
    "    return \"I am \" + name\n",
    "    \n",
    "\n",
    "msg(\"Hoseyn\")"
   ]
  },
  {
   "cell_type": "code",
   "execution_count": 16,
   "id": "61031a42",
   "metadata": {},
   "outputs": [
    {
     "name": "stdout",
     "output_type": "stream",
     "text": [
      "--------------------\n",
      "++++++++++++++++++++\n",
      "********************\n",
      "I am Hoseyn\n",
      "********************\n",
      "++++++++++++++++++++\n",
      "--------------------\n"
     ]
    }
   ],
   "source": [
    "def star(func):\n",
    "    def inner(*x, **y):\n",
    "        print('*' * 20)\n",
    "        func(*x, **y)\n",
    "        print('*' * 20)\n",
    "    return inner\n",
    "\n",
    "def plus(func):\n",
    "    def inner(*x, **y):\n",
    "        print('+' * 20)\n",
    "        func(*x, **y)\n",
    "        print('+' * 20)\n",
    "    return inner\n",
    "\n",
    "def dash(func):\n",
    "    def inner(*x, **y):\n",
    "        print('-' * 20)\n",
    "        func(*x, **y)\n",
    "        print('-' * 20)\n",
    "    return inner\n",
    "\n",
    "\n",
    "@dash\n",
    "@plus\n",
    "@star\n",
    "def msg(name):\n",
    "    print(\"I am\", name)\n",
    "    \n",
    "\n",
    "msg(\"Hoseyn\")\n"
   ]
  },
  {
   "cell_type": "code",
   "execution_count": 21,
   "id": "d86c033f-57ca-4e77-adac-1a00b43fdae4",
   "metadata": {},
   "outputs": [
    {
     "name": "stdout",
     "output_type": "stream",
     "text": [
      "++++++++++++++++++++\n",
      "********************\n",
      "--------------------\n",
      "I am Hoseyn\n",
      "--------------------\n",
      "********************\n",
      "++++++++++++++++++++\n"
     ]
    }
   ],
   "source": [
    "def star(func):\n",
    "    def inner(*x, **y):\n",
    "        print('*' * 20)\n",
    "        func(*x, **y)\n",
    "        print('*' * 20)\n",
    "    return inner\n",
    "\n",
    "def plus(func):\n",
    "    def inner(*x, **y):\n",
    "        print('+' * 20)\n",
    "        func(*x, **y)\n",
    "        print('+' * 20)\n",
    "    return inner\n",
    "\n",
    "def dash(func):\n",
    "    def inner(*x, **y):\n",
    "        print('-' * 20)\n",
    "        func(*x, **y)\n",
    "        print('-' * 20)\n",
    "    return inner\n",
    "\n",
    "\n",
    "\n",
    "def msg(name):\n",
    "    print(\"I am\", name)\n",
    "    \n",
    "printer = plus(star(dash(msg)))\n",
    "printer(\"Hoseyn\")\n"
   ]
  },
  {
   "cell_type": "code",
   "execution_count": 14,
   "id": "217991fb",
   "metadata": {},
   "outputs": [
    {
     "name": "stdout",
     "output_type": "stream",
     "text": [
      "****************************************************************************************************\n",
      "I am Hoseyn\n",
      "******************************\n"
     ]
    }
   ],
   "source": [
    "# دکوراتور با ورودی\n",
    "\n",
    "def star(a, b):\n",
    "    def inner1(func):\n",
    "        def inner2(*x, **y):\n",
    "            print('*' * a)\n",
    "            func(*x, **y)\n",
    "            print('*' * b)\n",
    "        return inner2\n",
    "    return inner1\n",
    "\n",
    "@star(100, 30)\n",
    "def msg(name):\n",
    "    print(\"I am\", name)\n",
    "    \n",
    "    \n",
    "msg(\"Hoseyn\")"
   ]
  },
  {
   "cell_type": "code",
   "execution_count": 15,
   "id": "c83548f7",
   "metadata": {},
   "outputs": [
    {
     "name": "stdout",
     "output_type": "stream",
     "text": [
      "********************\n",
      "I am Hoseyn\n",
      "********************\n",
      "prints a message\n",
      "msg\n"
     ]
    }
   ],
   "source": [
    "# برای کپی کردن داک استرینگ و اسم تابع از روش زیر استفاده می شود\n",
    "# در حالت عادی زیرا از ی تابع دیگر برای بازنویس تابع استفاده کردیم اطلاعات تابع دیگر نوشته میشود \n",
    "import functools\n",
    "\n",
    "# با استفاده از رپس اطلاعات تابع در تابع دکراتور ککپی می شود \n",
    "def dec(func):\n",
    "    @functools.wraps(func)\n",
    "    def inner(*x, **y):\n",
    "        print('*' * 20)\n",
    "        func(*x, **y)\n",
    "        print('*' * 20)\n",
    "    return inner\n",
    "\n",
    "@dec\n",
    "def msg(name):\n",
    "    \"\"\"prints a message\"\"\"\n",
    "    print(\"I am\", name)\n",
    "    \n",
    "msg(\"Hoseyn\")\n",
    "print(msg.__doc__)\n",
    "print(msg.__name__)\n"
   ]
  },
  {
   "cell_type": "code",
   "execution_count": 16,
   "id": "37049e2b",
   "metadata": {},
   "outputs": [
    {
     "name": "stdout",
     "output_type": "stream",
     "text": [
      "ali : 23416\n",
      "This user is blocked!!!\n"
     ]
    }
   ],
   "source": [
    "# مثال از دکوراتور\n",
    "# بن لیست\n",
    "\n",
    "import functools\n",
    "\n",
    "passwords = {\"ali\":\"23416\", \"reza01\":\"89264\", \"neda8585\":\"12379\", \"omeddd\":\"42947\"}\n",
    "blacklist = {\"neda8585\", \"omeddd\"}\n",
    "\n",
    "def ban(func):\n",
    "    @functools.wraps(func)\n",
    "    def inner(*args, **kwargs):\n",
    "        if args[0] in blacklist:\n",
    "            print(\"This user is blocked!!!\")\n",
    "        else:\n",
    "            func(*args, **kwargs)\n",
    "    return inner\n",
    "\n",
    "@ban\n",
    "def print_pass(username):\n",
    "    print(username, \":\", passwords[username])\n",
    "\n",
    "@ban\n",
    "def change_pass(username, new_pass):\n",
    "    passwords[username] = new_pass\n",
    "    print(username, \":\", passwords[username])\n",
    "\n",
    "print_pass(\"ali\")\n",
    "\n",
    "change_pass(\"neda8585\", \"33333\")"
   ]
  },
  {
   "cell_type": "code",
   "execution_count": 17,
   "id": "5ccb8eea",
   "metadata": {},
   "outputs": [
    {
     "name": "stdout",
     "output_type": "stream",
     "text": [
      "run time of A is : 0.04921419999999799\n",
      "run time of B is : 2.3999999999801958e-05\n"
     ]
    },
    {
     "data": {
      "text/plain": [
       "93326215443944152681699238856266700490715968264381621468592963895217599993229915608941463976156518286253697920827223758251185210916864000000000000000000000000"
      ]
     },
     "execution_count": 17,
     "metadata": {},
     "output_type": "execute_result"
    }
   ],
   "source": [
    "# مثال از دکوراتور\n",
    "# محاسبه زمان اجرای یک تابع\n",
    "\n",
    "from time import perf_counter\n",
    "from functools import wraps\n",
    "\n",
    "def time_calc(func):\n",
    "    def wrapper_decorator(*args, **kwargs):\n",
    "        start_time = perf_counter()\n",
    "        value = func(*args, **kwargs)\n",
    "        end_time = perf_counter()\n",
    "        print(\"run time of\", func.__name__, \"is :\", end_time - start_time)\n",
    "        return value\n",
    "    return wrapper_decorator\n",
    "\n",
    "@time_calc\n",
    "def A(a):\n",
    "    s = 0\n",
    "    for i in range(a):\n",
    "        s += i**2\n",
    "    return s\n",
    "\n",
    "@time_calc\n",
    "def B(b):\n",
    "    fact = 1\n",
    "    for i in range(1, b+1):\n",
    "        fact *= i\n",
    "    return fact\n",
    "\n",
    "A(100000)\n",
    "\n",
    "B(100)"
   ]
  },
  {
   "cell_type": "markdown",
   "id": "12738bea",
   "metadata": {},
   "source": [
    "# Generator ژنراتور"
   ]
  },
  {
   "cell_type": "markdown",
   "id": "130b5ba6",
   "metadata": {},
   "source": [
    "ژنراتورها توابعی هستند که میتوان در حین اجرا آنها را متوقف کرد و سپس ادامه داد. این توابع شیءای را برمیگردانند که میتوان روی آنها پیمایش کرد. بر خلاف لیستها، ژنراتورها لیزی (کندرو) هستند که موجب میشود که محاسبه و ارزیابی یک عبارت تا جای ممکن به تاخیر افتاده و در اولین زمانی که دسترسی به آن نیاز بود، محاسبه شود. این توابع هنگام کار با مجموعه داده های بزرگ استفاده از حافظه را کارآمدتر میکنند."
   ]
  },
  {
   "cell_type": "markdown",
   "id": "8a92b84e",
   "metadata": {},
   "source": [
    "برای فراخوانی مقادیر بعدی در ژنراتور از متد\n",
    "نکست\n",
    "استفاده می کنیم.\n",
    "در توابع معمولی برای برگرداندن مقادیر از ریترن استفاده میکنیم ولی در ژنراتور از ییلد (دستور ییلد به این صورت عمل میکند که تابع را متوقف و وضعیت آن را ذخیره میکند تا در آینده از همانجایی که متوقف شده بود به کار خود ادامه دهد.)\n",
    "ژنراتورها همچنین ایتریتور هم هستند."
   ]
  },
  {
   "cell_type": "code",
   "execution_count": 29,
   "id": "8159062f",
   "metadata": {},
   "outputs": [
    {
     "name": "stdout",
     "output_type": "stream",
     "text": [
      "<generator object my_generator at 0x7f7212f035a0>\n",
      "reza\n",
      "25\n",
      "\n",
      "hello\n",
      "5\n"
     ]
    }
   ],
   "source": [
    "# سینتکس\n",
    "def my_generator(args):\n",
    "    print(\"reza\")\n",
    "    yield args**2\n",
    "    print(\"hello\")\n",
    "    yield 5\n",
    "    \n",
    "g = my_generator(5)\n",
    "print(g)\n",
    "print(next(g))\n",
    "print()\n",
    "print(next(g))\n",
    "\n",
    "# وقتی به ییلد رسید وایمیسته و بعد از دوباره نکست تابع بقیه کد ها را اجرا میکند\n",
    "# مای جنراتور یک آبجکت از نوع ژنراتور است برای استفاده لازم به یک متغیر اختصاص داده شود"
   ]
  },
  {
   "cell_type": "code",
   "execution_count": 33,
   "id": "ef94e3e0",
   "metadata": {},
   "outputs": [
    {
     "name": "stdout",
     "output_type": "stream",
     "text": [
      "0\n",
      "1\n",
      "4\n",
      "9\n"
     ]
    }
   ],
   "source": [
    "# ژنراتور فقط وقتی نیاز باشد اجرا می شود و لذا می توان از آن برای صرفه جویی در منابع سیستمی استفاده کرد\n",
    "# مثل رنج\n",
    "\n",
    "def func():\n",
    "    for i in range(1000):\n",
    "        yield i**2\n",
    "        \n",
    "x = func()\n",
    "print(next(x))\n",
    "print(next(x))\n",
    "print(next(x))\n",
    "print(next(x))"
   ]
  },
  {
   "cell_type": "code",
   "execution_count": 35,
   "id": "4460f7f6-d17b-48f8-a3a0-23d5e200d956",
   "metadata": {},
   "outputs": [
    {
     "name": "stdout",
     "output_type": "stream",
     "text": [
      "1\n",
      "2\n",
      "3\n",
      "4\n"
     ]
    }
   ],
   "source": [
    "def gen_range(start, end, step = 1):\n",
    "    while start < end:\n",
    "        yield start\n",
    "        start += step\n",
    "# براینکه خطای ایتریشن را مدیریت کنیم همانند ایتریتور ها تابع را درون حلقه فوور قرار می دهیم\n",
    "for i in gen_range(1, 5):\n",
    "    print(i)"
   ]
  },
  {
   "cell_type": "code",
   "execution_count": 3,
   "id": "28ad0fab-3a3a-4ac5-b9cf-9850ba8be94d",
   "metadata": {},
   "outputs": [
    {
     "name": "stdout",
     "output_type": "stream",
     "text": [
      "ln: 0.08669136299795355\n",
      "gen: 0.07387538400143967\n"
     ]
    }
   ],
   "source": [
    "# در ژنراتور نیاز به اسخت همه اعداد نیست و هرموقع که بخاهیم تولید می شوند\n",
    "# برای فانکشن ساده لیست ابتدا باید ایجاد شود اما در ژنراتور نیاز به ساختن همه تابع نیست\n",
    "from time import perf_counter\n",
    "\n",
    "def list_range(start, end, step = 1):\n",
    "    new_range = []\n",
    "    while start < end:\n",
    "        new_range.append(start)\n",
    "        start += step\n",
    "    return new_range\n",
    "        \n",
    "        \n",
    "def gen_range(start, end, step = 1):\n",
    "    while start < end:\n",
    "        yield start\n",
    "        start += step\n",
    "        \n",
    "        \n",
    "# ----------------------\n",
    "start = perf_counter()\n",
    "lr = list_range(1 , 100000)\n",
    "s = 0\n",
    "for i in list_range(1 , 1000000):\n",
    "    if i == 3:\n",
    "        break\n",
    "    s += i**2\n",
    "end = perf_counter()\n",
    "print(\"ln:\" , end-start)\n",
    "\n",
    "# ----------------------\n",
    "start2 = perf_counter()\n",
    "gr = gen_range(1 , 100000)\n",
    "s = 0\n",
    "for j in list_range(1 , 1000000):\n",
    "    if j == 3:\n",
    "        break\n",
    "    s += i**2\n",
    "end2 = perf_counter()\n",
    "print(\"gen:\" , end2-start2)"
   ]
  },
  {
   "cell_type": "code",
   "execution_count": 8,
   "id": "25e0e100",
   "metadata": {},
   "outputs": [
    {
     "name": "stdout",
     "output_type": "stream",
     "text": [
      "[0, 1, 4, 9, 16, 25, 36, 49, 64, 81]\n",
      "[]\n",
      "285\n",
      "0\n",
      "******************************\n",
      "0\n",
      "1\n",
      "4\n",
      "9\n"
     ]
    },
    {
     "ename": "ValueError",
     "evalue": "Error!!!",
     "output_type": "error",
     "traceback": [
      "\u001b[0;31m---------------------------------------------------------------------------\u001b[0m",
      "\u001b[0;31mValueError\u001b[0m                                Traceback (most recent call last)",
      "Cell \u001b[0;32mIn[8], line 32\u001b[0m\n\u001b[1;32m     30\u001b[0m \u001b[38;5;28;01mfor\u001b[39;00m i \u001b[38;5;129;01min\u001b[39;00m g:\n\u001b[1;32m     31\u001b[0m     \u001b[38;5;28;01mif\u001b[39;00m i \u001b[38;5;241m==\u001b[39m \u001b[38;5;241m16\u001b[39m:\n\u001b[0;32m---> 32\u001b[0m         \u001b[43mg\u001b[49m\u001b[38;5;241;43m.\u001b[39;49m\u001b[43mthrow\u001b[49m\u001b[43m(\u001b[49m\u001b[38;5;167;43;01mValueError\u001b[39;49;00m\u001b[43m(\u001b[49m\u001b[38;5;124;43m\"\u001b[39;49m\u001b[38;5;124;43mError!!!\u001b[39;49m\u001b[38;5;124;43m\"\u001b[39;49m\u001b[43m)\u001b[49m\u001b[43m)\u001b[49m\n\u001b[1;32m     33\u001b[0m     \u001b[38;5;28mprint\u001b[39m(i)\n",
      "Cell \u001b[0;32mIn[8], line 8\u001b[0m, in \u001b[0;36mmy_generator\u001b[0;34m(r)\u001b[0m\n\u001b[1;32m      6\u001b[0m \u001b[38;5;28;01mdef\u001b[39;00m \u001b[38;5;21mmy_generator\u001b[39m(r \u001b[38;5;241m=\u001b[39m \u001b[38;5;241m10\u001b[39m):\n\u001b[1;32m      7\u001b[0m     \u001b[38;5;28;01mfor\u001b[39;00m i \u001b[38;5;129;01min\u001b[39;00m \u001b[38;5;28mrange\u001b[39m(r):\n\u001b[0;32m----> 8\u001b[0m         \u001b[38;5;28;01myield\u001b[39;00m i\u001b[38;5;241m*\u001b[39m\u001b[38;5;241m*\u001b[39m\u001b[38;5;241m2\u001b[39m\n",
      "\u001b[0;31mValueError\u001b[0m: Error!!!"
     ]
    }
   ],
   "source": [
    "# ژنراتور 3 متد مهم دارد\n",
    "# close برای بستن ژنراتور\n",
    "# throw برای ارائه اعمال در استثنا ها و خطا ها\n",
    "# send\n",
    "\n",
    "def my_generator(r = 10):\n",
    "    for i in range(r):\n",
    "        yield i**2\n",
    "\n",
    "j = my_generator()\n",
    "print(list(j))\n",
    "print(list(j))\n",
    "\n",
    "y = my_generator()\n",
    "print(sum(y))\n",
    "\n",
    "t = my_generator()\n",
    "print(min(t))\n",
    "\n",
    "\n",
    "for i in j:\n",
    "    if i == 16:\n",
    "        j.close()\n",
    "    print(i)\n",
    "\n",
    "print(\"*\"*30)\n",
    "    \n",
    "g = my_generator()\n",
    "\n",
    "for i in g:\n",
    "    if i == 16:\n",
    "        g.throw(ValueError(\"Error!!!\"))\n",
    "    print(i)"
   ]
  },
  {
   "cell_type": "code",
   "execution_count": 13,
   "id": "f97a6484-d28b-4a68-b2a7-1e2d83c1fa00",
   "metadata": {},
   "outputs": [
    {
     "name": "stdout",
     "output_type": "stream",
     "text": [
      "1400\n"
     ]
    }
   ],
   "source": [
    "# ژنراتور های تو در تو\n",
    "def square_gn(nums):\n",
    "    for i in nums:\n",
    "        yield i**2\n",
    "        \n",
    "def even_gn(nums):\n",
    "    for i in nums:\n",
    "        if i%2 == 0:\n",
    "            yield i\n",
    "            \n",
    "sg = square_gn([1,2,3,4])\n",
    "sg = even_gn([1,2,3,4])\n",
    "\n",
    "print(sum(square_gn(even_gn([12,34,5,6,8]))))"
   ]
  },
  {
   "cell_type": "code",
   "execution_count": 6,
   "id": "c250d508-d3bb-443c-958e-78183854d632",
   "metadata": {},
   "outputs": [
    {
     "name": "stdout",
     "output_type": "stream",
     "text": [
      "0\n",
      "1\n",
      "1\n",
      "2\n",
      "3\t5\t8\t13\t21\t34\t55\t89\t144\t233\t"
     ]
    }
   ],
   "source": [
    "def fibunachi ():\n",
    "    f1 = 0\n",
    "    yield f1\n",
    "    f2 = 1\n",
    "    yield f2\n",
    "    while True:\n",
    "        f3 = f1+f2\n",
    "        yield f3\n",
    "        f1 = f2\n",
    "        f2 = f3\n",
    "        \n",
    "f = fibunachi()\n",
    "print(next(f))\n",
    "print(next(f))\n",
    "print(next(f))\n",
    "print(next(f))\n",
    "\n",
    "for _ in range(10):\n",
    "    print(next(f) , end=\"\\t\")\n",
    "          "
   ]
  },
  {
   "cell_type": "code",
   "execution_count": 7,
   "id": "4dbb077b-baf7-4081-bac3-5ace33af9516",
   "metadata": {},
   "outputs": [
    {
     "name": "stdout",
     "output_type": "stream",
     "text": [
      "i\n",
      "n\n",
      "i\n",
      "m\n",
      "a\n",
      " \n",
      "i\n",
      "l\n",
      "a\n"
     ]
    }
   ],
   "source": [
    "def revers_str (s):\n",
    "    l = len(s)\n",
    "    for i in range(l-1 , -1 , -1):\n",
    "        yield s[i]\n",
    "        \n",
    "for i in revers_str(\"ali amini\"):\n",
    "    print(i)"
   ]
  },
  {
   "cell_type": "code",
   "execution_count": 18,
   "id": "c19a7a7d-5253-4832-bd34-d62117305675",
   "metadata": {},
   "outputs": [
    {
     "name": "stdout",
     "output_type": "stream",
     "text": [
      "1\t\n",
      "2\t2\t\n",
      "3\t3\t3\t\n",
      "4\t4\t4\t4\t\n",
      "5\t5\t5\t5\t5\t\n",
      "6\t6\t6\t6\t6\t6\t\n",
      "7\t7\t7\t7\t7\t7\t7\t\n",
      "8\t8\t8\t8\t8\t8\t8\t8\t\n",
      "9\t9\t9\t9\t9\t9\t9\t9\t9\t\n",
      "10\t10\t10\t10\t10\t10\t10\t10\t10\t10\t\n"
     ]
    }
   ],
   "source": [
    "def num_gen ():\n",
    "    c = 1\n",
    "    while True:\n",
    "        s = \"\"\n",
    "        for i in range(1 , c+1):\n",
    "            s += f\"{c}\\t\"\n",
    "        yield s\n",
    "        c += 1\n",
    "        \n",
    "g = num_gen() \n",
    "\n",
    "for i in range(10):\n",
    "    print(next(g))\n",
    "        \n",
    "    "
   ]
  },
  {
   "cell_type": "markdown",
   "id": "6339ccc5",
   "metadata": {},
   "source": [
    "# Coroutine رفتار کروتین در تابع"
   ]
  },
  {
   "cell_type": "markdown",
   "id": "41305e2c",
   "metadata": {},
   "source": [
    "کروتین ها گونه ای از توابع هستند که همزمانی را از طریق چندوظیفگی مشارکتی امکان پذیر میکنند. (cooperative multitasking) "
   ]
  },
  {
   "cell_type": "markdown",
   "id": "7d3927fe",
   "metadata": {},
   "source": [
    "در عمل در ییلد تابع متوقف شده و با دریافت ورودی تا ییلد بعدی ادامه پیدا میکند"
   ]
  },
  {
   "cell_type": "code",
   "execution_count": 25,
   "id": "068c7916-e36a-42ff-915d-07edbf4ae0c8",
   "metadata": {},
   "outputs": [
    {
     "name": "stdout",
     "output_type": "stream",
     "text": [
      "Start!\n",
      "name:  None\n",
      "name:  None\n"
     ]
    }
   ],
   "source": [
    "def my_gen():\n",
    "    print(\"Start!\")\n",
    "    while True:\n",
    "        name = yield 1\n",
    "        print(\"name: \" , name)\n",
    "            \n",
    "    \n",
    "gn = my_gen()\n",
    "next(gn)\n",
    "next(gn)\n",
    "next(gn)\n",
    "\n",
    "# مقدار ییلد ب صورت دیفالت  none  را برمیگرداند\n"
   ]
  },
  {
   "cell_type": "markdown",
   "id": "7a4ff458-d1fa-4cda-893c-ba3b8ca2b082",
   "metadata": {},
   "source": [
    "میتونیم بگیم ییلد چه چیزی برگرداند"
   ]
  },
  {
   "cell_type": "code",
   "execution_count": 40,
   "id": "e741b038-95c4-4a7d-a082-cfd68dd1cee2",
   "metadata": {},
   "outputs": [
    {
     "name": "stdout",
     "output_type": "stream",
     "text": [
      "Start!\n",
      "1\n",
      "name:  reza\n",
      "1\n",
      "name:  None\n",
      "1\n",
      "name:  amir\n",
      "1\n"
     ]
    }
   ],
   "source": [
    "# باید از سند استفاده بکنیم\n",
    "# باید قبل سند نکست را صدا بزنیم \n",
    "\n",
    "def gen():\n",
    "    print(\"Start!\")\n",
    "    while True:\n",
    "        name = yield 1\n",
    "        print(\"name: \" , name)\n",
    "            \n",
    "    \n",
    "g = gen()\n",
    "\n",
    "print(next(g))\n",
    "print(g.send(\"reza\"))\n",
    "# print(g.__next__)\n",
    "print(next(g))\n",
    "print(g.send(\"amir\"))\n",
    "\n",
    "\n",
    "# همزمان سند ییلد هم انجام میشود\n",
    "# اول ی چیزی ییلد میشه و بعد سند انجام میشه"
   ]
  },
  {
   "cell_type": "code",
   "execution_count": 41,
   "id": "69cd7777",
   "metadata": {},
   "outputs": [
    {
     "name": "stdout",
     "output_type": "stream",
     "text": [
      "Start!\n",
      "name:  reza\n",
      "1\n",
      "name:  amir\n",
      "1\n"
     ]
    }
   ],
   "source": [
    "# حتما لازم هست برای بار اول نکست استفاده شود\n",
    "# براینکه از نکست استفاده نکنیم میتونیم از دکرتور ها ساتفاده بکنیم\n",
    "# گام اول یک چیزی ییلد می شود و درگام بعد مقدار گرفته و پیش می رود\n",
    "from functools import wraps\n",
    "\n",
    "def coroutin(func):\n",
    "    @wraps(func)\n",
    "    def start (*a , **kw):\n",
    "        gn = func()\n",
    "        next(gn)\n",
    "        return gn\n",
    "    return start\n",
    "\n",
    "@coroutin\n",
    "\n",
    "def gen():\n",
    "    print(\"Start!\")\n",
    "    while True:\n",
    "        name = yield 1\n",
    "        print(\"name: \" , name)\n",
    "            \n",
    "    \n",
    "g = gen()\n",
    "\n",
    "print(g.send(\"reza\"))\n",
    "print(g.send(\"amir\"))"
   ]
  },
  {
   "cell_type": "code",
   "execution_count": 48,
   "id": "cf63a747",
   "metadata": {
    "scrolled": true
   },
   "outputs": [
    {
     "name": "stdout",
     "output_type": "stream",
     "text": [
      "Start!\n",
      "reza\n",
      "****\n",
      "ali\n",
      "***\n"
     ]
    }
   ],
   "source": [
    "# مثال\n",
    "# سانسور\n",
    "\n",
    "def cen_gen(words):\n",
    "    print(\"Start!\")\n",
    "    w = None\n",
    "    while True:\n",
    "        word = yield w\n",
    "        if word not in words:\n",
    "            w = word\n",
    "        else:\n",
    "            w = \"*\" * len(word)\n",
    "\n",
    "gn = cen_gen([\"khar\", \"gav\", \"meymoon\"])\n",
    "next(gn)\n",
    "print(gn.send(\"reza\"))\n",
    "print(gn.send(\"khar\"))\n",
    "print(gn.send(\"ali\"))\n",
    "print(gn.send(\"gav\"))\n",
    "       "
   ]
  },
  {
   "cell_type": "markdown",
   "id": "eedb90df",
   "metadata": {},
   "source": [
    "# صفات تابع attribute"
   ]
  },
  {
   "cell_type": "markdown",
   "id": "d2a13669",
   "metadata": {},
   "source": [
    "در پایتون همه چی شیء هستند و صفات خود را دارند"
   ]
  },
  {
   "cell_type": "code",
   "execution_count": 23,
   "id": "1fc0da08",
   "metadata": {},
   "outputs": [
    {
     "name": "stdout",
     "output_type": "stream",
     "text": [
      "['__abs__', '__add__', '__and__', '__bool__', '__ceil__', '__class__', '__delattr__', '__dir__', '__divmod__', '__doc__', '__eq__', '__float__', '__floor__', '__floordiv__', '__format__', '__ge__', '__getattribute__', '__getnewargs__', '__gt__', '__hash__', '__index__', '__init__', '__init_subclass__', '__int__', '__invert__', '__le__', '__lshift__', '__lt__', '__mod__', '__mul__', '__ne__', '__neg__', '__new__', '__or__', '__pos__', '__pow__', '__radd__', '__rand__', '__rdivmod__', '__reduce__', '__reduce_ex__', '__repr__', '__rfloordiv__', '__rlshift__', '__rmod__', '__rmul__', '__ror__', '__round__', '__rpow__', '__rrshift__', '__rshift__', '__rsub__', '__rtruediv__', '__rxor__', '__setattr__', '__sizeof__', '__str__', '__sub__', '__subclasshook__', '__truediv__', '__trunc__', '__xor__', 'as_integer_ratio', 'bit_length', 'conjugate', 'denominator', 'from_bytes', 'imag', 'numerator', 'real', 'to_bytes']\n"
     ]
    }
   ],
   "source": [
    "x = 2\n",
    "print(dir(x))  # برای فراخوانی صفات شیء"
   ]
  },
  {
   "cell_type": "code",
   "execution_count": 49,
   "id": "0d580ece",
   "metadata": {},
   "outputs": [
    {
     "name": "stdout",
     "output_type": "stream",
     "text": [
      "['__annotations__', '__builtins__', '__call__', '__class__', '__closure__', '__code__', '__defaults__', '__delattr__', '__dict__', '__dir__', '__doc__', '__eq__', '__format__', '__ge__', '__get__', '__getattribute__', '__globals__', '__gt__', '__hash__', '__init__', '__init_subclass__', '__kwdefaults__', '__le__', '__lt__', '__module__', '__name__', '__ne__', '__new__', '__qualname__', '__reduce__', '__reduce_ex__', '__repr__', '__setattr__', '__sizeof__', '__str__', '__subclasshook__', 'school_name']\n",
      "tabatabayi\n",
      "bahonar\n"
     ]
    }
   ],
   "source": [
    "# می توان برای تابع صفت دلخواه اضافه کرد\n",
    "\n",
    "def ave(li):\n",
    "    return sum(li)/len(li)\n",
    "\n",
    "def ave2(li):\n",
    "    return sum(li)/len(li)\n",
    "\n",
    "\n",
    "ave.school_name = \"tabatabayi\"  # ساده ترین راه برای تعریف صفت جدید برای تابع\n",
    "ave2.school_name = \"bahonar\"\n",
    "\n",
    "print(dir(ave))   \n",
    "print(ave.school_name)\n",
    "print(ave2.school_name)"
   ]
  },
  {
   "cell_type": "code",
   "execution_count": 51,
   "id": "207f0a54",
   "metadata": {},
   "outputs": [
    {
     "name": "stdout",
     "output_type": "stream",
     "text": [
      "tabatabyi\n",
      "{'school_name': 'tabatabyi', 'creator': 'reza'}\n",
      "default\n"
     ]
    }
   ],
   "source": [
    "# setattr برای تعریف صفت برای آبجکت\n",
    "# setattr(object, attr_name, attr_value)\n",
    "\n",
    "def ave(li):\n",
    "    return sum(li)/len(li)\n",
    "\n",
    "setattr(ave, \"school_name\", \"tabatabyi\")\n",
    "setattr(ave, \"creator\", \"reza\")\n",
    "\n",
    "print(ave.school_name)\n",
    "print(ave.__dict__)  # دیکشنری از صفات تعریف شده\n",
    "\n",
    "print(getattr(ave, \"name\", \"default\"))  # ابزاری باری برگرداندن مقدار صفت. اگر آن صفت در شیء نباشد مقدار دیفالت را بر میگرداند\n",
    "\n",
    "if hasattr(ave, \"name\"):   # برررسی میکند که آن صفت در شیء موجود است یا نه\n",
    "    print(getattr(ave, \"name\"))\n",
    "                  \n",
    "# delattr(object, attr_name)  # برای حذف صفت\n",
    "delattr(ave, \"school_name\")\n",
    "\n",
    "# در مواقع استفاده از اتریبوت ها در دکرتور ها ار فانک توولز استفادخ باید کرد براینکه اتریبوت ها حفظ شود"
   ]
  },
  {
   "cell_type": "markdown",
   "id": "e9dbf20b",
   "metadata": {},
   "source": [
    "# Recursive Func توابع بازگشتی"
   ]
  },
  {
   "cell_type": "markdown",
   "id": "b94c90c4",
   "metadata": {},
   "source": [
    "هر تابعی که داخل خودش خودش را فرابخواند تابع بازگشتی است. کلمه کلیدی ندارد و اصل مساله نحوه تعریف و حل مساله است"
   ]
  },
  {
   "attachments": {
    "image.png": {
     "image/png": "[encoded data removed]"
    }
   },
   "cell_type": "markdown",
   "id": "3ecb9226",
   "metadata": {},
   "source": [
    "![image.png](attachment:image.png)"
   ]
  },
  {
   "cell_type": "markdown",
   "id": "dc9b9b6b",
   "metadata": {},
   "source": [
    "تابعی که درون خودش خودش را صدا میزند\n",
    "ساختار تابع بازگشتی دو بخش اصلی دارد: 1.شرط توقف 2.ادامه چرخه تابع "
   ]
  },
  {
   "cell_type": "markdown",
   "id": "3231a8b2",
   "metadata": {},
   "source": [
    "توابع بازگشتی حافظه بیشتری مصرف کرده و کند تر هستند. بسته به الگوریتم لازم هست بررسی شود تابع بازگشتی لازم هست یا نه."
   ]
  },
  {
   "cell_type": "code",
   "execution_count": 52,
   "id": "cdccc2eb",
   "metadata": {},
   "outputs": [
    {
     "name": "stdout",
     "output_type": "stream",
     "text": [
      "120\n"
     ]
    }
   ],
   "source": [
    "# فاکتوریل\n",
    "# 5! = 5 * 4 * 3 * 2 * 1\n",
    "# 5! = 5 * 4!\n",
    "\n",
    "def rec_fact(x):\n",
    "    if x == 0 or x == 1:\n",
    "        return 1\n",
    "    return x * rec_fact(x-1)  # 5! = 5 * 4!\n",
    "\n",
    "print(rec_fact(5))"
   ]
  },
  {
   "cell_type": "code",
   "execution_count": 56,
   "id": "58612f0e",
   "metadata": {},
   "outputs": [
    {
     "name": "stdout",
     "output_type": "stream",
     "text": [
      "3\n"
     ]
    }
   ],
   "source": [
    "# جمله ان ام دنباله فیبوناچی\n",
    "# ۰، ۱، ۱، ۲، ۳، ۵، ۸، ۱۳، ۲۱، ۳۴، ۵۵، ۸۹، ۱۴۴، ۲۳۳، ۳۷۷، ۶۱۰، ۹۸۷، ۱۵۹۷، ۲۵۸۴، ۴۱۸۱، ۶۷۶۵، ۱۰۹۴۶، ۱۷۷۱۱\n",
    "\n",
    "def rec_fib(n):\n",
    "    if n == 1:\n",
    "        return 0\n",
    "    elif n == 2:\n",
    "        return 1\n",
    "    else:\n",
    "        return rec_fib(n-1) + rec_fib(n-2)\n",
    "\n",
    "print(rec_fib(5))\n",
    "\n",
    "# تمام جملات دنباله در تابع بازگشتی حساب می شوند ولی جمله مورد نظر به عنوان نهایی برگردانده می شود\n",
    "# تابع بازگشتی ساختار پشته یا استک دارد"
   ]
  },
  {
   "cell_type": "code",
   "execution_count": 55,
   "id": "5f3b989f-fdbd-4665-9fbc-13b006095c3f",
   "metadata": {},
   "outputs": [
    {
     "name": "stdout",
     "output_type": "stream",
     "text": [
      "5\n"
     ]
    }
   ],
   "source": [
    "# جمله ان ام دنباله فیبوناچی\n",
    "# ۰، ۱، ۱، ۲، ۳، ۵، ۸، ۱۳، ۲۱، ۳۴، ۵۵، ۸۹، ۱۴۴، ۲۳۳، ۳۷۷، ۶۱۰، ۹۸۷، ۱۵۹۷، ۲۵۸۴، ۴۱۸۱، ۶۷۶۵، ۱۰۹۴۶، ۱۷۷۱۱\n",
    "\n",
    "def rec_fib(n):\n",
    "    if n == 0 or n == 1:\n",
    "        return n \n",
    "    return rec_fib(n-1) + rec_fib(n-2)\n",
    "\n",
    "print(rec_fib(5))\n"
   ]
  },
  {
   "cell_type": "code",
   "execution_count": 53,
   "id": "dd4b3c63",
   "metadata": {},
   "outputs": [
    {
     "name": "stdout",
     "output_type": "stream",
     "text": [
      "10 | 9 | 8 | 7 | 6 | 5 | 4 | 3 | 2 | 1 | "
     ]
    }
   ],
   "source": [
    "# مثال شمارش معکوس\n",
    "from time import sleep  # به ثانیه باعث وقفه می شود\n",
    "\n",
    "def reverse(n):\n",
    "    if n <= 0:\n",
    "        return\n",
    "    sleep(0.5)\n",
    "    print(n, end=\" | \")\n",
    "    n -= 1\n",
    "    reverse(n)\n",
    "    \n",
    "reverse(10)\n",
    "    \n",
    "    "
   ]
  },
  {
   "cell_type": "code",
   "execution_count": 29,
   "id": "708d29db",
   "metadata": {},
   "outputs": [
    {
     "name": "stdout",
     "output_type": "stream",
     "text": [
      "86400\n"
     ]
    }
   ],
   "source": [
    "# مثال ضرب ارقام بزرگتر از ۵ یک عدد بزرگ\n",
    "\n",
    "def mul5(n):\n",
    "    if n == 0:\n",
    "        return 1\n",
    "    elif n % 10 < 5:\n",
    "        return mul5(n // 10)\n",
    "    else:\n",
    "        return n%10 * mul5(n//10)\n",
    "\n",
    "\n",
    "\n",
    "print(mul5(56342313218985))"
   ]
  },
  {
   "cell_type": "code",
   "execution_count": 30,
   "id": "37e74b00",
   "metadata": {},
   "outputs": [
    {
     "name": "stdout",
     "output_type": "stream",
     "text": [
      "30 | 27 | 24 | 21 | 18 | 15 | 12 | 9 | 6 | 3 | "
     ]
    }
   ],
   "source": [
    "# مثال چاپ مضارب 3 کوچکتر از یک عدد\n",
    "\n",
    "def func(n):\n",
    "    if n < 3:\n",
    "        return\n",
    "    elif n % 3 ==0:\n",
    "        print(n, end=\" | \")\n",
    "    func(n - 1)\n",
    "    \n",
    "func(30)"
   ]
  },
  {
   "cell_type": "code",
   "execution_count": 31,
   "id": "8befb760",
   "metadata": {},
   "outputs": [],
   "source": [
    "# استفاده از دکوراتور در تابع بازگشتی، در تمام فراخوانی های آن اجرای میشود\n",
    "# استفاده از ژنراتور در تابع های بازگشتی موارد خاص خود را دارد و استفاده از ژنراتور در تابع بازگشتی رایج نیست"
   ]
  },
  {
   "cell_type": "code",
   "execution_count": 61,
   "id": "91107e46-64b9-4ceb-afb8-de4dae58cc7d",
   "metadata": {},
   "outputs": [
    {
     "name": "stdout",
     "output_type": "stream",
     "text": [
      "******************************\n",
      "3\n",
      "******************************\n",
      "2\n",
      "******************************\n",
      "1\n",
      "******************************\n",
      "------------------------------\n",
      "------------------------------\n",
      "------------------------------\n",
      "------------------------------\n"
     ]
    }
   ],
   "source": [
    "from functools import wraps\n",
    "from time import sleep\n",
    "\n",
    "\n",
    "def dec (func): \n",
    "    @wraps(func)\n",
    "    def w_f (*arg , **keyW):\n",
    "        print(\"*\" * 30)\n",
    "        value = func(*arg , **keyW)\n",
    "        print(\"-\" * 30)\n",
    "        return value\n",
    "    return w_f\n",
    "\n",
    "@dec\n",
    "def rev(n):\n",
    "    if n <= 0:\n",
    "        return\n",
    "    sleep(0.5)\n",
    "    print(n)\n",
    "    rev(n-1)\n",
    "    \n",
    "rev(3)\n",
    "# قبل اینکه تابع تموم بشه و خط تیره چاپ بشه دوباره تابع خود را فرامیخاند"
   ]
  },
  {
   "cell_type": "code",
   "execution_count": 64,
   "id": "0ad56f5f-29d2-43da-a5ed-e5c0f73a9519",
   "metadata": {},
   "outputs": [
    {
     "name": "stdout",
     "output_type": "stream",
     "text": [
      "[10]\n",
      "\n",
      "[10, 9, 8, 7, 6, 5, 4, 3, 2, 1]\n"
     ]
    }
   ],
   "source": [
    "def g_rev2(n):\n",
    "    if n <= 0:\n",
    "        return\n",
    "    sleep(0.5)\n",
    "    yield n\n",
    "    g_rev2(n-1)\n",
    "\n",
    "        \n",
    "g2 = g_rev2(10)\n",
    "print(list(g2))\n",
    "\n",
    "print()\n",
    "\n",
    "def g_rev(n):\n",
    "    if n <= 0:\n",
    "        return\n",
    "    sleep(0.5)\n",
    "    yield n\n",
    "    for i in g_rev(n-1):\n",
    "        yield i\n",
    "        \n",
    "g = g_rev(10)\n",
    "print(list(g))"
   ]
  },
  {
   "cell_type": "code",
   "execution_count": 66,
   "id": "4eca4522",
   "metadata": {},
   "outputs": [
    {
     "name": "stdout",
     "output_type": "stream",
     "text": [
      "بیشتر از این مقدار حافظه جا ندارد 1000\n"
     ]
    },
    {
     "ename": "RecursionError",
     "evalue": "cannot set the recursion limit to 10 at the recursion depth 28: the limit is too low",
     "output_type": "error",
     "traceback": [
      "\u001b[0;31m---------------------------------------------------------------------------\u001b[0m",
      "\u001b[0;31mRecursionError\u001b[0m                            Traceback (most recent call last)",
      "Cell \u001b[0;32mIn[66], line 7\u001b[0m\n\u001b[1;32m      4\u001b[0m \u001b[38;5;28;01mimport\u001b[39;00m \u001b[38;5;21;01msys\u001b[39;00m\n\u001b[1;32m      6\u001b[0m \u001b[38;5;28mprint\u001b[39m(\u001b[38;5;124m\"\u001b[39m\u001b[38;5;124mبیشتر از این مقدار حافظه جا ندارد\u001b[39m\u001b[38;5;124m\"\u001b[39m, sys\u001b[38;5;241m.\u001b[39mgetrecursionlimit())\n\u001b[0;32m----> 7\u001b[0m \u001b[43msys\u001b[49m\u001b[38;5;241;43m.\u001b[39;49m\u001b[43msetrecursionlimit\u001b[49m\u001b[43m(\u001b[49m\u001b[38;5;241;43m10\u001b[39;49m\u001b[43m)\u001b[49m  \u001b[38;5;66;03m# تعیین اندازه حافظه ذخیره در پشته\u001b[39;00m\n\u001b[1;32m      9\u001b[0m \u001b[38;5;28;01mdef\u001b[39;00m \u001b[38;5;21mrev\u001b[39m(n):\n\u001b[1;32m     10\u001b[0m     \u001b[38;5;28;01mif\u001b[39;00m n \u001b[38;5;241m<\u001b[39m\u001b[38;5;241m=\u001b[39m \u001b[38;5;241m0\u001b[39m:\n",
      "\u001b[0;31mRecursionError\u001b[0m: cannot set the recursion limit to 10 at the recursion depth 28: the limit is too low"
     ]
    }
   ],
   "source": [
    "# بررسی و محدودیت در استفاده از حافظه در تابع بازگشتی\n",
    "# فعالیت تابع بازگشتی باعث اشغال فضای ذخیره سازی می شود و می توان محدودیت را دید و یا تعیین کرد\n",
    "\n",
    "import sys\n",
    "\n",
    "print(\"بیشتر از این مقدار حافظه جا ندارد\", sys.getrecursionlimit())\n",
    "sys.setrecursionlimit(10)  # تعیین اندازه حافظه ذخیره در پشته\n",
    "\n",
    "def rev(n):\n",
    "    if n <= 0:\n",
    "        return\n",
    "    sleep(0.5)\n",
    "    print(n)\n",
    "    rev(n-1)\n",
    "    \n",
    "rev(30)"
   ]
  },
  {
   "attachments": {
    "image-2.png": {
     "image/png": "[encoded data removed]"
    }
   },
   "cell_type": "markdown",
   "id": "1e898e47",
   "metadata": {},
   "source": [
    "در تابع بازگشتی ممکن است برخی برگشت های تابع چند بار حساب شوند\n",
    "![image-2.png](attachment:image-2.png)"
   ]
  },
  {
   "cell_type": "markdown",
   "id": "70c8062c",
   "metadata": {},
   "source": [
    "برای حل این مسئله از memorization استفاده میکنیم"
   ]
  },
  {
   "cell_type": "code",
   "execution_count": 33,
   "id": "c2c7433c",
   "metadata": {},
   "outputs": [
    {
     "name": "stdout",
     "output_type": "stream",
     "text": [
      "63245986\n",
      "time of calculation 29.579541300000002\n"
     ]
    }
   ],
   "source": [
    "from time import perf_counter\n",
    "\n",
    "def rec_fib(n):\n",
    "    if n == 1:\n",
    "        return 0\n",
    "    elif n == 2:\n",
    "        return 1\n",
    "    else:\n",
    "        return rec_fib(n-1) + rec_fib(n-2)\n",
    "\n",
    "\n",
    "start_time = perf_counter()\n",
    "print(rec_fib(40))\n",
    "end_time = perf_counter()\n",
    "print(\"time of calculation\", end_time-start_time)"
   ]
  },
  {
   "cell_type": "code",
   "execution_count": 67,
   "id": "41e54724",
   "metadata": {},
   "outputs": [
    {
     "name": "stdout",
     "output_type": "stream",
     "text": [
      "63245986\n",
      "time of calculation 0.0002016300022660289\n"
     ]
    }
   ],
   "source": [
    "# دیتا هایی که محاسبه شده اند در داخل دیکشنری ذخیره میکنیم\n",
    "# استفاده از دکوراتور برای ممورایزیشن\n",
    "from time import perf_counter\n",
    "\n",
    "def memorize(func):\n",
    "    memory = {}\n",
    "    def wrapper_decoration(n):\n",
    "        if n not in memory:\n",
    "            memory[n] = func(n)\n",
    "        return memory[n]\n",
    "    return wrapper_decoration\n",
    "\n",
    "@memorize\n",
    "def rec_fib(n):\n",
    "    if n == 1:\n",
    "        return 0\n",
    "    elif n == 2:\n",
    "        return 1\n",
    "    else:\n",
    "        return rec_fib(n-1) + rec_fib(n-2)\n",
    "\n",
    "\n",
    "start_time = perf_counter()\n",
    "print(rec_fib(40))\n",
    "end_time = perf_counter()\n",
    "print(\"time of calculation\", end_time-start_time)"
   ]
  },
  {
   "cell_type": "code",
   "execution_count": null,
   "id": "3c4180e3",
   "metadata": {},
   "outputs": [],
   "source": []
  }
 ],
 "metadata": {
  "kernelspec": {
   "display_name": "Python 3 (ipykernel)",
   "language": "python",
   "name": "python3"
  },
  "language_info": {
   "codemirror_mode": {
    "name": "ipython",
    "version": 3
   },
   "file_extension": ".py",
   "mimetype": "text/x-python",
   "name": "python",
   "nbconvert_exporter": "python",
   "pygments_lexer": "ipython3",
   "version": "3.10.9"
  }
 },
 "nbformat": 4,
 "nbformat_minor": 5
}
