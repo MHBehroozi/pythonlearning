{
 "cells": [
  {
   "cell_type": "markdown",
   "id": "0ecdcf7d-fb66-4f55-8d83-b93ae36cdd29",
   "metadata": {},
   "source": [
    "# آموزش سینتکس کدنویسی "
   ]
  },
  {
   "cell_type": "raw",
   "id": "f28c5b9b-40ad-4c8c-8f2f-d7a154df1f97",
   "metadata": {},
   "source": [
    "Syntax = قواعد نگارش کد ها\n",
    "اگر قواعد سینتکس رعایت نشود با خطای\n",
    "SyntaxError\n",
    "مواجه می شویم."
   ]
  },
  {
   "cell_type": "raw",
   "id": "d2f0db18-faa0-49f6-b02d-50b038afc0d5",
   "metadata": {},
   "source": [
    "دو نوع سطر داریم:\n",
    "    Physical Line = در واقع با هر اینتر یک سطر ایجاد می شود و در کدنویسی شماره گذاری می شود.\n",
    "    Logical Line = سطری که مفسر در نظر می گیرد.\n",
    "\n",
    "\" ; \" = در پایتون الزامی نیست ولی با گذاشتن سمی کالون سطر منطقی تمام می شود و بعد آن در همان سطر، یک سطر منطقی جدید است.\n",
    "\n",
    "در مثال اول یک سطر فیزیکی و دو سطر منطقی داریم و در مثال دوم دو سطر فیزیکی و یک سطر منطقی داریم."
   ]
  },
  {
   "cell_type": "code",
   "execution_count": 1,
   "id": "76b789fc-8bea-4d0d-8aed-c4a22eb3848a",
   "metadata": {
    "tags": []
   },
   "outputs": [
    {
     "name": "stdout",
     "output_type": "stream",
     "text": [
      "Hello\n",
      "World!\n"
     ]
    }
   ],
   "source": [
    "print(\"Hello\"); print(\"World!\")"
   ]
  },
  {
   "cell_type": "code",
   "execution_count": 2,
   "id": "ae399094-945e-4184-b502-7ed02eacac5b",
   "metadata": {},
   "outputs": [
    {
     "name": "stdout",
     "output_type": "stream",
     "text": [
      "59\n"
     ]
    }
   ],
   "source": [
    "print( 7 + 8 + 7 + 6 + 9 + 4 + 3 \\\n",
    "+ 8 + 2 + 1 + 4)"
   ]
  },
  {
   "cell_type": "markdown",
   "id": "573a28ac-4f7e-4799-93b2-ccfb01e0d059",
   "metadata": {},
   "source": [
    "PEP8 = استانداردی از توصیه های نگارشی پایتون\n",
    "رعایت آن الزامی نیست و فقط توصیه می شود.\n",
    "بر اساس آن توصیه می شود سطر فیزیکی بیش از 79 کاراکتر نباشد."
   ]
  },
  {
   "cell_type": "code",
   "execution_count": 4,
   "id": "50f241e4-277a-453d-807b-0d4065b00753",
   "metadata": {},
   "outputs": [],
   "source": [
    "# برای کامنت گذاری\n",
    "# توجه شود بعد \\ نمی توان کامنت گذاشت"
   ]
  },
  {
   "cell_type": "code",
   "execution_count": 5,
   "id": "51da1c64-9d92-4ed8-8111-8a136b12c9d6",
   "metadata": {},
   "outputs": [],
   "source": [
    "#در تعریف متغیر ها با پرانتز و آکولاد نیازی به \\ نیست\n",
    "\n",
    "X = (1, 2, #test\n",
    "     3,\n",
    "     4)"
   ]
  },
  {
   "cell_type": "markdown",
   "id": "381fdcfb-048a-4e9c-a40b-4c52095360a1",
   "metadata": {},
   "source": [
    "NOTE: سطر های خالی هیچ تاثیر در اجرای برنامه نداشته و توسط مفسر نادیده گرفته می شوند."
   ]
  },
  {
   "cell_type": "markdown",
   "id": "e3763aaa-1424-4f7a-a916-ef19f6c77a8d",
   "metadata": {},
   "source": [
    "داک استرینگ برای توضیحات بخش های مختلف استفاده می شود و برخالف کامنت نادیده گرفته نمی شود و میتوان آن را بازخوانی کرد ولی ارزش محاسباتی و دستوری ندارد."
   ]
  },
  {
   "cell_type": "markdown",
   "id": "ebf2224c-d6d6-4510-8520-7a265f0974a2",
   "metadata": {},
   "source": [
    "کامنت برای برنامه نویس است ولی داک استرنیگ برای کاربر ماژول است."
   ]
  },
  {
   "cell_type": "code",
   "execution_count": 6,
   "id": "7795b27b-2933-4c7d-b583-f0c6fd6beef0",
   "metadata": {},
   "outputs": [
    {
     "name": "stdout",
     "output_type": "stream",
     "text": [
      " DocString \n",
      "Hi World\n"
     ]
    }
   ],
   "source": [
    "#doCString برای افزودن توضیح به بخش های مشخص مثل تابع\n",
    "\n",
    "def F():\n",
    "    \"\"\" DocString \"\"\"\n",
    "    print(\"Hi World\")\n",
    "    \n",
    "print(F.__doc__)\n",
    "F()"
   ]
  },
  {
   "cell_type": "code",
   "execution_count": 7,
   "id": "9e326162-2097-4dd7-95c8-852929c85b59",
   "metadata": {},
   "outputs": [
    {
     "data": {
      "text/plain": [
       "'\\nسلام\\n'"
      ]
     },
     "execution_count": 7,
     "metadata": {},
     "output_type": "execute_result"
    }
   ],
   "source": [
    "#شکل دیگر داک استرینگ که میشه به عنوان کامنت در نظر گرفت\n",
    "\"\"\"\n",
    "سلام\n",
    "\"\"\""
   ]
  },
  {
   "cell_type": "markdown",
   "id": "34591bc7-d6b6-4fc3-a7c5-1f1680fa7f44",
   "metadata": {},
   "source": [
    "تو رفتگی ها برای نمایش زیر مجموعه بودن دستور است:Indentation"
   ]
  },
  {
   "cell_type": "code",
   "execution_count": 8,
   "id": "9369c6fb-dc61-4a71-ba83-619aec249208",
   "metadata": {},
   "outputs": [],
   "source": [
    "def F():\n",
    "    def A():\n",
    "        def B():\n",
    "            print(\"Hello World!\")"
   ]
  },
  {
   "cell_type": "markdown",
   "id": "fc2f4938-1273-4048-9f59-42bdcac9083b",
   "metadata": {},
   "source": [
    "# دستورات ورودی و خروجی: Input & Output"
   ]
  },
  {
   "cell_type": "code",
   "execution_count": 9,
   "id": "eb0889a9-9d70-48eb-a50e-7f79e6f8817b",
   "metadata": {},
   "outputs": [
    {
     "name": "stdout",
     "output_type": "stream",
     "text": [
      "1 2 3 4 5\n",
      "1, 2, 3, 4, 5\n",
      "2 + 2 = 4\n",
      "\n",
      "Next Line\n",
      "Two print, In one Line\n",
      "\n",
      "one print\n",
      "In two line\n"
     ]
    }
   ],
   "source": [
    "# دستور خروجی\n",
    "print(1,2,3,4,5)  # کاما برای جداسازی\n",
    "print(1,2,3,4,5,sep=\", \")  # پارامتر sep برای تعیین روش جداسازی\n",
    "print(\"2 + 2 =\", 2+2)\n",
    "\n",
    "#بطور پیش فرض هر دستور پرینت در انتها به خط بعدی می رود\n",
    "print()\n",
    "print(\"Next Line\")\n",
    "print(\"Two print\", end=\", \")  # با end می توان نوع پایان خروجی را تغییر داد\n",
    "print(\"In one Line\")\n",
    "\n",
    "print(end='\\n')\n",
    "# \\n برای رفتن به خط بعدی\n",
    "print(\"one print\",'\\n', \"In two line\", sep=\"\")"
   ]
  },
  {
   "cell_type": "code",
   "execution_count": 12,
   "id": "8ef4fa3e-eddd-4598-8b9d-a6e3525d3181",
   "metadata": {},
   "outputs": [
    {
     "name": "stdin",
     "output_type": "stream",
     "text": [
      "Enter Your Name:  Mohammad Hoseyn Behroozi\n"
     ]
    },
    {
     "name": "stdout",
     "output_type": "stream",
     "text": [
      "Your Name Is: Mohammad Hoseyn Behroozi\n",
      "a: 5 .b: 4 .c: 6 .d: 7\n"
     ]
    }
   ],
   "source": [
    "# دستور Input برای گرفتن ورودی از کاربر\n",
    "x = input(\"Enter Your Name: \")\n",
    "print(\"Your Name Is:\", x )\n",
    "\n",
    "#تعریف متغیر ها\n",
    "#پایتون خودکار نوع متغیر را مشخص می کند\n",
    "a = 4\n",
    "b = 5\n",
    "c , d = 6 , 7 # لازم هست تعداد و ترتیب رعایت شود\n",
    "\n",
    "a , b = b , a # برای جا به جا کردن مقادیر متغیر ها\n",
    "\n",
    "print(\"a:\",a,\".b:\",b,\".c:\",c,\".d:\",d)\n",
    "\n",
    "# بطور پیش فرض در پایتون امکان تعریف ثابت وجود ندارد \n",
    "\n",
    "# برای تعریف متغیر در ابتدای شروع فقط میتونیم از حروف انگلیسی و ـ استفاده کنیم و در ادامه موارد قبلی بعلاوه اعداد"
   ]
  },
  {
   "cell_type": "markdown",
   "id": "9c3826f0-f4bd-415a-9224-cdbb18c720f5",
   "metadata": {},
   "source": [
    "# عملگر های حسابی"
   ]
  },
  {
   "cell_type": "raw",
   "id": "4926ba9a-7f7b-4276-92a0-616ab89cc702",
   "metadata": {},
   "source": [
    "+ : جمع\n",
    "- : تفریق\n",
    "* : ضریب\n",
    "/ : تقسیم\n",
    "% : باقیمانده\n",
    "** : توان\n",
    "// : تقسیم بدون اعشار"
   ]
  },
  {
   "cell_type": "code",
   "execution_count": 13,
   "id": "b7d96578-8cd6-4836-8de8-feb1771439ba",
   "metadata": {},
   "outputs": [
    {
     "name": "stdout",
     "output_type": "stream",
     "text": [
      "+:  9\n",
      "-:  1\n",
      "*:  20\n",
      "/:  1.25\n",
      "%:  1\n",
      "**:  625\n",
      "//:  1\n"
     ]
    }
   ],
   "source": [
    "x, y = 5, 4\n",
    "print(\"+: \",x+y)\n",
    "print(\"-: \",x-y)\n",
    "print(\"*: \",x*y)\n",
    "print(\"/: \",x/y)\n",
    "print(\"%: \",x%y)\n",
    "print(\"**: \",x**y)\n",
    "print(\"//: \",x//y)"
   ]
  },
  {
   "cell_type": "markdown",
   "id": "f7d16212-c70e-4cd9-a27b-05c344fb24f2",
   "metadata": {},
   "source": [
    "# عملگر های مقایسه ای"
   ]
  },
  {
   "cell_type": "raw",
   "id": "640d1ad4-5159-4523-ae73-3d36c9d5c096",
   "metadata": {},
   "source": [
    "== : برابری\n",
    "!= : نابرابری\n",
    ">  : بزرگتر از\n",
    "<  : کوچکتر از\n",
    ">= : بزرگتر مساوی\n",
    "<= : کوچکتر مساوی"
   ]
  },
  {
   "cell_type": "code",
   "execution_count": 14,
   "id": "bd549a6c-29a3-49cf-ab5a-e1ada3819f4d",
   "metadata": {},
   "outputs": [
    {
     "name": "stdout",
     "output_type": "stream",
     "text": [
      "False\n",
      "True\n"
     ]
    }
   ],
   "source": [
    "#جواب بصورت True و False\n",
    "#غیر از این دو جواب نیست\n",
    "x, y = 5, 4\n",
    "print(x==y)\n",
    "x, y = 4, 4\n",
    "z = x==y #متغیر z دیگر از نوع بولین است\n",
    "print(z)"
   ]
  },
  {
   "cell_type": "markdown",
   "id": "4ad3dc4a-e130-449e-a3a0-d0e33ec632bb",
   "metadata": {},
   "source": [
    "# عملگرهای انتصاب عملوند راستی به عملوند چپ"
   ]
  },
  {
   "cell_type": "raw",
   "id": "3f559d18-7e77-4e11-80c1-8213e1d58de0",
   "metadata": {},
   "source": [
    "مثلا x += 5\n",
    " = : x = 5\n",
    "+= : x = x + 5\n",
    "-= : x = x - 5\n",
    "*= : x = x * 5\n",
    "/= : x = x / 5\n",
    "%= : x = x % 5\n",
    "//=: x = x // 5\n",
    "\n",
    "عملگرهای بیتی انتصابی به شرح زیر است\n",
    "&=   |=   ^=   >>=   <<=\n",
    "که محاسبه شان مانند مثال های فوق است."
   ]
  },
  {
   "cell_type": "code",
   "execution_count": 15,
   "id": "1b1f059d-bbd8-43ad-9da5-e80360c13849",
   "metadata": {},
   "outputs": [
    {
     "name": "stdout",
     "output_type": "stream",
     "text": [
      "False\n",
      "True\n",
      "False\n"
     ]
    }
   ],
   "source": [
    "# عمگلر های منطقی and , or , not\n",
    "x , y = 5 , 4\n",
    "print( x < 5 and y < 5) # و\n",
    "print( x < 5 or y < 5) # یا\n",
    "print(not y < 5) # عدم صحت"
   ]
  },
  {
   "cell_type": "markdown",
   "id": "a3333835-dfa0-4d34-88ce-0f1c4aa36ef1",
   "metadata": {},
   "source": [
    "# عملگرهای بررسی عضویت in و not in\n"
   ]
  },
  {
   "cell_type": "code",
   "execution_count": 16,
   "id": "1caf3580-1148-4cf1-bb70-c10838e505c3",
   "metadata": {},
   "outputs": [
    {
     "name": "stdout",
     "output_type": "stream",
     "text": [
      "h in S? False ,and H is S? True\n",
      "2 not in L? False ,and 3 in L? True\n"
     ]
    }
   ],
   "source": [
    "S = \"Hello World!\" # رشته\n",
    "L = [1,2,3,4,5,6,'r'] # لیست\n",
    "\n",
    "print(\"h in S?\",'h' in S,\",and H is S?\",'H' in S)\n",
    "print(\"2 not in L?\",2 not in L,\",and 3 in L?\",3 in L)"
   ]
  },
  {
   "cell_type": "markdown",
   "id": "539e585e-0af5-4eb4-ba6f-725ab9c5b455",
   "metadata": {},
   "source": [
    "# عملگر بررسی هویت is و is not"
   ]
  },
  {
   "cell_type": "code",
   "execution_count": 17,
   "id": "c6293472-7830-4a8a-9683-efec075efe23",
   "metadata": {},
   "outputs": [
    {
     "name": "stdout",
     "output_type": "stream",
     "text": [
      "True\n",
      "True\n",
      "False\n",
      "True\n",
      "False\n"
     ]
    }
   ],
   "source": [
    "x1 = y1 =4\n",
    "print(x1 is y1)\n",
    "\n",
    "x2 = y2 = [1 ,2 ,4]\n",
    "print(x2 is y2)\n",
    "\n",
    "x3, y3 = [1 ,2 ,4], [1 ,2 ,4]\n",
    "print(x3 is y3)\n",
    "\n",
    "z = x3\n",
    "print(x3 is z)\n",
    "print(x3 is not z)"
   ]
  },
  {
   "cell_type": "markdown",
   "id": "5e36e84e-5b6b-4fcf-8193-9954a0208024",
   "metadata": {},
   "source": [
    "# عملگر شیرماهی:Walrus"
   ]
  },
  {
   "cell_type": "code",
   "execution_count": 18,
   "id": "05b3729f-559d-482c-ae24-88c45a62e24b",
   "metadata": {},
   "outputs": [
    {
     "name": "stdout",
     "output_type": "stream",
     "text": [
      "2\n"
     ]
    }
   ],
   "source": [
    "#:=\n",
    "print(x:=2)\n",
    "# عمده کاربرد در شرط ها و حلقه ها است\n",
    "# مقدار دهی را درون عبارات انجام می دهد"
   ]
  },
  {
   "cell_type": "code",
   "execution_count": 19,
   "id": "4228738d-e619-4042-8dd7-d9374a3f6f70",
   "metadata": {},
   "outputs": [
    {
     "name": "stdout",
     "output_type": "stream",
     "text": [
      "<class 'str'>\n"
     ]
    }
   ],
   "source": [
    "x = 'r'\n",
    "print(type(x))\n"
   ]
  },
  {
   "cell_type": "code",
   "execution_count": null,
   "id": "3081abb7-6a64-4d52-8c34-5f28bf99fab5",
   "metadata": {},
   "outputs": [],
   "source": []
  }
 ],
 "metadata": {
  "kernelspec": {
   "display_name": "Python 3 (ipykernel)",
   "language": "python",
   "name": "python3"
  },
  "language_info": {
   "codemirror_mode": {
    "name": "ipython",
    "version": 3
   },
   "file_extension": ".py",
   "mimetype": "text/x-python",
   "name": "python",
   "nbconvert_exporter": "python",
   "pygments_lexer": "ipython3",
   "version": "3.10.9"
  }
 },
 "nbformat": 4,
 "nbformat_minor": 5
}
