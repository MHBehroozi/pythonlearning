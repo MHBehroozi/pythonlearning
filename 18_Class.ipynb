{
 "cells": [
  {
   "cell_type": "markdown",
   "id": "5ed5b7df-154d-495e-a3e1-39cddaf06395",
   "metadata": {},
   "source": [
    "# inheritance"
   ]
  },
  {
   "cell_type": "raw",
   "id": "dffcbea6-9353-47b0-bf8c-7a662e7fc931",
   "metadata": {},
   "source": [
    "رابطه:\n",
    "is a\n",
    "\n",
    "باعث میشه کدها را دیگر تکرار نکنیم\n",
    "\n",
    "ما هدفمون اینه یک کلاس انتزاعی تر داشته باشیم برای اینکه متد و ارتیبیوت های مشترک\n",
    "\n",
    "\n",
    "هرکلاسی در پایتون به صورت خودکار از کلاسی بنام آبجکت ارثبری میکنند\n",
    "object\n",
    "که یکسری رفتار و متا دیتا به کلاس موردنظر اضافه میکند\n",
    "\n",
    "\n"
   ]
  },
  {
   "cell_type": "code",
   "execution_count": 1,
   "id": "3c1ef4d3-6e20-4929-88a0-141292becac6",
   "metadata": {},
   "outputs": [
    {
     "name": "stdout",
     "output_type": "stream",
     "text": [
      "<class 'object'>\n"
     ]
    }
   ],
   "source": [
    "# براینکه بفهمیم یک کلاس از چه کلاس هایی ارثبری کرده\n",
    "\n",
    "class Example:\n",
    "    pass\n",
    "\n",
    "print(Example.__base__)"
   ]
  },
  {
   "cell_type": "code",
   "execution_count": 3,
   "id": "1313e998-22b7-4474-b0e3-1516f7c50578",
   "metadata": {},
   "outputs": [
    {
     "name": "stdout",
     "output_type": "stream",
     "text": [
      "<class 'object'>\n"
     ]
    }
   ],
   "source": [
    "# برای ارث بری\n",
    "\n",
    "class Example(object):\n",
    "    pass\n",
    "\n",
    "# میتونیم کلاس آبجکت را بنویسیم یا ننویسیم\n",
    "\n",
    "print(Example.__base__)"
   ]
  },
  {
   "cell_type": "code",
   "execution_count": 9,
   "id": "e44ecc5a-6e0b-4460-b149-26405c804114",
   "metadata": {},
   "outputs": [
    {
     "name": "stdout",
     "output_type": "stream",
     "text": [
      "ali\n",
      "[Seller('ali', 23)]\n"
     ]
    }
   ],
   "source": [
    "# کلاس فرزند تمام متدها و اتریبیوت های کلاس پدر را دارد\n",
    "# به اتریبویت های کلاس نیز دسترسی داریم در فرزند\n",
    "from typing import List\n",
    "\n",
    "class User:\n",
    "    all_users: List[\"User\"] = []\n",
    "    def __init__(self, name:str ,age:int) -> None:\n",
    "        self.name = name\n",
    "        self.age = age\n",
    "        User.all_users.append(self)\n",
    "    \n",
    "    def __repr__(self):\n",
    "        return f\"{self.__class__.__name__}({self.name!r}, {self.age})\"\n",
    "    \n",
    "    def __str__(self):\n",
    "        return f\"{self.name}\"\n",
    "    \n",
    "    \n",
    "class Seller(User):\n",
    "    def order(self, order: \"Order\") -> None:\n",
    "        print(f\"{self.name} ,your {order} ordred\")\n",
    "\n",
    "s1 = Seller(\"ali\", 23)\n",
    "print(s1)\n",
    "print(s1.all_users)"
   ]
  },
  {
   "cell_type": "markdown",
   "id": "288e1473-8dee-4db7-94cb-54047f8c9d97",
   "metadata": {},
   "source": [
    "# inheritance from buildtins"
   ]
  },
  {
   "cell_type": "code",
   "execution_count": 11,
   "id": "7b7dc5e0-6611-410a-a78d-c3567eedbfe0",
   "metadata": {},
   "outputs": [
    {
     "name": "stdout",
     "output_type": "stream",
     "text": [
      "0\n"
     ]
    }
   ],
   "source": [
    "# در واقع داریم یک آبجکت از آن کلاس میسازیم\n",
    "\n",
    "y = list()\n",
    "x = int()\n",
    "\n",
    "print(x)\n",
    "\n",
    "# در اینجا میخاهیم یک قابلیت جدید به متدهای داخلی کلاس ها اضافه بکنیم\n",
    "# تغییر متدهای دیفالت این کلاس ها نیاز به دانش درباره آن متد ها و ریسک بالایی دارد"
   ]
  },
  {
   "cell_type": "code",
   "execution_count": 20,
   "id": "6454dcac-e030-49dd-ab2f-6902c7898e7f",
   "metadata": {},
   "outputs": [
    {
     "name": "stdout",
     "output_type": "stream",
     "text": [
      "['__add__', '__class__', '__class_getitem__', '__contains__', '__delattr__', '__delitem__', '__dict__', '__dir__', '__doc__', '__eq__', '__format__', '__ge__', '__getattribute__', '__getitem__', '__gt__', '__hash__', '__iadd__', '__imul__', '__init__', '__init_subclass__', '__iter__', '__le__', '__len__', '__lt__', '__module__', '__mul__', '__ne__', '__new__', '__orig_bases__', '__reduce__', '__reduce_ex__', '__repr__', '__reversed__', '__rmul__', '__setattr__', '__setitem__', '__sizeof__', '__str__', '__subclasshook__', '__weakref__', 'append', 'clear', 'copy', 'count', 'extend', 'index', 'insert', 'pop', 'remove', 'reverse', 'search', 'sort']\n",
      "\n",
      "[User('ali', 3), User('amir', 12), User('alis', 23)]\n",
      "\n",
      "[User('ali', 3), User('alis', 23)]\n"
     ]
    }
   ],
   "source": [
    "from typing import List\n",
    "from pprint import pprint\n",
    "\n",
    "class UserList(list[\"User\"]):\n",
    "    def search(self, user_name: str) -> list[\"User\"]:\n",
    "        matching_users: list[\"User\"] = []\n",
    "        for user in self:\n",
    "            if user_name in user.name:\n",
    "                matching_users.append(user)\n",
    "        return matching_users\n",
    "    \n",
    "class User:\n",
    "    all_users: list[\"User\"] = UserList()\n",
    "    def __init__(self, name:str ,age:int) -> None:\n",
    "        self.name = name\n",
    "        self.age = age\n",
    "        User.all_users.append(self)\n",
    "    \n",
    "    def __repr__(self):\n",
    "        return f\"{self.__class__.__name__}({self.name!r}, {self.age})\"\n",
    "    \n",
    "    def __str__(self):\n",
    "        return f\"{self.name}\"\n",
    "\n",
    "\n",
    "# برای اینکه مشخص بکنیم عناصر لیست چی هستند از کلاس یوزر استفاده میکنیم   \n",
    "# class UserList(list):\n",
    "\n",
    "# حالا میتونیم بجای لیست خود پایتون از این لیست استفاده بکنیم\n",
    "    \n",
    "    \n",
    "print(dir(UserList))\n",
    "# میبینیم که متدهای تایپ(کلاس) لیست ها را دارد\n",
    "\n",
    "print()\n",
    "\n",
    "user1 = User(\"ali\", 3)\n",
    "user2 = User(\"amir\", 12)\n",
    "user3 = User(\"alis\", 23)\n",
    "    \n",
    "pprint(User.all_users)\n",
    "    \n",
    "print()\n",
    "\n",
    "pprint(User.all_users.search(\"ali\"))\n"
   ]
  },
  {
   "cell_type": "markdown",
   "id": "aacd9ef8-4767-4412-8946-a3ba80ed1c78",
   "metadata": {},
   "source": [
    "# overriding - super"
   ]
  },
  {
   "cell_type": "raw",
   "id": "c9a76300-0a19-4adf-a6f5-a8ab6e0e1113",
   "metadata": {},
   "source": [
    "overriding\n",
    "تغییر رفتار در متدها\n",
    "تغییر یا جایگزینی یک متد در سوپر کلاس در زیر کلاس\n",
    "\n",
    "اگر یکی از متدهای سوپر کلاس را در زیر کلاس بنویسیم به صورت خود به خود اوررایت میشود\n",
    "\n",
    "\n"
   ]
  },
  {
   "cell_type": "code",
   "execution_count": 5,
   "id": "9eba72d9-fde5-44b3-a0ee-9a3d9c0815e0",
   "metadata": {},
   "outputs": [
    {
     "name": "stdout",
     "output_type": "stream",
     "text": [
      "0939\n"
     ]
    },
    {
     "ename": "AttributeError",
     "evalue": "'Buyer' object has no attribute 'name'",
     "output_type": "error",
     "traceback": [
      "\u001b[0;31m---------------------------------------------------------------------------\u001b[0m",
      "\u001b[0;31mAttributeError\u001b[0m                            Traceback (most recent call last)",
      "Cell \u001b[0;32mIn[5], line 22\u001b[0m\n\u001b[1;32m     19\u001b[0m buyer \u001b[38;5;241m=\u001b[39m Buyer(\u001b[38;5;124m\"\u001b[39m\u001b[38;5;124m0939\u001b[39m\u001b[38;5;124m\"\u001b[39m)\n\u001b[1;32m     21\u001b[0m \u001b[38;5;28mprint\u001b[39m(buyer\u001b[38;5;241m.\u001b[39mphone)\n\u001b[0;32m---> 22\u001b[0m \u001b[38;5;28mprint\u001b[39m(\u001b[43mbuyer\u001b[49m\u001b[38;5;241;43m.\u001b[39;49m\u001b[43mname\u001b[49m)\n",
      "\u001b[0;31mAttributeError\u001b[0m: 'Buyer' object has no attribute 'name'"
     ]
    }
   ],
   "source": [
    "\n",
    "class User:\n",
    "    all_users: list[\"User\"] = []\n",
    "    def __init__(self, name:str ,age:int) -> None:\n",
    "        self.name = name\n",
    "        self.age = age\n",
    "        User.all_users.append(self)\n",
    "    \n",
    "    def __repr__(self):\n",
    "        return f\"{self.__class__.__name__}({self.name!r}, {self.age})\"\n",
    "    \n",
    "    def __str__(self):\n",
    "        return f\"{self.name}\"\n",
    "\n",
    "    \n",
    "class Buyer(User):\n",
    "    def __init__(self, phone:str) -> None:\n",
    "        self.phone = phone\n",
    "        \n",
    "buyer = Buyer(\"0939\")\n",
    "\n",
    "print(buyer.phone)\n",
    "print(buyer.name)\n",
    "\n",
    "# در اینجا درواقع اومدیم از یوزر ارثبری کردیم اما اتریبیوت نام که در یوزر بوده در بایر وجود ندارد\n",
    "# در واقع ما در اینجا اینیت را اوررایت کرده اییم\n"
   ]
  },
  {
   "cell_type": "code",
   "execution_count": 7,
   "id": "fe694162-d074-492c-9074-c7963ac2962e",
   "metadata": {},
   "outputs": [
    {
     "name": "stdout",
     "output_type": "stream",
     "text": [
      "0939\n",
      "ali\n",
      "[User('reza0', 14), Buyer('ali', 45)]\n"
     ]
    }
   ],
   "source": [
    "# راه اول اینه همان مقداردهی های اولیه را که در سوپر کلاس انجام دادیم اینجا نیز انجام دهیم\n",
    "\n",
    "\n",
    "class User:\n",
    "    all_users: list[\"User\"] = []\n",
    "    def __init__(self, name:str ,age:int) -> None:\n",
    "        self.name = name\n",
    "        self.age = age\n",
    "        User.all_users.append(self)\n",
    "    \n",
    "    def __repr__(self):\n",
    "        return f\"{self.__class__.__name__}({self.name!r}, {self.age})\"\n",
    "    \n",
    "    def __str__(self):\n",
    "        return f\"{self.name}\"\n",
    "\n",
    "    \n",
    "class Buyer(User):\n",
    "    def __init__(self, name:str ,age:int ,phone:str) -> None:\n",
    "        self.name = name\n",
    "        self.age = age\n",
    "        self.phone = phone\n",
    "        User.all_users.append(self)\n",
    "\n",
    "user = User(\"reza0\", 14)\n",
    "buyer = Buyer(\"ali\" ,45 ,\"0939\")\n",
    "\n",
    "print(buyer.phone)\n",
    "print(buyer.name)\n",
    "print(User.all_users)\n",
    "# همانطور که میبینید به تمام یوزرها حتی زیرکلاس دسترسی دارد"
   ]
  },
  {
   "cell_type": "code",
   "execution_count": 12,
   "id": "86a02b0b-4ea7-420e-88c0-41d028fd6953",
   "metadata": {},
   "outputs": [
    {
     "name": "stdout",
     "output_type": "stream",
     "text": [
      "0939\n",
      "ali\n",
      "[User('reza0', 14), Buyer('ali', 45, 0939)]\n",
      "True\n",
      "False\n"
     ]
    }
   ],
   "source": [
    "# super\n",
    "# دسترسی میدهد به کلاس پدر\n",
    "# درواقع یک شی موقت از کلاس پدر میسازد و ما باستفاده از اون به پراپرتی ها و متد های آن دسترسی داریم\n",
    "# سوپر ار میتوانیم در هر یک از متد ها زیرکلاس فراخونی کرد برای دسترسی به متد ها و اتریبیوت های پدر\n",
    "\n",
    "class User:\n",
    "    all_users: list[\"User\"] = []\n",
    "    def __init__(self, name:str ,age:int) -> None:\n",
    "        self.name = name\n",
    "        self.age = age\n",
    "        User.all_users.append(self)\n",
    "    \n",
    "    def __repr__(self):\n",
    "        return f\"{self.__class__.__name__}({self.name!r}, {self.age})\"\n",
    "    \n",
    "    def __str__(self):\n",
    "        return f\"{self.name}\"\n",
    "\n",
    "    \n",
    "class Buyer(User):\n",
    "    def __init__(self, name:str ,age:int ,phone:str) -> None:\n",
    "        # در نسخه های جدید نیازی به ورودی های خود سوپر نیست\n",
    "        \n",
    "        # باید مقادیری که آبجکت یوزر داشته باشد بفرستیم\n",
    "        # super(Buyer, self).__init__(name , age)\n",
    "        super().__init__(name , age)\n",
    "        self.phone = phone\n",
    "        \n",
    "    def __repr__(self):\n",
    "        return f\"{self.__class__.__name__}({self.name!r}, {self.age}, {self.phone})\"\n",
    "    \n",
    "\n",
    "user = User(\"reza0\", 14)\n",
    "buyer = Buyer(\"ali\" ,45 ,\"0939\")\n",
    "\n",
    "print(buyer.phone)\n",
    "print(buyer.name)\n",
    "print(User.all_users)\n",
    "\n",
    "# isinstance()\n",
    "# بررسی میکند آیا یک آبجکت از یک نمونه ایی از کلاس یا تایپ است یا ن\n",
    "print(isinstance(buyer, User))\n",
    "print(isinstance(user, Buyer))"
   ]
  },
  {
   "cell_type": "code",
   "execution_count": 23,
   "id": "c5d4dea0-26e3-4b6a-ab78-2c38dc3d30a5",
   "metadata": {},
   "outputs": [
    {
     "name": "stdout",
     "output_type": "stream",
     "text": [
      "[User('ali', 3)]\n"
     ]
    }
   ],
   "source": [
    "from typing import List\n",
    "from pprint import pprint\n",
    "\n",
    "class UserList(List):\n",
    "    def search(self, user_name: str) -> list[\"User\"]:\n",
    "        matching_users: list[\"User\"] = []\n",
    "        for user in self:\n",
    "            if user_name in user.name:\n",
    "                matching_users.append(user)\n",
    "        return matching_users\n",
    "    \n",
    "    def append(self, obj) -> None:\n",
    "        if not isinstance(obj, User):\n",
    "            raise TypeError(\"this is not type of User\")\n",
    "        # در اینجا نمیتونیم از سلف استفاده بکنیم زیرا به خود اپند همین کلاس اشاره میکند    \n",
    "        # return self.append(obj) -> Error\n",
    "        return super().append(obj)\n",
    "    \n",
    "    \n",
    "class User:\n",
    "    all_users: list[\"User\"] = UserList()\n",
    "    def __init__(self, name:str ,age:int) -> None:\n",
    "        self.name = name\n",
    "        self.age = age\n",
    "        User.all_users.append(self)\n",
    "    \n",
    "    def __repr__(self):\n",
    "        return f\"{self.__class__.__name__}({self.name!r}, {self.age})\"\n",
    "    \n",
    "    def __str__(self):\n",
    "        return f\"{self.name}\"\n",
    "    \n",
    "\n",
    "user1 = User(\"ali\", 3)\n",
    "li = UserList()\n",
    "li.append(user1)\n",
    "    \n",
    "pprint(li)\n",
    "    "
   ]
  },
  {
   "cell_type": "markdown",
   "id": "e542eb60-0195-414b-a575-5e3bb536d619",
   "metadata": {},
   "source": [
    "# multiple inheritance"
   ]
  },
  {
   "cell_type": "raw",
   "id": "5968bb50-147a-43f8-bc18-8efb8af112f6",
   "metadata": {},
   "source": [
    "چطور از چنتا کلاس بصورت همزمان ارث بری کنیم\n",
    "\n",
    "با اینکه در عمل ساده است اما در باطن ممکن است مشکلاتی داشته باشد\n",
    "\n",
    "خیلی رایج نیست و حساسیت بالا دارد\n",
    "\n",
    "بزرگترین مشکل این است که دوتا کلاسی که ازآن ارثبری میکنیم از یک کلاس ارثبری کرده باشند\n",
    "\n"
   ]
  },
  {
   "cell_type": "code",
   "execution_count": 26,
   "id": "8221db63-d543-4f15-b768-4dde947d7296",
   "metadata": {},
   "outputs": [
    {
     "name": "stdout",
     "output_type": "stream",
     "text": [
      "<__main__.SubClass object at 0x7f833a41fb80>\n",
      "<__main__.SubClass object at 0x7f833a41fb80>\n"
     ]
    }
   ],
   "source": [
    "class SuperClass1:\n",
    "    def print1(self):\n",
    "        print(self)\n",
    "    pass\n",
    "\n",
    "class SuperClass2:\n",
    "    def print2(self):\n",
    "        print(self)\n",
    "    pass\n",
    "\n",
    "class SubClass(SuperClass1, SuperClass2):\n",
    "    pass\n",
    "\n",
    "obj = SubClass()\n",
    "obj.print1()\n",
    "obj.print2()\n",
    "\n",
    "# آبجکت ها در یک نقطه از حافظه وجود دارند زیرا یک آبجکت است و تغییری نمیکند\n",
    "\n"
   ]
  },
  {
   "cell_type": "code",
   "execution_count": 27,
   "id": "87d00e35-7634-468b-8d86-da22a310b42c",
   "metadata": {},
   "outputs": [
    {
     "name": "stdout",
     "output_type": "stream",
     "text": [
      "SuperClass1\n",
      "<__main__.SubClass1 object at 0x7f833a848310>\n",
      "SuperClass2\n",
      "<__main__.SubClass2 object at 0x7f833a848580>\n"
     ]
    }
   ],
   "source": [
    "# مشکل زمانی ایجاد میشود که دوتا متد با اسم یکسان دارند\n",
    "\n",
    "class SuperClass1:\n",
    "    def print(self):\n",
    "        print(\"SuperClass1\")\n",
    "        print(self)\n",
    "    pass\n",
    "\n",
    "class SuperClass2:\n",
    "    def print(self):\n",
    "        print(\"SuperClass2\")\n",
    "        print(self)\n",
    "    pass\n",
    "\n",
    "class SubClass1(SuperClass1, SuperClass2):\n",
    "    pass\n",
    "\n",
    "class SubClass2(SuperClass2, SuperClass1):\n",
    "    pass\n",
    "\n",
    "obj1 = SubClass1()\n",
    "obj2 = SubClass2()\n",
    "\n",
    "obj1.print()\n",
    "obj2.print()\n",
    "\n",
    "# همانطور که میبیند از اول کلاسی که ارثبری میکند متد را نمایش میدهد\n",
    "\n",
    "\n",
    "\n",
    "\n"
   ]
  },
  {
   "cell_type": "code",
   "execution_count": 32,
   "id": "7a67bc01-d73c-403b-bfec-5efe7b385e92",
   "metadata": {},
   "outputs": [
    {
     "name": "stdout",
     "output_type": "stream",
     "text": [
      "1\n"
     ]
    },
    {
     "ename": "AttributeError",
     "evalue": "'SubClass' object has no attribute 'p1'",
     "output_type": "error",
     "traceback": [
      "\u001b[0;31m---------------------------------------------------------------------------\u001b[0m",
      "\u001b[0;31mAttributeError\u001b[0m                            Traceback (most recent call last)",
      "Cell \u001b[0;32mIn[32], line 17\u001b[0m\n\u001b[1;32m     15\u001b[0m obj \u001b[38;5;241m=\u001b[39m SubClass(\u001b[38;5;241m1\u001b[39m, \u001b[38;5;241m2\u001b[39m)\n\u001b[1;32m     16\u001b[0m \u001b[38;5;28mprint\u001b[39m(obj\u001b[38;5;241m.\u001b[39mp2)\n\u001b[0;32m---> 17\u001b[0m \u001b[38;5;28mprint\u001b[39m(\u001b[43mobj\u001b[49m\u001b[38;5;241;43m.\u001b[39;49m\u001b[43mp1\u001b[49m)\n",
      "\u001b[0;31mAttributeError\u001b[0m: 'SubClass' object has no attribute 'p1'"
     ]
    }
   ],
   "source": [
    "class SuperClass1:\n",
    "    def __init__(self, p1):\n",
    "        self.p1 = p1\n",
    "\n",
    "class SuperClass2:\n",
    "    def __init__(self, p2):\n",
    "        self.p2 = p2\n",
    "\n",
    "class SubClass(SuperClass2, SuperClass1):\n",
    "    def __init__(self,p1 ,p3):\n",
    "        super(SubClass, self).__init__(p1)\n",
    "        self.p3 = p3\n",
    "\n",
    "\n",
    "obj = SubClass(1, 2)\n",
    "print(obj.p2)\n",
    "print(obj.p1)\n",
    "\n",
    "# مقداردهی را برای گزینه اول انجام داده است\n"
   ]
  },
  {
   "cell_type": "code",
   "execution_count": 34,
   "id": "c7090c6d-657f-4a2d-baaf-7ea61f05f8fd",
   "metadata": {},
   "outputs": [
    {
     "name": "stdout",
     "output_type": "stream",
     "text": [
      "3\n",
      "2\n",
      "1\n"
     ]
    }
   ],
   "source": [
    "# حل مشکل\n",
    "\n",
    "class SuperClass1:\n",
    "    def __init__(self, p1):\n",
    "        self.p1 = p1\n",
    "\n",
    "class SuperClass2:\n",
    "    def __init__(self, p2):\n",
    "        self.p2 = p2\n",
    "\n",
    "class SubClass(SuperClass2, SuperClass1):\n",
    "    def __init__(self,p1 ,p2 ,p3):\n",
    "        # برای اینکه مشخص شود برای کدوم آبجکت است سلف را میفرستیم\n",
    "        SuperClass1.__init__(self, p1)\n",
    "        SuperClass2.__init__(self, p2)\n",
    "        self.p3 = p3\n",
    "\n",
    "\n",
    "obj = SubClass(1, 2, 3)\n",
    "print(obj.p3)\n",
    "print(obj.p2)\n",
    "print(obj.p1)\n"
   ]
  },
  {
   "cell_type": "markdown",
   "id": "36f1600b-1815-46d6-a475-1eae27782579",
   "metadata": {},
   "source": [
    "# diamond - MRO"
   ]
  },
  {
   "attachments": {
    "Screenshot%20from%202023-07-24%2017-47-30.png": {
     "image/png": "[encoded data removed]"
    }
   },
   "cell_type": "markdown",
   "id": "dc0d7732",
   "metadata": {},
   "source": [
    "![Screenshot%20from%202023-07-24%2017-47-30.png](attachment:Screenshot%20from%202023-07-24%2017-47-30.png)"
   ]
  },
  {
   "cell_type": "code",
   "execution_count": 39,
   "id": "a53bc868-0792-4794-b094-3e8b8c9b7700",
   "metadata": {},
   "outputs": [
    {
     "name": "stdout",
     "output_type": "stream",
     "text": [
      "call on base class\n",
      "call on base class\n",
      "0\n",
      "1\n",
      "1\n"
     ]
    }
   ],
   "source": [
    "class BaseClass:\n",
    "    num_base_cell = 0\n",
    "    \n",
    "    def call_me(self):\n",
    "        print(\"call on base class\")\n",
    "        # چطور این متغییر کلاس به متغییر آبجکت تبدیل میشود\n",
    "        self.num_base_cell += 1\n",
    "        \n",
    "object1 = BaseClass()\n",
    "object1.call_me()\n",
    "\n",
    "object2 = BaseClass()\n",
    "object2.call_me()\n",
    "\n",
    "print(BaseClass.num_base_cell)\n",
    "print(object1.num_base_cell)\n",
    "print(object2.num_base_cell)\n",
    "\n",
    "# ابتدا وقتی به این عبارت میرسد\n",
    "# self.num_base_cell += 1\n",
    "# تبدیل به این میکند\n",
    "# self.num_base_cell = self.num_base_cell + 1\n",
    "# self.num_base_cell = 0 + 1\n",
    "# و با توجه به این یک متغییر نمونه جدید میسازد و به متغییر کلاس توجهی ندارد\n",
    "# self.num_base_cell = 1\n",
    "\n",
    "# متغییر نمونه را نوشتیم زیرا دفعه اول از آن متغییر استفاده بکند"
   ]
  },
  {
   "cell_type": "code",
   "execution_count": 45,
   "id": "40ee70c8-2297-4fd7-8f3b-acf05742e24e",
   "metadata": {},
   "outputs": [
    {
     "name": "stdout",
     "output_type": "stream",
     "text": [
      "call on base class\n",
      "call on left class\n",
      "call on base class\n",
      "call on right class\n",
      "call on sub class\n",
      "1 1 1 2\n"
     ]
    }
   ],
   "source": [
    "\n",
    "class BaseClass:\n",
    "    num_base_cell = 0\n",
    "    \n",
    "    def call_me(self):\n",
    "        print(\"call on base class\")\n",
    "        self.num_base_cell += 1\n",
    "\n",
    "        \n",
    "class LeftSubClass(BaseClass):\n",
    "    num_left_cell = 0\n",
    "    \n",
    "    def call_me(self):\n",
    "        BaseClass.call_me(self)\n",
    "        print(\"call on left class\")\n",
    "        self.num_left_cell += 1\n",
    "\n",
    "class RightSubClass(BaseClass):\n",
    "    num_right_cell = 0\n",
    "    \n",
    "    def call_me(self):\n",
    "        BaseClass.call_me(self)\n",
    "        print(\"call on right class\")\n",
    "        self.num_right_cell += 1\n",
    "\n",
    "        \n",
    "class SubClass(LeftSubClass, RightSubClass):\n",
    "    num_sub_cell = 0\n",
    "    \n",
    "    def call_me(self):\n",
    "        LeftSubClass.call_me(self)\n",
    "        RightSubClass.call_me(self)\n",
    "        print(\"call on sub class\")\n",
    "        self.num_sub_cell += 1\n",
    "\n",
    "s = SubClass()\n",
    "s.call_me()\n",
    "print(s.num_sub_cell, s.num_left_cell, s.num_right_cell ,s.num_base_cell)\n",
    "\n",
    "# همانطور که میبینید بیس کلاس دو مرتبه اجرا شده است زیرا با توجه به ترتیبی که خودممون ایجاد کردیم دومرتبه فراخوانده میشود\n",
    "\n",
    "# راه حل\n",
    "# mro"
   ]
  },
  {
   "cell_type": "raw",
   "id": "5351030c-eb5d-495e-89aa-6f575e3ff7ef",
   "metadata": {},
   "source": [
    "mro\n",
    "\n",
    "method resulation order\n",
    "\n",
    "الگوریتمی که باعث میشود خودش براساس قانونین خاصی این ترتیب را مشخص میکند\n",
    "\n",
    "با کمک این نیازی نیست بفهمیم ترتیب به چه شکل است\n",
    "\n",
    "وظیفه آن این است که وقتی ما یک ساختار پیچیده داریم میاد ترتیب اجرا را در یک تاپل  به صورت خطی که تکراری وجود ندارد\n",
    "\n",
    "متد سوپر این کار را با توجه به الگوریتم سوپر انجام میدهد\n",
    "\n"
   ]
  },
  {
   "cell_type": "code",
   "execution_count": 51,
   "id": "bb74a015-3130-4b4a-8154-b00ecd0cfb3b",
   "metadata": {},
   "outputs": [
    {
     "name": "stdout",
     "output_type": "stream",
     "text": [
      "call on base class\n",
      "call on right class\n",
      "call on left class\n",
      "call on sub class\n",
      "1 1 1 1\n",
      "\n",
      "(<class '__main__.SubClass'>,\n",
      " <class '__main__.LeftSubClass'>,\n",
      " <class '__main__.RightSubClass'>,\n",
      " <class '__main__.BaseClass'>,\n",
      " <class 'object'>)\n"
     ]
    }
   ],
   "source": [
    "import pprint\n",
    "\n",
    "class BaseClass:\n",
    "    num_base_cell = 0\n",
    "    \n",
    "    def call_me(self):\n",
    "        print(\"call on base class\")\n",
    "        self.num_base_cell += 1\n",
    "\n",
    "        \n",
    "class LeftSubClass(BaseClass):\n",
    "    num_left_cell = 0\n",
    "    \n",
    "    def call_me(self):\n",
    "        super().call_me()\n",
    "        print(\"call on left class\")\n",
    "        self.num_left_cell += 1\n",
    "\n",
    "class RightSubClass(BaseClass):\n",
    "    num_right_cell = 0\n",
    "    \n",
    "    def call_me(self):\n",
    "        super().call_me()\n",
    "        print(\"call on right class\")\n",
    "        self.num_right_cell += 1\n",
    "\n",
    "        \n",
    "class SubClass(LeftSubClass, RightSubClass):\n",
    "    num_sub_cell = 0\n",
    "    \n",
    "    def call_me(self):\n",
    "        super().call_me()\n",
    "        print(\"call on sub class\")\n",
    "        self.num_sub_cell += 1\n",
    "\n",
    "s = SubClass()\n",
    "s.call_me()\n",
    "print(s.num_sub_cell, s.num_left_cell, s.num_right_cell ,s.num_base_cell)\n",
    "\n",
    "# اما در اینجا ترتیب مهم نیست راست یا چپ\n",
    "\n",
    "# برای دیدن ام ار او\n",
    "print()\n",
    "pprint.pprint(SubClass.__mro__)"
   ]
  },
  {
   "cell_type": "markdown",
   "id": "98f8bc1d-9c98-4321-97fe-b8dbb357bf2c",
   "metadata": {},
   "source": [
    "# initializeation in multiple inheritance"
   ]
  },
  {
   "cell_type": "raw",
   "id": "13730ac2-0a93-4e72-a4a6-b957ffea2d17",
   "metadata": {},
   "source": [
    "چطور ار سوپر در مقداردهی اولیه استفاده بکنیم"
   ]
  },
  {
   "cell_type": "code",
   "execution_count": 59,
   "id": "04ec5fe6-3fd9-489a-ac1a-998d2c0346a5",
   "metadata": {},
   "outputs": [
    {
     "name": "stdout",
     "output_type": "stream",
     "text": [
      "6 7 2 3 4 5 1\n"
     ]
    }
   ],
   "source": [
    "# در این راه حل روش و ترتیب فرستان آرگومان ها مهم است\n",
    "\n",
    "class BaseClass:\n",
    "    num_base_cell = 0\n",
    "    \n",
    "    def __init__(self, a, b, *args):\n",
    "        self.a = a\n",
    "        self.b = b\n",
    "    \n",
    "    def call_me(self):\n",
    "        print(\"call on base class\")\n",
    "        self.num_base_cell += 1\n",
    "\n",
    "        \n",
    "class LeftSubClass(BaseClass):\n",
    "    num_left_cell = 0\n",
    "    \n",
    "    def __init__(self, c, *args):\n",
    "        super().__init__(*args)\n",
    "        self.c = c\n",
    "        \n",
    "    def call_me(self):\n",
    "        super().call_me()\n",
    "        print(\"call on left class\")\n",
    "        self.num_left_cell += 1\n",
    "\n",
    "class RightSubClass(BaseClass):\n",
    "    num_right_cell = 0\n",
    "    \n",
    "    def __init__(self, d, e, f, *args):\n",
    "        super().__init__(*args)\n",
    "        self.d = d\n",
    "        self.e = e\n",
    "        self.f = f\n",
    "        \n",
    "    def call_me(self):\n",
    "        super().call_me()\n",
    "        print(\"call on right class\")\n",
    "        self.num_right_cell += 1\n",
    "\n",
    "        \n",
    "class SubClass(LeftSubClass, RightSubClass):\n",
    "    num_sub_cell = 0\n",
    "    \n",
    "    def __init__(self, g, *args):\n",
    "        super().__init__(*args)\n",
    "        self.g = g\n",
    "        \n",
    "    def call_me(self):\n",
    "        super().call_me()\n",
    "        print(\"call on sub class\")\n",
    "        self.num_sub_cell += 1\n",
    "\n",
    "s = SubClass(1, 2, 3, 4, 5, 6, 7)\n",
    "print(s.a, s.b,s.c ,s.d ,s.e ,s.f ,s.g )\n",
    "# در اینجا ترتیب خیلی مهم است و باید ترتیب ام آر او را دانست\n",
    "\n",
    "        "
   ]
  },
  {
   "cell_type": "code",
   "execution_count": 60,
   "id": "7b7d375e-2261-4b89-aed9-67af72315357",
   "metadata": {},
   "outputs": [
    {
     "name": "stdout",
     "output_type": "stream",
     "text": [
      "1 2 3 4 5 6 7\n"
     ]
    }
   ],
   "source": [
    "# براینکه اهمیت ترتیب را کمتر بکنیم بجای آرگز از کیورد آرگز استفده بکنیم\n",
    "\n",
    "class BaseClass:\n",
    "    num_base_cell = 0\n",
    "    \n",
    "    def __init__(self, a, b ,**kwargs):\n",
    "        self.a = a\n",
    "        self.b = b\n",
    "    \n",
    "    def call_me(self):\n",
    "        print(\"call on base class\")\n",
    "        self.num_base_cell += 1\n",
    "\n",
    "        \n",
    "class LeftSubClass(BaseClass):\n",
    "    num_left_cell = 0\n",
    "    \n",
    "    def __init__(self, c, **kwargs):\n",
    "        super().__init__(**kwargs)\n",
    "        self.c = c\n",
    "        \n",
    "    def call_me(self):\n",
    "        super().call_me()\n",
    "        print(\"call on left class\")\n",
    "        self.num_left_cell += 1\n",
    "\n",
    "class RightSubClass(BaseClass):\n",
    "    num_right_cell = 0\n",
    "    \n",
    "    def __init__(self, d, e, f, **kwargs):\n",
    "        super().__init__(**kwargs)\n",
    "        self.d = d\n",
    "        self.e = e\n",
    "        self.f = f\n",
    "        \n",
    "    def call_me(self):\n",
    "        super().call_me()\n",
    "        print(\"call on right class\")\n",
    "        self.num_right_cell += 1\n",
    "\n",
    "        \n",
    "class SubClass(LeftSubClass, RightSubClass):\n",
    "    num_sub_cell = 0\n",
    "    \n",
    "    def __init__(self, g, **kwargs):\n",
    "        super().__init__(**kwargs)\n",
    "        self.g = g\n",
    "        \n",
    "    def call_me(self):\n",
    "        super().call_me()\n",
    "        print(\"call on sub class\")\n",
    "        self.num_sub_cell += 1\n",
    "\n",
    "s = SubClass(a=1, b=2, c=3, d=4, e=5, f=6, g=7)\n",
    "print(s.a, s.b,s.c ,s.d ,s.e ,s.f ,s.g )\n",
    "\n"
   ]
  },
  {
   "cell_type": "markdown",
   "id": "6ca58ff4-f7c6-4682-be39-18ba26462fff",
   "metadata": {},
   "source": [
    "# polymorphism"
   ]
  },
  {
   "cell_type": "raw",
   "id": "9dfdeb9a-f30b-4f52-95ab-099a0f408836",
   "metadata": {},
   "source": [
    "با توجه به تایپ رفتار های متفاوت را انجام میدهد \n",
    "exaple + or len()\n"
   ]
  },
  {
   "cell_type": "code",
   "execution_count": 1,
   "id": "14fa23d5-0ba1-446e-b422-8bfa3b74d109",
   "metadata": {},
   "outputs": [
    {
     "name": "stdout",
     "output_type": "stream",
     "text": [
      "4\n",
      "11\n",
      "2\n"
     ]
    }
   ],
   "source": [
    "print(len([1,2,3,4]))\n",
    "print(len(\"reza dolati\"))\n",
    "print(len({\"a\":2 ,\"b\":3}))"
   ]
  },
  {
   "cell_type": "code",
   "execution_count": 10,
   "id": "01354634-feb0-46b2-8a22-2b7701010ff2",
   "metadata": {},
   "outputs": [
    {
     "name": "stdout",
     "output_type": "stream",
     "text": [
      "meow...\n",
      "hi , i am a cat , my name is jack\n",
      "maa...\n",
      "hi , i am a cow , my name is jan\n",
      "\n",
      "hi , i am a cat , my name is jack\n",
      "meow...\n",
      "hi , i am a cow , my name is jan\n",
      "maa...\n"
     ]
    }
   ],
   "source": [
    "\n",
    "class Cat:\n",
    "    def __init__(self, name=\"\", color=\"\"):\n",
    "        self.name = name\n",
    "        self.color = color\n",
    "        \n",
    "    def info(self):\n",
    "        print(f\"hi , i am a cat , my name is {self.name}\")\n",
    "        \n",
    "    def make_sound(self):\n",
    "        print(\"meow...\")\n",
    "        \n",
    "        \n",
    "class Cow:\n",
    "    def __init__(self, name=\"\", color=\"\"):\n",
    "        self.name = name\n",
    "        self.color = color\n",
    "        \n",
    "    def info(self):\n",
    "        print(f\"hi , i am a cow , my name is {self.name}\")\n",
    "        \n",
    "    def make_sound(self):\n",
    "        print(\"maa...\")\n",
    "        \n",
    "cat = Cat(\"jack\", \"black\")\n",
    "cow = Cow(\"jan\", \"brown\")\n",
    "\n",
    "for animal in [cat , cow]:\n",
    "    animal.make_sound()\n",
    "    animal.info()\n",
    "# همانطور که در حلقه میبینید ما نگران نبودیم آیا متدها در حلقه هر دوتا نام یکسان در دوتا آبجکت وجود دارد و با رفتار مخصوصو خودشان\n",
    "print()\n",
    "\n",
    "def func(obj):\n",
    "    obj.info()\n",
    "    obj.make_sound()\n",
    "func(cat)\n",
    "func(cow)    \n",
    "\n",
    "# در انجا از یک تابع یکسان استفاده میکنیم اما رفتار متفاوت را ملاحظه میکنیم"
   ]
  },
  {
   "cell_type": "code",
   "execution_count": 13,
   "id": "e8be4006-3f11-40de-824f-b1123d23f91e",
   "metadata": {},
   "outputs": [
    {
     "name": "stdout",
     "output_type": "stream",
     "text": [
      "i cant...\n",
      "meow...\n",
      "maa...\n"
     ]
    }
   ],
   "source": [
    "# شایع ترین حالت پلی مورفیسم در ارثبری است\n",
    "\n",
    "class Animal:\n",
    "    def __init__(self, name=\"\", color=\"\"):\n",
    "        self.name = name\n",
    "        self.color = color\n",
    "        \n",
    "    def info(self):\n",
    "        print(f\"hi , i am a animal , my name is {self.name}\")\n",
    "        \n",
    "    def make_sound(self):\n",
    "        print(\"i cant...\")\n",
    "        \n",
    "        \n",
    "    \n",
    "class Cat(Animal):\n",
    "    def __init__(self, name=\"\", color=\"\"):\n",
    "        super().__init__(name, color)\n",
    "        \n",
    "    def info(self):\n",
    "        print(f\"hi , i am a cat , my name is {self.name}\")\n",
    "        \n",
    "    def make_sound(self):\n",
    "        print(\"meow...\")\n",
    "        \n",
    "        \n",
    "class Cow(Animal):\n",
    "    def __init__(self, name=\"\", color=\"\"):\n",
    "        super().__init__(name, color)\n",
    "        \n",
    "    def info(self):\n",
    "        print(f\"hi , i am a cow , my name is {self.name}\")\n",
    "        \n",
    "    def make_sound(self):\n",
    "        print(\"maa...\")\n",
    "        \n",
    "animal = Animal()        \n",
    "cat = Cat(\"jack\", \"black\")\n",
    "cow = Cow(\"jan\", \"brown\")\n",
    "\n",
    "# همانطور که میبینید متد یکسان است اما رفتار متفاوت دارند\n",
    "animal.make_sound()        \n",
    "cat.make_sound()\n",
    "cow.make_sound()\n"
   ]
  },
  {
   "cell_type": "code",
   "execution_count": null,
   "id": "12798c77-52d9-4b79-934b-d22ac5ad90bd",
   "metadata": {},
   "outputs": [],
   "source": []
  }
 ],
 "metadata": {
  "kernelspec": {
   "display_name": "Python 3 (ipykernel)",
   "language": "python",
   "name": "python3"
  },
  "language_info": {
   "codemirror_mode": {
    "name": "ipython",
    "version": 3
   },
   "file_extension": ".py",
   "mimetype": "text/x-python",
   "name": "python",
   "nbconvert_exporter": "python",
   "pygments_lexer": "ipython3",
   "version": "3.10.9"
  }
 },
 "nbformat": 4,
 "nbformat_minor": 5
}
