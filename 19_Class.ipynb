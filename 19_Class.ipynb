{
 "cells": [
  {
   "cell_type": "markdown",
   "id": "fb6f4ecb-d963-498a-b26c-168cef16547c",
   "metadata": {},
   "source": [
    "# mixin"
   ]
  },
  {
   "cell_type": "raw",
   "id": "1cac242c-cbea-4a5c-81ad-a9d0b828866d",
   "metadata": {},
   "source": [
    "یک ابزار جدید نیست بلکه یک الگو است\n",
    "\n",
    "در مبحث شی گرایی و وراثت چندگانه مطرح است\n",
    "\n",
    "کلاسی که شامل متد هاست که کلاس های دیگر این قابلیت را میدهد\n",
    "\n",
    "رابطه میکسین رابطه (است یک) نیست\n",
    "is a\n",
    "\n",
    "هدف ما توسعه عملکرد هاست\n",
    "\n",
    "مث کلاس های دیگر است و بهتره اخر آن کلمه میکسین را اضافه بکنیم و هر کلاسی خواست از آن ارثبری میکند\n",
    "\n",
    "از کلاس های میکسین شی ایجاد نمیکنیم\n",
    "\n",
    "در دو حالت از میکسین استفاده میکنیم\n",
    "۱-تعداد زیادی از قابلیت های اختیاری را برای تعدادی از کلاس ها فراهم بکنیم\n",
    "۲-یک قابلیت خاص وجود دارد که میخاهیم در چند کلاس استفاده بکنیم\n",
    "\n",
    "اگر یکسری قابلیت ها را در کلاس پدر اضافه بکنیم در برخی کلاس ها که نمیخاهیم هم ارثبری میشود برای همین از میکسین استفاده میکنیم\n",
    "\n"
   ]
  },
  {
   "cell_type": "code",
   "execution_count": 6,
   "id": "814e933d-548d-44d6-901d-2a4d6790668b",
   "metadata": {},
   "outputs": [
    {
     "name": "stdout",
     "output_type": "stream",
     "text": [
      "You are conected to wifi\n",
      "playing music\n",
      "\n",
      "playing music\n"
     ]
    }
   ],
   "source": [
    "class WifiMixin:\n",
    "    def connect_to_wifi(self):\n",
    "        print(\"You are conected to wifi\")\n",
    "\n",
    "class MusicMixin:\n",
    "    def play_music(self):\n",
    "        print(\"playing music\")\n",
    "        \n",
    "class Vehicle:\n",
    "    def move(self):\n",
    "        pass\n",
    "    \n",
    "class Car(Vehicle, WifiMixin, MusicMixin):\n",
    "    pass\n",
    "\n",
    "class AirPlane(Vehicle):\n",
    "    pass\n",
    "\n",
    "class MotorCycle(Vehicle, MusicMixin):\n",
    "    pass\n",
    "\n",
    "car = Car()\n",
    "car.connect_to_wifi()\n",
    "car.play_music()\n",
    "\n",
    "print()\n",
    "\n",
    "motor = MotorCycle()\n",
    "motor.play_music()"
   ]
  },
  {
   "cell_type": "markdown",
   "id": "09e88833-7f75-49ee-bd36-2ef0ea061416",
   "metadata": {},
   "source": [
    "# duck typing"
   ]
  },
  {
   "cell_type": "raw",
   "id": "8f64b67f-fe42-4f42-b711-36a434feeb15",
   "metadata": {},
   "source": [
    "ما یک آبجکت را براساس متدها و رفتار آن قضاوت میکنیم نه چیزی که هست\n",
    "\n",
    "\n",
    "\n",
    " "
   ]
  },
  {
   "cell_type": "code",
   "execution_count": 10,
   "id": "44452980-25a7-4f65-a94d-a68a5fce14eb",
   "metadata": {},
   "outputs": [
    {
     "name": "stdout",
     "output_type": "stream",
     "text": [
      "4\n",
      "['__add__', '__class__', '__contains__', '__delattr__', '__dir__', '__doc__', '__eq__', '__format__', '__ge__', '__getattribute__', '__getitem__', '__getnewargs__', '__gt__', '__hash__', '__init__', '__init_subclass__', '__iter__', '__le__', '__len__', '__lt__', '__mod__', '__mul__', '__ne__', '__new__', '__reduce__', '__reduce_ex__', '__repr__', '__rmod__', '__rmul__', '__setattr__', '__sizeof__', '__str__', '__subclasshook__', 'capitalize', 'casefold', 'center', 'count', 'encode', 'endswith', 'expandtabs', 'find', 'format', 'format_map', 'index', 'isalnum', 'isalpha', 'isascii', 'isdecimal', 'isdigit', 'isidentifier', 'islower', 'isnumeric', 'isprintable', 'isspace', 'istitle', 'isupper', 'join', 'ljust', 'lower', 'lstrip', 'maketrans', 'partition', 'removeprefix', 'removesuffix', 'replace', 'rfind', 'rindex', 'rjust', 'rpartition', 'rsplit', 'rstrip', 'split', 'splitlines', 'startswith', 'strip', 'swapcase', 'title', 'translate', 'upper', 'zfill']\n",
      "2\n",
      "['__add__', '__class__', '__class_getitem__', '__contains__', '__delattr__', '__dir__', '__doc__', '__eq__', '__format__', '__ge__', '__getattribute__', '__getitem__', '__getnewargs__', '__gt__', '__hash__', '__init__', '__init_subclass__', '__iter__', '__le__', '__len__', '__lt__', '__mul__', '__ne__', '__new__', '__reduce__', '__reduce_ex__', '__repr__', '__rmul__', '__setattr__', '__sizeof__', '__str__', '__subclasshook__', 'count', 'index']\n",
      "2\n",
      "['__add__', '__class__', '__class_getitem__', '__contains__', '__delattr__', '__delitem__', '__dir__', '__doc__', '__eq__', '__format__', '__ge__', '__getattribute__', '__getitem__', '__gt__', '__hash__', '__iadd__', '__imul__', '__init__', '__init_subclass__', '__iter__', '__le__', '__len__', '__lt__', '__mul__', '__ne__', '__new__', '__reduce__', '__reduce_ex__', '__repr__', '__reversed__', '__rmul__', '__setattr__', '__setitem__', '__sizeof__', '__str__', '__subclasshook__', 'append', 'clear', 'copy', 'count', 'extend', 'index', 'insert', 'pop', 'remove', 'reverse', 'sort']\n",
      "\n"
     ]
    },
    {
     "ename": "TypeError",
     "evalue": "object of type 'int' has no len()",
     "output_type": "error",
     "traceback": [
      "\u001b[0;31m---------------------------------------------------------------------------\u001b[0m",
      "\u001b[0;31mTypeError\u001b[0m                                 Traceback (most recent call last)",
      "Cell \u001b[0;32mIn[10], line 15\u001b[0m\n\u001b[1;32m     11\u001b[0m \u001b[38;5;28mprint\u001b[39m(\u001b[38;5;28mdir\u001b[39m(li))\n\u001b[1;32m     13\u001b[0m \u001b[38;5;28mprint\u001b[39m()\n\u001b[0;32m---> 15\u001b[0m \u001b[38;5;28mprint\u001b[39m(\u001b[38;5;28;43mlen\u001b[39;49m\u001b[43m(\u001b[49m\u001b[38;5;241;43m5\u001b[39;49m\u001b[43m)\u001b[49m)\n\u001b[1;32m     16\u001b[0m \u001b[38;5;28mprint\u001b[39m(\u001b[38;5;28mdir\u001b[39m(\u001b[38;5;241m5\u001b[39m))\n",
      "\u001b[0;31mTypeError\u001b[0m: object of type 'int' has no len()"
     ]
    }
   ],
   "source": [
    "# مثل تابع لن که براش مهم نیست نوع شی نیست تا وقتی که آبجکت متد لن داشته باشد کافی است\n",
    "\n",
    "s = \"reza\"\n",
    "t = (1, 2)\n",
    "li = [3, 4]\n",
    "print(len(s))\n",
    "print(dir(s))\n",
    "print(len(t))\n",
    "print(dir(t))\n",
    "print(len(li))\n",
    "print(dir(li))\n",
    "\n",
    "print()\n",
    "\n",
    "print(len(5))\n",
    "print(dir(5))\n",
    "\n",
    "# گاهی اوقات ممکن است آبجکت آن متد را نداشته باشد\n",
    "# مفاهیمی وجود دارند که با آنها میشود این مشکل را کنترل کرد\n"
   ]
  },
  {
   "cell_type": "code",
   "execution_count": 14,
   "id": "042a87c9-a074-47d2-bf6e-a60c3cdb4dfb",
   "metadata": {},
   "outputs": [
    {
     "name": "stdout",
     "output_type": "stream",
     "text": [
      "sorry...\n",
      "2\n"
     ]
    }
   ],
   "source": [
    "# LBYL -> look before you leap\n",
    "\n",
    "# بی گدار به آب نزدن \n",
    "# اول اندیشه بعد بررسی کن\n",
    "\n",
    "# اول متدی را بررسی بکن وجود داردبعد استفاده بکن\n",
    "\n",
    "def check_len(obj):\n",
    "    # if \"__len__\" in dir(obj):\n",
    "    if hasattr(obj, \"__len__\"):\n",
    "        print(len(obj))\n",
    "    else:\n",
    "        print(\"sorry...\")\n",
    "        \n",
    "check_len(5)\n",
    "check_len([1, 2])\n",
    "\n",
    "# این روش کمی کد را طولانی تر میکند\n"
   ]
  },
  {
   "cell_type": "code",
   "execution_count": 16,
   "id": "3425fb86-b022-4bdb-a3af-4e3a73be2f8f",
   "metadata": {},
   "outputs": [
    {
     "name": "stdout",
     "output_type": "stream",
     "text": [
      "sorry...\n",
      "2\n"
     ]
    }
   ],
   "source": [
    "# EAFP -> its easier to ask for forgiveness than permission\n",
    "\n",
    "# بخشش بهتر از طلب بخشش است\n",
    "\n",
    "# کارت رو انجام بده اگر درست کار نکرد معذرت خاهی بکن\n",
    "\n",
    "def check_len(obj):\n",
    "    try:\n",
    "        print(len(obj))\n",
    "    except TypeError:\n",
    "        print(\"sorry...\")\n",
    "        \n",
    "check_len(5)\n",
    "check_len([1, 2])\n"
   ]
  },
  {
   "cell_type": "code",
   "execution_count": 19,
   "id": "dd7032bb-1c09-4f77-89c0-003a55ec897d",
   "metadata": {},
   "outputs": [
    {
     "name": "stdout",
     "output_type": "stream",
     "text": [
      "2\n",
      "2\n",
      "2\n",
      "None\n"
     ]
    }
   ],
   "source": [
    "d = {\"a\":1, \"b\":2, \"c\":3}\n",
    "\n",
    "if \"b\" in d.keys():\n",
    "    print(d[\"b\"])\n",
    "else:\n",
    "    print(\"sorry...\")\n",
    "    \n",
    "try:\n",
    "    print(d[\"b\"])\n",
    "except:\n",
    "    print(\"sorry...\") \n",
    "    \n",
    "# در دیکشنری میتونیم از گت استفاده بکنیم اگر وجود نداشته باشد نان میدهد\n",
    "\n",
    "print(d.get(\"b\"))\n",
    "print(d.get(\"f\"))"
   ]
  },
  {
   "cell_type": "code",
   "execution_count": 21,
   "id": "daf27ea5-c669-4c1c-9ff3-993d2184ee50",
   "metadata": {},
   "outputs": [
    {
     "name": "stdout",
     "output_type": "stream",
     "text": [
      "I am swimming...\n",
      "I am walking...\n",
      "I am flying...\n"
     ]
    }
   ],
   "source": [
    "class Duck:\n",
    "    def move(self):\n",
    "        print(\"I am swimming...\")\n",
    "        \n",
    "class Person:\n",
    "    def move(self):\n",
    "        print(\"I am walking...\")\n",
    "        \n",
    "class Plane:\n",
    "    def move(self):\n",
    "        print(\"I am flying...\")\n",
    "        \n",
    "def func(obj):\n",
    "    obj.move()\n",
    "    \n",
    "#  تا زمانیکه رفتار ماشبهی انجام میدهند برای ما مهم نیست و رفتار آنها مهم است که همان متد موو که در همه وجود دارد است \n",
    "d = Duck()\n",
    "h = Person()\n",
    "p = Plane()\n",
    "\n",
    "func(d)\n",
    "func(h)\n",
    "func(p)\n"
   ]
  },
  {
   "cell_type": "code",
   "execution_count": 30,
   "id": "7233df7d-dfc8-49dc-8df7-17a21be6ff95",
   "metadata": {},
   "outputs": [
    {
     "name": "stdout",
     "output_type": "stream",
     "text": [
      "{'name': 'ali', 'age': 12}\n"
     ]
    }
   ],
   "source": [
    "# __dict__\n",
    "\n",
    "# پراپرتی های آبجکت را بصورت دیکشنری نمایش میدهد\n",
    "\n",
    "class Person:\n",
    "    def __init__(self, **kwargs):\n",
    "        for key , value in kwargs.items():\n",
    "            setattr(self, key , value)\n",
    "            \n",
    "p = Person(name=\"ali\", age=12)\n",
    "\n",
    "print(p.__dict__)"
   ]
  },
  {
   "cell_type": "markdown",
   "id": "49118d09-9f85-4a3c-a1fa-fe3f14343dae",
   "metadata": {},
   "source": [
    "# call"
   ]
  },
  {
   "cell_type": "raw",
   "id": "ec129161-cd0c-4cfd-af69-9968ce7edd59",
   "metadata": {},
   "source": [
    "در واقع توابع یک نوع آبجکتی هستند که قابلیت فراخوانی دارند\n",
    "\n",
    "یکسری آبجکتها قابلیت فراخوانی ندارند ام یکسری دارند\n",
    "\n"
   ]
  },
  {
   "cell_type": "code",
   "execution_count": 31,
   "id": "9bec77f0-47c5-4ab5-b179-0d58a7d3d7c0",
   "metadata": {},
   "outputs": [
    {
     "name": "stdout",
     "output_type": "stream",
     "text": [
      "False\n",
      "True\n",
      "True\n"
     ]
    }
   ],
   "source": [
    "def func():\n",
    "    pass\n",
    "\n",
    "class A:\n",
    "    pass\n",
    "\n",
    "x = 5\n",
    "\n",
    "# از کجا بفهمیم یک آبجکت قابلیت فراخوانی دارد یا ن\n",
    "\n",
    "print(callable(x))\n",
    "print(callable(func))\n",
    "print(callable(A))"
   ]
  },
  {
   "cell_type": "code",
   "execution_count": 32,
   "id": "db46a9bf-e250-496d-a9b7-c0296ff1d95a",
   "metadata": {},
   "outputs": [
    {
     "name": "stdout",
     "output_type": "stream",
     "text": [
      "True\n",
      "False\n"
     ]
    }
   ],
   "source": [
    "class A:\n",
    "    pass\n",
    "\n",
    "a = A()\n",
    "\n",
    "# درسته که کلاس قابل فراخوانی است اما آبجکت قابل فراخوانی نیست\n",
    "print(callable(A))\n",
    "print(callable(a))\n"
   ]
  },
  {
   "cell_type": "code",
   "execution_count": 37,
   "id": "62884040-b422-4e02-b753-9b3614eb04da",
   "metadata": {},
   "outputs": [
    {
     "name": "stdout",
     "output_type": "stream",
     "text": [
      "init\n",
      "call\n",
      "5\n"
     ]
    }
   ],
   "source": [
    "# یکسری آبجکت ها را میخاهیم بنویسیم که قابلیت فراخوانی دارند\n",
    "# __call__\n",
    "\n",
    "class A:\n",
    "    def __init__(self, x):\n",
    "        print(\"init\")\n",
    "        self.x = x\n",
    "        \n",
    "    def __call__(self, z):\n",
    "        print(\"call\")\n",
    "        self.z = z\n",
    "\n",
    "a = A(2)\n",
    "\n",
    "a(5)\n",
    "print(a.z)\n",
    "\n",
    "# وقتی کاربرد دارد که میخاهیم دوباره مقداردهی بکنیم مثل اینیت"
   ]
  },
  {
   "cell_type": "markdown",
   "id": "bdf05d74-c65f-4f11-8971-8babb5b561c2",
   "metadata": {},
   "source": [
    "# type of methods in class"
   ]
  },
  {
   "cell_type": "code",
   "execution_count": 48,
   "id": "21740a99-ae27-41ab-957c-56ccd06743fa",
   "metadata": {},
   "outputs": [
    {
     "name": "stdout",
     "output_type": "stream",
     "text": [
      "'name : reza , product : phone , description : good'\n",
      "\n",
      "website : www.amir.ir\n"
     ]
    }
   ],
   "source": [
    "from datetime import datetime\n",
    "from pprint import pprint\n",
    "\n",
    "class Product:\n",
    "    def __init__(self, product_name, price, off):\n",
    "        self.product_name = product_name\n",
    "        self.price = price\n",
    "        self.off = off\n",
    "        \n",
    "    def __str__(self):\n",
    "        return self.product_name\n",
    "        \n",
    "class Comment:\n",
    "    website_name = \"www.amir.ir\"\n",
    "    \n",
    "    def __init__(self, product, name, description):\n",
    "        self.product = product\n",
    "        self.name = name\n",
    "        self.description = description\n",
    "        self.data = datetime.now()\n",
    "    # instance method\n",
    "    def show(self):\n",
    "        pprint(f\"name : {self.name} , product : {self.product} , description : {self.description}\")\n",
    "        \n",
    "    # class method\n",
    "    @classmethod\n",
    "    def info(cls):\n",
    "        print(f\"website : {cls.website_name}\")\n",
    "\n",
    "\n",
    "# instance methodes\n",
    "# به اینها اینستنس متد میگویند یعنی متد آبجکت\n",
    "# رایج ترین متدها\n",
    "# لازم نیست برای تعریف آنها از دکرتور استفاده بکنیم\n",
    "# برای دستیابی و استفاده از اینستنس اتریبیوت ها استفده میشه\n",
    "# باید خود آبجکت (سلف) را بگیرند تا بتوانند روی آن تغییر دهند\n",
    "\n",
    "# class methodes\n",
    "# به آبجکت و اتریبیوت های آن دسترسی ندراند\n",
    "# به کلاس اتریبیوت ها دسترسی دارند\n",
    "# قبل آن از این دکرتور استفاده میکنیم\n",
    "# @classmethod\n",
    "# با سی ال اس ما به خود کلاس دسترسی داریم نه اتریبیوت ها آبجکت و به خود کلاس اشاره میکند\n",
    "# cls\n",
    "\n",
    "\n",
    "\n",
    "phone = Product(\"phone\", 0, 0)\n",
    "c1 = Comment(phone, \"reza\", \"good\")\n",
    "c1.show()\n",
    "\n",
    "print()\n",
    "\n",
    "Comment.info()"
   ]
  },
  {
   "cell_type": "code",
   "execution_count": 54,
   "id": "b546acad-4e50-47b0-bddd-54d0c4e4c15f",
   "metadata": {},
   "outputs": [
    {
     "name": "stdout",
     "output_type": "stream",
     "text": [
      "'name : reza , product : phone , description : good'\n",
      "----------------------------------------\n",
      "the comment was censored!!!\n",
      "'name : reza , product : phone , description : what ****'\n"
     ]
    }
   ],
   "source": [
    "# یک نوع دیگر از کلاس متد کارکرد متفاوت دارد و آبجکت ایجاد میکند\n",
    "# قبل آن میتونیم یکسری تغییرات در ورودی آنها بدهیم\n",
    "\n",
    "from datetime import datetime\n",
    "from pprint import pprint\n",
    "\n",
    "class Product:\n",
    "    def __init__(self, product_name, price, off):\n",
    "        self.product_name = product_name\n",
    "        self.price = price\n",
    "        self.off = off\n",
    "        \n",
    "    def __str__(self):\n",
    "        return self.product_name\n",
    "        \n",
    "class Comment:\n",
    "    website_name = \"www.amir.ir\"\n",
    "    \n",
    "    def __init__(self, product, name, description):\n",
    "        self.product = product\n",
    "        self.name = name\n",
    "        self.description = description\n",
    "        self.data = datetime.now()\n",
    "    \n",
    "    def show(self):\n",
    "        pprint(f\"name : {self.name} , product : {self.product} , description : {self.description}\")\n",
    "        \n",
    "    @classmethod\n",
    "    def info(cls):\n",
    "        print(f\"website : {cls.website_name}\")\n",
    "    \n",
    "    @classmethod\n",
    "    def cesorship(cls, product, name, description):\n",
    "        print(\"the comment was censored!!!\")\n",
    "        sc = description.replace(\"slutty\" , \"****\")\n",
    "        return cls(product, name, sc)\n",
    "    # زیرا کلاس گرفته میتونه از همان آبجکت ایجاد بکنه\n",
    "\n",
    "    \n",
    "phone = Product(\"phone\", 0, 0)\n",
    "c1 = Comment(phone, \"reza\", \"good\")\n",
    "c1.show()\n",
    "print(\"-\" * 40)\n",
    "c2 = Comment.cesorship(phone, \"reza\", \"what slutty\")\n",
    "c2.show()\n"
   ]
  },
  {
   "cell_type": "code",
   "execution_count": 58,
   "id": "1ef7a669-be03-4465-9c7c-ccde693acc4b",
   "metadata": {},
   "outputs": [
    {
     "name": "stdout",
     "output_type": "stream",
     "text": [
      "'name : reza , product : phone , description : good'\n",
      "----------------------------------------\n",
      "the comment was censored!!!\n",
      "'name : reza , product : phone , description : what ****'\n",
      "-55\n"
     ]
    }
   ],
   "source": [
    "# static methods\n",
    "# نه به آبجکت کار داره نه به کلاس اما نیاز به آن در کلاس داریم\n",
    "# اگر قراره چنتا کلاس مختلف از آن استفاده بکنند همین بیرن کلاس تعریف کینم\n",
    "# ورودی اجباری مثل متد های دیگر ندارد\n",
    "# هم میتونیم داخل کلاس بنویسیم و هم خارجش\n",
    "# وقتی داخل کلاس استفاده میکنیم باید از دکرتور استاتیک متد استفاده بکنیم و اینکه برای فراخوانی از اسم کلاس یا آبجکت استفاده بکنیم\n",
    "# @staticmethod\n",
    "\n",
    "from datetime import datetime\n",
    "from time import sleep\n",
    "\n",
    "class Product:\n",
    "    def __init__(self, product_name, price, off):\n",
    "        self.product_name = product_name\n",
    "        self.price = price\n",
    "        self.off = off\n",
    "        \n",
    "    def __str__(self):\n",
    "        return self.product_name\n",
    "        \n",
    "class Comment:\n",
    "    website_name = \"www.amir.ir\"\n",
    "    \n",
    "    def __init__(self, product, name, description):\n",
    "        self.product = product\n",
    "        self.name = name\n",
    "        self.description = description\n",
    "        self.data = datetime.now().second\n",
    "    \n",
    "    def show(self):\n",
    "        pprint(f\"name : {self.name} , product : {self.product} , description : {self.description}\")\n",
    "        \n",
    "    @classmethod\n",
    "    def info(cls):\n",
    "        print(f\"website : {cls.website_name}\")\n",
    "    \n",
    "    @classmethod\n",
    "    def cesorship(cls, product, name, description):\n",
    "        print(\"the comment was censored!!!\")\n",
    "        sc = description.replace(\"slutty\" , \"****\")\n",
    "        return cls(product, name, sc)\n",
    "    \n",
    "    # static method \n",
    "    @staticmethod\n",
    "    def elapsed_time(time):\n",
    "        sleep(5)\n",
    "        print(datetime.now().second - time)\n",
    "    \n",
    "\n",
    "    \n",
    "phone = Product(\"phone\", 0, 0)\n",
    "c1 = Comment(phone, \"reza\", \"good\")\n",
    "c1.show()\n",
    "print(\"-\" * 40)\n",
    "c2 = Comment.cesorship(phone, \"reza\", \"what slutty\")\n",
    "c2.show()\n",
    "\n",
    "c2.elapsed_time(c2.data)"
   ]
  },
  {
   "cell_type": "code",
   "execution_count": 62,
   "id": "929b8f7a-76f8-42e7-b819-41ea2fed5464",
   "metadata": {},
   "outputs": [
    {
     "name": "stdout",
     "output_type": "stream",
     "text": [
      "the comment was censored!!!\n",
      "'name : reza , product : phone , description : what ****'\n",
      "2 days, 2:00:00.000304\n"
     ]
    }
   ],
   "source": [
    "# timedelta\n",
    "# برای گذشتن زمان استفاده میکنیم\n",
    "\n",
    "from datetime import datetime ,timedelta\n",
    "\n",
    "class Product:\n",
    "    def __init__(self, product_name, price, off):\n",
    "        self.product_name = product_name\n",
    "        self.price = price\n",
    "        self.off = off\n",
    "        \n",
    "    def __str__(self):\n",
    "        return self.product_name\n",
    "        \n",
    "class Comment:\n",
    "    website_name = \"www.amir.ir\"\n",
    "    \n",
    "    def __init__(self, product, name, description):\n",
    "        self.product = product\n",
    "        self.name = name\n",
    "        self.description = description\n",
    "        self.data = datetime.now()\n",
    "    \n",
    "    def show(self):\n",
    "        pprint(f\"name : {self.name} , product : {self.product} , description : {self.description}\")\n",
    "        \n",
    "    @classmethod\n",
    "    def info(cls):\n",
    "        print(f\"website : {cls.website_name}\")\n",
    "    \n",
    "    @classmethod\n",
    "    def cesorship(cls, product, name, description):\n",
    "        print(\"the comment was censored!!!\")\n",
    "        sc = description.replace(\"slutty\" , \"****\")\n",
    "        return cls(product, name, sc)\n",
    "    \n",
    "    # static method \n",
    "    @staticmethod\n",
    "    def elapsed_time(time):\n",
    "        print(datetime.now() - time)\n",
    "    \n",
    "\n",
    "    \n",
    "phone = Product(\"phone\", 0, 0)\n",
    "c2 = Comment.cesorship(phone, \"reza\", \"what slutty\")\n",
    "c2.show()\n",
    "\n",
    "c2.elapsed_time(c2.data - timedelta(days=2 , hours=2))"
   ]
  },
  {
   "cell_type": "code",
   "execution_count": 63,
   "id": "fb357c35-d88f-41cc-9cd4-3ca44e6b4f8a",
   "metadata": {},
   "outputs": [
    {
     "name": "stdout",
     "output_type": "stream",
     "text": [
      "['__class__', '__delattr__', '__dict__', '__dir__', '__doc__', '__eq__', '__format__', '__ge__', '__getattribute__', '__gt__', '__hash__', '__init__', '__init_subclass__', '__le__', '__lt__', '__module__', '__ne__', '__new__', '__reduce__', '__reduce_ex__', '__repr__', '__setattr__', '__sizeof__', '__str__', '__subclasshook__', '__weakref__', 'cesorship', 'elapsed_time', 'info', 'show', 'website_name']\n"
     ]
    }
   ],
   "source": [
    "# ارث بری متدها\n",
    "# همه نوع متدها ارثبری میشوند\n",
    "\n",
    "from datetime import datetime\n",
    "from time import sleep\n",
    "\n",
    "class Product:\n",
    "    def __init__(self, product_name, price, off):\n",
    "        self.product_name = product_name\n",
    "        self.price = price\n",
    "        self.off = off\n",
    "        \n",
    "    def __str__(self):\n",
    "        return self.product_name\n",
    "        \n",
    "class Comment:\n",
    "    website_name = \"www.amir.ir\"\n",
    "    \n",
    "    def __init__(self, product, name, description):\n",
    "        self.product = product\n",
    "        self.name = name\n",
    "        self.description = description\n",
    "        self.data = datetime.now().second\n",
    "    \n",
    "    def show(self):\n",
    "        pprint(f\"name : {self.name} , product : {self.product} , description : {self.description}\")\n",
    "        \n",
    "    @classmethod\n",
    "    def info(cls):\n",
    "        print(f\"website : {cls.website_name}\")\n",
    "    \n",
    "    @classmethod\n",
    "    def cesorship(cls, product, name, description):\n",
    "        print(\"the comment was censored!!!\")\n",
    "        sc = description.replace(\"slutty\" , \"****\")\n",
    "        return cls(product, name, sc)\n",
    "    \n",
    "    # static method \n",
    "    @staticmethod\n",
    "    def elapsed_time(time):\n",
    "        sleep(5)\n",
    "        print(datetime.now().second - time)\n",
    "        \n",
    "class A(Comment):\n",
    "    pass\n",
    "\n",
    "    \n",
    "print(dir(A))\n"
   ]
  },
  {
   "cell_type": "markdown",
   "id": "c9a4d132-8026-40bd-80de-db62bfb82efd",
   "metadata": {},
   "source": [
    "# setter getter property"
   ]
  },
  {
   "cell_type": "markdown",
   "id": "337e5444-3a37-4e90-86d4-61c4377a263d",
   "metadata": {},
   "source": [
    "نباید دسترسی کامل به یکسری از پراپرتی ها داشت براینکه:\n",
    "    امنیت به خطر میافته-\n",
    "    اعتبار سنجی بکنیم قبل از تغییر مقدار\n",
    "\n",
    "برای همین از ستتر و گتتر استفاده میکنیم\n",
    "\n",
    "از توابع برای تغییر و ملاحظه مقدار آنها استفاده میکنیم\n",
    "\n"
   ]
  },
  {
   "cell_type": "code",
   "execution_count": 102,
   "id": "dfb5428e-a107-4bad-ba57-f6f8763e2676",
   "metadata": {},
   "outputs": [
    {
     "name": "stdout",
     "output_type": "stream",
     "text": [
      "light blue\n",
      "blue\n",
      "red\n",
      "blue\n"
     ]
    }
   ],
   "source": [
    "class Color:\n",
    "    def __init__(self, rgb, name):\n",
    "        self._rgb = rgb\n",
    "        if name:\n",
    "            self._name = name\n",
    "        else:\n",
    "            raise ValueError(f\"Invalid name {name!r}\")\n",
    "        \n",
    "    def set_name(self, name):\n",
    "        if name:\n",
    "            self._name = name\n",
    "        else:\n",
    "            raise ValueError(f\"Invalid name {name!r}\")\n",
    "        \n",
    "    def get_name(self):\n",
    "        return self._name\n",
    "    \n",
    "    def set_rgb(self, rgb):\n",
    "        self._rgb = rgb\n",
    "        \n",
    "    def get_rgb(self):\n",
    "        return self._rgb\n",
    " \n",
    "c1 = Color(0x6783f5, \"light blue\")\n",
    "print(c1.get_name())\n",
    "c1.set_name(\"blue\")\n",
    "print(c1.get_name())\n",
    "\n",
    "c2 = Color(0x7963f5, \"red\")\n",
    "print(c2._name)\n",
    "c2._name = \"blue\"\n",
    "print(c2._name)\n",
    "\n",
    "# چنتا مشکل دارد اینکه خوانایی کاهش میابد\n",
    "# اول ماژول بصورت مستقیم به پراپرتی دسترسی داشته باشد اما بعدها از ستتر و گتتر استفاده بکنیم تغییر کد ها مشکل است\n"
   ]
  },
  {
   "cell_type": "code",
   "execution_count": 104,
   "id": "b2cb952e-b86b-409d-9cfa-0c3fe904033f",
   "metadata": {},
   "outputs": [
    {
     "name": "stdout",
     "output_type": "stream",
     "text": [
      "set name\n",
      "red\n",
      "set name\n",
      "blue\n"
     ]
    }
   ],
   "source": [
    "# property\n",
    "# ابتدا ستتر و گتتر ها را بصورت خصوصی در میاوریم\n",
    "# از نام کلیدی پراپرتی استفاده میکنیم و گتتر و ستتر ها را بعنوان ورودی به آنها میدهیم\n",
    "# در این روش نیازه به اعتبار سنجی درموقع اعتبار دهی اولیه هم نیست\n",
    "# باعث میشه توابعی را نوشت و مثل اتریبیوت از آن استفاده کر\n",
    "# مقدار دهی اولیه را به همان شکل ساده و ابتدایی مینویسیم\n",
    "# در مقدار دهی اولیه مستقیما تابع اینیت پراپرتی ها را ست نمیکند بلکه از ستتر استفاده میکند\n",
    "\n",
    "\n",
    "class Color:\n",
    "    def __init__(self, rgb, name):\n",
    "        self.rgb = rgb\n",
    "        self.name = name\n",
    "        \n",
    "    def _set_name(self, name):\n",
    "        print(\"set name\")\n",
    "        if name:\n",
    "            self._name = name\n",
    "        else:\n",
    "            raise ValueError(f\"Invalid name {name!r}\")\n",
    "        \n",
    "    def _get_name(self):\n",
    "        # همینطور که میبینید در ستتر اندراسکور را ست کرد پس همین اندر اسکور نیم را برمیگرداند\n",
    "        return self._name\n",
    "    \n",
    "    def _set_rgb(self, rgb):\n",
    "        self._rgb = rgb\n",
    "        \n",
    "    def _get_rgb(self):\n",
    "        return self._rgb\n",
    "    \n",
    "    # این نیم یک واسطه است که باعث میشه اندراسکور نیم مقدار دهی شود\n",
    "    name = property(_get_name, _set_name)\n",
    "    \n",
    "    rgb = property(_get_rgb, _set_rgb)\n",
    "    \n",
    "\n",
    "\n",
    "c = Color(0x7963f5, \"red\")\n",
    "print(c.name)\n",
    "c.name = \"blue\"\n",
    "print(c.name)"
   ]
  },
  {
   "cell_type": "markdown",
   "id": "eb7fee62-7f86-48e6-b98b-dfb3d3216337",
   "metadata": {},
   "source": [
    "# property - decorator"
   ]
  },
  {
   "cell_type": "raw",
   "id": "1e77b999-862a-4028-a462-f7b0141a4818",
   "metadata": {},
   "source": [
    "پراپرتی در واع یک کلاس داخلی پایتون است\n",
    "\n",
    "ورودی های پراپرتی :(به ترتیب)\n",
    "getter\n",
    "setter\n",
    "\n",
    "class property(fget=None, fset=None, fdel=none, doc=None)\n",
    "\n",
    "fdel\n",
    "زمانیکه آبجکت میخاد حذف بشه\n",
    "\n",
    "doc\n",
    "داک استرینگ اگر براش داک تعیین نکنیم از داک متد گت استفاده میکند\n",
    "\n",
    "اگر مثلا گتتر را ندهیم یا ستتر را ندهیم آن قابلیت ازش برداشته میشود\n",
    "\n"
   ]
  },
  {
   "cell_type": "code",
   "execution_count": 4,
   "id": "c2d6fedf-fb2d-429e-8241-2e2016e81d63",
   "metadata": {},
   "outputs": [
    {
     "name": "stdout",
     "output_type": "stream",
     "text": [
      "Help on Color in module __main__ object:\n",
      "\n",
      "class Color(builtins.object)\n",
      " |  Color(rgb, name)\n",
      " |  \n",
      " |  Methods defined here:\n",
      " |  \n",
      " |  __init__(self, rgb, name)\n",
      " |      Initialize self.  See help(type(self)) for accurate signature.\n",
      " |  \n",
      " |  ----------------------------------------------------------------------\n",
      " |  Data descriptors defined here:\n",
      " |  \n",
      " |  __dict__\n",
      " |      dictionary for instance variables (if defined)\n",
      " |  \n",
      " |  __weakref__\n",
      " |      list of weak references to the object (if defined)\n",
      " |  \n",
      " |  name\n",
      " |      new doc\n",
      "\n",
      "5\n",
      "deleting...\n"
     ]
    }
   ],
   "source": [
    "\n",
    "\n",
    "class Color:\n",
    "    def __init__(self, rgb, name):\n",
    "        self.rgb = rgb\n",
    "        self.name = name\n",
    "        \n",
    "    def _set_name(self, name):\n",
    "        if name:\n",
    "            self._name = name\n",
    "        else:\n",
    "            raise ValueError(f\"Invalid name {name!r}\")\n",
    "        \n",
    "    def _get_name(self):\n",
    "        return self._name\n",
    "    \n",
    "    def _del_name(self):\n",
    "        print(\"deleting...\")\n",
    "        del self._name\n",
    "    \n",
    "    name = property(_get_name, _set_name, _del_name, \"new doc\")\n",
    "    \n",
    "c = Color(0x254564, \"red\")\n",
    "c.name = 5\n",
    "help(c)\n",
    "print(c.name)\n",
    "del c.name\n",
    "\n"
   ]
  },
  {
   "cell_type": "code",
   "execution_count": 7,
   "id": "27dedf0b-63f2-4823-a1d4-5dcbfa587e3d",
   "metadata": {},
   "outputs": [
    {
     "name": "stdout",
     "output_type": "stream",
     "text": [
      "Help on Color in module __main__ object:\n",
      "\n",
      "class Color(builtins.object)\n",
      " |  Color(rgb, name)\n",
      " |  \n",
      " |  Methods defined here:\n",
      " |  \n",
      " |  __init__(self, rgb, name)\n",
      " |      Initialize self.  See help(type(self)) for accurate signature.\n",
      " |  \n",
      " |  ----------------------------------------------------------------------\n",
      " |  Data descriptors defined here:\n",
      " |  \n",
      " |  __dict__\n",
      " |      dictionary for instance variables (if defined)\n",
      " |  \n",
      " |  __weakref__\n",
      " |      list of weak references to the object (if defined)\n",
      " |  \n",
      " |  name\n",
      " |      !!!!!\n",
      " |      good job\n",
      " |      !!!!!\n",
      "\n",
      "5\n",
      "deleting...\n"
     ]
    }
   ],
   "source": [
    "# روش دیگر نوشتن\n",
    "\n",
    "class Color:\n",
    "    def __init__(self, rgb, name):\n",
    "        self.rgb = rgb\n",
    "        self.name = name\n",
    "        \n",
    "    def _set_name(self, name):\n",
    "        if name:\n",
    "            self._name = name\n",
    "        else:\n",
    "            raise ValueError(f\"Invalid name {name!r}\")\n",
    "        \n",
    "    def _get_name(self):\n",
    "        # برای نوشتن داک هم میتونیم برای گتتر داک بنویسیم \n",
    "        \"\"\"\n",
    "        !!!!!\n",
    "        good job\n",
    "        !!!!!\n",
    "        \"\"\"\n",
    "        return self._name\n",
    "    \n",
    "    def _del_name(self):\n",
    "        print(\"deleting...\")\n",
    "        del self._name\n",
    "    \n",
    "    # نیم را ابتدا تبدیل به یک پراپرتی میکنیم و در چنین حالتی گتتر و ستتر خاهد داشت\n",
    "    name = property()\n",
    "    name = name.setter(_set_name)\n",
    "    name = name.getter(_get_name)\n",
    "    name = name.deleter(_del_name)\n",
    "    \n",
    "    \n",
    "c = Color(0x254564, \"red\")\n",
    "c.name = 5\n",
    "help(c)\n",
    "print(c.name)\n",
    "del c.name    \n",
    "    "
   ]
  },
  {
   "cell_type": "code",
   "execution_count": 12,
   "id": "d4cd1dd5-a011-4ab6-860e-818ccbc25a37",
   "metadata": {},
   "outputs": [
    {
     "name": "stdout",
     "output_type": "stream",
     "text": [
      "Help on Color in module __main__ object:\n",
      "\n",
      "class Color(builtins.object)\n",
      " |  Color(rgb, name)\n",
      " |  \n",
      " |  Methods defined here:\n",
      " |  \n",
      " |  __init__(self, rgb, name)\n",
      " |      Initialize self.  See help(type(self)) for accurate signature.\n",
      " |  \n",
      " |  ----------------------------------------------------------------------\n",
      " |  Data descriptors defined here:\n",
      " |  \n",
      " |  __dict__\n",
      " |      dictionary for instance variables (if defined)\n",
      " |  \n",
      " |  __weakref__\n",
      " |      list of weak references to the object (if defined)\n",
      " |  \n",
      " |  name\n",
      " |      !!!!!\n",
      " |      good job\n",
      " |      !!!!!\n",
      "\n",
      "5\n",
      "deleting...\n"
     ]
    }
   ],
   "source": [
    "# استفاده از دکورتور در تعریف پراپرتی\n",
    "# از دکورتور ها در توابع ستتر و گتتر دلیتر استفاده میکنیم\n",
    "# و توابع گتتر و ستتر و دلیتتر را همنام پراپرتی قرار میدهیم\n",
    "\n",
    "class Color:\n",
    "    def __init__(self, rgb, name):\n",
    "        self.rgb = rgb\n",
    "        self.name = name\n",
    "    \n",
    "    @property \n",
    "    def name(self):\n",
    "        # برای نوشتن داک هم میتونیم برای گتتر داک بنویسیم \n",
    "        \"\"\"\n",
    "        !!!!!\n",
    "        good job\n",
    "        !!!!!\n",
    "        \"\"\"\n",
    "        return self._name\n",
    "    \n",
    "    @name.setter\n",
    "    def name(self, name):\n",
    "        if name:\n",
    "            self._name = name\n",
    "        else:\n",
    "            raise ValueError(f\"Invalid name {name!r}\")\n",
    "    \n",
    "    @name.deleter\n",
    "    def name(self):\n",
    "        print(\"deleting...\")\n",
    "        del self._name\n",
    "    \n",
    "    \n",
    "c = Color(0x254564, \"red\")\n",
    "c.name = 5\n",
    "help(c)\n",
    "print(c.name)\n",
    "del c.name    \n"
   ]
  },
  {
   "cell_type": "raw",
   "id": "68220ccd-06b9-4e1e-868e-a6303945e582",
   "metadata": {},
   "source": [
    "کی باید از پراپرتی استفاده بکنیم کی اتریبیوت معمولی بنویسیم؟\n",
    "\n",
    "تابع را زمانی استفده بکنید که قرار است یک عمل یک اقدام صورت بگیره\n",
    "\n",
    "زمانی بخاهیم یک صفت یک توصیف داشته باشیم از پراپرتی استفاده میکنیم که قرار است یک تغییراتی روی آن بدهیم یا اعتبار سنجی بکنیم\n",
    "\n",
    "\n"
   ]
  },
  {
   "cell_type": "code",
   "execution_count": 14,
   "id": "fdd9569d-7122-44a3-8848-34cb35854abf",
   "metadata": {},
   "outputs": [
    {
     "name": "stdout",
     "output_type": "stream",
     "text": [
      "[1, 2, 3]\n",
      "2.0\n"
     ]
    }
   ],
   "source": [
    "# میخاهیم یک لیست با قابلیت محاسبه میانگین درست بکنیم\n",
    "\n",
    "class NewList(list):\n",
    "    @property\n",
    "    def ave(self):\n",
    "        return sum(self)/len(self)\n",
    "\n",
    "li = NewList((1, 2, 3))\n",
    "print(li)\n",
    "print(li.ave)"
   ]
  },
  {
   "cell_type": "markdown",
   "id": "38fdde14-752e-4154-9f15-10f00e3d6d95",
   "metadata": {},
   "source": [
    "# implementation - composition - aggregation"
   ]
  },
  {
   "cell_type": "raw",
   "id": "cf49654c-8c06-45de-bd9a-7d0dcecfed16",
   "metadata": {},
   "source": [
    "روابط مربوط به ترکیب\n",
    "\n",
    "رابطه\n",
    "has a\n",
    "\n",
    "این یک مفهوم است و سینتکس خاصی ندارد\n",
    "\n",
    "دیدگاه ما ممکن است نسبت به نوع پیاده سازی متفاوت باشد\n",
    "\n"
   ]
  },
  {
   "cell_type": "code",
   "execution_count": 19,
   "id": "f8b9591d-0770-4b32-aae7-e4dcc0c36844",
   "metadata": {},
   "outputs": [
    {
     "name": "stdout",
     "output_type": "stream",
     "text": [
      "what is your name?\n",
      "['reza', 'ali']\n"
     ]
    },
    {
     "ename": "NameError",
     "evalue": "name 'e' is not defined",
     "output_type": "error",
     "traceback": [
      "\u001b[0;31m---------------------------------------------------------------------------\u001b[0m",
      "\u001b[0;31mNameError\u001b[0m                                 Traceback (most recent call last)",
      "Cell \u001b[0;32mIn[19], line 22\u001b[0m\n\u001b[1;32m     20\u001b[0m \u001b[38;5;66;03m# با حذف آبجکت سوال هم به تنهایی معنایی ندارد\u001b[39;00m\n\u001b[1;32m     21\u001b[0m \u001b[38;5;28;01mdel\u001b[39;00m e\n\u001b[0;32m---> 22\u001b[0m \u001b[38;5;28mprint\u001b[39m(\u001b[43me\u001b[49m\u001b[38;5;241m.\u001b[39mquestion)\n",
      "\u001b[0;31mNameError\u001b[0m: name 'e' is not defined"
     ]
    }
   ],
   "source": [
    "# composition\n",
    "# به یکدیگر وابستگی شدید دارند\n",
    "# برای اینکه نشان دهیم وابستگی شدید دارند در خود کلاس آبجکت را ایجاد میکنیم\n",
    "\n",
    "class Question:\n",
    "    def __init__(self, q:str, a:list):\n",
    "        self.q = q\n",
    "        self.a = a\n",
    "        \n",
    "class ExamPaper:\n",
    "    def __init__(self):\n",
    "        self.question = Question(\"what is your name?\", [\"reza\", \"ali\"])\n",
    "        \n",
    "    def __str__(self):\n",
    "        return f\"{self.question.q}\\n{self.question.a}\"\n",
    "  \n",
    "e = ExamPaper()\n",
    "print(e)\n",
    "\n",
    "# با حذف آبجکت سوال هم به تنهایی معنایی ندارد\n",
    "del e\n",
    "print(e.question)"
   ]
  },
  {
   "cell_type": "code",
   "execution_count": 23,
   "id": "721d3f93-e666-4ba6-b983-ab21b6e28881",
   "metadata": {},
   "outputs": [
    {
     "name": "stdout",
     "output_type": "stream",
     "text": [
      "naser: 14\n",
      "mahsa: 13\n"
     ]
    }
   ],
   "source": [
    "# aggregation\n",
    "# وابستگی زیادی بهم ندارند و بدون هم نیز میتواندد وجود داشته باشند\n",
    "# همانطور که میبینید داخل کلاس بزرگتر ایجاد نکردیم زیرا بدون دانشگاه نیز معنا دارد\n",
    "\n",
    "\n",
    "class student:\n",
    "    def __init__(self, name, number):\n",
    "        self.name = name\n",
    "        self.number = number \n",
    "        \n",
    "    def __str__(self):\n",
    "        return f\"{self.name}: {self.number}\"\n",
    "        \n",
    "class University:\n",
    "    def __init__(self, students:list[student]):\n",
    "        self.students = students\n",
    "        \n",
    "st = [student(\"naser\", \"14\"), student(\"mahsa\", \"13\")]\n",
    "university = University(st)\n",
    "\n",
    "for s in university.students:\n",
    "    print(s)\n",
    "\n"
   ]
  },
  {
   "cell_type": "markdown",
   "id": "59e0fba0-f9db-4089-816d-134e49c26b5d",
   "metadata": {},
   "source": [
    "# meta class"
   ]
  },
  {
   "cell_type": "raw",
   "id": "2ad75453-7ade-43c1-b8da-8aaf2543965a",
   "metadata": {},
   "source": [
    "در موقع تعریف کلاس به دو نکته باید توجه کرد:\n",
    "همه چیز در پایتون شی هستند حتی کلاسی که تعریف میکنیم-همه کلاس ها یک نمونه از کلاس تایپ هستند"
   ]
  },
  {
   "attachments": {
    "Screenshot%20from%202023-08-02%2011-44-48.png": {
     "image/png": "[encoded data removed]"
    }
   },
   "cell_type": "markdown",
   "id": "e35b31ca",
   "metadata": {},
   "source": [
    "![Screenshot%20from%202023-08-02%2011-44-48.png](attachment:Screenshot%20from%202023-08-02%2011-44-48.png)"
   ]
  },
  {
   "cell_type": "code",
   "execution_count": 35,
   "id": "e57abfcc",
   "metadata": {},
   "outputs": [
    {
     "name": "stdout",
     "output_type": "stream",
     "text": [
      "<class '__main__.Human'>\n",
      "True\n",
      "----------------------------------------\n",
      "<class 'object'>\n",
      "----------------------------------------\n",
      "<class 'type'>\n",
      "True\n",
      "----------------------------------------\n",
      "<class 'type'>\n",
      "----------------------------------------\n",
      "<class 'int'>\n",
      "True\n",
      "<class 'type'>\n",
      "True\n",
      "----------------------------------------\n"
     ]
    }
   ],
   "source": [
    "class Human:\n",
    "    pass\n",
    "\n",
    "human_obj = Human()\n",
    "\n",
    "# ساخت آبجکت باعث میشه من یک نمونه از آن داشته باشم\n",
    "# هیومن آبجکت یک نمونه از هیومن است\n",
    "print(type(human_obj))\n",
    "print(isinstance(human_obj, Human))\n",
    "print(\"-\" * 40)\n",
    "\n",
    "# همه کلاس هایی که میسازیم از کلاس آبجکت ارثبری میکنند\n",
    "print(Human.__base__)\n",
    "print(\"-\" * 40)\n",
    "\n",
    "# همه کلاس ها یک نمونه از کلاس تایپ هستند\n",
    "print(type(Human))\n",
    "print(isinstance(Human, type))\n",
    "print(\"-\" * 40)\n",
    "\n",
    "# خود تایپ یک نمونه از کلاس تایپ است\n",
    "print(type(type))\n",
    "print(\"-\" * 40)\n",
    "\n",
    "# همه انواع داده یک نمونه از متاکلاس تایپ هستند\n",
    "n = 5\n",
    "print(type(n))\n",
    "print(isinstance(n, int))\n",
    "print(type(int))\n",
    "print(isinstance(int, type))\n",
    "print(\"-\" * 40)\n"
   ]
  },
  {
   "cell_type": "code",
   "execution_count": 37,
   "id": "2790558f-03cc-4dea-a5d5-deb9d0492fe6",
   "metadata": {},
   "outputs": [
    {
     "name": "stdout",
     "output_type": "stream",
     "text": [
      "<class '__main__.Human'>\n",
      "<class '__main__.HumanMeta'>\n",
      "<class 'type'>\n"
     ]
    }
   ],
   "source": [
    "# meta class\n",
    "# به کلاس هایی گفته میشه که وقتی یک شی ایجاد میشه یک کلاس است\n",
    "# example -> type\n",
    "# از کلاس تایپ باید ارثبری بکند\n",
    "\n",
    "class HumanMeta(type):\n",
    "    pass\n",
    "\n",
    "class Human(metaclass=HumanMeta):\n",
    "    pass\n",
    "\n",
    "h = Human()\n",
    "print(type(h))\n",
    "print(type(Human))\n",
    "print(type(HumanMeta))\n"
   ]
  },
  {
   "cell_type": "markdown",
   "id": "f5dc4d28-112e-4a24-9859-612f6a4bc0d8",
   "metadata": {},
   "source": [
    "# abstract class"
   ]
  },
  {
   "cell_type": "raw",
   "id": "8fc8a484-3987-4868-b939-e56bfbe85cb5",
   "metadata": {},
   "source": [
    "کلاس های انتزاعی\n",
    "\n",
    "کلاسی داریم که کلیات درون ان بیان میشود و جزییات در کلاس کلاس های فرزند اعمال میشود\n",
    "\n",
    "فقط در کلاس بالایی متد ها تعریف میشوند و در کلاس های پایینی به جزییات آنها پرداخته میشود\n",
    "\n",
    "در پایتون اگر بخاهیم از ابسترکشن استفاده بکنیم باید از ماژول ای بی سی استفاده میکنیم\n",
    "\n",
    "abc -> Abstract Base Class\n",
    "\n",
    "به دو روش میشه از کلاس های ابسترکت استفاده کرد یکی اینکه از کلاس ای بی سی ارثبری کرد-ارثبری از ای بی سی متا\n",
    "\n",
    "کلاس های انتزاعی مشکلی ندارند که متدهای عادی داشته باشند\n",
    "\n",
    "از آنها شی نمیشه ایجاد کرد\n",
    "\n",
    "متدهای ابسترکت میتونن یک پیاده سازی از قبل داشته باشند\n",
    "\n",
    "میشه از آنها ارث بری کرد و اگر کلاسی همه متدهای آن ابسترکت آنرا پیاده سازی نکند خودش یک کلاس انتزاعی است\n",
    "\n",
    "بنابراین کلاسی که از کلاس انتزاعی ارثبری میکند باید تمام متد های آنرا پیاده سازی بکند وگرن نمیتواند شی بسازد\n",
    "\n",
    "اگر در کلاس ابسترکت برای مت ابسترکت یک پیاده سازی دیفالت داشته باشیم دلیل بر این نمیشود آن را در کلاس های زیرین تعریف نیکنیم\n",
    "\n",
    "برای استفاده از مقدار دیفالت در کلاس های زیرین فقط کافی است سوپر را صدا بزنیم\n",
    "\n",
    "\n"
   ]
  },
  {
   "cell_type": "code",
   "execution_count": 55,
   "id": "b4f4265f-71d3-49dd-ac88-14aae6380431",
   "metadata": {},
   "outputs": [
    {
     "name": "stdout",
     "output_type": "stream",
     "text": [
      "<class '__main__.Car'>\n",
      "Default\n",
      "under repair\n",
      "------------------------------\n",
      "<class 'abc.ABCMeta'>\n"
     ]
    }
   ],
   "source": [
    "# ABC\n",
    "# abstractmethod\n",
    "# برای ساخت متد های انتزاعی \n",
    "\n",
    "from abc import ABC, abstractmethod\n",
    "\n",
    "# Abstract Base Class\n",
    "class Vehicle(ABC):\n",
    "    \n",
    "    @abstractmethod\n",
    "    def move(self):\n",
    "        \"\"\"this method should be impolemented\"\"\"\n",
    "        print(\"Default\")\n",
    "        \n",
    "    @abstractmethod\n",
    "    def repair(self):\n",
    "        \"\"\"this method should be impolemented\"\"\"\n",
    "    \n",
    "    # هم میشه نوع را تعیین کرد هم ابسترک متود بودنش را\n",
    "    # @classmethod\n",
    "    # @abstractmethod\n",
    "    # def func(cls):\n",
    "    #     \"\"\"this method should be impolemented\"\"\"\n",
    "\n",
    "    def class_name(self):\n",
    "        print(self.__class__)\n",
    "\n",
    "        \n",
    "# concrete class        \n",
    "class Car(Vehicle):        \n",
    "    def move(self):\n",
    "        # از دیفالت کلاس انتزاعی استفاده میکند\n",
    "        super(Car, self).move()\n",
    "            \n",
    "    def repair(self):\n",
    "        print(\"under repair\")\n",
    "\n",
    "class Airplane(Vehicle):\n",
    "    def move(self):\n",
    "        print(\"Flying...\")\n",
    "    \n",
    "    def repair(self):\n",
    "        print(\"under repair...\")\n",
    "\n",
    "car = Car()\n",
    "car.class_name()\n",
    "car.move()\n",
    "car.repair()\n",
    "\n",
    "\n",
    "print(\"-\" * 30)\n",
    "# برای فهمیدن متای ای بی سی\n",
    "print(type(ABC))        \n",
    "        "
   ]
  },
  {
   "cell_type": "code",
   "execution_count": 56,
   "id": "d21744af-a10c-4f76-8d7f-1bae78a3ba11",
   "metadata": {},
   "outputs": [],
   "source": [
    "# ABCMeta\n",
    "# متل قبلی فقط بجای ارثبری از ای بی سی متاکلاس آنرا مشخص میکنیم\n",
    "\n",
    "from abc import ABCMeta, abstractmethod\n",
    "\n",
    "# Abstract Base Class\n",
    "class Vehicle(metaclass=ABCMeta):\n",
    "    \n",
    "    @abstractmethod\n",
    "    def move(self):\n",
    "        \"\"\"this method should be impolemented\"\"\"\n",
    "        \n",
    "    @abstractmethod\n",
    "    def move(self):\n",
    "        \"\"\"this method should be impolemented\"\"\""
   ]
  },
  {
   "cell_type": "code",
   "execution_count": 65,
   "id": "13070819-b524-4672-aa37-003e03c217e2",
   "metadata": {},
   "outputs": [
    {
     "name": "stdout",
     "output_type": "stream",
     "text": [
      "<class '__main__.Airplane'>\n",
      "Flying...\n",
      "under repair...\n",
      "ejecting...\n"
     ]
    },
    {
     "ename": "TypeError",
     "evalue": "Can't instantiate abstract class AirVehicle with abstract methods eject, move, repair",
     "output_type": "error",
     "traceback": [
      "\u001b[0;31m---------------------------------------------------------------------------\u001b[0m",
      "\u001b[0;31mTypeError\u001b[0m                                 Traceback (most recent call last)",
      "Cell \u001b[0;32mIn[65], line 59\u001b[0m\n\u001b[1;32m     56\u001b[0m a\u001b[38;5;241m.\u001b[39meject()\n\u001b[1;32m     58\u001b[0m \u001b[38;5;66;03m# از کلاس ابسترکت نمیتونیم نمونه یا شی بسازیم\u001b[39;00m\n\u001b[0;32m---> 59\u001b[0m a \u001b[38;5;241m=\u001b[39m \u001b[43mAirVehicle\u001b[49m\u001b[43m(\u001b[49m\u001b[43m)\u001b[49m\n",
      "\u001b[0;31mTypeError\u001b[0m: Can't instantiate abstract class AirVehicle with abstract methods eject, move, repair"
     ]
    }
   ],
   "source": [
    "\n",
    "from abc import ABC, abstractmethod\n",
    "\n",
    "# Abstract Base Class\n",
    "class Vehicle(ABC):\n",
    "    \n",
    "    @abstractmethod\n",
    "    def move(self):\n",
    "        \"\"\"this method should be impolemented\"\"\"\n",
    "        print(\"Default\")\n",
    "        \n",
    "    @abstractmethod\n",
    "    def repair(self):\n",
    "        \"\"\"this method should be impolemented\"\"\"\n",
    "\n",
    "    def class_name(self):\n",
    "        print(self.__class__)\n",
    "\n",
    "# Abstract Class\n",
    "class LandVehicale(Vehicle):\n",
    "    @abstractmethod\n",
    "    def brake(self):\n",
    "        \"\"\"this method should be impolemented\"\"\"\n",
    "\n",
    "# Abstract Class\n",
    "class AirVehicle(Vehicle):\n",
    "    @abstractmethod\n",
    "    def eject(self):\n",
    "        \"\"\"this method should be impolemented\"\"\"      \n",
    "        \n",
    "# concrete class        \n",
    "class Car(LandVehicale):        \n",
    "    def move(self):\n",
    "        print(\"Drive...\")\n",
    "            \n",
    "    def repair(self):\n",
    "        print(\"under repair...\")\n",
    "        \n",
    "    def brake(self):\n",
    "        print(\"braking...\")\n",
    "\n",
    "class Airplane(AirVehicle):\n",
    "    def move(self):\n",
    "        print(\"Flying...\")\n",
    "    \n",
    "    def repair(self):\n",
    "        print(\"under repair...\")\n",
    "\n",
    "    def eject(self):\n",
    "        print(\"ejecting...\")\n",
    "        \n",
    "        \n",
    "a = Airplane()\n",
    "a.class_name()\n",
    "a.move()\n",
    "a.repair()\n",
    "a.eject()\n",
    "\n",
    "# از کلاس ابسترکت نمیتونیم نمونه یا شی بسازیم\n",
    "a = AirVehicle()"
   ]
  },
  {
   "cell_type": "markdown",
   "id": "8763ba89-a1ae-40f9-8518-061fe995dc75",
   "metadata": {},
   "source": [
    "# operator overloading"
   ]
  },
  {
   "cell_type": "raw",
   "id": "6bec0fcc-e9ba-4a03-9e04-233f3bc386d8",
   "metadata": {},
   "source": [
    "سربارگذاری عملگرها\n",
    "\n",
    "یک عملگر با توجه به چه شی ایی  داره کار میکنه رفتار متفاوت میتونه نشون بده\n",
    "\n",
    "مثل رفتار جمع\n",
    "\n",
    "پشت صحنه متدهایی است که برای عملکردشون ایجاد شده\n",
    "\n",
    "یکسری متد ها که رفتار عملگر را نمایش میدهد\n",
    "\n",
    "میشه برای عملگر های دیگر مثل ضرب و کوچتر بزرگتر و ... تعریف کرد که متد مخصوص به خود را دارند\n",
    "\n"
   ]
  },
  {
   "cell_type": "code",
   "execution_count": 69,
   "id": "05df6628-3c6a-4821-93d2-b80a830c9ba0",
   "metadata": {},
   "outputs": [
    {
     "name": "stdout",
     "output_type": "stream",
     "text": [
      "37\n",
      "True\n"
     ]
    }
   ],
   "source": [
    "# بطور مثال میتونیم تعریف کنیم عمگر جمع در اشیا حاصل از این کلاس چکاری انجام دهد\n",
    "\n",
    "class Person:\n",
    "    def __init__(self, name, age, national_code):\n",
    "        self.name = name\n",
    "        self.age = age\n",
    "        self.national_code = national_code\n",
    "        \n",
    "    # خودش شی و آبجکت دوم را بعنوان ورودی میگرد\n",
    "    def __add__(self, other):\n",
    "        return self.age + other.age\n",
    "     \n",
    "    def __lt__(self, other):\n",
    "        return self.age < other.age\n",
    "    \n",
    "    def __str__(self):\n",
    "        return f\"{self.name}\"\n",
    "    \n",
    "p1 = Person(\"ali\", 15, \"12345\")\n",
    "p2 = Person(\"amir\", 22, \"22325\")\n",
    "print(p1 + p2)\n",
    "print(p1 < p2)\n",
    "\n"
   ]
  },
  {
   "attachments": {
    "Screenshot%20from%202023-08-02%2018-29-10.png": {
     "image/png": "[encoded data removed]"
    }
   },
   "cell_type": "markdown",
   "id": "b8b08220",
   "metadata": {},
   "source": [
    "![Screenshot%20from%202023-08-02%2018-29-10.png](attachment:Screenshot%20from%202023-08-02%2018-29-10.png)"
   ]
  },
  {
   "attachments": {
    "Screenshot%20from%202023-08-02%2018-28-26.png": {
     "image/png": "[encoded data removed]"
    }
   },
   "cell_type": "markdown",
   "id": "75f0c03e",
   "metadata": {},
   "source": [
    "![Screenshot%20from%202023-08-02%2018-28-26.png](attachment:Screenshot%20from%202023-08-02%2018-28-26.png)"
   ]
  },
  {
   "attachments": {
    "Screenshot%20from%202023-08-02%2018-28-47.png": {
     "image/png": "[encoded data removed]"
    }
   },
   "cell_type": "markdown",
   "id": "93bb777f",
   "metadata": {},
   "source": [
    "![Screenshot%20from%202023-08-02%2018-28-47.png](attachment:Screenshot%20from%202023-08-02%2018-28-47.png)"
   ]
  },
  {
   "attachments": {
    "Screenshot%20from%202023-08-02%2018-28-09.png": {
     "image/png": "[encoded data removed]"
    }
   },
   "cell_type": "markdown",
   "id": "f4f83021",
   "metadata": {},
   "source": [
    "![Screenshot%20from%202023-08-02%2018-28-09.png](attachment:Screenshot%20from%202023-08-02%2018-28-09.png)"
   ]
  },
  {
   "cell_type": "markdown",
   "id": "3e7be60e-5b1d-4ed3-8f21-76d58895b795",
   "metadata": {},
   "source": [
    "# slots"
   ]
  },
  {
   "cell_type": "raw",
   "id": "f0f62742-5f80-47be-a377-3f373d1227f2",
   "metadata": {},
   "source": []
  },
  {
   "cell_type": "code",
   "execution_count": 71,
   "id": "68b7641e-d84d-4835-87c2-3d58dcdff27b",
   "metadata": {},
   "outputs": [
    {
     "name": "stdout",
     "output_type": "stream",
     "text": [
      "{'a': 1, 'b': 2}\n",
      "{'a': 1, 'b': 2, 'c': 3}\n",
      "{'a': 1, 'b': 2, 'c': 4}\n"
     ]
    }
   ],
   "source": [
    "# با داندر دیکت میشه تمام اتریبیوت های یک شی را ببنیم\n",
    "# بعد ساخت کلاس میشه اتریبیون اضافه کرد\n",
    "# و میشه به این دیکشنری یک کلید مقدار جدید اضافه کرد\n",
    "\n",
    "\n",
    "class MyClass:\n",
    "    def __init__(self, a, b):\n",
    "        self.a = a\n",
    "        self.b = b\n",
    "        \n",
    "obj = MyClass(1, 2)\n",
    "print(obj.__dict__)\n",
    "obj.c = 3\n",
    "print(obj.__dict__)\n",
    "obj.__dict__[\"c\"] = 4\n",
    "print(obj.__dict__)\n",
    "\n",
    "# گاهی شاید بخاهیم این اجازه را ندهیم که اتریبیوتی به شی اضافه شود\n",
    "# با استفاده از داندر اسلاتس این کار را میشه انجام داد\n",
    "\n",
    "# __slots__\n",
    "# باعث:\n",
    "    # صرفه جویی در حافظه\n",
    "    # دسترسی سریع به اتریبیوت\n",
    "\n",
    "    \n",
    "    "
   ]
  },
  {
   "cell_type": "code",
   "execution_count": 75,
   "id": "cfb2d1e2-d203-4b9a-9b6a-3290b583f4ab",
   "metadata": {},
   "outputs": [
    {
     "name": "stdout",
     "output_type": "stream",
     "text": [
      "1\n",
      "2\n"
     ]
    }
   ],
   "source": [
    "class MyClass:\n",
    "    __slots__ = (\"a\", \"b\")\n",
    "    \n",
    "    def __init__(self, a, b):\n",
    "        self.a = a\n",
    "        self.b = b\n",
    "        \n",
    "obj = MyClass(1, 2)\n",
    "print(obj.a)\n",
    "print(obj.b)\n",
    "obj.a = 3\n",
    "obj.b = 3\n"
   ]
  },
  {
   "cell_type": "code",
   "execution_count": 73,
   "id": "fa575db8-7518-4e1d-9f23-8f38ae989934",
   "metadata": {},
   "outputs": [
    {
     "ename": "AttributeError",
     "evalue": "'MyClass' object has no attribute '__dict__'",
     "output_type": "error",
     "traceback": [
      "\u001b[0;31m---------------------------------------------------------------------------\u001b[0m",
      "\u001b[0;31mAttributeError\u001b[0m                            Traceback (most recent call last)",
      "Cell \u001b[0;32mIn[73], line 11\u001b[0m\n\u001b[1;32m      8\u001b[0m         \u001b[38;5;28mself\u001b[39m\u001b[38;5;241m.\u001b[39mb \u001b[38;5;241m=\u001b[39m b\n\u001b[1;32m     10\u001b[0m obj \u001b[38;5;241m=\u001b[39m MyClass(\u001b[38;5;241m1\u001b[39m, \u001b[38;5;241m2\u001b[39m)\n\u001b[0;32m---> 11\u001b[0m \u001b[38;5;28mprint\u001b[39m(\u001b[43mobj\u001b[49m\u001b[38;5;241;43m.\u001b[39;49m\u001b[38;5;18;43m__dict__\u001b[39;49m)\n",
      "\u001b[0;31mAttributeError\u001b[0m: 'MyClass' object has no attribute '__dict__'"
     ]
    }
   ],
   "source": [
    "# دیکشنری را غیرفعال میکند\n",
    "\n",
    "class MyClass:\n",
    "    __slots__ = (\"a\", \"b\")\n",
    "    \n",
    "    def __init__(self, a, b):\n",
    "        self.a = a\n",
    "        self.b = b\n",
    "        \n",
    "obj = MyClass(1, 2)\n",
    "print(obj.__dict__)"
   ]
  },
  {
   "cell_type": "code",
   "execution_count": 76,
   "id": "a11c2b5a-4d88-46bd-8449-73b366a61dc0",
   "metadata": {},
   "outputs": [
    {
     "ename": "AttributeError",
     "evalue": "'MyClass' object has no attribute 'c'",
     "output_type": "error",
     "traceback": [
      "\u001b[0;31m---------------------------------------------------------------------------\u001b[0m",
      "\u001b[0;31mAttributeError\u001b[0m                            Traceback (most recent call last)",
      "Cell \u001b[0;32mIn[76], line 12\u001b[0m\n\u001b[1;32m      9\u001b[0m         \u001b[38;5;28mself\u001b[39m\u001b[38;5;241m.\u001b[39mb \u001b[38;5;241m=\u001b[39m b\n\u001b[1;32m     11\u001b[0m obj \u001b[38;5;241m=\u001b[39m MyClass(\u001b[38;5;241m1\u001b[39m, \u001b[38;5;241m2\u001b[39m)\n\u001b[0;32m---> 12\u001b[0m obj\u001b[38;5;241m.\u001b[39mc \u001b[38;5;241m=\u001b[39m \u001b[38;5;241m6\u001b[39m\n",
      "\u001b[0;31mAttributeError\u001b[0m: 'MyClass' object has no attribute 'c'"
     ]
    }
   ],
   "source": [
    "# کلید هایی که برای آن مشخص میکنیم اجازه میده فقط آنها قابل مقداردهی باشند\n",
    "# اجازه ایجاد اتریبیوت دیگر را نمیدهد\n",
    "\n",
    "class MyClass:\n",
    "    __slots__ = (\"a\", \"b\")\n",
    "    \n",
    "    def __init__(self, a, b):\n",
    "        self.a = a\n",
    "        self.b = b\n",
    "        \n",
    "obj = MyClass(1, 2)\n",
    "obj.c = 6\n"
   ]
  },
  {
   "cell_type": "code",
   "execution_count": 77,
   "id": "9a67f988-751c-4992-bf29-52978fd476a1",
   "metadata": {},
   "outputs": [],
   "source": [
    "# میشه بگیم چه اتریبیوت هایی بعدا میتونیم اضافه بکنیم\n",
    "class MyClass:\n",
    "    __slots__ = (\"a\", \"b\", \"c\")\n",
    "    \n",
    "    def __init__(self, a, b):\n",
    "        self.a = a\n",
    "        self.b = b\n",
    "        \n",
    "obj = MyClass(1, 2)\n",
    "obj.c = 6\n"
   ]
  },
  {
   "cell_type": "code",
   "execution_count": 81,
   "id": "d5c5f9b0-0fe7-4c40-bcfb-0960a8a329f1",
   "metadata": {},
   "outputs": [
    {
     "name": "stdout",
     "output_type": "stream",
     "text": [
      "{}\n",
      "{'c': 6}\n"
     ]
    }
   ],
   "source": [
    "# با داندر دیکت در فرزند یک دیکشنری خالی نمایش میدهد\n",
    "# محدودیت ناشی از اسلاتس فقط برای والد ایجاد میشه و برای فرزند اعمال نمیشود\n",
    "\n",
    "class ParentClass:\n",
    "    __slots__ = (\"a\", \"b\")\n",
    "    \n",
    "    def __init__(self, a, b):\n",
    "        self.a = a\n",
    "        self.b = b\n",
    "        \n",
    "class MyClass(ParentClass):\n",
    "    def __init__(self, a, b):\n",
    "        super().__init__(a, b)\n",
    "        \n",
    "        \n",
    "obj = MyClass(1, 2)\n",
    "print(obj.__dict__)\n",
    "obj.c = 6\n",
    "print(obj.__dict__)\n"
   ]
  },
  {
   "cell_type": "code",
   "execution_count": 82,
   "id": "d2751dee-2ba6-4a3b-b56f-6fa0b7232dab",
   "metadata": {},
   "outputs": [
    {
     "name": "stdout",
     "output_type": "stream",
     "text": [
      "6\n"
     ]
    }
   ],
   "source": [
    "# میتونیم برای فرزند نیز اسلاتس ایجاد بکنیم\n",
    "\n",
    "class ParentClass:\n",
    "    __slots__ = (\"a\", \"b\")\n",
    "    \n",
    "    def __init__(self, a, b):\n",
    "        self.a = a\n",
    "        self.b = b\n",
    "        \n",
    "class MyClass(ParentClass):\n",
    "    __slots__ = (\"c\")\n",
    "    \n",
    "    def __init__(self, a, b):\n",
    "        super().__init__(a, b)\n",
    "        \n",
    "        \n",
    "obj = MyClass(1, 2)\n",
    "\n",
    "obj.c = 6\n",
    "print(obj.c)"
   ]
  },
  {
   "cell_type": "code",
   "execution_count": null,
   "id": "21535768-08c2-4dc0-8ab7-1a8cd4559c6d",
   "metadata": {},
   "outputs": [],
   "source": []
  }
 ],
 "metadata": {
  "kernelspec": {
   "display_name": "Python 3 (ipykernel)",
   "language": "python",
   "name": "python3"
  },
  "language_info": {
   "codemirror_mode": {
    "name": "ipython",
    "version": 3
   },
   "file_extension": ".py",
   "mimetype": "text/x-python",
   "name": "python",
   "nbconvert_exporter": "python",
   "pygments_lexer": "ipython3",
   "version": "3.10.9"
  }
 },
 "nbformat": 4,
 "nbformat_minor": 5
}
