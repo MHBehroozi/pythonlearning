{
 "cells": [
  {
   "cell_type": "code",
   "execution_count": 12,
   "id": "5327edfd-81d6-4fec-b10f-822d0320efd6",
   "metadata": {},
   "outputs": [
    {
     "name": "stdin",
     "output_type": "stream",
     "text": [
      "enter x,y,z : 10,30,50\n"
     ]
    },
    {
     "name": "stdout",
     "output_type": "stream",
     "text": [
      "x :10 | type of x:<class 'str'> | y :30 | z :50\n"
     ]
    },
    {
     "name": "stdin",
     "output_type": "stream",
     "text": [
      "enter numbers as you want(sep with ,) : 1,2,3,4,5,6\n",
      "enter numbers as you want(sep with space) : 7 8 9 10 11 12 13\n"
     ]
    },
    {
     "name": "stdout",
     "output_type": "stream",
     "text": [
      "['1', '2', '3', '4', '5', '6'] \n",
      " [7, 8, 9, 10, 11, 12, 13]\n"
     ]
    }
   ],
   "source": [
    "# گرفتن چندین ورودی در یک خط\n",
    "x, y, z = input(\"enter x,y,z :\").split(\",\") # دستور اینپوت یک رشه را بر میگرداند.\n",
    "print(f\"x :{x} | type of x:{type(x)} | y :{y} | z :{z}\")\n",
    "\n",
    "L1 = input(\"enter numbers as you want(sep with ,) :\").split(',')\n",
    "# بزرگترین محدودیت این روش این است که دریافتی ها بصورت رشته است\n",
    "# می توان از دستوری مستقیم یا حلقه برای تبدیل به اینتیجر یا فلوت استفاده کرد\n",
    "# روش خلاصه سازی و درکی cpmprehension\n",
    "L2 = [int(x) for x in input(\"enter numbers as you want(sep with space) :\").split(' ')]\n",
    "print(L1,'\\n',L2)"
   ]
  },
  {
   "cell_type": "markdown",
   "id": "1cc65ed2-0bf8-4cfa-a472-18d44547a992",
   "metadata": {},
   "source": [
    "# دستور شرطی"
   ]
  },
  {
   "cell_type": "code",
   "execution_count": 1,
   "id": "f7edfc47-425e-4749-8f28-058426da032a",
   "metadata": {},
   "outputs": [
    {
     "name": "stdin",
     "output_type": "stream",
     "text": [
      "Enter the mark : 12\n"
     ]
    },
    {
     "name": "stdout",
     "output_type": "stream",
     "text": [
      "Accepted\n",
      "End\n"
     ]
    }
   ],
   "source": [
    "mark = int(input('Enter the mark :'))\n",
    "\n",
    "if mark < 10 :\n",
    "    print('Rejected!')\n",
    "else:                       # می تواند نباشد ولی این در صورتی اجرا میشود که شروط قبلی صحیح نباشند\n",
    "    print('Accepted') \n",
    "    \n",
    "print('End')"
   ]
  },
  {
   "cell_type": "code",
   "execution_count": 15,
   "id": "4e6f887b-47f7-4a86-b3b2-22858bef2c9c",
   "metadata": {},
   "outputs": [
    {
     "name": "stdin",
     "output_type": "stream",
     "text": [
      "Enter the mark : 9.89\n"
     ]
    },
    {
     "name": "stdout",
     "output_type": "stream",
     "text": [
      "C\n",
      "\n",
      "\\*****End\n"
     ]
    }
   ],
   "source": [
    "# elif\n",
    "mark = float(input('Enter the mark :'))\n",
    "\n",
    "if mark <= 20 and mark >= 15:\n",
    "    print('A')\n",
    "elif mark < 15 and mark >= 10:\n",
    "    print('B')\n",
    "elif mark < 10 and mark >= 5:\n",
    "    print('C')\n",
    "elif 5 > mark >= 0:   # نوع دیگری از نوشتن شرط های بالا\n",
    "    print('D')\n",
    "else:\n",
    "    print('Wrong!')\n",
    "\n",
    "\n",
    "print('\\n\\*****End')\n",
    "\n",
    "# فقط یک if\n",
    "# elif بعد if\n",
    "# else فقط یکی و حتما در آخر"
   ]
  },
  {
   "cell_type": "code",
   "execution_count": 2,
   "id": "3869c2ec-56b9-4250-84c2-65bc6c33aee4",
   "metadata": {},
   "outputs": [
    {
     "name": "stdout",
     "output_type": "stream",
     "text": [
      "5\n"
     ]
    }
   ],
   "source": [
    "# شرط در هنگام مقدار دهی\n",
    "x = 25\n",
    "y = 10+2 if x < 20 else 5\n",
    "print(y)"
   ]
  },
  {
   "cell_type": "code",
   "execution_count": 6,
   "id": "0108cbc5-c1d2-40f6-b3b2-ae4fa1342b69",
   "metadata": {},
   "outputs": [
    {
     "name": "stdin",
     "output_type": "stream",
     "text": [
      "x is : 2523175434\n"
     ]
    },
    {
     "name": "stdout",
     "output_type": "stream",
     "text": [
      "Even\n"
     ]
    }
   ],
   "source": [
    "# مثال : عدد زوج است یا فرد\n",
    "x = int(input(\"x is :\"))\n",
    "\n",
    "if x % 2 == 0:\n",
    "    print(\"Even\")\n",
    "else:\n",
    "    print(\"Odd\")"
   ]
  },
  {
   "cell_type": "code",
   "execution_count": 1,
   "id": "b542ce57-16fc-44d2-b48c-1f80181e3fed",
   "metadata": {},
   "outputs": [
    {
     "name": "stdin",
     "output_type": "stream",
     "text": [
      "enter x: 5\n",
      "enter y: 6\n",
      "enter z: 8\n"
     ]
    },
    {
     "name": "stdout",
     "output_type": "stream",
     "text": [
      "5\n"
     ]
    }
   ],
   "source": [
    "x = int(input('enter x:'))\n",
    "y = int(input('enter y:'))\n",
    "z = int(input('enter z:'))\n",
    "\n",
    "min = x \n",
    "if x > y:\n",
    "    min = y\n",
    "if y > z:\n",
    "    min = z\n",
    "\n",
    "print(min)"
   ]
  },
  {
   "cell_type": "code",
   "execution_count": 4,
   "id": "2781b47c-15f7-4611-8f7d-70e5a6de73c9",
   "metadata": {},
   "outputs": [
    {
     "name": "stdout",
     "output_type": "stream",
     "text": [
      "101\n"
     ]
    }
   ],
   "source": [
    "print(ord(\"e\"))\n",
    "# to get ascii code of character"
   ]
  },
  {
   "cell_type": "code",
   "execution_count": null,
   "id": "8eaf7256-b14f-41e4-9bd4-420c622df885",
   "metadata": {},
   "outputs": [],
   "source": []
  },
  {
   "cell_type": "markdown",
   "id": "5f3b8ae7-9bfe-4002-8511-a9366c62ebe3",
   "metadata": {},
   "source": [
    "# Sum, Max , min"
   ]
  },
  {
   "cell_type": "code",
   "execution_count": 22,
   "id": "7e4b9630-5722-4bdd-9baf-32ef3b7d2217",
   "metadata": {},
   "outputs": [
    {
     "ename": "TypeError",
     "evalue": "'int' object is not callable",
     "output_type": "error",
     "traceback": [
      "\u001b[0;31m---------------------------------------------------------------------------\u001b[0m",
      "\u001b[0;31mTypeError\u001b[0m                                 Traceback (most recent call last)",
      "Cell \u001b[0;32mIn[22], line 2\u001b[0m\n\u001b[1;32m      1\u001b[0m L \u001b[38;5;241m=\u001b[39m [\u001b[38;5;241m0\u001b[39m, \u001b[38;5;241m12\u001b[39m, \u001b[38;5;241m15\u001b[39m, \u001b[38;5;241m1\u001b[39m, \u001b[38;5;241m2\u001b[39m]\n\u001b[0;32m----> 2\u001b[0m \u001b[38;5;28mprint\u001b[39m(\u001b[38;5;28;43mmin\u001b[39;49m\u001b[43m(\u001b[49m\u001b[43mL\u001b[49m\u001b[43m \u001b[49m\u001b[43m,\u001b[49m\u001b[43m \u001b[49m\u001b[43mdefault\u001b[49m\u001b[43m \u001b[49m\u001b[38;5;241;43m=\u001b[39;49m\u001b[43m \u001b[49m\u001b[38;5;124;43m'\u001b[39;49m\u001b[38;5;124;43mError!\u001b[39;49m\u001b[38;5;124;43m'\u001b[39;49m\u001b[43m)\u001b[49m) \u001b[38;5;66;03m# اگر بصورت لیست باشد می توان از دیفالت استفاده کرد\u001b[39;00m\n\u001b[1;32m      3\u001b[0m \u001b[38;5;28mprint\u001b[39m(\u001b[38;5;28mmin\u001b[39m(\u001b[38;5;241m1\u001b[39m,\u001b[38;5;241m2\u001b[39m,\u001b[38;5;241m3\u001b[39m,\u001b[38;5;241m4\u001b[39m,\u001b[38;5;241m5\u001b[39m))\n\u001b[1;32m      4\u001b[0m \u001b[38;5;66;03m# if list or tuple are empety ,default value shown\u001b[39;00m\n",
      "\u001b[0;31mTypeError\u001b[0m: 'int' object is not callable"
     ]
    }
   ],
   "source": [
    "L = [0, 12, 15, 1, 2]\n",
    "print(min(L , default = 'Error!')) # اگر بصورت لیست باشد می توان از دیفالت استفاده کرد\n",
    "print(min(1,2,3,4,5))\n",
    "# if list or tuple are empety ,default value shown\n",
    "\n",
    "print(max(L))\n",
    "\n",
    "print(min('ali', 'reza', 'zeydan', 'farhad')) # اولین حرف الفبا\n",
    "print(max('ali', 'reza', 'zeydan', 'farhad')) # آخرین حرف الفبا\n",
    "\n",
    "print(sum(L))\n",
    "print(sum([1,2,3])) # حتمال داخل لیست یا تاپل یا مجموعه\n",
    "print(sum(L, start = 3)) # استارت، عددی است که به نتیجه جمع اضافه می شود"
   ]
  },
  {
   "cell_type": "code",
   "execution_count": null,
   "id": "09686a61-6e57-43cb-afae-b7f78e07d626",
   "metadata": {},
   "outputs": [],
   "source": []
  },
  {
   "cell_type": "code",
   "execution_count": null,
   "id": "2174c02f-fca9-45f9-965f-f2652a11b32f",
   "metadata": {},
   "outputs": [],
   "source": []
  }
 ],
 "metadata": {
  "kernelspec": {
   "display_name": "Python 3 (ipykernel)",
   "language": "python",
   "name": "python3"
  },
  "language_info": {
   "codemirror_mode": {
    "name": "ipython",
    "version": 3
   },
   "file_extension": ".py",
   "mimetype": "text/x-python",
   "name": "python",
   "nbconvert_exporter": "python",
   "pygments_lexer": "ipython3",
   "version": "3.10.9"
  }
 },
 "nbformat": 4,
 "nbformat_minor": 5
}
