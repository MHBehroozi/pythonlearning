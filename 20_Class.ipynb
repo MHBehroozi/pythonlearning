{
 "cells": [
  {
   "cell_type": "markdown",
   "id": "abbc8fa0-258f-4856-adfb-2f88f1bd18c1",
   "metadata": {},
   "source": [
    "# creat itrator and iterable with class"
   ]
  },
  {
   "cell_type": "code",
   "execution_count": 22,
   "id": "f0cd98f4-d703-499e-96f4-89f50352aeb2",
   "metadata": {},
   "outputs": [
    {
     "name": "stdout",
     "output_type": "stream",
     "text": [
      "True\n",
      "False\n",
      "True\n",
      "2\n",
      "3\n"
     ]
    }
   ],
   "source": [
    "# تشخیص ایتریبل بودن یک آبجکت\n",
    "# iterable\n",
    "# اعضای آن قابل پیمایش هستند\n",
    "\n",
    "li = [1, 2, 3]\n",
    "print(\"__iter__\" in dir(li))\n",
    "\n",
    "# تشخیص ایتراتور بودن\n",
    "# iterator\n",
    "\n",
    "print(\"__next__\" in dir(li))\n",
    "\n",
    "# تبدیل ایتریبل به ایتراتور\n",
    "\n",
    "it_li = iter(li) # or li.__iter__()\n",
    "\n",
    "print(\"__next__\" in dir(it_li))\n",
    "\n",
    "# وقتی از حلقه استفاده میکنیم میاد آن ایتریبل را ایتریتور تبدیل میکند و مت نکست را صدا میزند و مدیریت خطا را انجام میدهد\n",
    "\n",
    "# ایتریتور ها را نیز میشود در حلقه قرار داد با این تفاوت که تا چه نقطه ایی را پیمایش شده اند به ذخیره میکنند\n",
    "\n",
    "next(it_li)\n",
    "for i in it_li:\n",
    "    print(i)\n",
    "\n"
   ]
  },
  {
   "cell_type": "code",
   "execution_count": 23,
   "id": "ba2da355-3580-49a6-bf98-adc7acc29b8f",
   "metadata": {},
   "outputs": [
    {
     "name": "stdout",
     "output_type": "stream",
     "text": [
      "1\n",
      "2\n",
      "3\n",
      "4\n"
     ]
    }
   ],
   "source": [
    "# برای ساخت ایتریبل با از متد ایتر در کلاس استفاده کرد و بجای ریترن از ییلد استفاده کرد\n",
    "\n",
    "class NewObj:\n",
    "    def __init__(self):\n",
    "        self.item = [1, 2, 3, 4]\n",
    "        \n",
    "    def __iter__(self):\n",
    "        for i in self.item:\n",
    "            yield i\n",
    "    \n",
    "    \n",
    "n = NewObj()\n",
    "\n",
    "for i in n:\n",
    "    print(i)\n",
    "    \n",
    "# حالا برای تبدیل ایتریبل به ایتریتور از مت ایتر استفاده میکنیم\n",
    "n1 = iter(n)\n"
   ]
  },
  {
   "cell_type": "code",
   "execution_count": 24,
   "id": "6fa7c517-864c-473e-9789-d9a04bfbafc6",
   "metadata": {},
   "outputs": [
    {
     "name": "stdout",
     "output_type": "stream",
     "text": [
      "2\n",
      "2\n",
      "2\n",
      "2\n",
      "2\n"
     ]
    },
    {
     "ename": "TypeError",
     "evalue": "'NewObj' object is not iterable",
     "output_type": "error",
     "traceback": [
      "\u001b[0;31m---------------------------------------------------------------------------\u001b[0m",
      "\u001b[0;31mTypeError\u001b[0m                                 Traceback (most recent call last)",
      "Cell \u001b[0;32mIn[24], line 24\u001b[0m\n\u001b[1;32m     21\u001b[0m \u001b[38;5;28mprint\u001b[39m(\u001b[38;5;28mnext\u001b[39m(n))\n\u001b[1;32m     22\u001b[0m \u001b[38;5;28mprint\u001b[39m(\u001b[38;5;28mnext\u001b[39m(n))\n\u001b[0;32m---> 24\u001b[0m \u001b[38;5;28;01mfor\u001b[39;00m i \u001b[38;5;129;01min\u001b[39;00m n:\n\u001b[1;32m     25\u001b[0m     \u001b[38;5;28mprint\u001b[39m(i)\n",
      "\u001b[0;31mTypeError\u001b[0m: 'NewObj' object is not iterable"
     ]
    }
   ],
   "source": [
    "# روش دیگر ساخت ایتریتور\n",
    "# اگر فقط نسکت را تعریف بکنیم قابل پیمایش نیست\n",
    "\n",
    "class NewObj:\n",
    "    def __init__(self):\n",
    "        self.item = [1, 2, 3, 4]\n",
    "        \n",
    "    # def __iter__(self):\n",
    "    #     for i in self.item:\n",
    "    #         yield i\n",
    "    \n",
    "    def __next__(self):\n",
    "        return 2\n",
    "    \n",
    "    \n",
    "n = NewObj()\n",
    "\n",
    "print(next(n))\n",
    "print(next(n))\n",
    "print(next(n))\n",
    "print(next(n))\n",
    "print(next(n))\n",
    "\n",
    "for i in n:\n",
    "    print(i)\n"
   ]
  },
  {
   "cell_type": "code",
   "execution_count": 16,
   "id": "1080a5b9-73a5-4648-a7a2-1c53ce7fd8b7",
   "metadata": {},
   "outputs": [
    {
     "name": "stdout",
     "output_type": "stream",
     "text": [
      "1\n",
      "2\n",
      "3\n",
      "4\n",
      "5\n"
     ]
    }
   ],
   "source": [
    "# روش دیگر ساخت ایتریتور\n",
    "\n",
    "class NewObj:\n",
    "    def __init__(self):\n",
    "        self.x = 0\n",
    "            \n",
    "    def __next__(self):\n",
    "        self.x += 1\n",
    "        return self.x\n",
    "    \n",
    "    \n",
    "n = NewObj()\n",
    "\n",
    "print(next(n))\n",
    "print(next(n))\n",
    "print(next(n))\n",
    "print(next(n))\n",
    "print(next(n))\n"
   ]
  },
  {
   "cell_type": "code",
   "execution_count": 26,
   "id": "bf8da883-b59f-4e30-9eaa-54de2a2040bb",
   "metadata": {},
   "outputs": [
    {
     "name": "stdout",
     "output_type": "stream",
     "text": [
      "0\n",
      "1\n",
      "4\n",
      "\n",
      "9\n"
     ]
    }
   ],
   "source": [
    "# روش دیگر ساخت ایتریتور\n",
    "# که متد نکست و ایتر هماهمنگ دارند\n",
    "\n",
    "class PowTwo:\n",
    "    def __init__(self, max_pow):\n",
    "        self.n = 0\n",
    "        self.max_pow = max_pow\n",
    "        \n",
    "    def __iter__(self):\n",
    "        return self\n",
    "            \n",
    "    def __next__(self):\n",
    "        if self.n <= self.max_pow:\n",
    "            result = self.n ** 2\n",
    "            self.n += 1\n",
    "            return result\n",
    "        else:\n",
    "            raise StopIteration\n",
    "    \n",
    "    \n",
    "n = PowTwo(3)\n",
    "\n",
    "print(next(n))\n",
    "print(next(n))\n",
    "print(next(n))\n",
    "\n",
    "print()\n",
    "# وقتی آبجکت را پیمایش میکنیم در واجع شی را حلقه تبدیل به ایتریتور میکند و سپس متتد نکست آن را اجرا میکند که همان متد نکست کلاس است\n",
    "\n",
    "for i in n:\n",
    "    print(i)"
   ]
  },
  {
   "cell_type": "markdown",
   "id": "221ed3d1-e51b-407b-8a70-bbe9883095af",
   "metadata": {},
   "source": [
    "# class decorator"
   ]
  },
  {
   "cell_type": "raw",
   "id": "fa29bcc1-1fb3-4b81-b165-7fad4b33b731",
   "metadata": {},
   "source": [
    "چطور دکورایتور ها را روی کلاس ها اعمال کرد یا باستفاده از کلاس ها دکوریتور ساخت\n",
    "\n",
    "طرز اعمال دکوریتور روی متدهای کلاس تفاوتی با کلاس ها ندارد\n",
    "\n",
    "در کلاس ها در واقع یک تابع است که آبجکت میگیرد\n",
    "\n",
    "\n",
    "\n"
   ]
  },
  {
   "cell_type": "code",
   "execution_count": 4,
   "id": "1cac0bf3-f3cf-48f8-b73d-8501d0a06310",
   "metadata": {},
   "outputs": [
    {
     "name": "stdout",
     "output_type": "stream",
     "text": [
      "****************************************\n",
      "reza\n",
      "****************************************\n",
      "Example decstring for function\n"
     ]
    }
   ],
   "source": [
    "from functools import wraps\n",
    "\n",
    "def my_decorator_func(func):\n",
    "    @wraps(func) # برای داک استرینگ تابع \n",
    "    def wrapper_func(*args, **kwargs):\n",
    "        print(40 * \"*\")\n",
    "        func(*args, **kwargs)\n",
    "        print(40 * \"*\")\n",
    "    \n",
    "    return wrapper_func\n",
    "\n",
    "@my_decorator_func\n",
    "def my_func():\n",
    "    \"\"\"Example decstring for function\"\"\"\n",
    "    print(\"reza\")\n",
    "    \n",
    "my_func()\n",
    "print(my_func.__doc__)"
   ]
  },
  {
   "cell_type": "code",
   "execution_count": 9,
   "id": "ae87faaa-400a-4f13-8dd1-096c1f0da643",
   "metadata": {},
   "outputs": [
    {
     "name": "stdout",
     "output_type": "stream",
     "text": [
      "****************************************\n",
      "****************************************\n",
      "None\n",
      "wrapper_func\n"
     ]
    }
   ],
   "source": [
    "# دکوراتور برای فانکشن ها\n",
    "\n",
    "from functools import wraps\n",
    "\n",
    "def my_decorator_func(cls):\n",
    "    # @wraps(cls) # برای نیم و داک استرینگ کلاس \n",
    "    def wrapper_func(*args, **kwargs):\n",
    "        print(40 * \"*\")\n",
    "        cls(*args, **kwargs)\n",
    "        print(40 * \"*\")\n",
    "    \n",
    "    return wrapper_func\n",
    "\n",
    "@my_decorator_func\n",
    "class Test:\n",
    "    \"\"\"class test!\"\"\"\n",
    "    pass\n",
    "\n",
    "# با اینکه آبجکت ساخته میشه ودر ای متغییر ذخیره نمیشه برای حل این باید دکوراتور آبجکتی که میسازد را بازگشت دهد\n",
    "obj = Test()\n",
    "print(Test.__doc__)\n",
    "print(Test.__name__)\n"
   ]
  },
  {
   "cell_type": "code",
   "execution_count": 16,
   "id": "7b3616b2-6d6d-4a39-8aec-9e230ec92c86",
   "metadata": {},
   "outputs": [
    {
     "name": "stdout",
     "output_type": "stream",
     "text": [
      "****************************************\n",
      "amir\n",
      "----------------------------------------\n",
      "my func!\n"
     ]
    }
   ],
   "source": [
    "# decorator class\n",
    "# دوتا متد اینیت و کال باید حتما نوشته شود برای آنها\n",
    "# اینیت یک فانکشن بعنوان ورودی میگیرد \n",
    "\n",
    "from functools import update_wrapper\n",
    "\n",
    "class MyClassDecorator:\n",
    "    def __init__(self, func):\n",
    "        update_wrapper(self, func) # for doc string\n",
    "        self.func = func\n",
    "        \n",
    "    # def __call__(self):\n",
    "    #     print(\"*\" *40)\n",
    "    #     return self.func()\n",
    "    \n",
    "    def __call__(self):\n",
    "        print(\"*\" *40)\n",
    "        self.func()\n",
    "        print(\"-\" *40)\n",
    "    \n",
    "    \n",
    "@MyClassDecorator\n",
    "def my_func():\n",
    "    \"\"\"my func!\"\"\"\n",
    "    print(\"amir\")\n",
    "    \n",
    "my_func()\n",
    "print(my_func.__doc__)\n",
    "\n"
   ]
  },
  {
   "cell_type": "code",
   "execution_count": 18,
   "id": "a0f00609-e64a-40bc-8738-8eb5e42a0ad7",
   "metadata": {},
   "outputs": [
    {
     "name": "stdout",
     "output_type": "stream",
     "text": [
      "****************************************\n",
      "amir\n",
      "----------------------------------------\n",
      "my func!\n"
     ]
    }
   ],
   "source": [
    "# روش دیگر استفاده\n",
    "\n",
    "from functools import update_wrapper\n",
    "\n",
    "class MyClassDecorator:\n",
    "    def __init__(self, func):\n",
    "        update_wrapper(self, func) # for doc string\n",
    "        self.func = func\n",
    "        \n",
    "    # def __call__(self):\n",
    "    #     print(\"*\" *40)\n",
    "    #     return self.func()\n",
    "    \n",
    "    def __call__(self):\n",
    "        print(\"*\" *40)\n",
    "        self.func()\n",
    "        print(\"-\" *40)\n",
    "    \n",
    "    \n",
    "def my_func():\n",
    "    \"\"\"my func!\"\"\"\n",
    "    print(\"amir\")\n",
    "    \n",
    "new_func = MyClassDecorator(my_func)\n",
    "new_func()\n",
    "print(new_func.__doc__)\n"
   ]
  },
  {
   "cell_type": "code",
   "execution_count": 20,
   "id": "9e3f470a-02af-4be5-b217-a7e722a85213",
   "metadata": {},
   "outputs": [
    {
     "name": "stdout",
     "output_type": "stream",
     "text": [
      "****************************************\n",
      "----------------------------------------\n",
      "<__main__.Test object at 0x7f2f4b5f8790>\n"
     ]
    }
   ],
   "source": [
    "# میشه همین نوع دکوراتور را روی کلاس اعمال کرد\n",
    "\n",
    "from functools import update_wrapper\n",
    "\n",
    "class MyClassDecorator:\n",
    "    def __init__(self, cls):\n",
    "        update_wrapper(self, cls) # for doc string\n",
    "        self.cls = cls\n",
    "        \n",
    "    # def __call__(self):\n",
    "    #     print(\"*\" *40)\n",
    "    #     return self.func()\n",
    "    \n",
    "    def __call__(self):\n",
    "        print(\"*\" *40)\n",
    "        obj = self.cls()\n",
    "        print(\"-\" *40)\n",
    "        return obj\n",
    "        \n",
    "@MyClassDecorator\n",
    "class Test:\n",
    "    pass\n",
    "\n",
    "obj = Test()\n",
    "print(obj)"
   ]
  },
  {
   "cell_type": "markdown",
   "id": "41e1683f-2dd6-4fc7-9c96-3d0108f51e4e",
   "metadata": {},
   "source": [
    "# descriptor"
   ]
  },
  {
   "cell_type": "raw",
   "id": "32fbac81-a646-4685-8874-1f4f744c3af2",
   "metadata": {},
   "source": [
    "کلاس هایی هستند که یکی از متد های گت ست و ادیت را اوررایت میکنند\n",
    "\n",
    "یکسری رفتار ها را برای اتریبیوت ها ایجاد میکنند\n",
    "\n",
    "برای class atribute\n",
    "\n"
   ]
  },
  {
   "cell_type": "code",
   "execution_count": 30,
   "id": "bd50adff-489d-4e68-81cc-20c38bafe22f",
   "metadata": {},
   "outputs": [],
   "source": [
    "# اگرا بخاهیم برای ورودی دیگر اعتبار سنجی را داشته باشیم باید دوباره بنویسیم\n",
    "# همینطور که میبینید اعتبار سنجی ها یکسان است و دوباره نوشتن آنها بهینه نیست\n",
    "\n",
    "class Parent:\n",
    "    def __init__(self, child_name, father_name, mother_name):\n",
    "        self.child_name = child_name\n",
    "        self.father_name = father_name\n",
    "        self.mother_name = mother_name\n",
    "    \n",
    "    @property \n",
    "    def child_name(self):\n",
    "        \"\"\"new doc\"\"\"\n",
    "        return self._child_name\n",
    "    \n",
    "    @child_name.setter\n",
    "    def child_name(self, child_name):\n",
    "        if 0 < len(child_name) < 15:\n",
    "            self._child_name = child_name\n",
    "        else:\n",
    "            raise ValueError(f\"Invalid name {child_name!r}\")\n",
    "    \n",
    "    @child_name.deleter\n",
    "    def child_name(self):\n",
    "        print(\"deleting...\")\n",
    "        del self._child_name\n",
    "    \n",
    "    @property \n",
    "    def father_name(self):\n",
    "        \"\"\"new doc\"\"\"\n",
    "        return self._father_name\n",
    "    \n",
    "    @father_name.setter\n",
    "    def father_name(self, father_name):\n",
    "        if 0 < len(father_name) < 15:\n",
    "            self._father_name = father_name\n",
    "        else:\n",
    "            raise ValueError(f\"Invalid name {father_name!r}\")\n",
    "    \n",
    "    @father_name.deleter\n",
    "    def father_name(self):\n",
    "        print(\"deleting...\")\n",
    "        del self._father_name\n",
    "    \n",
    "c = Parent(\"reza\", \"ali\", \"zahra\")"
   ]
  },
  {
   "cell_type": "code",
   "execution_count": 48,
   "id": "0b3fed58-b39a-4d9f-a680-393a592bc57e",
   "metadata": {},
   "outputs": [
    {
     "name": "stdout",
     "output_type": "stream",
     "text": [
      "<__main__.Test object at 0x7f63c9f9b7f0>\n",
      "<class '__main__.Test'>\n",
      "None\n",
      "<__main__.Test object at 0x7f63c9f9b7f0>\n",
      "reza\n",
      "<__main__.Test object at 0x7f63c9f9b7f0>\n",
      "<class '__main__.Test'>\n",
      "reza\n",
      "deleting...\n"
     ]
    }
   ],
   "source": [
    "# کلاس دسکریپتور\n",
    "\n",
    "# اگر متد داندر گت را تعریف بکنیم در موقع ایجاد شی بجای آبجکت محتوای داندر گت را برمیگرداند\n",
    "\n",
    "# دانر ست زمانی استفاده میشه که میخاهیم یک اتریبیوت را مقداردهی بکنیم\n",
    "\n",
    "\n",
    "class NameField:\n",
    "    def __init__(self, name=None):\n",
    "        self.name = name\n",
    "        \n",
    "    def __get__(self, instance, owner):\n",
    "        print(self) # آبجکت خود کلاس نیم فیلد\n",
    "        print(instance) # آبجکت کلاس تست\n",
    "        print(owner) # اسم کلاس که ازش آبجکت ساخته شده\n",
    "        return self.name\n",
    "    \n",
    "    def __set__(self, instance, value):\n",
    "        print(instance) # آبجکت کلاس تست\n",
    "        print(value) # مقداری که میخاهیم ست کنیم\n",
    "        if 0 < len(value) < 15:\n",
    "            self.name = value\n",
    "        else:\n",
    "            raise ValueError(f\"Invalid name {value!r}\")\n",
    "    def __delete__(self, instance):\n",
    "        print(\"deleting...\")\n",
    "        del self.name\n",
    "    \n",
    "class Test:\n",
    "    name = NameField()\n",
    "\n",
    "    \n",
    "t = Test()\n",
    "print(t.name) # در اینجا نیم را گرفتیم و متد گت را فرامیخواند\n",
    "t.name = \"reza\" # در اینجا نیم را میخاهیم تغییر دهیم و متدست را فرامیخاند\n",
    "\n",
    "print(t.name)\n",
    "\n",
    "del t.name # در اینجا متد دلیت را صدا میزند"
   ]
  },
  {
   "cell_type": "code",
   "execution_count": 52,
   "id": "c4e35c21-1fc8-4a95-bdce-3816d23fda9c",
   "metadata": {},
   "outputs": [
    {
     "name": "stdout",
     "output_type": "stream",
     "text": [
      "reza\n",
      "ali\n",
      "neda\n",
      "{}\n"
     ]
    },
    {
     "ename": "ValueError",
     "evalue": "Invalid name '' len: 0",
     "output_type": "error",
     "traceback": [
      "\u001b[0;31m---------------------------------------------------------------------------\u001b[0m",
      "\u001b[0;31mValueError\u001b[0m                                Traceback (most recent call last)",
      "Cell \u001b[0;32mIn[52], line 36\u001b[0m\n\u001b[1;32m     33\u001b[0m \u001b[38;5;28mprint\u001b[39m(p\u001b[38;5;241m.\u001b[39mmother_name)\n\u001b[1;32m     35\u001b[0m \u001b[38;5;28mprint\u001b[39m(p\u001b[38;5;241m.\u001b[39m\u001b[38;5;18m__dict__\u001b[39m)\n\u001b[0;32m---> 36\u001b[0m p\u001b[38;5;241m.\u001b[39mfather_name \u001b[38;5;241m=\u001b[39m \u001b[38;5;124m\"\u001b[39m\u001b[38;5;124m\"\u001b[39m\n",
      "Cell \u001b[0;32mIn[52], line 14\u001b[0m, in \u001b[0;36mNameField.__set__\u001b[0;34m(self, instance, value)\u001b[0m\n\u001b[1;32m     12\u001b[0m     \u001b[38;5;28mself\u001b[39m\u001b[38;5;241m.\u001b[39mname \u001b[38;5;241m=\u001b[39m value\n\u001b[1;32m     13\u001b[0m \u001b[38;5;28;01melse\u001b[39;00m:\n\u001b[0;32m---> 14\u001b[0m     \u001b[38;5;28;01mraise\u001b[39;00m \u001b[38;5;167;01mValueError\u001b[39;00m(\u001b[38;5;124mf\u001b[39m\u001b[38;5;124m\"\u001b[39m\u001b[38;5;124mInvalid name \u001b[39m\u001b[38;5;132;01m{\u001b[39;00mvalue\u001b[38;5;132;01m!r}\u001b[39;00m\u001b[38;5;124m len: \u001b[39m\u001b[38;5;132;01m{\u001b[39;00m\u001b[38;5;28mlen\u001b[39m(value)\u001b[38;5;132;01m}\u001b[39;00m\u001b[38;5;124m\"\u001b[39m)\n",
      "\u001b[0;31mValueError\u001b[0m: Invalid name '' len: 0"
     ]
    }
   ],
   "source": [
    "# استفاده از دسکریپتور\n",
    "\n",
    "class NameField:\n",
    "    def __init__(self, name=None):\n",
    "        self.name = name\n",
    "        \n",
    "    def __get__(self, instance, owner):\n",
    "        return self.name\n",
    "    \n",
    "    def __set__(self, instance, value):\n",
    "        if 0 < len(value) < 15:\n",
    "            self.name = value\n",
    "        else:\n",
    "            raise ValueError(f\"Invalid name {value!r} len: {len(value)}\")\n",
    "    def __delete__(self, instance):\n",
    "        print(\"deleting...\")\n",
    "        del self.name\n",
    "\n",
    "\n",
    "class Parent:\n",
    "    child_name = NameField()\n",
    "    father_name = NameField()\n",
    "    mother_name = NameField()\n",
    "    \n",
    "    def __init__(self, child, father, mother):\n",
    "        self.child_name = child\n",
    "        self.father_name = father\n",
    "        self.mother_name = mother\n",
    "        \n",
    "p = Parent(\"reza\", \"ali\", \"neda\")\n",
    "print(p.child_name)\n",
    "print(p.father_name)\n",
    "print(p.mother_name)\n",
    "\n",
    "# چرا پی دات دیکت را خالی نشان میدهد\n",
    "# زیرا همه این اتریبیوت های کلاس پرنت در آبجکتی در کلاس نیم فیلد ذخیره میشوند\n",
    "\n",
    "print(p.__dict__)\n",
    "p.father_name = \"\"           "
   ]
  },
  {
   "cell_type": "code",
   "execution_count": 53,
   "id": "4b7550bd-ba7c-4d0e-a781-506a180a8641",
   "metadata": {},
   "outputs": [
    {
     "name": "stdout",
     "output_type": "stream",
     "text": [
      "{'child_name': 'reza', 'father_name': 'ali', 'mother_name': 'neda'}\n"
     ]
    }
   ],
   "source": [
    "# برای حل این مشکل که دیکت را خالی برنگرداند باید اتریبویت ها را در خود کلاس موردنظر ذخیره کرد با استفاده از اینستنس\n",
    "\n",
    "class NameField:\n",
    "    def __init__(self, name=None):\n",
    "        self.name = name\n",
    "        \n",
    "    def __get__(self, instance, owner):\n",
    "        return instance.__dict__[self.name]\n",
    "    \n",
    "    def __set__(self, instance, value):\n",
    "        if 0 < len(value) < 15:\n",
    "            # از داخل دیکت نمونه ساخته شده از پرنت مقدار موردنظ را اضافه یا تغییر دهد \n",
    "            instance.__dict__[self.name] = value\n",
    "        else:\n",
    "            raise ValueError(f\"Invalid name {value!r} len: {len(value)}\")\n",
    "    def __delete__(self, instance):\n",
    "        print(\"deleting...\")\n",
    "        del instance.__dict__[self.name]\n",
    "\n",
    "\n",
    "class Parent:\n",
    "    # برای اینکه نیم دیفالت در نیم فیلد را برای همه قرار ندهد باید مقدار نیم را بفرستیم\n",
    "    child_name = NameField(\"child_name\")\n",
    "    father_name = NameField(\"father_name\")\n",
    "    mother_name = NameField(\"mother_name\")\n",
    "    \n",
    "    def __init__(self, child, father, mother):\n",
    "        self.child_name = child\n",
    "        self.father_name = father\n",
    "        self.mother_name = mother\n",
    "        \n",
    "p = Parent(\"reza\", \"ali\", \"neda\")\n",
    "\n",
    "print(p.__dict__)\n"
   ]
  },
  {
   "cell_type": "code",
   "execution_count": 54,
   "id": "5f74a8bb-08fc-4f53-8086-81fdca6fd490",
   "metadata": {},
   "outputs": [
    {
     "name": "stdout",
     "output_type": "stream",
     "text": [
      "{'child_name': 'reza', 'father_name': 'ali', 'mother_name': 'neda'}\n"
     ]
    }
   ],
   "source": [
    "# برای ساده کردن دسکریپتور بالا و اینکه نخاهیم مقدار های نیم را به دسکریپتور بفرستیم از ست نیم استفاده میکنیم \n",
    "# بجای اینیت از ست نیم استفاده میکنیم\n",
    "\n",
    "class NameField:\n",
    "    def __set_name__(self, owner, name):\n",
    "        self.name = name\n",
    "        \n",
    "    def __get__(self, instance, owner):\n",
    "        return instance.__dict__[self.name]\n",
    "    \n",
    "    def __set__(self, instance, value):\n",
    "        if 0 < len(value) < 15:\n",
    "            # از داخل دیکت نمونه ساخته شده از پرنت مقدار موردنظ را اضافه یا تغییر دهد \n",
    "            instance.__dict__[self.name] = value\n",
    "        else:\n",
    "            raise ValueError(f\"Invalid name {value!r} len: {len(value)}\")\n",
    "    def __delete__(self, instance):\n",
    "        print(\"deleting...\")\n",
    "        del instance.__dict__[self.name]\n",
    "\n",
    "\n",
    "class Parent:\n",
    "    # دیگر لازم نیست بفرستیم\n",
    "    child_name = NameField()\n",
    "    father_name = NameField()\n",
    "    mother_name = NameField()\n",
    "    \n",
    "    def __init__(self, child, father, mother):\n",
    "        self.child_name = child\n",
    "        self.father_name = father\n",
    "        self.mother_name = mother\n",
    "        \n",
    "p = Parent(\"reza\", \"ali\", \"neda\")\n",
    "\n",
    "print(p.__dict__)\n",
    "\n",
    "\n"
   ]
  },
  {
   "cell_type": "markdown",
   "id": "bdac2ec4-06b7-4fc6-96b4-d833796638aa",
   "metadata": {},
   "source": [
    "# context manager"
   ]
  },
  {
   "cell_type": "raw",
   "id": "15656a51-a43b-4e38-85e7-105f2194ea95",
   "metadata": {},
   "source": [
    "برای دستوراتی که قبل و بعد از انجام شدنشان اتفاقی بیافتد\n",
    "\n",
    "متد اینتر که قبل دستورات انجام میشود\n",
    "\n",
    "و متد اگزیت بعد انجام دستورات\n",
    "\n",
    "\n"
   ]
  },
  {
   "cell_type": "code",
   "execution_count": 59,
   "id": "2c44c2e6-e391-49a5-8b3d-f2f2483db3b5",
   "metadata": {},
   "outputs": [
    {
     "name": "stdout",
     "output_type": "stream",
     "text": [
      "Start!\n",
      "<__main__.C object at 0x7f63ca102b00>\n",
      "--------------------\n",
      "\n",
      "end!\n"
     ]
    },
    {
     "ename": "ZeroDivisionError",
     "evalue": "division by zero",
     "output_type": "error",
     "traceback": [
      "\u001b[0;31m---------------------------------------------------------------------------\u001b[0m",
      "\u001b[0;31mZeroDivisionError\u001b[0m                         Traceback (most recent call last)",
      "Cell \u001b[0;32mIn[59], line 17\u001b[0m\n\u001b[1;32m     15\u001b[0m \u001b[38;5;28mprint\u001b[39m(c)\n\u001b[1;32m     16\u001b[0m \u001b[38;5;28mprint\u001b[39m(\u001b[38;5;124m\"\u001b[39m\u001b[38;5;124m-\u001b[39m\u001b[38;5;124m\"\u001b[39m \u001b[38;5;241m*\u001b[39m \u001b[38;5;241m20\u001b[39m)\n\u001b[0;32m---> 17\u001b[0m \u001b[38;5;28mprint\u001b[39m(\u001b[38;5;241;43m10\u001b[39;49m\u001b[38;5;241;43m/\u001b[39;49m\u001b[38;5;241;43m0\u001b[39;49m)    \n\u001b[1;32m     18\u001b[0m \u001b[38;5;28mprint\u001b[39m(\u001b[38;5;124m\"\u001b[39m\u001b[38;5;124mreza\u001b[39m\u001b[38;5;124m\"\u001b[39m)    \n\u001b[1;32m     19\u001b[0m \u001b[38;5;28mprint\u001b[39m(\u001b[38;5;124m\"\u001b[39m\u001b[38;5;124m*\u001b[39m\u001b[38;5;124m\"\u001b[39m \u001b[38;5;241m*\u001b[39m \u001b[38;5;241m20\u001b[39m)\n",
      "\u001b[0;31mZeroDivisionError\u001b[0m: division by zero"
     ]
    }
   ],
   "source": [
    "class C:\n",
    "    \n",
    "    def __enter__(self):\n",
    "        print(\"Start!\")\n",
    "        # برای که به خود آبجگت اشاره بکند\n",
    "        return self\n",
    "    \n",
    "    # اگر در اگزیت ترو را ریترن کنیم بصورت دیفالت ببه خطا نخواهد خورد\n",
    "    # return true\n",
    "    def __exit__(self, exc_type, exc_val, exc_yb): # این مقادیر در ورودی اگزیت مربوط به استثناها هستند\n",
    "        print(exc_type) # مشخص کننده نوع استثنا\n",
    "        print(exc_val) # مقدار استثنا\n",
    "        print(exc_yb) # مسیریابی خطا\n",
    "        print(\"end!\")\n",
    "        \n",
    "        \n",
    "# برای اینکه این سی خود آبجکت باشد باید در اینتر مقدار آبجکت را ریترن کنیم\n",
    "with C() as c:\n",
    "    print(c)\n",
    "    print(\"-\" * 20)\n",
    "    print(10/0)    \n",
    "    print(\"reza\")    \n",
    "    print(\"*\" * 20)   \n",
    "    \n",
    "# هرجند کد به خطا برخورد بکند اگزیت اجرا میشود\n",
    "    "
   ]
  },
  {
   "cell_type": "code",
   "execution_count": 63,
   "id": "0cb5b968-ac60-4d97-9384-33f20b1e39f3",
   "metadata": {},
   "outputs": [
    {
     "name": "stdout",
     "output_type": "stream",
     "text": [
      "The file was closed!\n",
      "True\n"
     ]
    }
   ],
   "source": [
    "# ساخت یک کانتکت منیجر اختصاصی\n",
    "\n",
    "class FileManager:\n",
    "    def __init__(self, filename, mode):\n",
    "        self.filename = filename\n",
    "        self.mode = mode\n",
    "        self.file = None\n",
    "     \n",
    "    def __enter__(self):\n",
    "        self.file = open(self.filename, self.mode)\n",
    "        return self.file\n",
    "    \n",
    "    def __exit__(self, exc_type, exc_val, exc_yb):\n",
    "        print(\"The file was closed!\")\n",
    "        self.file.close()\n",
    "        \n",
    "with FileManager(\"text.txt\", \"w\") as f:\n",
    "    f.write(\"hello!!!\")\n",
    "\n",
    "print(f.closed)"
   ]
  },
  {
   "cell_type": "markdown",
   "id": "8e89f4da-5348-41e4-a50e-bbb4f628f674",
   "metadata": {},
   "source": [
    "# data class"
   ]
  },
  {
   "cell_type": "raw",
   "id": "2e63710c-17c4-4353-beae-26703c5bdf24",
   "metadata": {},
   "source": [
    "ممکن است گاهس اوقات کلاسی داشته باشیم که صرفا اتریبیوت هایی داخلش ذخیره بکنیم و نمیخای یک کلاس خیلی پیچیده باشه\n",
    "\n",
    "در اینصورت یک دیتا کلاس تعریف میکنیم که فقط اتریبیوت ها را به آن میدهیم و خودش کارهای دیگر و متد های موردنیاز را انجام میدهد\n",
    "\n",
    "البته بیشتر برای اینستنس اتریبیوت ها هستند اما این امکان را دارند کلاس اتریبیوت یا متد تعریف کنیم\n",
    "\n",
    "نیازی به متد اینیت نیست و خود دیتا کلاس این کار را انجام میدهد\n"
   ]
  },
  {
   "cell_type": "code",
   "execution_count": 81,
   "id": "31776a9d-5e96-4536-aad4-bf6dbc04c920",
   "metadata": {},
   "outputs": [
    {
     "name": "stdout",
     "output_type": "stream",
     "text": [
      "Person(name='ali', age=12)\n"
     ]
    }
   ],
   "source": [
    "# ساخت دیتا کلاس\n",
    "# کافی است از ماژول دیتا کلاس دکوریتور دیتا کلاس را ایمپورت کنیم\n",
    "# در دیتا کلاس به اتریبیوت ها فیلد گفته میشود\n",
    "# در دیتا کلاس مجبوریم تایپ ها را مشخص بکنیم\n",
    "# میتونن مقدار پیشفرض هم داشته باشند\n",
    "# فقط نباید وسطی را مقدار پیشفرض داد آخری را ن\n",
    "\n",
    "from dataclasses import dataclass\n",
    "\n",
    "@dataclass\n",
    "class Person:\n",
    "    name: str\n",
    "    age: int = 0\n",
    "\n",
    "p = Person(\"ali\", 12)\n",
    "    \n",
    "print(p)"
   ]
  },
  {
   "cell_type": "code",
   "execution_count": 82,
   "id": "f3dc4233-0ac4-4518-b286-0c5bf354e278",
   "metadata": {},
   "outputs": [
    {
     "name": "stdout",
     "output_type": "stream",
     "text": [
      "Person(name='ali', age=12)\n"
     ]
    }
   ],
   "source": [
    "# اگر بخاهیم از اینیت استفاده بکنیم و یک مقداردهی انجام دهیم یک متد پست اینیت در اختیار ما قرار داده که بعد از اینیت فراخوانی میشود\n",
    "\n",
    "from dataclasses import dataclass\n",
    "\n",
    "@dataclass\n",
    "class Person:\n",
    "    name: str\n",
    "    age: int\n",
    "    \n",
    "    def __post_init__(self):\n",
    "        if self.age <0:\n",
    "            self.age = 0\n",
    "\n",
    "p= Person(\"ali\", 12)\n",
    "    \n",
    "print(p)\n"
   ]
  },
  {
   "cell_type": "code",
   "execution_count": 83,
   "id": "1ca679d5-7b2f-4658-908d-c634e789d3ca",
   "metadata": {},
   "outputs": [
    {
     "name": "stdout",
     "output_type": "stream",
     "text": [
      "Person(name='ali*', age=12)\n"
     ]
    }
   ],
   "source": [
    "# میتونیم مشخص بکنیم که هرکدام از این فیلدهایی که داریم بعنوان ارگومان به این پست اینیت ارسال شود\n",
    "# از حالت فیلد بودن درمیاد و صرفا برای ارسال به پست اینیت است\n",
    "# باید از اینیت ول ساتفاده بکنیم و ان را ایمپورت کنیم\n",
    "\n",
    "\n",
    "from dataclasses import dataclass , InitVar \n",
    "\n",
    "@dataclass\n",
    "class Person:\n",
    "    name: str\n",
    "    age: int\n",
    "    gender: InitVar[str]\n",
    "    \n",
    "    def __post_init__(self, gender):\n",
    "        if gender == \"man\":\n",
    "            self.name += \"*\"\n",
    "\n",
    "p = Person(\"ali\", 12, \"man\")\n",
    "    \n",
    "print(p)"
   ]
  },
  {
   "cell_type": "code",
   "execution_count": 84,
   "id": "93066e4e-8200-4275-b9fe-13b747b5b080",
   "metadata": {},
   "outputs": [
    {
     "ename": "FrozenInstanceError",
     "evalue": "cannot assign to field 'age'",
     "output_type": "error",
     "traceback": [
      "\u001b[0;31m---------------------------------------------------------------------------\u001b[0m",
      "\u001b[0;31mFrozenInstanceError\u001b[0m                       Traceback (most recent call last)",
      "Cell \u001b[0;32mIn[84], line 15\u001b[0m\n\u001b[1;32m     11\u001b[0m     age: \u001b[38;5;28mint\u001b[39m\n\u001b[1;32m     13\u001b[0m p \u001b[38;5;241m=\u001b[39m Person(\u001b[38;5;124m\"\u001b[39m\u001b[38;5;124mali\u001b[39m\u001b[38;5;124m\"\u001b[39m, \u001b[38;5;241m12\u001b[39m)\n\u001b[0;32m---> 15\u001b[0m p\u001b[38;5;241m.\u001b[39mage \u001b[38;5;241m=\u001b[39m \u001b[38;5;241m30\u001b[39m\n\u001b[1;32m     16\u001b[0m \u001b[38;5;28mprint\u001b[39m(p)\n",
      "File \u001b[0;32m<string>:4\u001b[0m, in \u001b[0;36m__setattr__\u001b[0;34m(self, name, value)\u001b[0m\n",
      "\u001b[0;31mFrozenInstanceError\u001b[0m: cannot assign to field 'age'"
     ]
    }
   ],
   "source": [
    "# این دکوریتور دیتا کلاس پارامتر های خیلی متنوعی دارد\n",
    "\n",
    "# کی از آنها فروزن است که بصورت دیفالت فالس است  \n",
    "# این امکان را میدهد که این دیتا کلاس قابل تغییر باشد یا ن\n",
    "\n",
    "from dataclasses import dataclass , InitVar \n",
    "\n",
    "@dataclass(frozen=True)\n",
    "class Person:\n",
    "    name: str\n",
    "    age: int\n",
    "\n",
    "p = Person(\"ali\", 12)\n",
    "\n",
    "p.age = 30\n",
    "print(p)"
   ]
  },
  {
   "cell_type": "code",
   "execution_count": 89,
   "id": "e026b63c-a4e7-47c9-adca-f8bf299557c2",
   "metadata": {},
   "outputs": [
    {
     "name": "stdout",
     "output_type": "stream",
     "text": [
      "Person2(name1='ali', age1=12, name2='amir', age2=25)\n"
     ]
    }
   ],
   "source": [
    "# دیتا کلاس ها میتوانند از هم ارثبری بکنند\n",
    "# مقداردهی الویت با کلاس بالاتر است\n",
    "\n",
    "from dataclasses import dataclass \n",
    "\n",
    "@dataclass\n",
    "class Person1:\n",
    "    name1: str\n",
    "    age1: int\n",
    "\n",
    "@dataclass\n",
    "class Person2(Person1):\n",
    "    name2: str\n",
    "    age2: int\n",
    "    \n",
    "    \n",
    "p = Person2(\"ali\", 12,\"amir\", 25)\n",
    "print(p)"
   ]
  },
  {
   "cell_type": "code",
   "execution_count": 91,
   "id": "00138d5c-4681-4fe0-a0b5-62c12ef0602a",
   "metadata": {},
   "outputs": [
    {
     "name": "stdout",
     "output_type": "stream",
     "text": [
      "10\n"
     ]
    }
   ],
   "source": [
    "# برای نوع اتریبیوت هایی که از نوع کلاس هستند\n",
    "# باید مشخص بکنیم از نوع کلاس ور هستند\n",
    "\n",
    "from dataclasses import dataclass \n",
    "from typing import ClassVar \n",
    "\n",
    "@dataclass\n",
    "class Person:\n",
    "    name: str\n",
    "    age: ClassVar[int] = 10\n",
    "    \n",
    "p = Person(\"ali\")\n",
    "print(Person.age)    "
   ]
  },
  {
   "cell_type": "code",
   "execution_count": null,
   "id": "7ea8a3b2-d96e-4225-984c-cedea12da92f",
   "metadata": {},
   "outputs": [],
   "source": []
  }
 ],
 "metadata": {
  "kernelspec": {
   "display_name": "Python 3 (ipykernel)",
   "language": "python",
   "name": "python3"
  },
  "language_info": {
   "codemirror_mode": {
    "name": "ipython",
    "version": 3
   },
   "file_extension": ".py",
   "mimetype": "text/x-python",
   "name": "python",
   "nbconvert_exporter": "python",
   "pygments_lexer": "ipython3",
   "version": "3.10.9"
  }
 },
 "nbformat": 4,
 "nbformat_minor": 5
}
