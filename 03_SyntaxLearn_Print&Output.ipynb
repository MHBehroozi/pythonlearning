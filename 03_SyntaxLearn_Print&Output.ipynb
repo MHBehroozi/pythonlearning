{
 "cells": [
  {
   "cell_type": "markdown",
   "id": "f77f50af",
   "metadata": {},
   "source": [
    "# روش سنتی"
   ]
  },
  {
   "cell_type": "code",
   "execution_count": 1,
   "id": "6ce419c0",
   "metadata": {},
   "outputs": [
    {
     "name": "stdout",
     "output_type": "stream",
     "text": [
      "x is : 2\n",
      "y is : 3\n",
      "z is : 7\n"
     ]
    }
   ],
   "source": [
    "#فرمت دهی رشته ها با روش سنتی\n",
    "# استفاده از %i برای اینتیجر\n",
    "x = 2\n",
    "y = 3.6\n",
    "print(\"x is : %i\\ny is : %i\\nz is : %i\" % (x, y, 5+2))  # برای اینتینجر می توان از %d نیز استفاده کرد\n",
    "\n",
    "# بطور کلی قابل به شکل زیر است\n",
    "# [(key)] [flag] [w] [.p] type"
   ]
  },
  {
   "cell_type": "code",
   "execution_count": 2,
   "id": "37119ad6",
   "metadata": {},
   "outputs": [
    {
     "name": "stdout",
     "output_type": "stream",
     "text": [
      "A\n",
      "K\n",
      "Hello\n"
     ]
    }
   ],
   "source": [
    "# % [(key)] [flag] [w] [.p] type\n",
    "print(\"%c\" % ('A'))  # %c برای برگردانی کاراکتر است\n",
    "print(\"%c\" % (75))   # استفاده از یونیکد به جای کاراکتر\n",
    "print(\"%s\" % (\"Hello\")) # برای نمایش رشته\n",
    "\n",
    "# %i  نمایش اینتیجر\n",
    "# %d  نمایش اینتیجر\n",
    "# %c  نمایش کاراکتر\n",
    "# %s  نمایش رشته\n",
    "# %e  نمایش اعداد بصورت علمی\n",
    "# %f  نمایش اعداد اعشاری\n",
    "# %c  نمایش در مبانی 8\n",
    "# %x  نمایش در مبانی 16\n",
    "# %r  نمایش رشته ولی به شکلی خاص"
   ]
  },
  {
   "cell_type": "code",
   "execution_count": 3,
   "id": "b6836e7e",
   "metadata": {},
   "outputs": [
    {
     "name": "stdout",
     "output_type": "stream",
     "text": [
      "4321.12\n",
      "   4321.12\n",
      "  +4321.12\n",
      "+4321.12  \n",
      "0004321.12\n",
      "4321.123457 ----- 25\n"
     ]
    }
   ],
   "source": [
    "#مثال ها\n",
    "f = 4321.123456789\n",
    "print(\"%.2f\" % (f))  # تعداد اعشار\n",
    "print(\"%10.2f\" % (f))  # طول میدان\n",
    "print(\"%+10.2f\" % (f))  # نمایش علامت\n",
    "print(\"%-+10.2f\" % (f))  # تغییر مکان فضای خالی میدان\n",
    "print(\"%010.2f\" % (f))  # پر کردن فضای خالی میدان با صفر\n",
    "print(\"%(b)f ----- %(a)i\" % ({'a' : 25, 'b' : f}))  # استفاده از دیکشنری که می توان ترتیب را رعایت نکرد"
   ]
  },
  {
   "cell_type": "code",
   "execution_count": 4,
   "id": "7bca5e11",
   "metadata": {},
   "outputs": [
    {
     "name": "stdout",
     "output_type": "stream",
     "text": [
      "p : 3\n",
      "z : 20\n",
      "0000000000004321.123\n"
     ]
    }
   ],
   "source": [
    "# میتوان پارامتر های قالب بندی را از کاربر دریافت کرد\n",
    "f = 4321.123456789\n",
    "p = int(input(\"p : \"))\n",
    "z = int(input(\"z : \"))\n",
    "print(\"%0*.*f\" % (z, p , f))"
   ]
  },
  {
   "cell_type": "code",
   "execution_count": 1,
   "id": "ac87ae76-b9cf-4e97-ace9-10aeacbab023",
   "metadata": {},
   "outputs": [
    {
     "name": "stdout",
     "output_type": "stream",
     "text": [
      "x : 3 \n",
      "y : 5 \n",
      "z : 8\n",
      "00005.44*\n",
      "7.000000 \n",
      " 3\n"
     ]
    },
    {
     "name": "stdin",
     "output_type": "stream",
     "text": [
      "p : 562\n"
     ]
    },
    {
     "name": "stdout",
     "output_type": "stream",
     "text": [
      "5.4356342243563631200231611728668212890625000000000000000000000000000000000000000000000000000000000000000000000000000000000000000000000000000000000000000000000000000000000000000000000000000000000000000000000000000000000000000000000000000000000000000000000000000000000000000000000000000000000000000000000000000000000000000000000000000000000000000000000000000000000000000000000000000000000000000000000000000000000000000000000000000000000000000000000000000000000000000000000000000000000000000000000000000000000000000000000000000000000000000000000000000000000000000000\n"
     ]
    }
   ],
   "source": [
    "# format string syntax\n",
    "# استفاده از درصد برای نگهداری داده ها\n",
    "x = 3\n",
    "y = 5.43563422435636353\n",
    "\n",
    "print(\"x : %i \\ny : %i \\nz : %i\"%(x,y,5+3))\n",
    "\n",
    "# [(key)] [flag] [w] [.p] type\n",
    "# type is mandatory\n",
    "\n",
    "print(\"%08.2f\" % (y) , \"*\" , sep=\"\")\n",
    "\n",
    "d = { \"a\": 3 , \"b\": 7 }\n",
    "print(\"%(b)f \\n %(a)i\" %(d))\n",
    "\n",
    "p = int(input(\"p :\"));\n",
    "\n",
    "print(\"%*.*f\" % (5,p,y))"
   ]
  },
  {
   "cell_type": "markdown",
   "id": "690f8477",
   "metadata": {},
   "source": [
    "# .format"
   ]
  },
  {
   "cell_type": "code",
   "execution_count": 5,
   "id": "41654aac",
   "metadata": {},
   "outputs": [
    {
     "name": "stdout",
     "output_type": "stream",
     "text": [
      "x is 4321.123456789\n",
      "y is 459876\n",
      "z is 12\n",
      "\n",
      "\n",
      "y is 459876\n",
      "x is 4321.123456789\n",
      "z is 12\n",
      "\n",
      "\n",
      "z is 12\n",
      "y is 459876\n",
      "x is 4321.123456789\n",
      "\n",
      "\n",
      "z is 12\n",
      "y is 459876\n",
      "x is 4321.123456789\n",
      "\n",
      "\n",
      "y is o\n",
      "x is r\n",
      "z is w\n",
      "\n",
      "\n",
      "y is 459876\n",
      "x is 4321.123456789\n",
      "z is 20\n",
      "\n",
      "\n"
     ]
    }
   ],
   "source": [
    "# فرمت دهی به خروجی با .format\n",
    "x = 4321.123456789\n",
    "y = 459876\n",
    "print(\"x is {}\\ny is {}\\nz is {}\\n\\n\" .format(x, y, 5 + 7))\n",
    "\n",
    "print(\"y is {1}\\nx is {2}\\nz is {0}\\n\\n\" .format(5 + 7, y, x)) # در این روش اگر ترتیب متغیر ها متفاوت است می توان ایندکس را داخل آکولات گذاشت\n",
    "# توجه شود که ایندکس گذاری در پایتون از صفر شروع می شود\n",
    "\n",
    "d = {'x':x, 'y':y, 'z':5+7}\n",
    "print(\"z is {z}\\ny is {y}\\nx is {x}\\n\\n\" .format(**d)) # می توان برای مشخص کردن ترتیب از دیکشنری استفاده کرد\n",
    "print(\"z is {z}\\ny is {y}\\nx is {x}\\n\\n\" .format(x = d['x'], y = d['y'], z = d['z'])) # شکل دیگری از استفاده از دیکشنری\n",
    "\n",
    "\n",
    "#استفاده از توالی ها\n",
    "print(\"y is {1}\\nx is {2}\\nz is {0}\\n\\n\" .format(*\"world\")) # با توجه به ایندکس استفاده از رشته\n",
    "print(\"y is {1}\\nx is {2}\\nz is {0}\\n\\n\" .format(*[z, y, x])) #استفاده از لیست"
   ]
  },
  {
   "cell_type": "raw",
   "id": "753a7447",
   "metadata": {},
   "source": [
    " شکل قالب خروجی با .format\n",
    " \n",
    " \"{\" [field_name] [\"!\" conversion] [\":\" format_spec] \"}\"\n",
    " filed_name= آدرس دهی   Conersion= تبدیل به فرمت جدید  format_spec= شکل فرمت\n",
    "\n",
    "بعد دو نقطه [[fill]بalign] [sign] [#] [0] [width] [grouping_option] [.precision] [type]\n",
    "[type] = c | s | % | e | d | i نداریم\n",
    "[.precision] = بعد . تعداد اعشار\n",
    "[grouping_option] = تمایز بین اعداد مثلا پول = , | _\n",
    "[width] = طول میدان\n",
    "[0] = پر کردن فاصله خالی میدان با صفر\n",
    "[#] = مبنا = #b | b | o | x = فقط برای اعداد\n",
    "[sign] + نمایش علامت  \n",
    "[align] = < ^ > جهت فاصله های میدان\n",
    "[fill] = فاصله طول میدان را به چی پر کند\n"
   ]
  },
  {
   "cell_type": "code",
   "execution_count": 6,
   "id": "c3d439c0",
   "metadata": {},
   "outputs": [
    {
     "name": "stdout",
     "output_type": "stream",
     "text": [
      "Hello 'world'\n",
      "10,164,932,056,947.14\n",
      "+000_987\n",
      "x is ..............12..............\n",
      "x is @@@@@@@@@@@@@@@@@@@@@@@@@@@@75\n"
     ]
    }
   ],
   "source": [
    "print(\"Hello {0!r:}\" .format(\"world\"))\n",
    "print(\"{0:,.2f}\" .format(10164932056947.1364896487))\n",
    "print(\"{0:+08_.0f}\" .format(987.321))\n",
    "print(\"x is {:.^30}\" .format(12))\n",
    "print(\"x is {:@{align}30{type}}\" .format(75, align='>', type='d')) # تعیین مقادیر فرمت در خارج از رشته پرینت"
   ]
  },
  {
   "cell_type": "code",
   "execution_count": 2,
   "id": "471e338d-15f3-436e-a0fe-d477b8103dfa",
   "metadata": {},
   "outputs": [
    {
     "name": "stdout",
     "output_type": "stream",
     "text": [
      "x : 3 \ty : 5.435634224356363 \tz : 8\n",
      "x : 3 \ty : 8 \tz : 5.435634224356363\n",
      "x : 5.435634224356363 \ty : 3 \tz : 5.435634224356363\n",
      "a :3 \t b :7\n",
      "a :3 \t b :3\n",
      "x : e \ty : r \tz : a\n",
      "x : 2 \ty : 1 \tz : 5\n",
      "x is '+'\n",
      "x is n\n",
      "x is 0,000,001,231.32\n",
      "x is 0b1100\n",
      "x is +000,001,240.00\n",
      "x is *****1240******\n",
      "x is ***********1240\n"
     ]
    }
   ],
   "source": [
    "x = 3\n",
    "y = 5.43563422435636353\n",
    "\n",
    "print(\"x : {} \\ty : {} \\tz : {}\".format(x,y,5+3))\n",
    "print(\"x : {0} \\ty : {2} \\tz : {1}\".format(x,y,5+3))\n",
    "print(\"x : {1} \\ty : {0} \\tz : {1}\".format(x,y,5+3))\n",
    "\n",
    "d = { \"a\": 3 , \"b\": 7 }\n",
    "print(\"a :{a} \\t b :{b}\".format(**d))\n",
    "print(\"a :{a} \\t b :{a}\".format(a = d['a'] , b = d['b']))\n",
    "\n",
    "print(\"x : {1} \\ty : {0} \\tz : {3}\".format(*'reza'))\n",
    "print(\"x : {1} \\ty : {0} \\tz : {2}\".format(*[1,2,5]))\n",
    "\n",
    "# \"{\" [field_name] [\"!\" conversion] [\":\" format_spec] \"}\"\n",
    "print(\"x is {0!r:3}\".format(\"+\"))\n",
    "\n",
    "# after \":\"\n",
    "# [[fill]align][sign][#][0][with][grouping_option][.precision][type]\n",
    "\n",
    "print(\"x is {0:c}\".format(110))\n",
    "print(\"x is {0:015,.2f}\".format(1231.3240))\n",
    "print(\"x is {0:#b}\".format(12))\n",
    "print(\"x is {0:+015,.2f}\".format(1240))\n",
    "print(\"x is {0:*^15}\".format(1240))\n",
    "\n",
    "\n",
    "print(\"x is {0:*{align}15}\".format(1240 , align = '>'))"
   ]
  },
  {
   "cell_type": "markdown",
   "id": "c7c19a25",
   "metadata": {},
   "source": [
    "# روش f - string"
   ]
  },
  {
   "cell_type": "code",
   "execution_count": 7,
   "id": "b42fe3f1",
   "metadata": {},
   "outputs": [
    {
     "name": "stdout",
     "output_type": "stream",
     "text": [
      "x is 5\n",
      "y is 4.6353\n",
      "z is 25\n",
      "Hello 'world!'\n",
      "{x} is {5}\n"
     ]
    }
   ],
   "source": [
    "x = 5\n",
    "y = 4.6353\n",
    "print(f\"x is {x}\\ny is {y}\\nz is {5**2}\") # در این روش متغیر یا مقدارش را در آکولات گذاشته و فقط قبل رشته اِف می گذاریم\n",
    "# در این روش فرمت دهی در همان آکولات به شکل .format\n",
    "s = \"world!\"\n",
    "print(f\"Hello {s!r:}\")\n",
    "print(f\"{{x}} is {{{x}}}\")  # اگر می خواهیم آکولات هم چاپ شود. این مورد نیز به همین شکل در .format"
   ]
  },
  {
   "cell_type": "code",
   "execution_count": 8,
   "id": "9c3b5c8d",
   "metadata": {},
   "outputs": [
    {
     "name": "stdout",
     "output_type": "stream",
     "text": [
      "result: HELLO\n",
      "replace: hell!!!\n"
     ]
    }
   ],
   "source": [
    "# چاپ خروجی تابع\n",
    "def f(s):\n",
    "    return s.upper()\n",
    "    \n",
    "x = \"hello\"\n",
    "print(f\"result: {f(x)}\")\n",
    "print(f\"replace: {x.replace('o','!!!')}\")"
   ]
  },
  {
   "cell_type": "code",
   "execution_count": 9,
   "id": "6c2e03ae",
   "metadata": {},
   "outputs": [
    {
     "name": "stdout",
     "output_type": "stream",
     "text": [
      "Enter the Name: Salam\n",
      "Enter the Age: 25\n",
      "\n",
      "The name is: Salam\n",
      "The age is: 25\n"
     ]
    }
   ],
   "source": [
    "#مثال\n",
    "name = input(\"Enter the Name: \")\n",
    "age = int(input(\"Enter the Age: \"))\n",
    "\n",
    "msg = (\n",
    "    f\"\\nThe name is: {name}\\n\"\n",
    "    f\"The age is: {age}\"\n",
    ")\n",
    "\n",
    "print(msg)"
   ]
  },
  {
   "cell_type": "code",
   "execution_count": 10,
   "id": "2956254b",
   "metadata": {},
   "outputs": [
    {
     "name": "stdout",
     "output_type": "stream",
     "text": [
      "today is 2022/11\n"
     ]
    }
   ],
   "source": [
    "import datetime\n",
    "s = datetime.datetime.now()\n",
    "print(f\"today is {s:%Y/%m}\")"
   ]
  },
  {
   "cell_type": "code",
   "execution_count": null,
   "id": "c806d931-4fb9-4776-8624-6273ac2b8c68",
   "metadata": {},
   "outputs": [],
   "source": [
    "#F string\n",
    "x = 3\n",
    "y = 5.43563422435636353\n",
    "\n",
    "print(F\"x : {x!r} \\ty : {y:010.2f} \\tz : {5+8}\")\n",
    "print(F\"x : {{x}} ,, {{{x}}}\")\n",
    "  \n",
    "x = \"amir\"\n",
    "def f(s):\n",
    "    return s.upper()\n",
    "print(f\"x is {f(x)}\")\n",
    "\n",
    "# you can use methode in curly bracket \n",
    "\n",
    "name = \"amir\"\n",
    "age = 23\n",
    "\n",
    "msg = (\n",
    "    f\"name: {name}\\n\"\n",
    "    f\"age: {age}\\n\"\n",
    ")\n",
    "print(msg)\n",
    "\n",
    "\n",
    "import datetime\n",
    "today = datetime.datetime.today()\n",
    "\n",
    "print(f\"{today:%Y/%m****%B}\")\n",
    "\n",
    "\n",
    "d = { \"a\": 3 , \"b\": 7 }\n",
    "print(\"a :{a} \\t b :{b}\".format(**d))\n",
    "print(\"a :{a} \\t b :{a}\".format(a = d['a'] , b = d['b']))\n",
    "\n",
    "print(\"x : {1} \\ty : {0} \\tz : {3}\".format(*'reza'))\n",
    "print(\"x : {1} \\ty : {0} \\tz : {2}\".format(*[1,2,5]))\n",
    "\n",
    "# \"{\" [field_name] [\"!\" conversion] [\":\" format_spec] \"}\"\n",
    "\n",
    "# after \":\"\n",
    "# [[fill]align][sign][#][0][with][grouping_option][.precision][type]\n",
    "\n",
    "print(f\"{x:+<12}*\")"
   ]
  },
  {
   "cell_type": "code",
   "execution_count": null,
   "id": "d440b52c-753f-450d-b7ac-2f84d68187da",
   "metadata": {},
   "outputs": [],
   "source": []
  }
 ],
 "metadata": {
  "kernelspec": {
   "display_name": "Python 3 (ipykernel)",
   "language": "python",
   "name": "python3"
  },
  "language_info": {
   "codemirror_mode": {
    "name": "ipython",
    "version": 3
   },
   "file_extension": ".py",
   "mimetype": "text/x-python",
   "name": "python",
   "nbconvert_exporter": "python",
   "pygments_lexer": "ipython3",
   "version": "3.10.9"
  }
 },
 "nbformat": 4,
 "nbformat_minor": 5
}
