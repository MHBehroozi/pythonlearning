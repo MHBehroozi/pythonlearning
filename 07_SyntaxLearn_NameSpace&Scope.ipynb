{
 "cells": [
  {
   "cell_type": "markdown",
   "id": "5551b541-908e-4c87-98b7-349a51cd2f78",
   "metadata": {
    "tags": []
   },
   "source": [
    "## Namespace & Scope"
   ]
  },
  {
   "cell_type": "markdown",
   "id": "0a9aac10-e4cb-4169-9ae3-9f87e1089ad1",
   "metadata": {},
   "source": [
    "6-->10"
   ]
  },
  {
   "cell_type": "markdown",
   "id": "ab8dbe89-1a7f-47ce-a70f-9c24f41bd9de",
   "metadata": {},
   "source": [
    "هنگامی که برنامه ما در کنار سایر برنامه ها قرار میگیرد ممکن است اشیائی با نام یکسان ولی در برنامه های متفاوت وجود داشته باشند"
   ]
  },
  {
   "cell_type": "markdown",
   "id": "90e8962e-9351-4a65-b5fb-177d11c64138",
   "metadata": {},
   "source": [
    "فضانام مانند نام خانوادگی است که افراد با اسم یکسان با یکدیگر تمایز داده شوند"
   ]
  },
  {
   "cell_type": "code",
   "execution_count": 3,
   "id": "67d00c6e-4768-4067-8159-7eb85747efe0",
   "metadata": {},
   "outputs": [],
   "source": [
    "# یک دیکنشری برای هر برنامه تعریف می شود که اشیاء برنامه را مشخص می کند"
   ]
  },
  {
   "cell_type": "markdown",
   "id": "3b06d851-2625-4d88-9bf4-83eb61add313",
   "metadata": {},
   "source": [
    "حوزه محیطی است که دسترسی به فضانام در آن مشخص می شود"
   ]
  },
  {
   "cell_type": "markdown",
   "id": "b1c60d6e-a276-4bf8-ab35-b5c4b8903eb9",
   "metadata": {
    "tags": []
   },
   "source": [
    "مثل این که صدا کنیم محمد، کسی جواب می دهد که به شما نزدیک تر است"
   ]
  },
  {
   "cell_type": "markdown",
   "id": "fef9c4b1-6cbd-46b7-9e5c-6809ee39fa30",
   "metadata": {},
   "source": [
    "در صورتی که فضانام را مشخص نکنیم، با یک اسم شیئی فراخوانده می شود که در یک حوزه هست"
   ]
  },
  {
   "cell_type": "markdown",
   "id": "494e82f7-0c54-4744-a538-0fdf35d3f661",
   "metadata": {},
   "source": [
    "مثل این که صدا کنیم محمد، کسی جواب می دهد که به شما نزدیک تر است"
   ]
  },
  {
   "cell_type": "markdown",
   "id": "e1fe02f9-ead6-4104-8dc4-62440dfaf347",
   "metadata": {},
   "source": [
    "Scope priority : Local > Enclosed > Global > Built-in"
   ]
  },
  {
   "cell_type": "code",
   "execution_count": 4,
   "id": "8574404d-a7d7-40fd-a113-4ff10d6e5ae3",
   "metadata": {},
   "outputs": [],
   "source": [
    "# localخانواده | Enclosedفامیل | Globalکشور | BuiltInدنیا"
   ]
  },
  {
   "cell_type": "code",
   "execution_count": 5,
   "id": "2bea40a9-7772-4692-8c2b-642bb3408026",
   "metadata": {},
   "outputs": [],
   "source": [
    "# به هر اسکریپت .py\n",
    "# یک ماژول گفته می شود"
   ]
  },
  {
   "cell_type": "markdown",
   "id": "7b234649-48d6-4dd0-98e6-61039a48c149",
   "metadata": {},
   "source": [
    "Built-in"
   ]
  },
  {
   "cell_type": "code",
   "execution_count": 6,
   "id": "5a948aec-9b28-4ad4-84e8-5fe5f2bb2170",
   "metadata": {},
   "outputs": [
    {
     "name": "stdout",
     "output_type": "stream",
     "text": [
      "['ArithmeticError', 'AssertionError', 'AttributeError', 'BaseException', 'BlockingIOError', 'BrokenPipeError', 'BufferError', 'BytesWarning', 'ChildProcessError', 'ConnectionAbortedError', 'ConnectionError', 'ConnectionRefusedError', 'ConnectionResetError', 'DeprecationWarning', 'EOFError', 'Ellipsis', 'EnvironmentError', 'Exception', 'False', 'FileExistsError', 'FileNotFoundError', 'FloatingPointError', 'FutureWarning', 'GeneratorExit', 'IOError', 'ImportError', 'ImportWarning', 'IndentationError', 'IndexError', 'InterruptedError', 'IsADirectoryError', 'KeyError', 'KeyboardInterrupt', 'LookupError', 'MemoryError', 'ModuleNotFoundError', 'NameError', 'None', 'NotADirectoryError', 'NotImplemented', 'NotImplementedError', 'OSError', 'OverflowError', 'PendingDeprecationWarning', 'PermissionError', 'ProcessLookupError', 'RecursionError', 'ReferenceError', 'ResourceWarning', 'RuntimeError', 'RuntimeWarning', 'StopAsyncIteration', 'StopIteration', 'SyntaxError', 'SyntaxWarning', 'SystemError', 'SystemExit', 'TabError', 'TimeoutError', 'True', 'TypeError', 'UnboundLocalError', 'UnicodeDecodeError', 'UnicodeEncodeError', 'UnicodeError', 'UnicodeTranslateError', 'UnicodeWarning', 'UserWarning', 'ValueError', 'Warning', 'WindowsError', 'ZeroDivisionError', '__IPYTHON__', '__build_class__', '__debug__', '__doc__', '__import__', '__loader__', '__name__', '__package__', '__spec__', 'abs', 'all', 'any', 'ascii', 'bin', 'bool', 'breakpoint', 'bytearray', 'bytes', 'callable', 'chr', 'classmethod', 'compile', 'complex', 'copyright', 'credits', 'delattr', 'dict', 'dir', 'display', 'divmod', 'enumerate', 'eval', 'exec', 'execfile', 'filter', 'float', 'format', 'frozenset', 'get_ipython', 'getattr', 'globals', 'hasattr', 'hash', 'help', 'hex', 'id', 'input', 'int', 'isinstance', 'issubclass', 'iter', 'len', 'license', 'list', 'locals', 'map', 'max', 'memoryview', 'min', 'next', 'object', 'oct', 'open', 'ord', 'pow', 'print', 'property', 'range', 'repr', 'reversed', 'round', 'runfile', 'set', 'setattr', 'slice', 'sorted', 'staticmethod', 'str', 'sum', 'super', 'tuple', 'type', 'vars', 'zip']\n"
     ]
    }
   ],
   "source": [
    "# در همه ماژول ها وجود دارند\n",
    "# در واقع کلمات کلیدی خود پایتون هست\n",
    "print(dir(__builtins__))"
   ]
  },
  {
   "cell_type": "code",
   "execution_count": null,
   "id": "1d5caa90-760b-45d7-be13-b3735a208144",
   "metadata": {},
   "outputs": [],
   "source": []
  },
  {
   "cell_type": "markdown",
   "id": "b1c167a0-4e6d-4293-9ad0-c14d15a4d6be",
   "metadata": {},
   "source": [
    "Global"
   ]
  },
  {
   "cell_type": "code",
   "execution_count": 7,
   "id": "443ad203-0c19-4f64-872d-dfb767c3194a",
   "metadata": {},
   "outputs": [
    {
     "name": "stdout",
     "output_type": "stream",
     "text": [
      "{'__name__': '__main__', '__doc__': 'Automatically created module for IPython interactive environment', '__package__': None, '__loader__': None, '__spec__': None, '__builtin__': <module 'builtins' (built-in)>, '__builtins__': <module 'builtins' (built-in)>, '_ih': ['', \"# فضانام داخلی توابع و کلاس ها\\n\\ndef A():\\n    x = 4\\n    y = 5\\n    print(locals())\\n    \\ndef B():\\n    x = 's'\\n    y = 'r'\\n    print(locals())\\n\\nA()\\nB()\", '# برای استفاده از فضانام یک ماژول دیگر:\\nimport math\\npi = 20\\nprint(\"local pi: \", pi)\\nprint(\"math pi: \", math.pi)\\n\\n# چاپ فضای نمای یک ماژول دیگر:\\nprint(dir(math))', '# یک دیکنشری برای هر برنامه تعریف می شود که اشیاء برنامه را مشخص می کند', '# localخانواده | Enclosedفامیل | Globalکشور | BuiltInدنیا', '# به هر اسکریپت .py\\n# یک ماژول گفته می شود', '# در واقع کلمات کلیدی خود پایتون هست\\nprint(dir(__builtins__))', '# اسم های اشیائی است که داخل هر ماژول تعریف می گردد\\nprint(globals())\\n# این فضای نام قابل تغییر است'], '_oh': {}, '_dh': [WindowsPath('C:/Users/Hoseyn/Jupiter Python Learning NoteBooks')], 'In': ['', \"# فضانام داخلی توابع و کلاس ها\\n\\ndef A():\\n    x = 4\\n    y = 5\\n    print(locals())\\n    \\ndef B():\\n    x = 's'\\n    y = 'r'\\n    print(locals())\\n\\nA()\\nB()\", '# برای استفاده از فضانام یک ماژول دیگر:\\nimport math\\npi = 20\\nprint(\"local pi: \", pi)\\nprint(\"math pi: \", math.pi)\\n\\n# چاپ فضای نمای یک ماژول دیگر:\\nprint(dir(math))', '# یک دیکنشری برای هر برنامه تعریف می شود که اشیاء برنامه را مشخص می کند', '# localخانواده | Enclosedفامیل | Globalکشور | BuiltInدنیا', '# به هر اسکریپت .py\\n# یک ماژول گفته می شود', '# در واقع کلمات کلیدی خود پایتون هست\\nprint(dir(__builtins__))', '# اسم های اشیائی است که داخل هر ماژول تعریف می گردد\\nprint(globals())\\n# این فضای نام قابل تغییر است'], 'Out': {}, 'get_ipython': <bound method InteractiveShell.get_ipython of <ipykernel.zmqshell.ZMQInteractiveShell object at 0x000002AEA23A3820>>, 'exit': <IPython.core.autocall.ZMQExitAutocall object at 0x000002AEA238DD30>, 'quit': <IPython.core.autocall.ZMQExitAutocall object at 0x000002AEA238DD30>, '_': '', '__': '', '___': '', '_i': '# در واقع کلمات کلیدی خود پایتون هست\\nprint(dir(__builtins__))', '_ii': '# به هر اسکریپت .py\\n# یک ماژول گفته می شود', '_iii': '# localخانواده | Enclosedفامیل | Globalکشور | BuiltInدنیا', '_i1': \"# فضانام داخلی توابع و کلاس ها\\n\\ndef A():\\n    x = 4\\n    y = 5\\n    print(locals())\\n    \\ndef B():\\n    x = 's'\\n    y = 'r'\\n    print(locals())\\n\\nA()\\nB()\", 'A': <function A at 0x000002AEA2418CA0>, 'B': <function B at 0x000002AEA24500D0>, '_i2': '# برای استفاده از فضانام یک ماژول دیگر:\\nimport math\\npi = 20\\nprint(\"local pi: \", pi)\\nprint(\"math pi: \", math.pi)\\n\\n# چاپ فضای نمای یک ماژول دیگر:\\nprint(dir(math))', 'math': <module 'math' (built-in)>, 'pi': 20, '_i3': '# یک دیکنشری برای هر برنامه تعریف می شود که اشیاء برنامه را مشخص می کند', '_i4': '# localخانواده | Enclosedفامیل | Globalکشور | BuiltInدنیا', '_i5': '# به هر اسکریپت .py\\n# یک ماژول گفته می شود', '_i6': '# در واقع کلمات کلیدی خود پایتون هست\\nprint(dir(__builtins__))', '_i7': '# اسم های اشیائی است که داخل هر ماژول تعریف می گردد\\nprint(globals())\\n# این فضای نام قابل تغییر است'}\n"
     ]
    }
   ],
   "source": [
    "# اسم های اشیائی است که داخل هر ماژول تعریف می گردد\n",
    "print(globals())\n",
    "# این فضای نام قابل تغییر است"
   ]
  },
  {
   "cell_type": "code",
   "execution_count": 8,
   "id": "b3a50af0-e780-4213-b4c9-fc7b0fb1804e",
   "metadata": {},
   "outputs": [
    {
     "name": "stdout",
     "output_type": "stream",
     "text": [
      "b : می توان اسامی در حوزه گلوبال را تغییر داد\n",
      "********************\n",
      "{'__name__': '__main__', '__doc__': 'Automatically created module for IPython interactive environment', '__package__': None, '__loader__': None, '__spec__': None, '__builtin__': <module 'builtins' (built-in)>, '__builtins__': <module 'builtins' (built-in)>, '_ih': ['', \"# فضانام داخلی توابع و کلاس ها\\n\\ndef A():\\n    x = 4\\n    y = 5\\n    print(locals())\\n    \\ndef B():\\n    x = 's'\\n    y = 'r'\\n    print(locals())\\n\\nA()\\nB()\", '# برای استفاده از فضانام یک ماژول دیگر:\\nimport math\\npi = 20\\nprint(\"local pi: \", pi)\\nprint(\"math pi: \", math.pi)\\n\\n# چاپ فضای نمای یک ماژول دیگر:\\nprint(dir(math))', '# یک دیکنشری برای هر برنامه تعریف می شود که اشیاء برنامه را مشخص می کند', '# localخانواده | Enclosedفامیل | Globalکشور | BuiltInدنیا', '# به هر اسکریپت .py\\n# یک ماژول گفته می شود', '# در واقع کلمات کلیدی خود پایتون هست\\nprint(dir(__builtins__))', '# اسم های اشیائی است که داخل هر ماژول تعریف می گردد\\nprint(globals())\\n# این فضای نام قابل تغییر است', 'x = 5\\ny = 10\\nz = 20\\na = 2\\ndef func():\\n    pass\\nglobals()[\"b\"] = \"می توان اسامی در حوزه گلوبال را تغییر داد\"\\nprint(\"b :\", b)\\nprint(\"*\"*20)\\nprint(globals())'], '_oh': {}, '_dh': [WindowsPath('C:/Users/Hoseyn/Jupiter Python Learning NoteBooks')], 'In': ['', \"# فضانام داخلی توابع و کلاس ها\\n\\ndef A():\\n    x = 4\\n    y = 5\\n    print(locals())\\n    \\ndef B():\\n    x = 's'\\n    y = 'r'\\n    print(locals())\\n\\nA()\\nB()\", '# برای استفاده از فضانام یک ماژول دیگر:\\nimport math\\npi = 20\\nprint(\"local pi: \", pi)\\nprint(\"math pi: \", math.pi)\\n\\n# چاپ فضای نمای یک ماژول دیگر:\\nprint(dir(math))', '# یک دیکنشری برای هر برنامه تعریف می شود که اشیاء برنامه را مشخص می کند', '# localخانواده | Enclosedفامیل | Globalکشور | BuiltInدنیا', '# به هر اسکریپت .py\\n# یک ماژول گفته می شود', '# در واقع کلمات کلیدی خود پایتون هست\\nprint(dir(__builtins__))', '# اسم های اشیائی است که داخل هر ماژول تعریف می گردد\\nprint(globals())\\n# این فضای نام قابل تغییر است', 'x = 5\\ny = 10\\nz = 20\\na = 2\\ndef func():\\n    pass\\nglobals()[\"b\"] = \"می توان اسامی در حوزه گلوبال را تغییر داد\"\\nprint(\"b :\", b)\\nprint(\"*\"*20)\\nprint(globals())'], 'Out': {}, 'get_ipython': <bound method InteractiveShell.get_ipython of <ipykernel.zmqshell.ZMQInteractiveShell object at 0x000002AEA23A3820>>, 'exit': <IPython.core.autocall.ZMQExitAutocall object at 0x000002AEA238DD30>, 'quit': <IPython.core.autocall.ZMQExitAutocall object at 0x000002AEA238DD30>, '_': '', '__': '', '___': '', '_i': '# اسم های اشیائی است که داخل هر ماژول تعریف می گردد\\nprint(globals())\\n# این فضای نام قابل تغییر است', '_ii': '# در واقع کلمات کلیدی خود پایتون هست\\nprint(dir(__builtins__))', '_iii': '# به هر اسکریپت .py\\n# یک ماژول گفته می شود', '_i1': \"# فضانام داخلی توابع و کلاس ها\\n\\ndef A():\\n    x = 4\\n    y = 5\\n    print(locals())\\n    \\ndef B():\\n    x = 's'\\n    y = 'r'\\n    print(locals())\\n\\nA()\\nB()\", 'A': <function A at 0x000002AEA2418CA0>, 'B': <function B at 0x000002AEA24500D0>, '_i2': '# برای استفاده از فضانام یک ماژول دیگر:\\nimport math\\npi = 20\\nprint(\"local pi: \", pi)\\nprint(\"math pi: \", math.pi)\\n\\n# چاپ فضای نمای یک ماژول دیگر:\\nprint(dir(math))', 'math': <module 'math' (built-in)>, 'pi': 20, '_i3': '# یک دیکنشری برای هر برنامه تعریف می شود که اشیاء برنامه را مشخص می کند', '_i4': '# localخانواده | Enclosedفامیل | Globalکشور | BuiltInدنیا', '_i5': '# به هر اسکریپت .py\\n# یک ماژول گفته می شود', '_i6': '# در واقع کلمات کلیدی خود پایتون هست\\nprint(dir(__builtins__))', '_i7': '# اسم های اشیائی است که داخل هر ماژول تعریف می گردد\\nprint(globals())\\n# این فضای نام قابل تغییر است', '_i8': 'x = 5\\ny = 10\\nz = 20\\na = 2\\ndef func():\\n    pass\\nglobals()[\"b\"] = \"می توان اسامی در حوزه گلوبال را تغییر داد\"\\nprint(\"b :\", b)\\nprint(\"*\"*20)\\nprint(globals())', 'x': 5, 'y': 10, 'z': 20, 'a': 2, 'func': <function func at 0x000002AEA2450280>, 'b': 'می توان اسامی در حوزه گلوبال را تغییر داد'}\n"
     ]
    }
   ],
   "source": [
    "x = 5\n",
    "y = 10\n",
    "z = 20\n",
    "a = 2\n",
    "def func():\n",
    "    pass\n",
    "globals()[\"b\"] = \"می توان اسامی در حوزه گلوبال را تغییر داد\"\n",
    "print(\"b :\", b)\n",
    "print(\"*\"*20)\n",
    "print(globals())\n"
   ]
  },
  {
   "cell_type": "code",
   "execution_count": null,
   "id": "38fc7b3a-a0fa-453a-8973-8db2d98e934d",
   "metadata": {},
   "outputs": [],
   "source": []
  },
  {
   "cell_type": "markdown",
   "id": "8dbed9c9-932b-40ac-a679-6b3a74639c1e",
   "metadata": {},
   "source": [
    "Local"
   ]
  },
  {
   "cell_type": "code",
   "execution_count": 9,
   "id": "43f4391a-9101-45fd-8902-43889a32e24a",
   "metadata": {},
   "outputs": [
    {
     "name": "stdout",
     "output_type": "stream",
     "text": [
      "{'x': 4, 'y': 5}\n",
      "{'x': 's', 'y': 'r'}\n"
     ]
    }
   ],
   "source": [
    "# فضانام داخلی توابع و کلاس ها\n",
    "\n",
    "def A():\n",
    "    x = 4\n",
    "    y = 5\n",
    "    print(locals())\n",
    "    \n",
    "def B():\n",
    "    x = 's'\n",
    "    y = 'r'\n",
    "    print(locals())\n",
    "\n",
    "A()\n",
    "B()"
   ]
  },
  {
   "cell_type": "code",
   "execution_count": null,
   "id": "c2bb35ff-9ee0-4d57-a1e0-ae773b8132f8",
   "metadata": {},
   "outputs": [],
   "source": [
    "# گلوبال و لوکال در فضای خارجی ترین لایه ماژول یکسان هستند"
   ]
  },
  {
   "cell_type": "markdown",
   "id": "464f5497-53ce-44eb-a2a6-8413001bf6e8",
   "metadata": {},
   "source": [
    "Enclosed"
   ]
  },
  {
   "cell_type": "code",
   "execution_count": 10,
   "id": "394062dc-549e-4668-b687-5d83f56a3cbe",
   "metadata": {},
   "outputs": [],
   "source": [
    "# در توابع و کلاس های تو در تو مورد استفاده می گیرد"
   ]
  },
  {
   "cell_type": "code",
   "execution_count": null,
   "id": "7b04517b-d3f6-4e5a-9c6e-cbfe31feba8c",
   "metadata": {},
   "outputs": [],
   "source": []
  },
  {
   "cell_type": "code",
   "execution_count": 11,
   "id": "3fefffbe-669d-4d57-830b-897678deb491",
   "metadata": {},
   "outputs": [
    {
     "name": "stdout",
     "output_type": "stream",
     "text": [
      "local pi:  20\n",
      "math pi:  3.141592653589793\n",
      "['__doc__', '__loader__', '__name__', '__package__', '__spec__', 'acos', 'acosh', 'asin', 'asinh', 'atan', 'atan2', 'atanh', 'ceil', 'comb', 'copysign', 'cos', 'cosh', 'degrees', 'dist', 'e', 'erf', 'erfc', 'exp', 'expm1', 'fabs', 'factorial', 'floor', 'fmod', 'frexp', 'fsum', 'gamma', 'gcd', 'hypot', 'inf', 'isclose', 'isfinite', 'isinf', 'isnan', 'isqrt', 'lcm', 'ldexp', 'lgamma', 'log', 'log10', 'log1p', 'log2', 'modf', 'nan', 'nextafter', 'perm', 'pi', 'pow', 'prod', 'radians', 'remainder', 'sin', 'sinh', 'sqrt', 'tan', 'tanh', 'tau', 'trunc', 'ulp']\n"
     ]
    }
   ],
   "source": [
    "# برای استفاده از فضانام یک ماژول دیگر:\n",
    "import math\n",
    "pi = 20\n",
    "print(\"local pi: \", pi)\n",
    "print(\"math pi: \", math.pi)\n",
    "\n",
    "# چاپ فضای نمای یک ماژول دیگر:\n",
    "print(dir(math))"
   ]
  },
  {
   "cell_type": "markdown",
   "id": "6e160dde-8d65-4367-b336-98b886b2381e",
   "metadata": {},
   "source": [
    "# قوانین حوزه ها"
   ]
  },
  {
   "cell_type": "code",
   "execution_count": 13,
   "id": "fb449487-ecf5-4832-9eb5-9752d70bbf77",
   "metadata": {},
   "outputs": [],
   "source": [
    "#   شرطی ها و حلقه ها حوزه لوکال خود را ندارند و متغییری که تعریف بشه در آنها در فضای گاوبال قابل دسترسی است\n",
    "# فضای نام لوکال به همه فضانام های بالاتر از خودش دسترس دارد\n",
    "# با فراخوانی یک اسم ابتدا در پایین ترین حوزه فراخوانی می شود و اگر اسمی نبود با حوزه بالاتری می رود\n",
    "# ولی برعکس آن صادق نیست! اگر فراخوانی در حوزه خود مثلا گلوبال اسمی نیافت به حوزه پایین تر نمی رود!\n",
    "# توابع حوزه لوکال خود را دارند\n"
   ]
  },
  {
   "cell_type": "code",
   "execution_count": 1,
   "id": "ca7ed47e-5456-4980-a8e8-3814272de18e",
   "metadata": {},
   "outputs": [
    {
     "name": "stdout",
     "output_type": "stream",
     "text": [
      "local x in A:  2\n",
      "global x is:  10\n"
     ]
    }
   ],
   "source": [
    "# تغییر x گلوبال\n",
    "\n",
    "x = 0\n",
    "\n",
    "def A():\n",
    "    x = 2 # لوکال\n",
    "    def B():\n",
    "        global x  # دسترسی به گلوبال\n",
    "        x += 10\n",
    "    B()\n",
    "    print(\"local x in A: \", x)\n",
    "A()\n",
    "print(\"global x is: \", x)"
   ]
  },
  {
   "cell_type": "code",
   "execution_count": 22,
   "id": "b54f4c0e-362e-4424-82a1-deccddf52297",
   "metadata": {},
   "outputs": [
    {
     "name": "stdout",
     "output_type": "stream",
     "text": [
      "local x in A:  10\n",
      "global x is:  0\n"
     ]
    }
   ],
   "source": [
    "# تغییر x بالاتر\n",
    "\n",
    "x = 0\n",
    "\n",
    "def A():\n",
    "    x = 2 # لوکال\n",
    "    def B():\n",
    "        nonlocal x  # دسترسی به انکلوزد\n",
    "        x = 10\n",
    "    B()\n",
    "    print(\"local x in A: \", x)\n",
    "A()\n",
    "print(\"global x is: \", x)"
   ]
  }
 ],
 "metadata": {
  "kernelspec": {
   "display_name": "Python 3 (ipykernel)",
   "language": "python",
   "name": "python3"
  },
  "language_info": {
   "codemirror_mode": {
    "name": "ipython",
    "version": 3
   },
   "file_extension": ".py",
   "mimetype": "text/x-python",
   "name": "python",
   "nbconvert_exporter": "python",
   "pygments_lexer": "ipython3",
   "version": "3.10.9"
  }
 },
 "nbformat": 4,
 "nbformat_minor": 5
}
