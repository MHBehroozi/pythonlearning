{
 "cells": [
  {
   "cell_type": "markdown",
   "id": "2d2e4dd9-0f89-4d7e-be3d-7582c47fd13b",
   "metadata": {},
   "source": [
    "انواع خطاها\n"
   ]
  },
  {
   "cell_type": "code",
   "execution_count": 4,
   "id": "1544b354-637d-4707-9845-cea26d6f289d",
   "metadata": {},
   "outputs": [],
   "source": [
    "# logical error\n",
    "# خطاهای منطقی\n",
    "# ربنامه به درستی اجرا میشود اما جواب نادرست است\n",
    "\n",
    "# syntax error\n",
    "# خطا در ساختار که قبل از اجرای برنامه ارورر میدهد\n",
    "# با فلش نشان میدهد در کجا رخ داده است\n",
    "\n",
    "# runtime error\n",
    "# استثناها\n",
    "# یکسری خطاها که موقع اجرا رخ میدهند\n",
    "# میشه استثنا ها را مدیریت کرد\n",
    "# دارای traceback - ردیابی خطا\n"
   ]
  },
  {
   "cell_type": "code",
   "execution_count": 2,
   "id": "68cf9bd6-0af2-4b12-8e98-ad4a87730560",
   "metadata": {},
   "outputs": [
    {
     "ename": "SyntaxError",
     "evalue": "incomplete input (3716500908.py, line 5)",
     "output_type": "error",
     "traceback": [
      "\u001b[0;36m  Cell \u001b[0;32mIn[2], line 5\u001b[0;36m\u001b[0m\n\u001b[0;31m    \u001b[0m\n\u001b[0m    ^\u001b[0m\n\u001b[0;31mSyntaxError\u001b[0m\u001b[0;31m:\u001b[0m incomplete input\n"
     ]
    }
   ],
   "source": [
    "# syntax error\n",
    "\n",
    "if True:\n",
    "    print(\n",
    "        "
   ]
  },
  {
   "cell_type": "code",
   "execution_count": 3,
   "id": "4f29f2ef-b901-4927-9f10-97fc39fd93ae",
   "metadata": {},
   "outputs": [
    {
     "name": "stdin",
     "output_type": "stream",
     "text": [
      " 5\n",
      " 0\n"
     ]
    },
    {
     "ename": "ZeroDivisionError",
     "evalue": "division by zero",
     "output_type": "error",
     "traceback": [
      "\u001b[0;31m---------------------------------------------------------------------------\u001b[0m",
      "\u001b[0;31mZeroDivisionError\u001b[0m                         Traceback (most recent call last)",
      "Cell \u001b[0;32mIn[3], line 5\u001b[0m\n\u001b[1;32m      2\u001b[0m x \u001b[38;5;241m=\u001b[39m \u001b[38;5;28mint\u001b[39m(\u001b[38;5;28minput\u001b[39m())\n\u001b[1;32m      3\u001b[0m y \u001b[38;5;241m=\u001b[39m \u001b[38;5;28mint\u001b[39m(\u001b[38;5;28minput\u001b[39m())\n\u001b[0;32m----> 5\u001b[0m \u001b[38;5;28mprint\u001b[39m(\u001b[38;5;124m'\u001b[39m\u001b[38;5;124mX / Y =\u001b[39m\u001b[38;5;124m'\u001b[39m, \u001b[43mx\u001b[49m\u001b[43m \u001b[49m\u001b[38;5;241;43m/\u001b[39;49m\u001b[43m \u001b[49m\u001b[43my\u001b[49m)\n",
      "\u001b[0;31mZeroDivisionError\u001b[0m: division by zero"
     ]
    }
   ],
   "source": [
    "# exception\n",
    "\n",
    "x = int(input())\n",
    "y = int(input())\n",
    "\n",
    "print('X / Y =', x / y)"
   ]
  },
  {
   "cell_type": "code",
   "execution_count": 2,
   "id": "1467096f-1915-4938-b68b-43cc959e4484",
   "metadata": {},
   "outputs": [
    {
     "name": "stdin",
     "output_type": "stream",
     "text": [
      " 2\n",
      " 0\n"
     ]
    },
    {
     "name": "stdout",
     "output_type": "stream",
     "text": [
      "erorr zero\n"
     ]
    }
   ],
   "source": [
    "# داخل بدنه ترای کدهایی که احتمال خطا دارد نشان میدهد و با این روش ادامه دستورات اجرا میشه بدون خوردن به خطا\n",
    "# داخل بدنه اکسپت کاری رو که اگر کد با خطا مواجهه شده را باید بنویسیم\n",
    "# اگر در داخل بدنه ترای به ارورر بخوریم دستورات بعد از آن اجرا نمیشود\n",
    "\n",
    "try:\n",
    "    x = int(input())\n",
    "    y = int(input())\n",
    "\n",
    "    print('X / Y =', x / y)\n",
    "except:\n",
    "    print('erorr zero')"
   ]
  },
  {
   "cell_type": "code",
   "execution_count": 5,
   "id": "e9cbc13d-6467-476d-a45a-d244a856823c",
   "metadata": {},
   "outputs": [
    {
     "name": "stdin",
     "output_type": "stream",
     "text": [
      "x:  s\n"
     ]
    },
    {
     "name": "stdout",
     "output_type": "stream",
     "text": [
      "try again...\n"
     ]
    },
    {
     "name": "stdin",
     "output_type": "stream",
     "text": [
      "x:  2\n"
     ]
    },
    {
     "name": "stdout",
     "output_type": "stream",
     "text": [
      "2\n"
     ]
    }
   ],
   "source": [
    "\n",
    "while True:\n",
    "    try:\n",
    "        x = int(input(\"x: \"))\n",
    "        break\n",
    "    except:\n",
    "        print(\"try again...\")\n",
    "        \n",
    "print(x)"
   ]
  },
  {
   "cell_type": "code",
   "execution_count": 3,
   "id": "b92def72-09ef-4c94-bb7c-716ff6c5a099",
   "metadata": {},
   "outputs": [
    {
     "name": "stdin",
     "output_type": "stream",
     "text": [
      " 5\n",
      " 0\n"
     ]
    },
    {
     "name": "stdout",
     "output_type": "stream",
     "text": [
      "ZeroDivisionError :\n"
     ]
    },
    {
     "name": "stdin",
     "output_type": "stream",
     "text": [
      " 2\n"
     ]
    }
   ],
   "source": [
    "# گاهی اوقات نوع استثنا را مشخص میکنیم\n",
    "# برای ارور های دیگر  میتونیم یک اکسپت دیگر بنویسیم\n",
    "# میتونیم چنتا مدل اررور داشته باشیم\n",
    "\n",
    "\n",
    "try:\n",
    "    x = int(input())\n",
    "    y = int(input())\n",
    "    print('X / Y =', x / y)\n",
    "    \n",
    "except ZeroDivisionError:\n",
    "    print('ZeroDivisionError :')\n",
    "    y = int(input())\n",
    "    print('X / Y =', x / y)\n",
    "    \n",
    "except ValueError:\n",
    "    print('ValueError')\n",
    "    \n",
    "except:\n",
    "    print('unknow Error')\n",
    "    "
   ]
  },
  {
   "cell_type": "code",
   "execution_count": 5,
   "id": "2a50cb91-4280-4686-b698-5ccfe555d6f9",
   "metadata": {},
   "outputs": [
    {
     "name": "stdin",
     "output_type": "stream",
     "text": [
      " k\n"
     ]
    },
    {
     "name": "stdout",
     "output_type": "stream",
     "text": [
      "Error :\n"
     ]
    },
    {
     "name": "stdin",
     "output_type": "stream",
     "text": [
      " 5\n",
      " 2\n"
     ]
    },
    {
     "name": "stdout",
     "output_type": "stream",
     "text": [
      "X / Y = 2.5\n"
     ]
    }
   ],
   "source": [
    "# گاهی برای چند اررور یک کار خاص میخاهیم انجام دهیم\n",
    "# استثنا ها به ترتیب از بالا به پایین بررسی میشوند\n",
    "\n",
    "try:\n",
    "    x = int(input())\n",
    "    y = int(input())\n",
    "    print('X / Y =', x / y)\n",
    "    \n",
    "except (ZeroDivisionError,ValueError):\n",
    "    print('Error :')\n",
    "    x = int(input())\n",
    "    y = int(input())\n",
    "    print('X / Y =', x / y)\n",
    "    \n",
    "except NameError:\n",
    "    print('NameError')  \n",
    "\n",
    "# این استثناها شی هستند\n",
    "# اکسپشن کلاس پایه اکثر خطاها و ارورر ها\n",
    "except: # or except Exception:\n",
    "    print('unknow Error')\n",
    "  "
   ]
  },
  {
   "cell_type": "code",
   "execution_count": 9,
   "id": "5ada18a9-b1d8-4e8f-83a3-2473deca7ce4",
   "metadata": {},
   "outputs": [
    {
     "name": "stdin",
     "output_type": "stream",
     "text": [
      " s\n"
     ]
    },
    {
     "name": "stdout",
     "output_type": "stream",
     "text": [
      "ValueError\n"
     ]
    }
   ],
   "source": [
    "# این استثناها شی هستند\n",
    "# اکسپشن کلاس پایه اکثر خطاها و ارورر ها\n",
    "\n",
    "try:\n",
    "    x = int(input())\n",
    "    y = int(input())\n",
    "    print('X / Y =', x / y)\n",
    "\n",
    "# میشه از اسم مستعار آبجکت استفاده کرد\n",
    "except (ZeroDivisionError,ValueError) as E:\n",
    "    print(E.__class__.__name__)\n",
    "    \n",
    "except NameError:\n",
    "    print('NameError')  \n",
    "\n",
    "except Exception:\n",
    "    print('unknow Error')"
   ]
  },
  {
   "cell_type": "code",
   "execution_count": 13,
   "id": "1f739ca4-20a9-4f9d-9456-2ff9ecde3908",
   "metadata": {},
   "outputs": [
    {
     "name": "stdin",
     "output_type": "stream",
     "text": [
      " بث\n"
     ]
    },
    {
     "name": "stdout",
     "output_type": "stream",
     "text": [
      "ValueError\n"
     ]
    }
   ],
   "source": [
    "# نوع خطا را مشخص میکند و برنامه هم متوقف نمیشود\n",
    "\n",
    "try:\n",
    "    x = int(input())\n",
    "    y = int(input())\n",
    "    print('X / Y =', x / y)\n",
    "\n",
    "except Exception as Ex:\n",
    "    print(Ex.__class__.__name__)"
   ]
  },
  {
   "cell_type": "code",
   "execution_count": 4,
   "id": "c593d4e4-2c81-4259-8b37-4799e2072aa2",
   "metadata": {},
   "outputs": [
    {
     "name": "stdin",
     "output_type": "stream",
     "text": [
      " 5\n",
      " 6\n"
     ]
    },
    {
     "name": "stdout",
     "output_type": "stream",
     "text": [
      "X / Y = 0.8333333333333334\n",
      "end\n"
     ]
    }
   ],
   "source": [
    "# یک قسمت الس هم داریم که در صورتیکه هیچکدام از اکسپت ها اجرا نشد آن قسمت اجرا میشود\n",
    "# زمانیکه بدنه ترای به طور کامل اجرا شود\n",
    "# ریترن کردن مقداری در ترای باعث میشه الس دیگر اجرا نشود\n",
    "# اگر استثنایی در الس باشد به خطا خاهیم خورد\n",
    "\n",
    "try:\n",
    "    x = int(input())\n",
    "    y = int(input())\n",
    "    print('X / Y =', x / y)\n",
    "\n",
    "# میتونیم تعیین بکنیم برای چند نوع استثنا یک اتفاق بیافتد\n",
    "except (ZeroDivisionError,ValueError):\n",
    "    print('Error :')\n",
    "    x = int(input())\n",
    "    y = int(input())\n",
    "    print('X / Y =', x / y)\n",
    "    \n",
    "except NameError:\n",
    "    print('NameError')  \n",
    "    \n",
    "except:\n",
    "    print('unknow Error')\n",
    "    \n",
    "else:\n",
    "    print(\"end\")"
   ]
  },
  {
   "cell_type": "code",
   "execution_count": 14,
   "id": "de571ee8-0e99-45bc-8958-3926cc82aa79",
   "metadata": {},
   "outputs": [
    {
     "name": "stdin",
     "output_type": "stream",
     "text": [
      " 5\n",
      " 0\n"
     ]
    },
    {
     "name": "stdout",
     "output_type": "stream",
     "text": [
      "Error :\n"
     ]
    },
    {
     "name": "stdin",
     "output_type": "stream",
     "text": [
      " 6\n",
      " 3\n"
     ]
    },
    {
     "name": "stdout",
     "output_type": "stream",
     "text": [
      "X / Y = 2.0\n",
      "finally end\n"
     ]
    }
   ],
   "source": [
    "# کد درون فاینلی چه استثنا وجود داشته باشد چه نداشته باشد اجرا میشود\n",
    "# فاینلی میتونه به تنهایی استفاده بشه\n",
    "\n",
    "try:\n",
    "    x = int(input())\n",
    "    y = int(input())\n",
    "    if x == 10:\n",
    "        raise NameError(\"hahahahaha  error\")\n",
    "    print('X / Y =', x / y)    \n",
    "except (ZeroDivisionError,ValueError):\n",
    "    print('Error :')\n",
    "    x = int(input())\n",
    "    y = int(input())\n",
    "    print('X / Y =', x / y) \n",
    "else:\n",
    "    print(\"end\")\n",
    "finally:\n",
    "    print(\"finally end\")\n"
   ]
  },
  {
   "cell_type": "code",
   "execution_count": 15,
   "id": "f95212f3-af44-4d4d-98cf-c367fc9369ab",
   "metadata": {},
   "outputs": [
    {
     "name": "stdin",
     "output_type": "stream",
     "text": [
      " 6\n",
      " 0\n"
     ]
    },
    {
     "name": "stdout",
     "output_type": "stream",
     "text": [
      "Error :\n"
     ]
    },
    {
     "name": "stdin",
     "output_type": "stream",
     "text": [
      " 6\n",
      " 9\n"
     ]
    },
    {
     "name": "stdout",
     "output_type": "stream",
     "text": [
      "finally end\n"
     ]
    },
    {
     "ename": "ZeroDivisionError",
     "evalue": "division by zero",
     "output_type": "error",
     "traceback": [
      "\u001b[0;31m---------------------------------------------------------------------------\u001b[0m",
      "\u001b[0;31mZeroDivisionError\u001b[0m                         Traceback (most recent call last)",
      "Cell \u001b[0;32mIn[15], line 8\u001b[0m\n\u001b[1;32m      7\u001b[0m         \u001b[38;5;28;01mraise\u001b[39;00m \u001b[38;5;167;01mNameError\u001b[39;00m(\u001b[38;5;124m\"\u001b[39m\u001b[38;5;124mhahahahaha  error\u001b[39m\u001b[38;5;124m\"\u001b[39m)\n\u001b[0;32m----> 8\u001b[0m     \u001b[38;5;28mprint\u001b[39m(\u001b[38;5;124m'\u001b[39m\u001b[38;5;124mX / Y =\u001b[39m\u001b[38;5;124m'\u001b[39m, \u001b[43mx\u001b[49m\u001b[43m \u001b[49m\u001b[38;5;241;43m/\u001b[39;49m\u001b[43m \u001b[49m\u001b[43my\u001b[49m)    \n\u001b[1;32m      9\u001b[0m \u001b[38;5;28;01mexcept\u001b[39;00m (\u001b[38;5;167;01mZeroDivisionError\u001b[39;00m):\n",
      "\u001b[0;31mZeroDivisionError\u001b[0m: division by zero",
      "\nDuring handling of the above exception, another exception occurred:\n",
      "\u001b[0;31mZeroDivisionError\u001b[0m                         Traceback (most recent call last)",
      "Cell \u001b[0;32mIn[15], line 13\u001b[0m\n\u001b[1;32m     11\u001b[0m     x \u001b[38;5;241m=\u001b[39m \u001b[38;5;28mint\u001b[39m(\u001b[38;5;28minput\u001b[39m())\n\u001b[1;32m     12\u001b[0m     y \u001b[38;5;241m=\u001b[39m \u001b[38;5;28mint\u001b[39m(\u001b[38;5;28minput\u001b[39m())\n\u001b[0;32m---> 13\u001b[0m     \u001b[38;5;28mprint\u001b[39m(\u001b[38;5;124m'\u001b[39m\u001b[38;5;124mX / Y =\u001b[39m\u001b[38;5;124m'\u001b[39m, \u001b[43mx\u001b[49m\u001b[43m \u001b[49m\u001b[38;5;241;43m/\u001b[39;49m\u001b[43m \u001b[49m\u001b[38;5;241;43m0\u001b[39;49m) \n\u001b[1;32m     14\u001b[0m \u001b[38;5;28;01melse\u001b[39;00m:\n\u001b[1;32m     15\u001b[0m     \u001b[38;5;28mprint\u001b[39m(\u001b[38;5;124m\"\u001b[39m\u001b[38;5;124mend\u001b[39m\u001b[38;5;124m\"\u001b[39m)\n",
      "\u001b[0;31mZeroDivisionError\u001b[0m: division by zero"
     ]
    }
   ],
   "source": [
    "# حتی درون بدنه استثنا هم استثنایی باشد فاینلی اجرا میشود\n",
    "\n",
    "try:\n",
    "    x = int(input())\n",
    "    y = int(input())\n",
    "    if x == 10:\n",
    "        raise NameError(\"hahahahaha  error\")\n",
    "    print('X / Y =', x / y)    \n",
    "except (ZeroDivisionError):\n",
    "    print('Error :')\n",
    "    x = int(input())\n",
    "    print('X / 0 =', x / 0) \n",
    "else:\n",
    "    print(\"end\")\n",
    "finally:\n",
    "    print(\"finally end\")\n",
    "\n",
    "    "
   ]
  },
  {
   "cell_type": "code",
   "execution_count": 19,
   "id": "d7efd7f0-75bf-4e1f-8612-f13a1a14f33c",
   "metadata": {},
   "outputs": [
    {
     "name": "stdout",
     "output_type": "stream",
     "text": [
      "finally end\n",
      "2\n"
     ]
    }
   ],
   "source": [
    "# برای پاکسازی یا بستن فایل و یا شی ساختیم که بخاهیم حذفش کنیم استفاده میشود\n",
    "# ریترن کردن در بدنه ترای باعث میشه الس اجرا نشود اما در عملکرد فاینلی تاثیری نندارد\n",
    "\n",
    "# در صورت ریترن کردن در ترای و الس و فاینلی ریترن در فاینلی اجرا میشود\n",
    "\n",
    "def func(x,y):\n",
    "    try:\n",
    "        return x/y   \n",
    "    except (ZeroDivisionError):\n",
    "        print('Error :')\n",
    "        x = int(input())\n",
    "        print('X / 0 =', x / 0) \n",
    "    else:\n",
    "        print(\"end\")\n",
    "        return 9\n",
    "    finally:\n",
    "        print(\"finally end\")\n",
    "        return 2\n",
    "    \n",
    "print(func(5,6))"
   ]
  },
  {
   "cell_type": "code",
   "execution_count": 20,
   "id": "49b11bb9-6007-447b-9e33-462e23c9bad1",
   "metadata": {},
   "outputs": [
    {
     "name": "stdout",
     "output_type": "stream",
     "text": [
      "finally end\n",
      "2\n"
     ]
    }
   ],
   "source": [
    "# فاینلی بخشی که خطا برمیگرداند را نگه میدارد و ابتدا اجرا میشود\n",
    "# بنابراین اگر چیزی ریترن بکنیم خطایی اجرا نمیشود\n",
    "\n",
    "def func(x,y):\n",
    "    try:\n",
    "        print(x/y)   \n",
    "    finally:\n",
    "        print(\"finally end\")\n",
    "        return 2\n",
    "    \n",
    "print(func(5,0))"
   ]
  },
  {
   "cell_type": "code",
   "execution_count": 22,
   "id": "dbe5606c-89d1-470b-a8e2-85645e996f44",
   "metadata": {},
   "outputs": [
    {
     "name": "stdin",
     "output_type": "stream",
     "text": [
      "a:  6\n",
      "b:  3\n",
      "c:  0\n"
     ]
    },
    {
     "name": "stdout",
     "output_type": "stream",
     "text": [
      "ZeroDivisionError\n"
     ]
    }
   ],
   "source": [
    "# nested exception\n",
    "# با اینکه ارورر در یک فانکشن دیگر رخ داده مدیریت آن در فانکشن بالاتر است البته الویت با فانکشنی است که خطا در آن رخ داده است\n",
    "# در توابع تو در تور استثنا اگر در توابع داخلی مدیریت شده بود آنرا برمیگرداند اما به لایه های خارجی می آید و در نهایت آن را برمیگرداند\n",
    "# در نهایت اگر مدیریت نشده بود خطا را نشان میدهد\n",
    "\n",
    "def div(x, y, n):\n",
    "    try:\n",
    "        s = x + y\n",
    "        result = s / n\n",
    "        print(result)\n",
    "    except TypeError as te:\n",
    "        # nested exception\n",
    "        print(te.__class__.__name__)\n",
    "        try:\n",
    "            print(z)\n",
    "        except Exception as Ex:\n",
    "            print(Ex.__class__.__name__)\n",
    "            \n",
    "    except ZeroDivisionError as te:\n",
    "        print(te.__class__.__name__)\n",
    "        \n",
    "        \n",
    "def func():\n",
    "    try:\n",
    "        a = int(input(\"a: \"))\n",
    "        b = int(input(\"b: \"))        \n",
    "        c = int(input(\"c: \"))  \n",
    "        div(a,b,c)\n",
    "    except TypeError as te:\n",
    "        print(te.__class__.__name__)\n",
    "    except ZeroDivisionError as te:\n",
    "        print(te.__class__.__name__)\n",
    "        \n",
    "func()"
   ]
  },
  {
   "cell_type": "code",
   "execution_count": 8,
   "id": "f631b536-90f7-458f-8ab8-2e92a328f983",
   "metadata": {},
   "outputs": [
    {
     "name": "stdin",
     "output_type": "stream",
     "text": [
      " 10\n",
      " 2\n"
     ]
    },
    {
     "ename": "NameError",
     "evalue": "hahahahaha  error",
     "output_type": "error",
     "traceback": [
      "\u001b[0;31m---------------------------------------------------------------------------\u001b[0m",
      "\u001b[0;31mNameError\u001b[0m                                 Traceback (most recent call last)",
      "Cell \u001b[0;32mIn[8], line 7\u001b[0m\n\u001b[1;32m      5\u001b[0m     y \u001b[38;5;241m=\u001b[39m \u001b[38;5;28mint\u001b[39m(\u001b[38;5;28minput\u001b[39m())\n\u001b[1;32m      6\u001b[0m     \u001b[38;5;28;01mif\u001b[39;00m x \u001b[38;5;241m==\u001b[39m \u001b[38;5;241m10\u001b[39m:\n\u001b[0;32m----> 7\u001b[0m         \u001b[38;5;28;01mraise\u001b[39;00m \u001b[38;5;167;01mNameError\u001b[39;00m(\u001b[38;5;124m\"\u001b[39m\u001b[38;5;124mhahahahaha  error\u001b[39m\u001b[38;5;124m\"\u001b[39m)\n\u001b[1;32m      8\u001b[0m     \u001b[38;5;28mprint\u001b[39m(\u001b[38;5;124m'\u001b[39m\u001b[38;5;124mX / Y =\u001b[39m\u001b[38;5;124m'\u001b[39m, x \u001b[38;5;241m/\u001b[39m y)\n\u001b[1;32m     10\u001b[0m \u001b[38;5;28;01mexcept\u001b[39;00m (\u001b[38;5;167;01mZeroDivisionError\u001b[39;00m,\u001b[38;5;167;01mValueError\u001b[39;00m):\n",
      "\u001b[0;31mNameError\u001b[0m: hahahahaha  error"
     ]
    }
   ],
   "source": [
    "# میتونیم ما خودمان هم با استفاده از ریس یک اررور تولید کنیم\n",
    "# خطایی که ایجاد میکنیم باید هندل نشده باشد\n",
    "\n",
    "try:\n",
    "    x = int(input())\n",
    "    y = int(input())\n",
    "    if x == 10:\n",
    "        raise NameError(\"hahahahaha  error\")\n",
    "    print('X / Y =', x / y)   \n",
    "except (ZeroDivisionError,ValueError):\n",
    "    print('Error :')\n",
    "    x = int(input())\n",
    "    y = int(input())\n",
    "    print('X / Y =', x / y) \n",
    "else:\n",
    "    print(\"end\")\n"
   ]
  },
  {
   "cell_type": "code",
   "execution_count": 24,
   "id": "b69f9122-3f80-449f-8073-cfbe1a382c32",
   "metadata": {},
   "outputs": [
    {
     "ename": "RuntimeError",
     "evalue": "Oops!",
     "output_type": "error",
     "traceback": [
      "\u001b[0;31m---------------------------------------------------------------------------\u001b[0m",
      "\u001b[0;31mZeroDivisionError\u001b[0m                         Traceback (most recent call last)",
      "Cell \u001b[0;32mIn[24], line 6\u001b[0m, in \u001b[0;36mdiv\u001b[0;34m(x, y, n)\u001b[0m\n\u001b[1;32m      5\u001b[0m s \u001b[38;5;241m=\u001b[39m x \u001b[38;5;241m+\u001b[39m y\n\u001b[0;32m----> 6\u001b[0m d \u001b[38;5;241m=\u001b[39m \u001b[43ms\u001b[49m\u001b[38;5;241;43m/\u001b[39;49m\u001b[43m \u001b[49m\u001b[43mn\u001b[49m\n\u001b[1;32m      7\u001b[0m \u001b[38;5;28mprint\u001b[39m(d)\n",
      "\u001b[0;31mZeroDivisionError\u001b[0m: division by zero",
      "\nThe above exception was the direct cause of the following exception:\n",
      "\u001b[0;31mRuntimeError\u001b[0m                              Traceback (most recent call last)",
      "Cell \u001b[0;32mIn[24], line 11\u001b[0m\n\u001b[1;32m      8\u001b[0m     \u001b[38;5;28;01mexcept\u001b[39;00m \u001b[38;5;167;01mZeroDivisionError\u001b[39;00m \u001b[38;5;28;01mas\u001b[39;00m zde:\n\u001b[1;32m      9\u001b[0m         \u001b[38;5;28;01mraise\u001b[39;00m \u001b[38;5;167;01mRuntimeError\u001b[39;00m(\u001b[38;5;124m\"\u001b[39m\u001b[38;5;124mOops!\u001b[39m\u001b[38;5;124m\"\u001b[39m) \u001b[38;5;28;01mfrom\u001b[39;00m \u001b[38;5;21;01mzde\u001b[39;00m\n\u001b[0;32m---> 11\u001b[0m \u001b[43mdiv\u001b[49m\u001b[43m(\u001b[49m\u001b[38;5;241;43m4\u001b[39;49m\u001b[43m,\u001b[49m\u001b[43m \u001b[49m\u001b[38;5;241;43m0\u001b[39;49m\u001b[43m,\u001b[49m\u001b[43m \u001b[49m\u001b[38;5;241;43m0\u001b[39;49m\u001b[43m)\u001b[49m\n",
      "Cell \u001b[0;32mIn[24], line 9\u001b[0m, in \u001b[0;36mdiv\u001b[0;34m(x, y, n)\u001b[0m\n\u001b[1;32m      7\u001b[0m     \u001b[38;5;28mprint\u001b[39m(d)\n\u001b[1;32m      8\u001b[0m \u001b[38;5;28;01mexcept\u001b[39;00m \u001b[38;5;167;01mZeroDivisionError\u001b[39;00m \u001b[38;5;28;01mas\u001b[39;00m zde:\n\u001b[0;32m----> 9\u001b[0m     \u001b[38;5;28;01mraise\u001b[39;00m \u001b[38;5;167;01mRuntimeError\u001b[39;00m(\u001b[38;5;124m\"\u001b[39m\u001b[38;5;124mOops!\u001b[39m\u001b[38;5;124m\"\u001b[39m) \u001b[38;5;28;01mfrom\u001b[39;00m \u001b[38;5;21;01mzde\u001b[39;00m\n",
      "\u001b[0;31mRuntimeError\u001b[0m: Oops!"
     ]
    }
   ],
   "source": [
    "# میتونیم مرجع اررور را هم مشخص بکنیم\n",
    "\n",
    "def div(x, y, n):\n",
    "    try:\n",
    "        s = x + y\n",
    "        d = s/ n\n",
    "        print(d)\n",
    "    except ZeroDivisionError as zde:\n",
    "        raise RuntimeError(\"Oops!\") from zde\n",
    "        \n",
    "div(4, 0, 0)"
   ]
  },
  {
   "cell_type": "raw",
   "id": "581ee8f4-725f-4b19-bf41-d3cdca5fc04a",
   "metadata": {},
   "source": [
    "create an exception\n",
    "\n",
    "هر یک از استنا ها زیر مجموعه بیس اکسپشن هستند که اکثر استثناها زیر مجموعه اکسپشن هستند\n",
    "\n",
    "برای ساخت استثنا باید از کلاس های والد ارثبری بکنیم\n",
    "\n",
    "بهتره اخر کلاس از کلمه اررور استفاده بکنیم\n",
    "\n"
   ]
  },
  {
   "cell_type": "code",
   "execution_count": 25,
   "id": "027b0a97-a9d6-49f5-957b-74af5d503f80",
   "metadata": {},
   "outputs": [
    {
     "ename": "Exception",
     "evalue": "the string does not contain only numbers!",
     "output_type": "error",
     "traceback": [
      "\u001b[0;31m---------------------------------------------------------------------------\u001b[0m",
      "\u001b[0;31mException\u001b[0m                                 Traceback (most recent call last)",
      "Cell \u001b[0;32mIn[25], line 9\u001b[0m\n\u001b[1;32m      6\u001b[0m         numbers\u001b[38;5;241m.\u001b[39mappend(\u001b[38;5;28mint\u001b[39m(i))\n\u001b[1;32m      7\u001b[0m     \u001b[38;5;28mprint\u001b[39m(numbers)\n\u001b[0;32m----> 9\u001b[0m \u001b[43mfunc\u001b[49m\u001b[43m(\u001b[49m\u001b[38;5;124;43m\"\u001b[39;49m\u001b[38;5;124;43mh661\u001b[39;49m\u001b[38;5;124;43m\"\u001b[39;49m\u001b[43m)\u001b[49m\n",
      "Cell \u001b[0;32mIn[25], line 3\u001b[0m, in \u001b[0;36mfunc\u001b[0;34m(s)\u001b[0m\n\u001b[1;32m      1\u001b[0m \u001b[38;5;28;01mdef\u001b[39;00m \u001b[38;5;21mfunc\u001b[39m(s):\n\u001b[1;32m      2\u001b[0m     \u001b[38;5;28;01mif\u001b[39;00m \u001b[38;5;129;01mnot\u001b[39;00m s\u001b[38;5;241m.\u001b[39misdigit():\n\u001b[0;32m----> 3\u001b[0m         \u001b[38;5;28;01mraise\u001b[39;00m \u001b[38;5;167;01mException\u001b[39;00m(\u001b[38;5;124m\"\u001b[39m\u001b[38;5;124mthe string does not contain only numbers!\u001b[39m\u001b[38;5;124m\"\u001b[39m)\n\u001b[1;32m      4\u001b[0m     numbers \u001b[38;5;241m=\u001b[39m []\n\u001b[1;32m      5\u001b[0m     \u001b[38;5;28;01mfor\u001b[39;00m i \u001b[38;5;129;01min\u001b[39;00m s:\n",
      "\u001b[0;31mException\u001b[0m: the string does not contain only numbers!"
     ]
    }
   ],
   "source": [
    "def func(s):\n",
    "    if not s.isdigit():\n",
    "        raise Exception(\"the string does not contain only numbers!\")\n",
    "    numbers = []\n",
    "    for i in s:\n",
    "        numbers.append(int(i))\n",
    "    print(numbers)\n",
    "    \n",
    "func(\"h661\")"
   ]
  },
  {
   "cell_type": "code",
   "execution_count": 29,
   "id": "519ff751-f5d3-4b61-af21-cf86afc3dbc5",
   "metadata": {},
   "outputs": [
    {
     "name": "stdout",
     "output_type": "stream",
     "text": [
      "h661\n",
      "**DigitError**\n"
     ]
    }
   ],
   "source": [
    "class DigitError(Exception):\n",
    "    # میتونیم هرچی را در این دریافت بکنیم مثل اس که در واقع رشته موردنظر است\n",
    "    def __init__(self, s, message=\"Error\"):\n",
    "        self.message = message\n",
    "        self.s = s\n",
    "        print(s)\n",
    "        super().__init__(self.message)\n",
    "        \n",
    "    def __str__(self):\n",
    "        return \"**DigitError**\"\n",
    "\n",
    "def func(s):\n",
    "    if not s.isdigit():\n",
    "        raise DigitError(s, \"the string does not contain only numbers!\")\n",
    "    numbers = []\n",
    "    for i in s:\n",
    "        numbers.append(int(i))\n",
    "    print(numbers)\n",
    "\n",
    "try:\n",
    "    func(\"h661\")\n",
    "except DigitError as de:\n",
    "    print(de)\n",
    "    "
   ]
  },
  {
   "cell_type": "raw",
   "id": "3da6e16c-03b2-4db5-85d6-467ff3d7e773",
   "metadata": {},
   "source": [
    "warnings\n",
    "\n",
    "هشدار ها\n",
    "\n",
    "اگر با ریز وارنینگ را استفاده بکنیم مثل استثنا برخورد میکند\n",
    "\n",
    "بنابراین از تابع وارنینگز باید استفاده بکنیم\n",
    "\n",
    "بعد از برنامه اگر دستوری باشد اجرا میشود\n",
    "\n",
    "مثل استثنا ها میتونیم با ارثبری از کلاس وارنینگ وارنینگ اختصاصی خودمان را درست بکنیم\n"
   ]
  },
  {
   "cell_type": "code",
   "execution_count": 32,
   "id": "9d6f8f82-0376-436f-af05-6c72c1cc299f",
   "metadata": {},
   "outputs": [
    {
     "name": "stdout",
     "output_type": "stream",
     "text": [
      "33\n",
      "ok!\n"
     ]
    },
    {
     "name": "stderr",
     "output_type": "stream",
     "text": [
      "/tmp/ipykernel_2675/2360017770.py:7: UserWarning: x and y cannot be strings!\n",
      "  warnings.warn(\"x and y cannot be strings!\", UserWarning)\n"
     ]
    }
   ],
   "source": [
    "# مثلا در مثال زیر میخاهیم بگیم بهتر است از عدد بجای رشته استفاده شود\n",
    "\n",
    "import warnings\n",
    "\n",
    "def fun(x:int, y:int):\n",
    "    if not isinstance(x, int) and not isinstance(x, int):\n",
    "        # فرستادن نوع اخطار اجباری نیست\n",
    "        warnings.warn(\"x and y cannot be strings!\", UserWarning)\n",
    "    print(x + y)\n",
    "    \n",
    "fun(\"3\", \"3\")\n",
    "\n",
    "print(\"ok!\")"
   ]
  },
  {
   "cell_type": "raw",
   "id": "d064d994-0dac-452a-a5de-42bf3c90673a",
   "metadata": {},
   "source": [
    "assert\n",
    "\n",
    "زمانی که انتظار داریم یک شرط درست باشد اگر درست باشد ادامه میدهد وگرن دچار مشکل میشود\n",
    "\n",
    "برای دیباگ استفده میشود\n",
    "\n",
    "برای استفاده کلمه اسرت را مینویسیم و بعد جلوی آن یک شرط قرار میدهیم\n",
    "\n",
    "اگر شرط درست باشد برنامه به درستی اجرا میشود وگرن به اررور خواهیم خورد\n",
    "\n",
    "معمولا وقتی که میدونیم یه شرطی درست است و برای مطمین شدن اینکه درست است یا ن از اسرررت استفاده میکنیم\n",
    "\n"
   ]
  },
  {
   "cell_type": "code",
   "execution_count": 36,
   "id": "a44b4292-4b1f-4913-9541-55ddfd12c040",
   "metadata": {},
   "outputs": [
    {
     "ename": "AssertionError",
     "evalue": "yes is not true!!",
     "output_type": "error",
     "traceback": [
      "\u001b[0;31m---------------------------------------------------------------------------\u001b[0m",
      "\u001b[0;31mAssertionError\u001b[0m                            Traceback (most recent call last)",
      "Cell \u001b[0;32mIn[36], line 6\u001b[0m\n\u001b[1;32m      3\u001b[0m     \u001b[38;5;28;01massert\u001b[39;00m \u001b[38;5;28misinstance\u001b[39m(x, \u001b[38;5;28mint\u001b[39m) \u001b[38;5;129;01mand\u001b[39;00m \u001b[38;5;28misinstance\u001b[39m(x, \u001b[38;5;28mint\u001b[39m), \u001b[38;5;124m\"\u001b[39m\u001b[38;5;124myes is not true!!\u001b[39m\u001b[38;5;124m\"\u001b[39m\n\u001b[1;32m      4\u001b[0m     \u001b[38;5;28mprint\u001b[39m(x \u001b[38;5;241m+\u001b[39m y)\n\u001b[0;32m----> 6\u001b[0m \u001b[43mfun\u001b[49m\u001b[43m(\u001b[49m\u001b[38;5;124;43m\"\u001b[39;49m\u001b[38;5;124;43m3\u001b[39;49m\u001b[38;5;124;43m\"\u001b[39;49m\u001b[43m,\u001b[49m\u001b[43m \u001b[49m\u001b[38;5;124;43m\"\u001b[39;49m\u001b[38;5;124;43m3\u001b[39;49m\u001b[38;5;124;43m\"\u001b[39;49m\u001b[43m)\u001b[49m\n\u001b[1;32m      8\u001b[0m \u001b[38;5;28mprint\u001b[39m(\u001b[38;5;124m\"\u001b[39m\u001b[38;5;124mok!\u001b[39m\u001b[38;5;124m\"\u001b[39m)\n",
      "Cell \u001b[0;32mIn[36], line 3\u001b[0m, in \u001b[0;36mfun\u001b[0;34m(x, y)\u001b[0m\n\u001b[1;32m      1\u001b[0m \u001b[38;5;28;01mdef\u001b[39;00m \u001b[38;5;21mfun\u001b[39m(x:\u001b[38;5;28mint\u001b[39m, y:\u001b[38;5;28mint\u001b[39m):\n\u001b[1;32m      2\u001b[0m     \u001b[38;5;66;03m# میتونیم با یک کاما پیام دلخواه خودمان را به آن بدهیم\u001b[39;00m\n\u001b[0;32m----> 3\u001b[0m     \u001b[38;5;28;01massert\u001b[39;00m \u001b[38;5;28misinstance\u001b[39m(x, \u001b[38;5;28mint\u001b[39m) \u001b[38;5;129;01mand\u001b[39;00m \u001b[38;5;28misinstance\u001b[39m(x, \u001b[38;5;28mint\u001b[39m), \u001b[38;5;124m\"\u001b[39m\u001b[38;5;124myes is not true!!\u001b[39m\u001b[38;5;124m\"\u001b[39m\n\u001b[1;32m      4\u001b[0m     \u001b[38;5;28mprint\u001b[39m(x \u001b[38;5;241m+\u001b[39m y)\n",
      "\u001b[0;31mAssertionError\u001b[0m: yes is not true!!"
     ]
    }
   ],
   "source": [
    "\n",
    "\n",
    "def fun(x:int, y:int):\n",
    "    # میتونیم با یک کاما پیام دلخواه خودمان را به آن بدهیم\n",
    "    assert isinstance(x, int) and isinstance(x, int), \"yes is not true!!\"\n",
    "    print(x + y)\n",
    "    \n",
    "fun(\"3\", \"3\")\n",
    "\n",
    "print(\"ok!\")"
   ]
  },
  {
   "cell_type": "code",
   "execution_count": null,
   "id": "50c77073-4e00-4171-9afb-2abf29ab1b7d",
   "metadata": {},
   "outputs": [],
   "source": []
  }
 ],
 "metadata": {
  "kernelspec": {
   "display_name": "Python 3 (ipykernel)",
   "language": "python",
   "name": "python3"
  },
  "language_info": {
   "codemirror_mode": {
    "name": "ipython",
    "version": 3
   },
   "file_extension": ".py",
   "mimetype": "text/x-python",
   "name": "python",
   "nbconvert_exporter": "python",
   "pygments_lexer": "ipython3",
   "version": "3.10.9"
  }
 },
 "nbformat": 4,
 "nbformat_minor": 5
}
