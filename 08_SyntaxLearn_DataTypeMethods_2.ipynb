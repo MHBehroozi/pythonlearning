{
 "cells": [
  {
   "cell_type": "markdown",
   "id": "1e307b95",
   "metadata": {},
   "source": [
    "# متد ها و ابزارهای اعداد"
   ]
  },
  {
   "cell_type": "code",
   "execution_count": 6,
   "id": "775cc58c",
   "metadata": {},
   "outputs": [
    {
     "name": "stdout",
     "output_type": "stream",
     "text": [
      "f1 (2, 1)\n",
      "16\n",
      "f2 1\n",
      "f3 2.36\n",
      "f4 6548.56\n"
     ]
    }
   ],
   "source": [
    "# چهار تابع داخلی، مهم و قابل استفاده برای اعداد در داخل ماژول\n",
    "f1 = divmod(5, 2)  # (5 // 2, 5 % 2)\n",
    "print(\"f1\", f1)\n",
    "\n",
    "f2 = pow(2, 4, 3)  # (2 ^ 4) % 3  # 3اختیاری است و می تواند نباشد و در اینصورت مود حساب نمی شود\n",
    "print(pow(2,4))  # کاربرد در رمزگذاری و امنیت\n",
    "print(\"f2\", f2)\n",
    "\n",
    "f3 = round(2.35563, 2)  # رند کردن تا 2رقم اعشار\n",
    "print(\"f3\", f3)\n",
    "\n",
    "f4 = abs(-6548.56)  # برگرداندن قدر مطلق\n",
    "print(\"f4\", f4)\n"
   ]
  },
  {
   "cell_type": "code",
   "execution_count": 7,
   "id": "f6adbc97",
   "metadata": {},
   "outputs": [
    {
     "name": "stdout",
     "output_type": "stream",
     "text": [
      "['__abs__', '__add__', '__and__', '__bool__', '__ceil__', '__class__', '__delattr__', '__dir__', '__divmod__', '__doc__', '__eq__', '__float__', '__floor__', '__floordiv__', '__format__', '__ge__', '__getattribute__', '__getnewargs__', '__gt__', '__hash__', '__index__', '__init__', '__init_subclass__', '__int__', '__invert__', '__le__', '__lshift__', '__lt__', '__mod__', '__mul__', '__ne__', '__neg__', '__new__', '__or__', '__pos__', '__pow__', '__radd__', '__rand__', '__rdivmod__', '__reduce__', '__reduce_ex__', '__repr__', '__rfloordiv__', '__rlshift__', '__rmod__', '__rmul__', '__ror__', '__round__', '__rpow__', '__rrshift__', '__rshift__', '__rsub__', '__rtruediv__', '__rxor__', '__setattr__', '__sizeof__', '__str__', '__sub__', '__subclasshook__', '__truediv__', '__trunc__', '__xor__', 'as_integer_ratio', 'bit_length', 'conjugate', 'denominator', 'from_bytes', 'imag', 'numerator', 'real', 'to_bytes']\n"
     ]
    }
   ],
   "source": [
    "print(dir(int))"
   ]
  },
  {
   "cell_type": "code",
   "execution_count": 16,
   "id": "ba294c13",
   "metadata": {},
   "outputs": [
    {
     "name": "stdout",
     "output_type": "stream",
     "text": [
      "(3, 2)\n"
     ]
    }
   ],
   "source": [
    "# as_integer_ratio\n",
    "# نسبت پیدا می کند\n",
    "x = 1.5  # 3/2\n",
    "print(x.as_integer_ratio())  # خود عدد را هم می توان جای ایکس آورد ولی بهتر است داخل پرانتز آورد"
   ]
  },
  {
   "cell_type": "code",
   "execution_count": 4,
   "id": "933064b4-ca33-445a-b20c-5e373f31d997",
   "metadata": {},
   "outputs": [
    {
     "name": "stdout",
     "output_type": "stream",
     "text": [
      "0b10000\n",
      "1\n"
     ]
    }
   ],
   "source": [
    "# bit_count   تعداد ارقام یک در باینری را برمیگرداند \n",
    "\n",
    "x = 16\n",
    "print(bin(x))\n",
    "print(x.bit_count())\n"
   ]
  },
  {
   "cell_type": "code",
   "execution_count": 5,
   "id": "2ef58f23",
   "metadata": {},
   "outputs": [
    {
     "name": "stdout",
     "output_type": "stream",
     "text": [
      "5\n"
     ]
    }
   ],
   "source": [
    "# bit_length\n",
    "# برگرداندن تعداد رقم های باینری عدد\n",
    "x = 16\n",
    "print(x.bit_length())"
   ]
  },
  {
   "cell_type": "code",
   "execution_count": 6,
   "id": "281c3c6c",
   "metadata": {},
   "outputs": [
    {
     "name": "stdout",
     "output_type": "stream",
     "text": [
      "(3-4j)\n",
      "4.0\n",
      "3.0\n"
     ]
    }
   ],
   "source": [
    "# conjugate, imag و real\n",
    "# برای اعداد مختلط\n",
    "x = 3 + 4j\n",
    "print(x.conjugate())  # مزدوج آخری پرانتز دارد\n",
    "print(x.imag) # مقیمی اخرش پرانتز ندارد\n",
    "print(x.real) # حقیقی اخرش پرانتز ندارد"
   ]
  },
  {
   "cell_type": "code",
   "execution_count": 38,
   "id": "e47a3448",
   "metadata": {},
   "outputs": [
    {
     "name": "stdout",
     "output_type": "stream",
     "text": [
      "1\n"
     ]
    }
   ],
   "source": [
    "# denominator\n",
    "# مخرج کسر را برمیگرداند\n",
    "x = 16\n",
    "print(x.denominator)\n",
    "# برای اعداد اعشاری کار نمی کند\n",
    "# کاربرد؟؟؟؟؟\n"
   ]
  },
  {
   "cell_type": "code",
   "execution_count": 40,
   "id": "12e9642e",
   "metadata": {},
   "outputs": [
    {
     "name": "stdout",
     "output_type": "stream",
     "text": [
      "456486\n"
     ]
    }
   ],
   "source": [
    "# numerator\n",
    "# صورت کسر  خود عدد را برمیگرداند  #???? !!!!\n",
    "print((456486).numerator)"
   ]
  },
  {
   "cell_type": "code",
   "execution_count": 55,
   "id": "91372647",
   "metadata": {},
   "outputs": [
    {
     "name": "stdout",
     "output_type": "stream",
     "text": [
      "b'\\x00\\x00\\x10'\n"
     ]
    }
   ],
   "source": [
    "# to_bytes\n",
    "# عدد صحیح را به آرایه ای از بایت ها تبدیل می کند. برمبنای 16 یا 32\n",
    "x = 16\n",
    "print(x.to_bytes(3, byteorder='big', signed= 'False'))  # (تعداد رقم آرایه, bit بیگ با ارزشترین آرایه در ابتدا و لیتل در انتها) (متمم دو داشته باشد یا نه)"
   ]
  },
  {
   "cell_type": "code",
   "execution_count": 61,
   "id": "a105d225",
   "metadata": {},
   "outputs": [
    {
     "name": "stdout",
     "output_type": "stream",
     "text": [
      "16\n"
     ]
    }
   ],
   "source": [
    "# from_bytes\n",
    "# برعکس بالایی\n",
    "print(int.from_bytes(b'\\x00\\x00\\x10', byteorder='big'))"
   ]
  },
  {
   "cell_type": "code",
   "execution_count": 62,
   "id": "1801e83c",
   "metadata": {},
   "outputs": [
    {
     "name": "stdout",
     "output_type": "stream",
     "text": [
      "['__abs__', '__add__', '__bool__', '__ceil__', '__class__', '__delattr__', '__dir__', '__divmod__', '__doc__', '__eq__', '__float__', '__floor__', '__floordiv__', '__format__', '__ge__', '__getattribute__', '__getformat__', '__getnewargs__', '__gt__', '__hash__', '__init__', '__init_subclass__', '__int__', '__le__', '__lt__', '__mod__', '__mul__', '__ne__', '__neg__', '__new__', '__pos__', '__pow__', '__radd__', '__rdivmod__', '__reduce__', '__reduce_ex__', '__repr__', '__rfloordiv__', '__rmod__', '__rmul__', '__round__', '__rpow__', '__rsub__', '__rtruediv__', '__setattr__', '__setformat__', '__sizeof__', '__str__', '__sub__', '__subclasshook__', '__truediv__', '__trunc__', 'as_integer_ratio', 'conjugate', 'fromhex', 'hex', 'imag', 'is_integer', 'real']\n"
     ]
    }
   ],
   "source": [
    "# فلوت\n",
    "print(dir(float)) # اکثر متد ها با اینتیجر مشترک است"
   ]
  },
  {
   "cell_type": "code",
   "execution_count": 10,
   "id": "1c58f4d0",
   "metadata": {},
   "outputs": [
    {
     "name": "stdout",
     "output_type": "stream",
     "text": [
      "0x1.0800000000000p+4\n",
      "16.5\n"
     ]
    }
   ],
   "source": [
    "# hex , fromhex\n",
    "# تبدیل با هگزادسیمال\n",
    "f = 16.5\n",
    "print(f.hex())\n",
    "print(f.fromhex(\"0x1.0800000000000p+4\"))  # از هگزادسیمال به دسیمال\n"
   ]
  },
  {
   "cell_type": "code",
   "execution_count": 68,
   "id": "d0e378ee",
   "metadata": {},
   "outputs": [
    {
     "name": "stdout",
     "output_type": "stream",
     "text": [
      "False\n",
      "True\n"
     ]
    }
   ],
   "source": [
    "# is_integer\n",
    "# آیا اعشار ندارد؟\n",
    "f = 16.5\n",
    "g = 16.0\n",
    "print(f.is_integer())\n",
    "print(g.is_integer())"
   ]
  },
  {
   "cell_type": "markdown",
   "id": "a4288ff6",
   "metadata": {},
   "source": [
    "مباحث مرتبط با باینری ها سابقا ذکر شدند"
   ]
  },
  {
   "cell_type": "code",
   "execution_count": 17,
   "id": "af37a50c-8405-422c-a791-e08fda7089a5",
   "metadata": {},
   "outputs": [
    {
     "name": "stdout",
     "output_type": "stream",
     "text": [
      "5\n",
      "65\n",
      "257\n",
      "0b101\n",
      "0o5\n",
      "0x5\n"
     ]
    }
   ],
   "source": [
    "print(0b0101)\n",
    "print(0o101)\n",
    "print(0x0101)\n",
    "print(bin(5))\n",
    "print(oct(5))\n",
    "print(hex(5))"
   ]
  },
  {
   "cell_type": "markdown",
   "id": "2b713da8",
   "metadata": {},
   "source": [
    "# متد لیست ها"
   ]
  },
  {
   "cell_type": "code",
   "execution_count": 1,
   "id": "39e8a12d",
   "metadata": {},
   "outputs": [
    {
     "name": "stdout",
     "output_type": "stream",
     "text": [
      "['__add__', '__class__', '__class_getitem__', '__contains__', '__delattr__', '__delitem__', '__dir__', '__doc__', '__eq__', '__format__', '__ge__', '__getattribute__', '__getitem__', '__gt__', '__hash__', '__iadd__', '__imul__', '__init__', '__init_subclass__', '__iter__', '__le__', '__len__', '__lt__', '__mul__', '__ne__', '__new__', '__reduce__', '__reduce_ex__', '__repr__', '__reversed__', '__rmul__', '__setattr__', '__setitem__', '__sizeof__', '__str__', '__subclasshook__', 'append', 'clear', 'copy', 'count', 'extend', 'index', 'insert', 'pop', 'remove', 'reverse', 'sort']\n"
     ]
    }
   ],
   "source": [
    "print(dir(list))"
   ]
  },
  {
   "cell_type": "code",
   "execution_count": 4,
   "id": "13e7aa31",
   "metadata": {},
   "outputs": [
    {
     "name": "stdout",
     "output_type": "stream",
     "text": [
      "[1, 2, 3, 5]\n"
     ]
    }
   ],
   "source": [
    "# append  اضافه کردن عضو به انتهای لیست\n",
    "li = [1, 2, 3]\n",
    "li.append(5)\n",
    "print(li)"
   ]
  },
  {
   "cell_type": "code",
   "execution_count": 9,
   "id": "bcafaffb",
   "metadata": {},
   "outputs": [
    {
     "name": "stdout",
     "output_type": "stream",
     "text": [
      "[1, 2, 3, 5]\n"
     ]
    }
   ],
   "source": [
    "# روش دیگر اضافه کردن عضو\n",
    "li = [1, 2, 3]\n",
    "li[len(li):] = [5]\n",
    "print(li)"
   ]
  },
  {
   "cell_type": "code",
   "execution_count": 10,
   "id": "272a0a45",
   "metadata": {},
   "outputs": [
    {
     "name": "stdout",
     "output_type": "stream",
     "text": [
      "[]\n"
     ]
    }
   ],
   "source": [
    "# clear  پاک کردن عناصر لیست، لیست حذف نمی شود\n",
    "li = [1, 2, 3]\n",
    "li.clear()\n",
    "print(li)"
   ]
  },
  {
   "cell_type": "code",
   "execution_count": 27,
   "id": "eca515ab",
   "metadata": {},
   "outputs": [
    {
     "name": "stdout",
     "output_type": "stream",
     "text": [
      "[]\n"
     ]
    },
    {
     "ename": "NameError",
     "evalue": "name 'li' is not defined",
     "output_type": "error",
     "traceback": [
      "\u001b[0;31m---------------------------------------------------------------------------\u001b[0m",
      "\u001b[0;31mNameError\u001b[0m                                 Traceback (most recent call last)",
      "Cell \u001b[0;32mIn[27], line 6\u001b[0m\n\u001b[1;32m      4\u001b[0m \u001b[38;5;28mprint\u001b[39m(li)\n\u001b[1;32m      5\u001b[0m \u001b[38;5;28;01mdel\u001b[39;00m li\n\u001b[0;32m----> 6\u001b[0m \u001b[38;5;28mprint\u001b[39m(\u001b[43mli\u001b[49m)\n",
      "\u001b[0;31mNameError\u001b[0m: name 'li' is not defined"
     ]
    }
   ],
   "source": [
    "# روش دیگر کلیر کردن\n",
    "li = [1, 2, 3]\n",
    "del li[:]\n",
    "print(li)\n",
    "del li\n",
    "print(li)"
   ]
  },
  {
   "cell_type": "code",
   "execution_count": 12,
   "id": "b0cc4c07",
   "metadata": {},
   "outputs": [
    {
     "name": "stdout",
     "output_type": "stream",
     "text": [
      "[1, 2, 3]\n",
      "[0, 2, 3]\n"
     ]
    }
   ],
   "source": [
    "# copy لیست را کپی سطحی می کند\n",
    "li = [1, 2, 3]\n",
    "li2 = li.copy()\n",
    "li2[0] = 0\n",
    "print(li)\n",
    "print(li2)\n",
    "\n",
    "# اگر لیست تو در تو باشد لازم است کپی عمیق گرفته شود"
   ]
  },
  {
   "cell_type": "code",
   "execution_count": 14,
   "id": "7d30dfae",
   "metadata": {},
   "outputs": [
    {
     "name": "stdout",
     "output_type": "stream",
     "text": [
      "[0, 2, 3]\n",
      "[0, 2, 3]\n"
     ]
    }
   ],
   "source": [
    "# اگر لیست را کپی نکنیم چه می شود؟\n",
    "li = [1, 2, 3]\n",
    "li2 = li\n",
    "li2[0] = 0\n",
    "print(li)\n",
    "print(li2)\n",
    "\n",
    "# با تغییر یک عضو لیست 2 لیست اولی نیز تغییر می کند"
   ]
  },
  {
   "cell_type": "code",
   "execution_count": 15,
   "id": "9bb06ec2",
   "metadata": {},
   "outputs": [
    {
     "name": "stdout",
     "output_type": "stream",
     "text": [
      "2\n"
     ]
    }
   ],
   "source": [
    "# count  شماردن تعداد تکرار عنصر مورد نظر در لیست\n",
    "li = [1, 2, 2, 3]\n",
    "print(li.count(2))"
   ]
  },
  {
   "cell_type": "code",
   "execution_count": 18,
   "id": "68c95876",
   "metadata": {},
   "outputs": [
    {
     "name": "stdout",
     "output_type": "stream",
     "text": [
      "[1, 2, 3, 4, 2, 7, 8]\n"
     ]
    }
   ],
   "source": [
    "# extend  توسعه لیست اولیه به لیست داخل آرگومان\n",
    "li = [1, 2, 3]\n",
    "x = [4, 2, 7, 8]\n",
    "li.extend(x)\n",
    "print(li)"
   ]
  },
  {
   "cell_type": "code",
   "execution_count": 17,
   "id": "a5223934",
   "metadata": {},
   "outputs": [
    {
     "name": "stdout",
     "output_type": "stream",
     "text": [
      "[1, 2, 3, 4, 7, 8]\n"
     ]
    }
   ],
   "source": [
    "# روش دیگر extend\n",
    "li = [1, 2, 3]\n",
    "x = [4, 7, 8]\n",
    "li[len(li):] = x\n",
    "print(li)"
   ]
  },
  {
   "cell_type": "code",
   "execution_count": 26,
   "id": "a31b13ae",
   "metadata": {},
   "outputs": [
    {
     "name": "stdout",
     "output_type": "stream",
     "text": [
      "2\n",
      "6\n",
      "5\n"
     ]
    }
   ],
   "source": [
    "# index  برگرداندن اولین ایندکس عضو مورد نظر\n",
    "li = [1, 4, 3, 3, 3,  4, 1]\n",
    "print(li.index(3))\n",
    "print(li.index(1, 2))  # برگرداند ایندکس 1 در لیست بعد از عنصر شمار 2\n",
    "# list.index(a, b, c) # آ عنصر مورد نظر،در بازه بی و سی  ایندکسی جستجو\n",
    "#rindex, lindex\n",
    "print(li.index(4, 2, 6)) "
   ]
  },
  {
   "cell_type": "code",
   "execution_count": null,
   "id": "03ed2065",
   "metadata": {},
   "outputs": [
    {
     "name": "stdout",
     "output_type": "stream",
     "text": [
      "[1, 2, 'a', 3, 4, 5]\n"
     ]
    }
   ],
   "source": [
    "# insert اضافه کردن عنصر در ایندکس مورد نظر\n",
    "li = [1, 2, 3, 4, 5]\n",
    "li.insert(2, 'a')  # آرگومان اول ایندکس و آرگومان دوم عنصر\n",
    "print(li)"
   ]
  },
  {
   "cell_type": "code",
   "execution_count": 31,
   "id": "e0564aac",
   "metadata": {},
   "outputs": [
    {
     "name": "stdout",
     "output_type": "stream",
     "text": [
      "5\n",
      "[1, 2, 3, 4]\n",
      "1\n",
      "[2, 3, 4]\n"
     ]
    }
   ],
   "source": [
    "# pop  برگرداندن عنصر ایندکس مشخص شده و سپس حذف آن\n",
    "# اگر آرگومان مربوط به ایندکس خالی باشد دیفالت آخرین عنصر\n",
    "li = [1, 2, 3, 4, 5]\n",
    "print(li.pop())  # وقتی ورودی ننویسیم اخرین عنصر را حذف میکند      \n",
    "print(li)\n",
    "print(li.pop(0))\n",
    "print(li)"
   ]
  },
  {
   "cell_type": "code",
   "execution_count": 33,
   "id": "78deb407",
   "metadata": {},
   "outputs": [
    {
     "name": "stdout",
     "output_type": "stream",
     "text": [
      "[1, 2, 3, 4, 5]\n"
     ]
    }
   ],
   "source": [
    "# remove  اولین عنصری ک پیدا میکند - حذف عنصر مورد نظر، ایندکس نمیدهیم\n",
    "li = [1, 3, 2, 3, 4, 5]\n",
    "li.remove(3)\n",
    "print(li)"
   ]
  },
  {
   "cell_type": "code",
   "execution_count": 34,
   "id": "65620436",
   "metadata": {},
   "outputs": [
    {
     "name": "stdout",
     "output_type": "stream",
     "text": [
      "[3, 2, 1]\n"
     ]
    }
   ],
   "source": [
    "# reverse  معکوس کردن ترتیب اعضا در لیست\n",
    "li = [1, 2, 3]\n",
    "li.reverse()\n",
    "print(li)\n",
    "\n",
    "# تفاوت تابع reversed با متد reverse\n",
    "# متد روی لیست اعمال می شود ولی تابع معکوس را برمیگرداند"
   ]
  },
  {
   "cell_type": "code",
   "execution_count": 39,
   "id": "ebdada5c",
   "metadata": {},
   "outputs": [
    {
     "name": "stdout",
     "output_type": "stream",
     "text": [
      "[3, 2, 1]\n"
     ]
    }
   ],
   "source": [
    "# روش دیگر معکوس کرند\n",
    "li = [1, 2, 3]\n",
    "print(li[::-1])  # روی خود لیس اعمال نمی شود"
   ]
  },
  {
   "cell_type": "code",
   "execution_count": 38,
   "id": "325528ee",
   "metadata": {},
   "outputs": [
    {
     "name": "stdout",
     "output_type": "stream",
     "text": [
      "[6, 4, 2, 1, 5, 3]\n",
      "[1, 2, 3, 4, 5, 6]\n",
      "[6, 5, 4, 3, 2, 1]\n"
     ]
    }
   ],
   "source": [
    "# sort مرتب سازی لیست روی خود لیست\n",
    "# از کوچک به بزرگ\n",
    "li = [6, 4, 2, 1, 5, 3]\n",
    "print(li)\n",
    "li.sort()\n",
    "print(li)\n",
    "li.sort(reverse = True)  # آرگومان متد\n",
    "# در لامبدا آرگومان کی نیز توضیح داده شده\n",
    "print(li)"
   ]
  },
  {
   "cell_type": "markdown",
   "id": "cce12ef5",
   "metadata": {},
   "source": [
    "# متد های تاپل و مجموعه"
   ]
  },
  {
   "cell_type": "code",
   "execution_count": 41,
   "id": "45ec7cf1",
   "metadata": {},
   "outputs": [
    {
     "name": "stdout",
     "output_type": "stream",
     "text": [
      "['__add__', '__class__', '__class_getitem__', '__contains__', '__delattr__', '__dir__', '__doc__', '__eq__', '__format__', '__ge__', '__getattribute__', '__getitem__', '__getnewargs__', '__gt__', '__hash__', '__init__', '__init_subclass__', '__iter__', '__le__', '__len__', '__lt__', '__mul__', '__ne__', '__new__', '__reduce__', '__reduce_ex__', '__repr__', '__rmul__', '__setattr__', '__sizeof__', '__str__', '__subclasshook__', 'count', 'index']\n"
     ]
    }
   ],
   "source": [
    "print(dir(tuple))"
   ]
  },
  {
   "cell_type": "markdown",
   "id": "63b2ebb3",
   "metadata": {},
   "source": [
    "کانت و ایندکس مثل لیست عمل می کند"
   ]
  },
  {
   "cell_type": "code",
   "execution_count": 42,
   "id": "5fd01ee6",
   "metadata": {},
   "outputs": [
    {
     "name": "stdout",
     "output_type": "stream",
     "text": [
      "['__and__', '__class__', '__class_getitem__', '__contains__', '__delattr__', '__dir__', '__doc__', '__eq__', '__format__', '__ge__', '__getattribute__', '__gt__', '__hash__', '__iand__', '__init__', '__init_subclass__', '__ior__', '__isub__', '__iter__', '__ixor__', '__le__', '__len__', '__lt__', '__ne__', '__new__', '__or__', '__rand__', '__reduce__', '__reduce_ex__', '__repr__', '__ror__', '__rsub__', '__rxor__', '__setattr__', '__sizeof__', '__str__', '__sub__', '__subclasshook__', '__xor__', 'add', 'clear', 'copy', 'difference', 'difference_update', 'discard', 'intersection', 'intersection_update', 'isdisjoint', 'issubset', 'issuperset', 'pop', 'remove', 'symmetric_difference', 'symmetric_difference_update', 'union', 'update']\n"
     ]
    }
   ],
   "source": [
    "print(dir(set))"
   ]
  },
  {
   "cell_type": "code",
   "execution_count": 44,
   "id": "d466d0fb",
   "metadata": {},
   "outputs": [
    {
     "name": "stdout",
     "output_type": "stream",
     "text": [
      "{1, 2, 3, 4, 5, 8}\n"
     ]
    }
   ],
   "source": [
    "# add اضافه کردن عضو به مجموعه\n",
    "s = {1, 2, 2, 3, 4, 5}\n",
    "s.add(8)\n",
    "print(s)  # مجموعه ها عضو تکراری نگه نمیدارند"
   ]
  },
  {
   "cell_type": "code",
   "execution_count": 43,
   "id": "fd818b12",
   "metadata": {},
   "outputs": [],
   "source": [
    "# clear مجموعه را پاک می کند\n",
    "# copy کپی سطحی مجموعه"
   ]
  },
  {
   "cell_type": "code",
   "execution_count": 48,
   "id": "17f3a152",
   "metadata": {},
   "outputs": [
    {
     "name": "stdout",
     "output_type": "stream",
     "text": [
      "{1, 2}\n"
     ]
    }
   ],
   "source": [
    "# difference  تفاوت دو مجموعه: در اولی هست ولی در دومی نیست\n",
    "s = {1, 2, 3, 4}\n",
    "x = {3, 4, 5, 6}\n",
    "print(s.difference(x))"
   ]
  },
  {
   "cell_type": "code",
   "execution_count": 46,
   "id": "09156f73",
   "metadata": {},
   "outputs": [],
   "source": [
    "# متدهایی که آپدیت دارند روی خود مجموعه اعمال می کنند\n",
    "# و بدون آپدیت ها فقط برمیگردانند"
   ]
  },
  {
   "cell_type": "code",
   "execution_count": 49,
   "id": "72d820d9",
   "metadata": {},
   "outputs": [
    {
     "name": "stdout",
     "output_type": "stream",
     "text": [
      "None\n",
      "{1, 2}\n"
     ]
    }
   ],
   "source": [
    "s = {1, 2, 3, 4}\n",
    "x = {3, 4, 5, 6}\n",
    "print(s.difference_update(x))  # نان را برمیگرداند\n",
    "print(s)"
   ]
  },
  {
   "cell_type": "code",
   "execution_count": 58,
   "id": "117be891",
   "metadata": {},
   "outputs": [
    {
     "name": "stdout",
     "output_type": "stream",
     "text": [
      "{1, 2, 4, 5, 6}\n"
     ]
    }
   ],
   "source": [
    "# discard  حذف عضو. تفاوتش با ریمو این است که اگر عضو انتخابی در مجموعه نباشد ارور نمیدهد\n",
    "s = {1, 2, 3, 4, 5, 6}\n",
    "s.discard(3)  # فقط یک آرگومان می گیرد\n",
    "s.discard(7)\n",
    "print(s)"
   ]
  },
  {
   "cell_type": "code",
   "execution_count": 60,
   "id": "bc19c011",
   "metadata": {},
   "outputs": [
    {
     "name": "stdout",
     "output_type": "stream",
     "text": [
      "تفاضل : {9, 3, 15}\n",
      "روش دیگر : {9, 3, 15}\n",
      "اجتماع مجموعه ها : {2, 3, 4, 6, 8, 9, 10, 12, 14, 15, 16, 18}\n",
      "روش دیگر : {2, 3, 4, 6, 8, 9, 10, 12, 14, 15, 16, 18}\n",
      "اشتراک مجموعه ها : {18, 12, 6}\n",
      "روش دیگر : {18, 12, 6}\n",
      "تفاضل متقارن : {2, 3, 4, 8, 9, 10, 14, 15, 16}\n",
      "روش دیگر : {2, 3, 4, 8, 9, 10, 14, 15, 16}\n"
     ]
    }
   ],
   "source": [
    "# عملگرهای مجموعه ها: اجتماع و اشتراک\n",
    "P = {3, 9, 15, 6, 12, 18}\n",
    "Q = {4, 2, 8, 10, 16, 14, 6, 12, 18}\n",
    "\n",
    "print('تفاضل :', P - Q)  # در پی هستند ولی در کیو نیستند\n",
    "print('روش دیگر :', P.difference(Q)) # خود پی تغییر نمی کند\n",
    "\n",
    "# عملگر های بیتی در مجموعه ها معنای دیگری پیدا می کنند\n",
    "print('اجتماع مجموعه ها :', P | Q)\n",
    "print('روش دیگر :', P.union(Q))\n",
    "\n",
    "print('اشتراک مجموعه ها :', P & Q)\n",
    "print('روش دیگر :', P.intersection(Q))\n",
    "\n",
    "print('تفاضل متقارن :', P ^ Q)  # در پی هست، در کیو هست ولی با هم مشترک نیستند \n",
    "# (P|Q)-(P&Q) # (P-Q)|(Q-P)\n",
    "print('روش دیگر :', P.symmetric_difference(Q))"
   ]
  },
  {
   "cell_type": "code",
   "execution_count": 61,
   "id": "51a3dbfa",
   "metadata": {},
   "outputs": [
    {
     "name": "stdout",
     "output_type": "stream",
     "text": [
      "False\n"
     ]
    }
   ],
   "source": [
    "# isdisjoint  بولین بر میگرداند\n",
    "# True اگر اشتراکی نداشته باشند\n",
    "# False اگر اشتراک داشته باشند\n",
    "s = {1, 2, 3, 4}\n",
    "x = {3, 4, 5, 6}\n",
    "print(s.isdisjoint(x))"
   ]
  },
  {
   "cell_type": "code",
   "execution_count": 64,
   "id": "5350c555",
   "metadata": {},
   "outputs": [
    {
     "name": "stdout",
     "output_type": "stream",
     "text": [
      "زیرمجموعه : True\n",
      "روش دیگر : True\n",
      "رومجموعه : False\n",
      "روش دیگر : False\n"
     ]
    }
   ],
   "source": [
    "# زیر مجموعه\n",
    "B = {10, 30, 60}\n",
    "A = {10, 30, 60, 20, 40, 50}\n",
    "print('زیرمجموعه :', B < A)\n",
    "print('روش دیگر :', B.issubset(A))  # بی زیر اِی هست؟\n",
    "\n",
    "print('رومجموعه :', B > A)\n",
    "print('روش دیگر :', B.issuperset(A)) # بی در برمیگیرد اِی را؟"
   ]
  },
  {
   "cell_type": "code",
   "execution_count": 70,
   "id": "27c184df",
   "metadata": {},
   "outputs": [
    {
     "name": "stdout",
     "output_type": "stream",
     "text": [
      "1\n",
      "2\n",
      "{3, 4}\n"
     ]
    }
   ],
   "source": [
    "# pop مانند لیست ها، یک عضور را برگردانده و سپس حذف می کند\n",
    "# تفاوتش این است که آرگومان نمی گیرد و امکان دارد بطور تصادفی برگرداند\n",
    "s = {1, 2, 3, 4}\n",
    "print(s.pop())\n",
    "print(s.pop())\n",
    "print(s)"
   ]
  },
  {
   "cell_type": "code",
   "execution_count": 74,
   "id": "c288b1b8",
   "metadata": {},
   "outputs": [
    {
     "name": "stdout",
     "output_type": "stream",
     "text": [
      "{1, 2, 3, 11, 12, 13, 22, 23}\n",
      "{1, 2, 3, 40, 11, 12, 13, (4, 5), 50, 22, 23}\n"
     ]
    }
   ],
   "source": [
    "# update و فرق آن با add\n",
    "# اضافه کردن چندین عضو\n",
    "s = {1, 2, 3}\n",
    "s.update([11,12,13],[22,23])\n",
    "print(s)\n",
    "s.add((4,5)) # اضافه کردن تاپل به عنوان عضو\n",
    "s.update((40,50)) # اضافه کردن به عنوان عضو\n",
    "print(s)"
   ]
  },
  {
   "cell_type": "markdown",
   "id": "50e4aeff",
   "metadata": {},
   "source": [
    "# متد های دیکشنری"
   ]
  },
  {
   "cell_type": "code",
   "execution_count": 75,
   "id": "684a3505",
   "metadata": {},
   "outputs": [
    {
     "name": "stdout",
     "output_type": "stream",
     "text": [
      "['__class__', '__class_getitem__', '__contains__', '__delattr__', '__delitem__', '__dir__', '__doc__', '__eq__', '__format__', '__ge__', '__getattribute__', '__getitem__', '__gt__', '__hash__', '__init__', '__init_subclass__', '__ior__', '__iter__', '__le__', '__len__', '__lt__', '__ne__', '__new__', '__or__', '__reduce__', '__reduce_ex__', '__repr__', '__reversed__', '__ror__', '__setattr__', '__setitem__', '__sizeof__', '__str__', '__subclasshook__', 'clear', 'copy', 'fromkeys', 'get', 'items', 'keys', 'pop', 'popitem', 'setdefault', 'update', 'values']\n"
     ]
    }
   ],
   "source": [
    "print(dir(dict))"
   ]
  },
  {
   "cell_type": "code",
   "execution_count": null,
   "id": "c642182f",
   "metadata": {},
   "outputs": [],
   "source": [
    "# clear عضو های دیکشنری را پاک می کند\n",
    "# copy دیکشنری را کپی سطحی می کند"
   ]
  },
  {
   "cell_type": "code",
   "execution_count": 28,
   "id": "79cda5aa",
   "metadata": {},
   "outputs": [
    {
     "name": "stdout",
     "output_type": "stream",
     "text": [
      "{'a': (9, 7), 'b': (9, 7), 'c': (9, 7)}\n"
     ]
    }
   ],
   "source": [
    "# fromkeys  یک دیکشنری جدید می سازد\n",
    "print(dict.fromkeys((\"a\",\"b\",\"c\"), (9, 7)))  # مقدار دیفالت 7 است و اگر آرگومان خالی باشد نان می شود"
   ]
  },
  {
   "cell_type": "code",
   "execution_count": 7,
   "id": "6b6c6d61",
   "metadata": {},
   "outputs": [
    {
     "name": "stdout",
     "output_type": "stream",
     "text": [
      "1\n",
      "None\n",
      "7\n"
     ]
    }
   ],
   "source": [
    "# get  مقدار کلید مورد نظر را برمیگرداند و اگر نباشد نان. ارور نمیده\n",
    "d = {\"a\":1, \"b\":2}\n",
    "print(d.get(\"a\"))\n",
    "print(d.get(\"c\"))\n",
    "print(d.get(\"c\", 7))  # اگر مقداری نباشد 7 برگردانده می شود"
   ]
  },
  {
   "cell_type": "code",
   "execution_count": 8,
   "id": "2c32ef8f",
   "metadata": {},
   "outputs": [
    {
     "name": "stdout",
     "output_type": "stream",
     "text": [
      "dict_keys(['a', 'b'])\n",
      "dict_values([1, 2])\n",
      "dict_items([('a', 1), ('b', 2)])\n"
     ]
    }
   ],
   "source": [
    "d = {\"a\":1, \"b\":2}\n",
    "print(d.keys())  # برگرداندن کلید ها\n",
    "print(d.values())  # برگرداندن مقدار ها\n",
    "print(d.items())  # برگرداندن هر دو مقدار و کلید"
   ]
  },
  {
   "cell_type": "code",
   "execution_count": 29,
   "id": "43f22562",
   "metadata": {},
   "outputs": [
    {
     "name": "stdout",
     "output_type": "stream",
     "text": [
      "1\n",
      "0\n"
     ]
    },
    {
     "ename": "KeyError",
     "evalue": "'c'",
     "output_type": "error",
     "traceback": [
      "\u001b[0;31m---------------------------------------------------------------------------\u001b[0m",
      "\u001b[0;31mKeyError\u001b[0m                                  Traceback (most recent call last)",
      "Cell \u001b[0;32mIn[29], line 6\u001b[0m\n\u001b[1;32m      4\u001b[0m \u001b[38;5;28mprint\u001b[39m(d\u001b[38;5;241m.\u001b[39mpop(\u001b[38;5;124m\"\u001b[39m\u001b[38;5;124ma\u001b[39m\u001b[38;5;124m\"\u001b[39m))\n\u001b[1;32m      5\u001b[0m \u001b[38;5;28mprint\u001b[39m(d\u001b[38;5;241m.\u001b[39mpop(\u001b[38;5;124m\"\u001b[39m\u001b[38;5;124mc\u001b[39m\u001b[38;5;124m\"\u001b[39m, \u001b[38;5;241m0\u001b[39m))  \u001b[38;5;66;03m# اگر عنصر وجود نداشته باشد صفر را برمیگرداند\u001b[39;00m\n\u001b[0;32m----> 6\u001b[0m \u001b[38;5;28mprint\u001b[39m(\u001b[43md\u001b[49m\u001b[38;5;241;43m.\u001b[39;49m\u001b[43mpop\u001b[49m\u001b[43m(\u001b[49m\u001b[38;5;124;43m\"\u001b[39;49m\u001b[38;5;124;43mc\u001b[39;49m\u001b[38;5;124;43m\"\u001b[39;49m\u001b[43m)\u001b[49m)\n",
      "\u001b[0;31mKeyError\u001b[0m: 'c'"
     ]
    }
   ],
   "source": [
    "# pop\n",
    "# پاپ مقدار کلید مشخص شده را برگردانده و سپس حذف میکند\n",
    "d = {\"a\":1, \"b\":2}\n",
    "print(d.pop(\"a\"))\n",
    "print(d.pop(\"c\", 0))  # اگر عنصر وجود نداشته باشد صفر را برمیگرداند\n",
    "print(d.pop(\"c\"))  "
   ]
  },
  {
   "cell_type": "code",
   "execution_count": 12,
   "id": "e13b84fd",
   "metadata": {},
   "outputs": [
    {
     "name": "stdout",
     "output_type": "stream",
     "text": [
      "('d', 4)\n",
      "('c', 3)\n",
      "{'a': 1, 'b': 2}\n"
     ]
    }
   ],
   "source": [
    "# popitem  مانند پاپ در مجموعه ها و معمولا آیتم آخر\n",
    "d = {\"a\":1, \"b\":2, \"c\":3, \"d\":4}\n",
    "print(d.popitem())\n",
    "print(d.popitem())\n",
    "print(d)"
   ]
  },
  {
   "cell_type": "code",
   "execution_count": 30,
   "id": "3a8df513",
   "metadata": {},
   "outputs": [
    {
     "name": "stdout",
     "output_type": "stream",
     "text": [
      "3\n",
      "None\n",
      "0\n",
      "{'a': 1, 'b': 2, 'c': 3, 'd': 4, 'j': None, 'p': 0}\n"
     ]
    }
   ],
   "source": [
    "# setdefault  # اگر کلید وجود داشته باشد مقدار آنرا برمیگرداند\n",
    "# اگر کلید نباشد آیتمی به دیکت اضافه میکند که مقدار پیشفرض قابل تعیین است\n",
    "d = {\"a\":1, \"b\":2, \"c\":3, \"d\":4}\n",
    "print(d.setdefault(\"c\"))\n",
    "print(d.setdefault(\"j\"))\n",
    "print(d.setdefault(\"p\", 0))  # اگر صفر نباشد نان هست\n",
    "print(d)"
   ]
  },
  {
   "cell_type": "code",
   "execution_count": 17,
   "id": "b627eabf",
   "metadata": {},
   "outputs": [
    {
     "name": "stdout",
     "output_type": "stream",
     "text": [
      "{'a': 11, 'b': 2, 'c': 3, 'd': 4, 'z': 0, 'k': 5, 'l': 7}\n"
     ]
    }
   ],
   "source": [
    "# update یک دیکشنری جدید گرفته و به دیکشنری مربوطه اضافه میکند\n",
    "d = {\"a\":1, \"b\":2, \"c\":3, \"d\":4}\n",
    "d2 = {\"a\":11, \"z\":0, \"k\":5, \"l\":7} # اگر عضوی باشد که در دیکت اولی هم هست مقدار آن را بروز میکند\n",
    "d.update(d2)\n",
    "print(d)"
   ]
  },
  {
   "cell_type": "code",
   "execution_count": 19,
   "id": "cb5b7c35",
   "metadata": {},
   "outputs": [
    {
     "name": "stdout",
     "output_type": "stream",
     "text": [
      "{'a': 0, 'b': 2, 'c': 3, 'd': 4, 'z': 0, 'k': 5, 'l': 7}\n"
     ]
    }
   ],
   "source": [
    "# شکل دیگر استفاده از آپدیت با لیست\n",
    "d = {\"a\":1, \"b\":2, \"c\":3, \"d\":4}\n",
    "d.update([[\"a\",0], [\"z\",0], [\"k\",5], [\"l\",7]])\n",
    "print(d)"
   ]
  },
  {
   "cell_type": "code",
   "execution_count": 20,
   "id": "7bbc6a5c",
   "metadata": {},
   "outputs": [
    {
     "name": "stdout",
     "output_type": "stream",
     "text": [
      "{'a': 11, 'b': 2, 'c': 3, 'd': 4, 'z': 0, 'k': 5, 'l': 7}\n"
     ]
    }
   ],
   "source": [
    "# شکل دیگر استفاده از آپدیت\n",
    "d = {\"a\":1, \"b\":2, \"c\":3, \"d\":4}\n",
    "d.update(a=11, z=0, k=5, l=7)\n",
    "print(d)"
   ]
  },
  {
   "cell_type": "code",
   "execution_count": 22,
   "id": "9bd7f1de",
   "metadata": {},
   "outputs": [
    {
     "name": "stdout",
     "output_type": "stream",
     "text": [
      "{'a': 1, 'b': 4, 'c': 3}\n"
     ]
    }
   ],
   "source": [
    "# شکلل دیگر آپدیت با عملگر اجتماع\n",
    "d = {\"a\":1, \"b\":2}\n",
    "f = {\"c\":3, \"b\":4}\n",
    "print(d | f)  # مقادیر f جایگزین می شوند"
   ]
  },
  {
   "cell_type": "code",
   "execution_count": 31,
   "id": "d9a6bd9b",
   "metadata": {},
   "outputs": [
    {
     "name": "stdout",
     "output_type": "stream",
     "text": [
      "{'a': 1, 'b': 2, 'c': 3, 'd': 4}\n"
     ]
    }
   ],
   "source": [
    "# ترفند تغییر کلید در دیکشنری\n",
    "d = {'a':1, 'b':2, 'c':3, 'x':4}\n",
    "d['d'] = d.pop('x') # کلید را پاک میکند و مقدار آنرا برمیگرداند\n",
    "print(d)"
   ]
  },
  {
   "cell_type": "markdown",
   "id": "9dfac458",
   "metadata": {},
   "source": [
    "# متده های رشته STR"
   ]
  },
  {
   "cell_type": "code",
   "execution_count": 32,
   "id": "fc28c36f",
   "metadata": {},
   "outputs": [
    {
     "name": "stdout",
     "output_type": "stream",
     "text": [
      "['__add__', '__class__', '__contains__', '__delattr__', '__dir__', '__doc__', '__eq__', '__format__', '__ge__', '__getattribute__', '__getitem__', '__getnewargs__', '__gt__', '__hash__', '__init__', '__init_subclass__', '__iter__', '__le__', '__len__', '__lt__', '__mod__', '__mul__', '__ne__', '__new__', '__reduce__', '__reduce_ex__', '__repr__', '__rmod__', '__rmul__', '__setattr__', '__sizeof__', '__str__', '__subclasshook__', 'capitalize', 'casefold', 'center', 'count', 'encode', 'endswith', 'expandtabs', 'find', 'format', 'format_map', 'index', 'isalnum', 'isalpha', 'isascii', 'isdecimal', 'isdigit', 'isidentifier', 'islower', 'isnumeric', 'isprintable', 'isspace', 'istitle', 'isupper', 'join', 'ljust', 'lower', 'lstrip', 'maketrans', 'partition', 'removeprefix', 'removesuffix', 'replace', 'rfind', 'rindex', 'rjust', 'rpartition', 'rsplit', 'rstrip', 'split', 'splitlines', 'startswith', 'strip', 'swapcase', 'title', 'translate', 'upper', 'zfill']\n"
     ]
    }
   ],
   "source": [
    "print(dir(str))"
   ]
  },
  {
   "cell_type": "code",
   "execution_count": 33,
   "id": "fadcb236",
   "metadata": {},
   "outputs": [
    {
     "name": "stdout",
     "output_type": "stream",
     "text": [
      "HELLO WORLD!\n",
      "hello world!\n",
      "3\n",
      "True\n",
      "False\n",
      "6\n",
      "9\n",
      "False\n",
      "True\n",
      "False\n",
      "AHello World!BHello World!C\n",
      "['Hello', 'World!']\n",
      "Hello World?\n",
      "Hello World\n",
      "Salam\n"
     ]
    }
   ],
   "source": [
    "# متد های کلاس رشته که قبلا ذکر شدند\n",
    "s = \"Hello World!\"\n",
    "print(s.upper())  # تمام حروف رشته را بصورت بزرگ برمیگرداند\n",
    "print(s.lower())  # تمام حروف رشته را بصورت کوچک برمیگداند\n",
    "print(s.count('l'))  # تعداد رشته مشخص در رشته اصلی\n",
    "print(s.endswith('d!'))  # بررسی اتمام با رشته مشخص شده\n",
    "print(s.startswith('World'))  # بررسی شروع با رشته مشخص شده\n",
    "print(s.find('Wo'))  # یافتن ایندکس اولین رشته مشخص\n",
    "print(s.rfind('l'))  # جستجو از سمت راست\n",
    "print(s.isalnum())  # بررسی ترکیب کاراکتر و عدد و بدون علائم\n",
    "print('salam'.isalnum())\n",
    "print(s.isnumeric())  # بررسی عددی بودن رشته\n",
    "l = ('A', 'B', 'C')\n",
    "print(s.join(l))  # جوین کردن رشته در لیست\n",
    "print(s.split(' '))  # جدا کردن رشته در یک لیست با اسفتاده از رشته مشخص\n",
    "print(s.replace('!', '?'))  # برگرداندن جایگزینی رشته مشخص اول با رشته مشخص دوم\n",
    "print(s.strip('!'))  # حذف کاراکتر مشخص از دو طرف رشته. اگر فقط چپ باشد قبل اِل و اگر فقط راست قبل آر \n",
    "print('salam'.capitalize())  # بزرگ کردن حرف اول رشته"
   ]
  },
  {
   "cell_type": "code",
   "execution_count": 7,
   "id": "29a4ada8",
   "metadata": {},
   "outputs": [
    {
     "name": "stdout",
     "output_type": "stream",
     "text": [
      "reza dolati\n",
      "ß\n",
      "ss\n"
     ]
    }
   ],
   "source": [
    "# casefold\n",
    "# تبدیل رشته به حروف کوچک\n",
    "s = \"Reza Dolati\"\n",
    "print(s.casefold())\n",
    "# تفاوت آن با لاور این است که قدرت نفوذ بیشتری دارد!!!!\n",
    "\n",
    "c = \"ß\"\n",
    "print(c.lower())\n",
    "print(c.casefold())"
   ]
  },
  {
   "cell_type": "code",
   "execution_count": 13,
   "id": "bb15f97a",
   "metadata": {},
   "outputs": [
    {
     "data": {
      "text/plain": [
       "b'Reza\\xc3\\x9f'"
      ]
     },
     "execution_count": 13,
     "metadata": {},
     "output_type": "execute_result"
    }
   ],
   "source": [
    "# endcode\n",
    "# انکود کردن رشته\n",
    "s = \"Rezaß\"\n",
    "s.encode(\"utf-8\")"
   ]
  },
  {
   "cell_type": "code",
   "execution_count": 1,
   "id": "b5392c0c",
   "metadata": {},
   "outputs": [
    {
     "name": "stdout",
     "output_type": "stream",
     "text": [
      "Reza    dolati\n",
      "Reza dolati\n"
     ]
    }
   ],
   "source": [
    "# expandtabs \n",
    "# کاراکترهای تب را با اسپیس جایگزین می کند\n",
    "s = \"Reza\\tdolati\"\n",
    "print(s.expandtabs())\n",
    "print(s.expandtabs(1)) # با تعداد اسپیس انتخابی. دیفالت 4"
   ]
  },
  {
   "cell_type": "code",
   "execution_count": 20,
   "id": "f6d60b79",
   "metadata": {},
   "outputs": [
    {
     "name": "stdout",
     "output_type": "stream",
     "text": [
      "x is 4321.123456789\n",
      "y is 459876\n",
      "z is 12\n",
      "\n",
      "\n",
      "y is 459876\n",
      "x is 4321.123456789\n",
      "z is 12\n",
      "\n",
      "\n",
      "z is 12\n",
      "y is 459876\n",
      "x is 4321.123456789\n",
      "\n",
      "\n",
      "z is 12\n",
      "y is 459876\n",
      "x is 4321.123456789\n",
      "\n",
      "\n",
      "y is o\n",
      "x is r\n",
      "z is w\n",
      "\n",
      "\n",
      "y is 459876\n",
      "x is 4321.123456789\n",
      "z is 12\n",
      "\n",
      "\n"
     ]
    }
   ],
   "source": [
    "# فرمت دهی به خروجی با .format\n",
    "x = 4321.123456789\n",
    "y = 459876\n",
    "\n",
    "s = \"x is {}\\ny is {}\\nz is {}\\n\\n\"\n",
    "print(s.format(x, y, 5 + 7))\n",
    "\n",
    "print(\"y is {1}\\nx is {2}\\nz is {0}\\n\\n\" .format(5 + 7, y, x))\n",
    "# در این روش اگر ترتیب متغیر ها متفاوت است می توان ایندکس را داخل آکولات گذاشت\n",
    "\n",
    "d = {'x':x, 'y':y, 'z':5+7}\n",
    "print(\"z is {z}\\ny is {y}\\nx is {x}\\n\\n\" .format(**d))\n",
    "# می توان برای مشخص کردن ترتیب از دیکشنری استفاده کرد\n",
    "print(\"z is {z}\\ny is {y}\\nx is {x}\\n\\n\" .format(x = d['x'], y = d['y'], z = d['z']))\n",
    "# شکل دیگری از استفاده از دیکشنری\n",
    "\n",
    "\n",
    "#استفاده از توالی ها\n",
    "print(\"y is {1}\\nx is {2}\\nz is {0}\\n\\n\" .format(*\"world\")) # با توجه به ایندکس استفاده از رشته\n",
    "print(\"y is {1}\\nx is {2}\\nz is {0}\\n\\n\" .format(*[5+7, y, x])) #استفاده از لیست\n"
   ]
  },
  {
   "cell_type": "raw",
   "id": "226e9876",
   "metadata": {},
   "source": [
    " شکل قالب خروجی با .format\n",
    " \n",
    " \"{\" [field_name] [\"!\" conversion] [\":\" format_spec] \"}\"\n",
    " filed_name= آدرس دهی   Conersion= تبدیل به فرمت جدید  format_spec= شکل فرمت\n",
    "\n",
    "بعد دو نقطه [[fill]بalign] [sign] [#] [0] [width] [grouping_option] [.precision] [type]\n",
    "[type] = c | s | % | e | d | i نداریم\n",
    "[.precision] = بعد . تعداد اعشار\n",
    "[grouping_option] = تمایز بین اعداد مثلا پول = , | _\n",
    "[width] = طول میدان\n",
    "[0] = پر کردن فاصله خالی میدان با صفر\n",
    "[#] = مبنا = #b | b | o | x = فقط برای اعداد\n",
    "[sign] + نمایش علامت  \n",
    "[align] = < ^ > جهت فاصله های میدان\n",
    "[fill] = فاصله"
   ]
  },
  {
   "cell_type": "code",
   "execution_count": 21,
   "id": "326d1425",
   "metadata": {},
   "outputs": [
    {
     "name": "stdout",
     "output_type": "stream",
     "text": [
      "Hello 'world'\n",
      "10,164,932,056,947.14\n",
      "+000_987\n",
      "x is ..............12..............\n",
      "x is @@@@@@@@@@@@@@@@@@@@@@@@@@@@75\n"
     ]
    }
   ],
   "source": [
    "print(\"Hello {0!r:}\" .format(\"world\"))\n",
    "print(\"{0:,.2f}\" .format(10164932056947.1364896487))\n",
    "print(\"{0:+08_.0f}\" .format(987.321))\n",
    "print(\"x is {:.^30}\" .format(12))\n",
    "print(\"x is {:@{align}30{type}}\" .format(75, align='>', type='d')) # تعیین مقادیر فرمت در خارج از رشته پرینت"
   ]
  },
  {
   "cell_type": "code",
   "execution_count": 23,
   "id": "46d372a2",
   "metadata": {},
   "outputs": [
    {
     "name": "stdout",
     "output_type": "stream",
     "text": [
      "my name is Reza Dolati\n"
     ]
    }
   ],
   "source": [
    "# format_map\n",
    "# مشابه format ولی با دیکشنری\n",
    "x = {\"x\":\"Reza\", \"y\":\"Dolati\"}\n",
    "print(\"my name is {x} {y}\".format_map(x))"
   ]
  },
  {
   "cell_type": "code",
   "execution_count": 15,
   "id": "bbe3fa27",
   "metadata": {},
   "outputs": [
    {
     "data": {
      "text/plain": [
       "3"
      ]
     },
     "execution_count": 15,
     "metadata": {},
     "output_type": "execute_result"
    }
   ],
   "source": [
    "# index\n",
    "# یافتن ایندکس کاراکتر در رشته\n",
    "s = \"Reaza Dolati\"\n",
    "s.index(\"z\")\n",
    "# s.rindex(\"a\")   # از سمت راست پیدا میکند\n",
    "# تفاوت با find\n",
    "# این است که در فایند اگر کاراکتر نباشد -1 برگدانده می شود\n",
    "# ولی در ایندکس خطا می دهد"
   ]
  },
  {
   "cell_type": "code",
   "execution_count": 31,
   "id": "5e1f6506",
   "metadata": {},
   "outputs": [
    {
     "name": "stdout",
     "output_type": "stream",
     "text": [
      "False\n",
      "True\n",
      "False\n",
      "True\n",
      "True\n",
      "True\n"
     ]
    }
   ],
   "source": [
    "# is__ ها\n",
    "s = \"Reza Dolati\"\n",
    "print(s.isalpha()) # همه کاراکتر ها حروف الفبا\n",
    "print(s.isascii()) # همه کاراکتر ها اسکی هستند\n",
    "print(s.isalnum())  # بررسی ترکیب کاراکتر و عدد و بدون علائم\n",
    "\n",
    "c = \"123456\"\n",
    "print(c.isdecimal())  # همه اعداد یک تا نه\n",
    "print(c.isdigit())    # همه ارقام هستند\n",
    "print(c.isnumeric())  # همه عدد هستند"
   ]
  },
  {
   "attachments": {
    "image.png": {
     "image/png": "[encoded data removed]"
    }
   },
   "cell_type": "markdown",
   "id": "ba11442e",
   "metadata": {},
   "source": [
    "![image.png](attachment:image.png)"
   ]
  },
  {
   "cell_type": "code",
   "execution_count": 43,
   "id": "0c7ba91e",
   "metadata": {},
   "outputs": [
    {
     "name": "stdout",
     "output_type": "stream",
     "text": [
      "False\n",
      "False\n",
      "False\n",
      "False\n",
      "True\n",
      "Reza Dolati\n",
      "True\n"
     ]
    }
   ],
   "source": [
    "# is__ ها\n",
    "s = \"Reza Dolati\"\n",
    "print(s.isidentifier())  # بررسی امکان پذیری به عنوان اسم شیء\n",
    "# اسپیس دارد نمیشود\n",
    "\n",
    "print(s.islower())  # آیا همه کاراکتر ها حرف کوچک هستند\n",
    "print(s.isupper())  # آیا همه کاراکتر ها حرف بزرگ هستند\n",
    "\n",
    "s2 = \"123123\\t12323\"\n",
    "print(s2.isprintable())  # آیا همه کاراکترها قابل چاپ اند\n",
    "\n",
    "print(\" \\t   \\n\".isspace())  # آیا همه کاراکترها اسپیس یا تب هستند؟\n",
    "print(s.title())  # حرف اول کلمات با حرف بزرگ\n",
    "print(s.istitle())  # بررسی حرف اول کلمات با حرف بزرگ؟\n"
   ]
  },
  {
   "cell_type": "code",
   "execution_count": 10,
   "id": "3c262441",
   "metadata": {},
   "outputs": [
    {
     "name": "stdout",
     "output_type": "stream",
     "text": [
      "        Reza        \n",
      "********Reza********\n"
     ]
    }
   ],
   "source": [
    "# center\n",
    "# وسط قرار میگیرد با دیفالت اسپیس\n",
    "s = \"Reza\"\n",
    "print(s.center(20))  # طول کل رشته\n",
    "print(s.center(20, \"*\"))  # آرگومان دوم پر کردن فضای خالی\n"
   ]
  },
  {
   "cell_type": "code",
   "execution_count": 47,
   "id": "047f6537",
   "metadata": {},
   "outputs": [
    {
     "name": "stdout",
     "output_type": "stream",
     "text": [
      "Reza****************\n"
     ]
    }
   ],
   "source": [
    "# ljust\n",
    "# left justify\n",
    "# مشابه center\n",
    "s = \"Reza\"\n",
    "print(s.ljust(20, \"*\"))"
   ]
  },
  {
   "cell_type": "code",
   "execution_count": 46,
   "id": "42eb3ea5",
   "metadata": {},
   "outputs": [
    {
     "name": "stdout",
     "output_type": "stream",
     "text": [
      "****************Reza\n"
     ]
    }
   ],
   "source": [
    "# rjust\n",
    "s = \"Reza\"\n",
    "print(s.rjust(20, \"*\"))"
   ]
  },
  {
   "cell_type": "code",
   "execution_count": 7,
   "id": "b4b0005a",
   "metadata": {},
   "outputs": [
    {
     "name": "stdout",
     "output_type": "stream",
     "text": [
      "{105: 1594, 108: None}\n",
      "{65: 'D', 108: 't', 105: None}\n",
      "Aغ\n",
      "Dt\n",
      "\n",
      "Dlf\n"
     ]
    }
   ],
   "source": [
    "# maketrans\n",
    "# ساخت جدولی از معادل ها\n",
    "# translate\n",
    "# ترجمه رشته از جدول ساخته شده از میکترنس\n",
    "s = \"Ali\"\n",
    "d = {\"A\": \"D\" ,\"l\": \"t\", \"i\": None}\n",
    "table = str.maketrans(\"i\", \"غ\", \"l\")     # میتوان به جای ورودی دیکشنری داد \n",
    "# ورودی دوم را بجای دوم قرار میدهد\n",
    "# بجای ورودی سوم نان قرار میدهد\n",
    "table2 = str.maketrans(d) # تبدیل به یونیکد ها میکند\n",
    "print(table)\n",
    "print(table2)\n",
    "\n",
    "print(s.translate(table))\n",
    "print(s.translate(table2))\n",
    "\n",
    "print()\n",
    "\n",
    "d = {65: \"D\" , 105: \"f\"}\n",
    "# با نوشتن دیکشنری ب این شکل نیازی به تیبل نیست\n",
    "print(s.translate(d))\n"
   ]
  },
  {
   "cell_type": "code",
   "execution_count": 8,
   "id": "0585cf22",
   "metadata": {},
   "outputs": [
    {
     "name": "stdout",
     "output_type": "stream",
     "text": [
      "('Reza ', '01', ' Dolati')\n"
     ]
    }
   ],
   "source": [
    "# partition\n",
    "#  با توجه به ورودی تقسیم رشته به سه قسمت در تاپل\n",
    "s = \"Reza 01 Dolati\"\n",
    "print(s.partition(\"01\"))"
   ]
  },
  {
   "cell_type": "code",
   "execution_count": 11,
   "id": "088a58d2",
   "metadata": {},
   "outputs": [
    {
     "name": "stdout",
     "output_type": "stream",
     "text": [
      "--Reza Dolati---\n",
      "Reza Dolati---\n",
      "poj\n",
      "yyxpoj\n"
     ]
    }
   ],
   "source": [
    "# removeprefix حذف پیشوند\n",
    "# removesuffic حذف پسوند\n",
    "s = \"---Reza Dolati---\"\n",
    "print(s.removeprefix(\"-\"))\n",
    "print(s.lstrip(\"-\"))\n",
    "\n",
    "s2 = \"xyyyxpoj\"\n",
    "print(s2.lstrip(\"yx\"))\n",
    "print(s2.removeprefix(\"xy\"))\n"
   ]
  },
  {
   "cell_type": "code",
   "execution_count": 17,
   "id": "0cc49597-7e76-4f00-87bd-1321c6e83125",
   "metadata": {},
   "outputs": [
    {
     "name": "stdout",
     "output_type": "stream",
     "text": [
      "['reza ', ' dolat , ali , python']\n",
      "['reza , dolat , ali ', ' python']\n"
     ]
    }
   ],
   "source": [
    "s = \"reza , dolat , ali , python\"\n",
    "\n",
    "print(s.split(\",\" , 1))\n",
    "print(s.rsplit(\",\" , 1))"
   ]
  },
  {
   "cell_type": "code",
   "execution_count": 64,
   "id": "21a13afd",
   "metadata": {},
   "outputs": [
    {
     "name": "stdout",
     "output_type": "stream",
     "text": [
      "['Reza Dolati', 'Python', 'Ali']\n",
      "['Reza Dolati\\n', 'Python\\n', 'Ali']\n"
     ]
    }
   ],
   "source": [
    "# splitlines\n",
    "# جدا کردن رشته در لیست براساس \\n\n",
    "s = \"Reza Dolati\\nPython\\nAli\"\n",
    "print(s.splitlines())\n",
    "print(s.splitlines(True))"
   ]
  },
  {
   "cell_type": "code",
   "execution_count": 65,
   "id": "7f333009",
   "metadata": {},
   "outputs": [
    {
     "name": "stdout",
     "output_type": "stream",
     "text": [
      "rEZA dOLATI\n"
     ]
    }
   ],
   "source": [
    "# swapcase\n",
    "# حروف بزرگ را کوچک و حروف کوچه به بزرگ تبدیل می شود\n",
    "s = \"Reza Dolati\"\n",
    "print(s.swapcase())"
   ]
  },
  {
   "cell_type": "code",
   "execution_count": 67,
   "id": "8fd060a6",
   "metadata": {},
   "outputs": [
    {
     "name": "stdout",
     "output_type": "stream",
     "text": [
      "01 : 13\n"
     ]
    }
   ],
   "source": [
    "# zfill\n",
    "# هر چقدر رشته از اندازه آرگومان کوچکتر باشد با صفر پر میشود\n",
    "h = \"1\"\n",
    "m = \"13\"\n",
    "print(h.zfill(2), \":\", m.zfill(2))\n",
    "# برای ساعت خوب استفاده می شود"
   ]
  },
  {
   "cell_type": "code",
   "execution_count": 1,
   "id": "cb5d4d7a-52a2-4bdb-95bd-d4d3a4d0e0a0",
   "metadata": {},
   "outputs": [
    {
     "data": {
      "text/plain": [
       "True"
      ]
     },
     "execution_count": 1,
     "metadata": {},
     "output_type": "execute_result"
    }
   ],
   "source": [
    "# بررسی شامل بودن رشته از رشته دیگر\n",
    "'Lillianna Pruitt'.__contains__('P')"
   ]
  },
  {
   "cell_type": "code",
   "execution_count": null,
   "id": "456acb0c-c91a-4b78-b708-d732fbbac51f",
   "metadata": {},
   "outputs": [],
   "source": []
  }
 ],
 "metadata": {
  "kernelspec": {
   "display_name": "Python 3 (ipykernel)",
   "language": "python",
   "name": "python3"
  },
  "language_info": {
   "codemirror_mode": {
    "name": "ipython",
    "version": 3
   },
   "file_extension": ".py",
   "mimetype": "text/x-python",
   "name": "python",
   "nbconvert_exporter": "python",
   "pygments_lexer": "ipython3",
   "version": "3.10.9"
  }
 },
 "nbformat": 4,
 "nbformat_minor": 5
}
