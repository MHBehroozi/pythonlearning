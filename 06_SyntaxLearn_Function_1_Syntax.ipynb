{
 "cells": [
  {
   "cell_type": "markdown",
   "id": "9bda01c9-8f7d-43b6-bd6d-2c4b5e2090a8",
   "metadata": {
    "tags": []
   },
   "source": [
    "# تابع در پایتون"
   ]
  },
  {
   "cell_type": "markdown",
   "id": "ddc69f33-6190-4140-bf27-d344a64e2f2d",
   "metadata": {},
   "source": [
    "اگر نیاز به اعمال یکسری پروسه های مکرر روی ورودی های مختلف داریم می توانیم از تابع کمک بیگریم"
   ]
  },
  {
   "cell_type": "code",
   "execution_count": 1,
   "id": "f43378e5-7559-4635-aab7-d2fde79356c5",
   "metadata": {},
   "outputs": [
    {
     "name": "stdout",
     "output_type": "stream",
     "text": [
      "7\n"
     ]
    }
   ],
   "source": [
    "def f(x):                # تعریف تابع\n",
    "    return 2*x+1         # خروجی تابع\n",
    "\n",
    "print(f(3))              # فراخوانی تابع"
   ]
  },
  {
   "cell_type": "code",
   "execution_count": 2,
   "id": "5bfd61c8-4973-4e82-9a64-2708b5761c9a",
   "metadata": {},
   "outputs": [],
   "source": [
    "# تعریف تابع\n",
    "# در پایتون نیازی به مشخص کردن نوع خروجی و نوع ورودی ها نیست\n",
    "# تعریف تابع با def\n",
    "# توصیه میشه توابع به یک شکل اسنیک کیس یا کمل کیس نوشته شود\n",
    "# اسم تابع نباید کلمه کلیدی باشد\n",
    "# اسم تابع مرتبط با عملکرد باشد\n",
    "# بعد از دِف و اسم تابع لازم هست داخل پرانتز ورودی های تابع را مشخص کرد\n",
    "# قوانین دندانه گذاری و تو رفتگی لازم هست رعایت شود\n",
    "\n",
    "\n",
    "def cube_pow (x):\n",
    "    return x ** 3\n"
   ]
  },
  {
   "cell_type": "code",
   "execution_count": 3,
   "id": "c292d0fe-a7d5-46bc-a93d-4a18c5c7910f",
   "metadata": {},
   "outputs": [
    {
     "name": "stdout",
     "output_type": "stream",
     "text": [
      "1728\n"
     ]
    }
   ],
   "source": [
    "# تابع بصورت پیش فرض اجرا نمی شود\n",
    "# باید فراخوانی شود تا اجرا شود\n",
    "# در صورتی فراخوانی تابع صحیح هست که پرانتز های آن گذاشته شود\n",
    "# در داخل پرانتز باید به تعداد ورودی های تعریف شده در هنگام تعریف، ورودی داده شود\n",
    "\n",
    "def cube_pow (x):\n",
    "    return x ** 3\n",
    "\n",
    "print(cube_pow(12))\n"
   ]
  },
  {
   "cell_type": "code",
   "execution_count": 1,
   "id": "7947788f-8fd2-48a5-9faa-e81d90f656ac",
   "metadata": {},
   "outputs": [
    {
     "name": "stdout",
     "output_type": "stream",
     "text": [
      "125\n"
     ]
    }
   ],
   "source": [
    "# حالتی خاص\n",
    "\n",
    "def cube (x):\n",
    "    return x ** 3\n",
    "\n",
    "n = cube # بدون پرانتز ها در واقع تابع فراخوانی نمی شود و انگار اِن همان تابع است و فقط اسمش عوض شده\n",
    "\n",
    "print(n(5))"
   ]
  },
  {
   "cell_type": "code",
   "execution_count": 5,
   "id": "0e9f07c4-8fd9-4974-a626-9e6d41ffc6d9",
   "metadata": {},
   "outputs": [
    {
     "name": "stdin",
     "output_type": "stream",
     "text": [
      "Enter x :  4\n"
     ]
    },
    {
     "name": "stdout",
     "output_type": "stream",
     "text": [
      "64\n"
     ]
    }
   ],
   "source": [
    "# تابع می تواند ورودی نداشته باشد و یا حتی ورودی خود را از کاربر بگیرد\n",
    "\n",
    "def cube ():\n",
    "    x = int(input(\"Enter x : \"))\n",
    "    return x ** 3\n",
    "\n",
    "n = cube()\n",
    "print(n)"
   ]
  },
  {
   "cell_type": "code",
   "execution_count": 7,
   "id": "644cb4af-5029-4507-b626-6dc2d20f36e3",
   "metadata": {},
   "outputs": [
    {
     "name": "stdin",
     "output_type": "stream",
     "text": [
      "Enter x :  4\n"
     ]
    },
    {
     "name": "stdout",
     "output_type": "stream",
     "text": [
      "64\n"
     ]
    },
    {
     "name": "stdin",
     "output_type": "stream",
     "text": [
      "Enter x :  5\n"
     ]
    },
    {
     "name": "stdout",
     "output_type": "stream",
     "text": [
      "125\n",
      "None\n"
     ]
    }
   ],
   "source": [
    "# لزومی ندارد تابع خروجی ای را برگرداند\n",
    "\n",
    "def cube ():\n",
    "    x = int(input(\"Enter x : \"))\n",
    "    print(x ** 3)\n",
    "    \n",
    "cube()\n",
    "\n",
    "# اگر برای تابع خروجی ای برنگردانیم بطور پیش فرض برمیگرداند None\n",
    "\n",
    "n = cube()\n",
    "print(n)\n",
    "\n",
    "# return پایان تابع است و دستورات بعد آن اجرا نمی گردند\n"
   ]
  },
  {
   "cell_type": "markdown",
   "id": "40cef28d-0566-49fc-b05c-ed45d2859d95",
   "metadata": {},
   "source": [
    "پارامتر و آروگومان"
   ]
  },
  {
   "cell_type": "markdown",
   "id": "95df3983-ca82-4b72-819d-0ef38acdfdec",
   "metadata": {},
   "source": [
    "ورودی های تابع در هنگام تعریف پارامتر گفته میشه و در هنگام فراخوان آرگومان گفته می شود"
   ]
  },
  {
   "cell_type": "code",
   "execution_count": 8,
   "id": "71f9f969-3327-4950-b530-5a8b0954b9e2",
   "metadata": {},
   "outputs": [],
   "source": [
    "# توصیه های نگارش توابع\n",
    "# هر تابع حداکثر 20 خط باشد\n",
    "# هر تابع فقط یک کار خاص را انجام دهد\n",
    "# اسم تابع کارکرد تابع را شرح دهد\n",
    "# پارامتر های تابع تا حد امکان کمترین باشد\n",
    "# تابع حتما کاری باشد که انجام دهد"
   ]
  },
  {
   "cell_type": "code",
   "execution_count": 9,
   "id": "10ea6ae3-fa09-46fe-a7da-bdf099ee1333",
   "metadata": {},
   "outputs": [],
   "source": [
    "# اگر می خواهید اول تابع را تعریف، و در داخل کد بیاورید ولی بعدا دستورات آن را بنویسید pass استفاده کنید از\n",
    "# تا دچار خطا نشوید\n",
    "\n",
    "def funct ():\n",
    "    pass\n",
    "\n",
    "funct()\n"
   ]
  },
  {
   "cell_type": "code",
   "execution_count": 10,
   "id": "4fbfa499-52ba-4224-bada-970781dcd300",
   "metadata": {},
   "outputs": [
    {
     "name": "stdin",
     "output_type": "stream",
     "text": [
      "number ? :  123456789\n",
      "digit ? :  5\n"
     ]
    },
    {
     "name": "stdout",
     "output_type": "stream",
     "text": [
      "5  repeated 1 times\n"
     ]
    }
   ],
   "source": [
    "# مثال از تابع\n",
    "def repeat(number ,digit):\n",
    "    count = 0\n",
    "    while number > 0:\n",
    "        if number % 10 == digit:\n",
    "            count += 1\n",
    "        number //= 10\n",
    "    return count\n",
    "            \n",
    "number = int(input(\"number ? : \"))\n",
    "digit = int(input(\"digit ? : \"))\n",
    "\n",
    "print(digit, \" repeated\", repeat(number, digit),\"times\")"
   ]
  },
  {
   "cell_type": "code",
   "execution_count": null,
   "id": "9f6b42d5-cd55-46ed-bc51-c8d1ac28dd84",
   "metadata": {},
   "outputs": [
    {
     "name": "stdin",
     "output_type": "stream",
     "text": [
      "Enter n :  5\n"
     ]
    },
    {
     "name": "stdout",
     "output_type": "stream",
     "text": [
      "Result =  153\n"
     ]
    }
   ],
   "source": [
    "# مثال دوم\n",
    "# 1! + 2! + 3! + ... + n!\n",
    "\n",
    "def fact(n):\n",
    "    f = 1\n",
    "    for i in range(1, n+1):\n",
    "        f *= i\n",
    "    return f\n",
    "\n",
    "def sum_fact(n):  # این اِن هیچ ربطی به اِن قبلی ندارد\n",
    "    s = 0\n",
    "    for i in range(1, n+1):\n",
    "        s += fact(i)\n",
    "    return s\n",
    "\n",
    "number = int(input(\"Enter n : \"))\n",
    "print(\"Result = \", sum_fact(number))\n",
    "\n",
    "# توصیه می شود هر تابع فقط یک کار را انجام دهد"
   ]
  },
  {
   "cell_type": "code",
   "execution_count": null,
   "id": "f9e73504-021b-43e9-a138-b697c43860d7",
   "metadata": {},
   "outputs": [],
   "source": []
  },
  {
   "cell_type": "markdown",
   "id": "4dbc60a3-6209-45e6-b537-ca6d8cb9730a",
   "metadata": {},
   "source": [
    "## سینتکس آرگومان ها در تابع"
   ]
  },
  {
   "cell_type": "code",
   "execution_count": 2,
   "id": "1f046d60-8b28-4cc1-b444-8e88640eb587",
   "metadata": {},
   "outputs": [
    {
     "name": "stdout",
     "output_type": "stream",
     "text": [
      "6\n",
      "4\n",
      "9\n",
      "6\n",
      "9\n"
     ]
    }
   ],
   "source": [
    "def max3(a,b,c):\n",
    "    print(max(a,b,c))\n",
    "\n",
    "# normal\n",
    "max3(3, 6, 2)  # ترتیب مهم است\n",
    "# در این شیوه آرگومان نویسی پارامتر ها با توجه به ترتیب آرگومان ها مقدار دهی می شوند\n",
    "\n",
    "# name = vlaue\n",
    "max3(b=4, a=2, c=3)  # ترتیب مهم نیست\n",
    "\n",
    "# normal  +  name/value\n",
    "max3(4, c=9, b=5)  # a با توجه به ترتیب مقدار گرفت ولی بقیه با اسمشان\n",
    "# در این روش باید اول آرگومان هایی نوشته شود که قرار نیست اسمشان را بنویسیم\n",
    "# max3(5 , a=7 , c=9) --> * error   beacause a assigne at first argument\n",
    "\n",
    "\n",
    "# *iterable (str, tuple, list, set)\n",
    "l = [5,6,4]\n",
    "max3(*l) # عملگر * نقش آنپک را دارد\n",
    "\n",
    "# **dictionary\n",
    "d = {\"a\" : 5, \"c\" : 9, \"b\" : 4}  # کلید ها فقط باید شامل پارامترها باشد\n",
    "max3(**d)  # با توجه به کلید ها پارامتر ها را مقدار دهی میکند\n"
   ]
  },
  {
   "cell_type": "markdown",
   "id": "9d9c6c2a-41d9-4dc0-87e3-c712ccb9ee3d",
   "metadata": {},
   "source": [
    "## سینتکس پارامتر های تابع"
   ]
  },
  {
   "cell_type": "code",
   "execution_count": 20,
   "id": "6fc490b6-39ae-49c0-a93e-4a48c77f434f",
   "metadata": {},
   "outputs": [
    {
     "name": "stdout",
     "output_type": "stream",
     "text": [
      "f6 {'a': 2, 'b': 3, 'c': 4}\n",
      "c is: 4\n"
     ]
    }
   ],
   "source": [
    "# normal\n",
    "def func1(a,b,c):\n",
    "    pass\n",
    "    return None\n",
    "\n",
    "# default value\n",
    "def func2(a=2,b=4,c=3):\n",
    "    pass\n",
    "    return None\n",
    "func2(c=8)  # مقدار سی غیر از دیفالت خواهد بود\n",
    "\n",
    "# normal + default value\n",
    "def func3(a,b,c=3):  # درصورت مقدار دهی نرمال ، پارامتر باید قبل تر از دارای مقدار دیفالت باشد\n",
    "    pass\n",
    "    return None\n",
    "func3(a=2, b=3)\n",
    "\n",
    "# *name  (در شرایطی که ممکن است آرگومان ها بیشتر از پارامتر ها باشند مناسب است\n",
    "a , b ,*c = [1,2,3,4,5,9]\n",
    "def func4(a, b, *c):\n",
    "    pass\n",
    "    return None\n",
    "func4(1,2,3,4,5,6,7) # آ و بی مقدار می گیرند و اضافی ها به سی داده می شود\n",
    "\n",
    "# *name (بدون خطا)\n",
    "def func5(a, b, *c, d):  # سی به شکل تاپل مقدار می گیرد\n",
    "    pass\n",
    "    return None\n",
    "func5(1,2,3,4,5,6,7, d = 8)  # لازم است مقدار های آخر که اضافی نیستند از روش نام مقدار، مقداردهی شوند\n",
    "\n",
    "# **name\n",
    "def func6(**d):\n",
    "    print(\"f6\", d)\n",
    "    print(\"c is:\", d['c'])\n",
    "func6(a=2, b=3, c=4)"
   ]
  },
  {
   "cell_type": "code",
   "execution_count": null,
   "id": "df1f5fef-591f-409a-8e14-f945bc57c595",
   "metadata": {},
   "outputs": [
    {
     "name": "stdout",
     "output_type": "stream",
     "text": [
      "a : 1\n",
      "b : 2\n",
      "c : (3, 4, 5, 6, 7, 8, 9)\n",
      "d : {'c': 10, 'd': 11}\n"
     ]
    }
   ],
   "source": [
    "# سینتکس ترکیبی پارامترها\n",
    "\n",
    "def func(a, b=0, *c, **d):  # ترتیب فقط به همین شکل\n",
    "    print(\"a :\", a)\n",
    "    print(\"b :\", b)\n",
    "    print(\"c :\", c)\n",
    "    print(\"d :\", d)\n",
    "\n",
    "func(1, 2, 3, 4, 5, 6, 7, 8, 9, c=10, d=11)  # نباید آ و بی بصورت نام مقدار نوشته شوند"
   ]
  },
  {
   "cell_type": "code",
   "execution_count": 15,
   "id": "33077d90-50b6-433e-a283-dc06ce39f9e4",
   "metadata": {},
   "outputs": [
    {
     "name": "stdout",
     "output_type": "stream",
     "text": [
      "1 2 3 4 5 6\n"
     ]
    }
   ],
   "source": [
    "# پارامتر های نشانگر\n",
    "\n",
    "# *\n",
    "def func1(a,b, *,c):  # پارامتر های بعد ستاره حتما باید آرگومان هایشان بصورت مقدار نام باشد\n",
    "    pass\n",
    "    return None\n",
    "\n",
    "\n",
    "# /  در شرایطی که ممکن است بعد نام پارامتر ها تغییر کند مناسب است\n",
    "def func2(a,b, /,c):  # پارامتر های قبل اسلش حتما باید آرگومان هایشان بصورت موقعیتی باشد\n",
    "    pass\n",
    "    return None\n",
    "\n",
    "# مثال\n",
    "def func(a, b, /, c, d, *, e, f):\n",
    "    print(a, b, c, d, e, f)\n",
    "func(1, 2, 3, d=4, e=5, f=6)"
   ]
  },
  {
   "cell_type": "code",
   "execution_count": null,
   "id": "196a5e4d-e39d-4917-b2cd-a70c37a1fd4c",
   "metadata": {},
   "outputs": [],
   "source": []
  },
  {
   "cell_type": "markdown",
   "id": "6bfbd596-847d-4d06-9f17-7f337f4761f8",
   "metadata": {},
   "source": [
    "## داک استرینک: ابزاری برای معرفی تابع"
   ]
  },
  {
   "cell_type": "code",
   "execution_count": 16,
   "id": "96a4c16d-3088-4478-95d3-f88c297d87d7",
   "metadata": {},
   "outputs": [
    {
     "name": "stdout",
     "output_type": "stream",
     "text": [
      " Receives 3 numb as input and returns the largest of them \n",
      "******************************\n",
      "Help on function max3 in module __main__:\n",
      "\n",
      "max3(x, y, z)\n",
      "    Receives 3 numb as input and returns the largest of them\n",
      "\n",
      "None\n"
     ]
    }
   ],
   "source": [
    "# باید در اولین خط بعد معرفی اسم و پارامتر های تابع در داخل 3تا کوتیشن آورده شود\n",
    "# بهتره دابل کوتیشن باشد \n",
    "def max3(x, y, z):\n",
    "    \"\"\" Receives 3 numb as input and returns the largest of them \"\"\"\n",
    "    return max(x, y ,z)\n",
    "\n",
    "print(max3.__doc__)  # دانتل مخفف دابل آندر اسکور\n",
    "\n",
    "print(\"*\"*30)\n",
    "\n",
    "print(help(max3))\n"
   ]
  },
  {
   "cell_type": "code",
   "execution_count": 17,
   "id": "efe4b198-137b-4839-917d-73197373f0a8",
   "metadata": {},
   "outputs": [],
   "source": [
    "# برای نوشتن داک استرینک بهتر است از دابل کوتیشن استفاده شود تا کوتیشن\n",
    "# متن با حرف بزرگ شروع شده و نقطه پایان یابد\n",
    "# خط اول خلاصه ای از کارکرد\n",
    "# بعد یک خط فاصله پارامتر های تابع\n",
    "\n",
    "\n",
    "def func(x, y, z):\n",
    "    \"\"\"Receives 3 numbers as input and returns the largest of them.\n",
    "\n",
    "    Parameters:\n",
    "        x (int): a decimal integer\n",
    "        y (int): another decimal integer\n",
    "        z (int): another decimal integer\n",
    "    \n",
    "    Returns:\n",
    "        max_int (int): largest of three numbers\n",
    "    \"\"\"\n",
    "    return max(x, y, z)\n",
    "\n",
    "# توابع خود پایتون هم داک استرینک دارند"
   ]
  },
  {
   "cell_type": "code",
   "execution_count": null,
   "id": "730bc420-1379-4e49-8484-de9aceb56259",
   "metadata": {},
   "outputs": [],
   "source": []
  },
  {
   "cell_type": "markdown",
   "id": "d1c03090-059f-4ca2-9246-950e726d23fd",
   "metadata": {},
   "source": [
    "## Annotation یادداشت گذاری"
   ]
  },
  {
   "cell_type": "code",
   "execution_count": 18,
   "id": "93077dee-7664-4b68-a887-7b836328352f",
   "metadata": {},
   "outputs": [
    {
     "name": "stdout",
     "output_type": "stream",
     "text": [
      "a 1\n",
      "b 2\n",
      "c 3.1\n"
     ]
    }
   ],
   "source": [
    "# تعیین نوع پارامترها\n",
    "def func(a : int, b : str, c : float):\n",
    "    print(\"a\" , a)\n",
    "    print(\"b\" , b)\n",
    "    print(\"c\" , c)\n",
    "    \n",
    "func(1, '2', 3.1)\n",
    "\n",
    "# لازم هست ماژول mypy نصب شود تا آرگومان خلاف نوع مشخص شده خطا داده شود"
   ]
  },
  {
   "cell_type": "code",
   "execution_count": 30,
   "id": "eb1af27f-3b3a-4b66-8fd1-cb17c8954709",
   "metadata": {},
   "outputs": [
    {
     "name": "stdout",
     "output_type": "stream",
     "text": [
      "{'a': <class 'int'>, 'b': <class 'int'>, 'c': <class 'dict'>, 'return': <class 'float'>}\n",
      "\n",
      "<class 'int'> 7\n"
     ]
    }
   ],
   "source": [
    "# مشخص کردن نوع خروجی تابع\n",
    "def func(a : int , b : int = 9, **c : dict) -> float:  # دادن مقدار پیشفرض\n",
    "    return a+b\n",
    "\n",
    "print(func.__annotations__)\n",
    "print()\n",
    "print(type(func(3, 5,  c=5 )), func(3,4, c=5 ))\n",
    "\n",
    "# ????!!!!!"
   ]
  },
  {
   "cell_type": "code",
   "execution_count": null,
   "id": "a3ee0c56-f568-4dd0-89c1-9d9d61f1d507",
   "metadata": {},
   "outputs": [],
   "source": []
  },
  {
   "cell_type": "markdown",
   "id": "e69c1c38-51f7-4e74-ac5f-126346f1778b",
   "metadata": {
    "tags": []
   },
   "source": [
    "# first class"
   ]
  },
  {
   "cell_type": "markdown",
   "id": "56afd1ea-e433-4e4d-9077-391c2be7fe70",
   "metadata": {},
   "source": [
    "چیزی فرست کلاس هست که مانند اشیا دیگر در پایتون باشد و محدودیتی نداشته باشد"
   ]
  },
  {
   "cell_type": "markdown",
   "id": "f6c77c08-7a8d-4446-bfa4-d27fb3778be1",
   "metadata": {
    "tags": []
   },
   "source": [
    "در سی پلاس پلاس توابعی که تعریف می شوند فرست کلاس نیستند\n",
    "# ولی در پایتون همه توابع و کلاس ها فرست کلاس هستند"
   ]
  },
  {
   "cell_type": "code",
   "execution_count": 20,
   "id": "cfa47ae2-fc41-4d70-847c-4f258919023f",
   "metadata": {},
   "outputs": [
    {
     "name": "stdout",
     "output_type": "stream",
     "text": [
      "2\n",
      "25\n"
     ]
    }
   ],
   "source": [
    "def func(x):\n",
    "    print(x)\n",
    "\n",
    "y = func\n",
    "\n",
    "y(2)\n",
    "# 6->9\n",
    "# ویژگی فرست کلاس ها\n",
    "# 1. Can be created at runtime. ممکنه در شرط یا در تابع دیگر تعریف شوند\n",
    "# 2. Can be assigned to a variable. f = func\n",
    "# 3. Can be passed as a argument to a function.\n",
    "# 4. Can be return as a result from a function.\n",
    "# 5. Can have properties and methods.\n",
    "\n",
    "a = True  # بدلیل فرست کلاس بدون توابع در پایتون می توان توابع را اضافه و حذف کرد\n",
    "if a:\n",
    "    def func11(x):\n",
    "        print(x**2)\n",
    "func11(5)"
   ]
  },
  {
   "cell_type": "code",
   "execution_count": 21,
   "id": "d6dcb8e0-7b60-40b0-870f-b65ef630125f",
   "metadata": {},
   "outputs": [
    {
     "name": "stdout",
     "output_type": "stream",
     "text": [
      "[0, 1, 2, 5, 6, 12, 13, 47, 68, 894]\n",
      "****************************************\n",
      "[894, 68, 47, 13, 12, 6, 5, 2, 1, 0]\n"
     ]
    }
   ],
   "source": [
    "# اختصاص تابع به عنوان آرگومان\n",
    "def descending(mylist):\n",
    "    print(sorted(mylist, reverse = True))\n",
    "\n",
    "def ascending(mylist):\n",
    "    print(sorted(mylist))\n",
    "\n",
    "def mysort(f, mylist):\n",
    "    f(mylist)\n",
    "    \n",
    "l = [5, 6, 12, 2, 1, 68, 47, 894, 13, 0]\n",
    "\n",
    "mysort(ascending, l)\n",
    "print('*' *40)\n",
    "mysort(descending, l)"
   ]
  },
  {
   "cell_type": "code",
   "execution_count": 33,
   "id": "ad5dbd19-3ebb-4eed-b2c9-b859a1ee693c",
   "metadata": {},
   "outputs": [
    {
     "name": "stdin",
     "output_type": "stream",
     "text": [
      "action:  a\n"
     ]
    },
    {
     "name": "stdout",
     "output_type": "stream",
     "text": [
      "[894, 68, 47, 13, 12, 6, 5, 2, 1, 0]\n"
     ]
    }
   ],
   "source": [
    "# برگشت دادن تابع   \n",
    "\n",
    "def mysort(s):\n",
    "\n",
    "    def descending(mylist):\n",
    "        print(sorted(mylist, reverse = True))\n",
    "\n",
    "    def ascending(mylist):\n",
    "        print(sorted(mylist))\n",
    "        \n",
    "    if s == 'd':\n",
    "        return ascending\n",
    "    elif s == 'a':\n",
    "        return descending\n",
    "    \n",
    "l = [5, 6, 12, 2, 1, 68, 47, 894, 13, 0]\n",
    "\n",
    "action = input('action: ')\n",
    "func = mysort(action)\n",
    "func(l)"
   ]
  },
  {
   "cell_type": "markdown",
   "id": "91a40289-0f70-4f5a-af8c-ce92e8e8f351",
   "metadata": {
    "tags": []
   },
   "source": [
    "# ارسال با ارجاع یا با مقدار"
   ]
  },
  {
   "cell_type": "markdown",
   "id": "ed3d299e-b3f7-4ea0-af6d-09808b1868b8",
   "metadata": {},
   "source": [
    "pass by value    default-->pass by refrence\n",
    "ارسال با ارجاع یعنی آدرس آرگومان ها به تابع ارسال می شود و ارسال با مقدار یعنی فقط مقدار متغیر آرگومان به تابع ارسال میشود"
   ]
  },
  {
   "cell_type": "markdown",
   "id": "48ecd6de-c5d8-4ef2-b163-19a6bec1f475",
   "metadata": {},
   "source": [
    "در زبان های مثل سی و سی پلاسپلاس ارسال به هردو شکل ممکن است"
   ]
  },
  {
   "cell_type": "markdown",
   "id": "3ace1eb7-ddab-4de5-8ced-0a6dde0fb00e",
   "metadata": {},
   "source": [
    "در پایتون همه چی شیء است و ارسال ها pass by reference هستند"
   ]
  },
  {
   "cell_type": "markdown",
   "id": "0e20b45f-abbe-4688-8914-11b7b05a391e",
   "metadata": {},
   "source": [
    "اما با توجه تغییر پذیر بودن یا تغییرپذیر نبودن متغیر ها، نتیجه ارسال آرگومان ها چیز دیگری مشاهده میشود"
   ]
  },
  {
   "cell_type": "markdown",
   "id": "bf4b9d4c-92b2-4ce7-8e01-d55b5b48f400",
   "metadata": {},
   "source": [
    "در پایتون اشیائی که تغییر ناپذیر هستند مانند اعداد، رشته و تاپل رفتار در مورد آنها ارسال با مقدار است. در واقع کپی از آنها به تابع ارسال می شود"
   ]
  },
  {
   "cell_type": "markdown",
   "id": "7d630944-a7dd-4fa7-8207-89c1f23c106a",
   "metadata": {},
   "source": [
    "در ارسال با ارجاع مقدار متغییر تغییر میکند"
   ]
  },
  {
   "cell_type": "code",
   "execution_count": 23,
   "id": "83ed2123-0105-4c16-9fb1-ecfbb4c9a0e7",
   "metadata": {},
   "outputs": [],
   "source": [
    "# تغییر نا پذیر شامل : عدد، رشته، تاپل و بولین"
   ]
  },
  {
   "cell_type": "code",
   "execution_count": 24,
   "id": "40ce9b6f-e6f9-4ce1-8f96-6ce6f1636602",
   "metadata": {},
   "outputs": [],
   "source": [
    "# تغییر پذیر شامل : لیست، دیکشنری و مجموعه"
   ]
  },
  {
   "cell_type": "code",
   "execution_count": 3,
   "id": "f31ca264-1f36-4e4f-aed2-03a8c2a97803",
   "metadata": {},
   "outputs": [
    {
     "name": "stdout",
     "output_type": "stream",
     "text": [
      "[1, 2, 3, 9, 0]\n",
      "[1, 3, 4, 6]\n"
     ]
    }
   ],
   "source": [
    "def func(a):\n",
    "    a = [1,2] \n",
    "    # or\n",
    "    a = a + [3,9,0]\n",
    "    print(a)\n",
    "    \n",
    "a = [1,3,4,6]\n",
    "func(a)\n",
    "print(a)\n",
    "\n",
    "# در اینجا در داخل فانکشن اصلا یک متغییر دیگه ساختیم"
   ]
  },
  {
   "cell_type": "code",
   "execution_count": 6,
   "id": "3469ca9c-0a40-4207-8ad4-2f6bb1e03eed",
   "metadata": {},
   "outputs": [
    {
     "name": "stdout",
     "output_type": "stream",
     "text": [
      "[1, 3, 4, 6, 1, 12]\n",
      "[1, 3, 4, 6, 1, 12]\n"
     ]
    }
   ],
   "source": [
    "def func(a):\n",
    "    a += [1,2]\n",
    "    a[5] = 12\n",
    "    print(a)\n",
    "    \n",
    "a = [1,3,4,6]\n",
    "func(a)\n",
    "print(a)\n"
   ]
  },
  {
   "cell_type": "markdown",
   "id": "ecad7d64-5aa3-4e02-bc78-8391d38eabb9",
   "metadata": {},
   "source": [
    "می توان برای تغییر پذیر ها کپی را فرستاد تا ارسال با مقدار باشد"
   ]
  },
  {
   "cell_type": "code",
   "execution_count": 8,
   "id": "325bc31a-a88a-4504-938e-fef0bda44694",
   "metadata": {},
   "outputs": [],
   "source": [
    "a = [1,3,4, [5,6]]\n",
    "\n",
    "b = a.copy()  # کپی سطحی\n",
    "e = a[:]  # شکل دیگری از کپی سطحی\n",
    "\n",
    "import copy\n",
    "c = copy.deepcopy(a)  # کپی عمیق\n",
    "# برای لیست ها و دیکشنری های تو در تو لازم است کپی عمیق صورت گیرد\n"
   ]
  },
  {
   "cell_type": "code",
   "execution_count": 10,
   "id": "c7934ce0-c054-4d42-a757-39259a13e27e",
   "metadata": {},
   "outputs": [
    {
     "name": "stdout",
     "output_type": "stream",
     "text": [
      "6\n",
      "6\n"
     ]
    }
   ],
   "source": [
    "# اگر میخواهیم تغییر نا پذیر ها نیز در نتیجه ارسال با ارجاع باشند:\n",
    "def func(a):\n",
    "    a += 1\n",
    "    print(a)\n",
    "    return a\n",
    "\n",
    "a = 5\n",
    "a = func(a)  # لازم است به این شکل عمل شود\n",
    "print(a)"
   ]
  },
  {
   "cell_type": "code",
   "execution_count": null,
   "id": "a3b25c94-f9e6-4231-b891-001d1510ba4d",
   "metadata": {},
   "outputs": [],
   "source": []
  }
 ],
 "metadata": {
  "kernelspec": {
   "display_name": "Python 3 (ipykernel)",
   "language": "python",
   "name": "python3"
  },
  "language_info": {
   "codemirror_mode": {
    "name": "ipython",
    "version": 3
   },
   "file_extension": ".py",
   "mimetype": "text/x-python",
   "name": "python",
   "nbconvert_exporter": "python",
   "pygments_lexer": "ipython3",
   "version": "3.10.9"
  }
 },
 "nbformat": 4,
 "nbformat_minor": 5
}
