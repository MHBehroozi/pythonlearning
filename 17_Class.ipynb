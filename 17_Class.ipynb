{
 "cells": [
  {
   "cell_type": "markdown",
   "id": "4fb85db8-5778-4e03-8740-a246dff6f3cc",
   "metadata": {},
   "source": [
    "# str - repr"
   ]
  },
  {
   "cell_type": "raw",
   "id": "62b31c85-8674-423a-8dd7-316af3564791",
   "metadata": {},
   "source": [
    "str -> string -> ــstrــ \n",
    "repr -> representation -> __repr__\n",
    "\n",
    "فانکشن هایی داخلی خود پایتون هستند\n",
    "\n",
    "با صدا زدن این ها متدهایی خاصی صدا زده میشوند در پشت صحنه که اندر اسکور اطراف خود دارند\n",
    "ــstrــ\n",
    "__repr__\n",
    "\n",
    "با رپر کوتیشت های استرینگ نیز نشان داده میشود اما با تابع اس تی ار ن\n",
    "\n",
    "در پرینت دیفالت اس تی ار نمایش داده میشود ام در حالت تعاملی ریپر است\n",
    "\n"
   ]
  },
  {
   "cell_type": "code",
   "execution_count": null,
   "id": "c903bf90-31c0-4b9e-9d0d-39fdf69439c3",
   "metadata": {},
   "outputs": [
    {
     "name": "stdout",
     "output_type": "stream",
     "text": [
      "reza\n",
      "'reza'\n",
      "['__add__', '__class__', '__contains__', '__delattr__', '__dir__', '__doc__', '__eq__', '__format__', '__ge__', '__getattribute__', '__getitem__', '__getnewargs__', '__gt__', '__hash__', '__init__', '__init_subclass__', '__iter__', '__le__', '__len__', '__lt__', '__mod__', '__mul__', '__ne__', '__new__', '__reduce__', '__reduce_ex__', '__repr__', '__rmod__', '__rmul__', '__setattr__', '__sizeof__', '__str__', '__subclasshook__', 'capitalize', 'casefold', 'center', 'count', 'encode', 'endswith', 'expandtabs', 'find', 'format', 'format_map', 'index', 'isalnum', 'isalpha', 'isascii', 'isdecimal', 'isdigit', 'isidentifier', 'islower', 'isnumeric', 'isprintable', 'isspace', 'istitle', 'isupper', 'join', 'ljust', 'lower', 'lstrip', 'maketrans', 'partition', 'removeprefix', 'removesuffix', 'replace', 'rfind', 'rindex', 'rjust', 'rpartition', 'rsplit', 'rstrip', 'split', 'splitlines', 'startswith', 'strip', 'swapcase', 'title', 'translate', 'upper', 'zfill']\n"
     ]
    }
   ],
   "source": [
    "print(str(\"reza\"))\n",
    "print(repr(\"reza\"))\n",
    "print(dir(\"reza\"))"
   ]
  },
  {
   "cell_type": "raw",
   "id": "38dac2d4-87c5-444f-84ee-dd6e58c6721d",
   "metadata": {},
   "source": [
    "repr\n",
    "برای دیباگ کردن است و زبان ماشین و توسعه دادن\n",
    "جزییات بیشتر و علاییم نگارشی خاص پاییتون را دارد\n",
    "به شکلی است که معمولا میتونیم دوباره ابجکت را بازسازی کنیم\n",
    "\n",
    "\n",
    "str\n",
    "برای اینکه به کاربر نشان دهیم است\n",
    "ساده است"
   ]
  },
  {
   "cell_type": "code",
   "execution_count": null,
   "id": "36699968-8761-4867-9bee-3352ef606141",
   "metadata": {},
   "outputs": [
    {
     "name": "stdout",
     "output_type": "stream",
     "text": [
      "2023-07-30 21:26:48.315398\n",
      "datetime.datetime(2023, 7, 30, 21, 26, 48, 315398)\n"
     ]
    }
   ],
   "source": [
    "import datetime\n",
    "\n",
    "today = datetime.datetime.now()\n",
    "print(str(today))\n",
    "print(repr(today))"
   ]
  },
  {
   "cell_type": "raw",
   "id": "1c9b8225-fd94-4724-b161-40f533590e3d",
   "metadata": {},
   "source": [
    "repr and str in class"
   ]
  },
  {
   "cell_type": "code",
   "execution_count": null,
   "id": "4c4ebb7c-f7bb-4b2d-b83c-c6742beb5d38",
   "metadata": {},
   "outputs": [
    {
     "name": "stdout",
     "output_type": "stream",
     "text": [
      "<__main__.Person object at 0x7fe9db4e6680>\n",
      "<__main__.Person object at 0x7fe9db4e6680>\n"
     ]
    }
   ],
   "source": [
    "class Person:\n",
    "    def __init__(self , fname, lname):\n",
    "        self.fname = fname\n",
    "        self.lname = lname\n",
    "        \n",
    "        \n",
    "person = Person(\"ali\", \"mohammadi\")\n",
    "print(person)\n",
    "print(repr(person))\n",
    "\n",
    "# وقتی در یک کلاس اس تی ار مشخص نکرده باشیم به صورت دیفالت رپر را نشان میدهد\n",
    "\n"
   ]
  },
  {
   "cell_type": "code",
   "execution_count": null,
   "id": "d45d6643-608a-497d-9bba-3de900042355",
   "metadata": {},
   "outputs": [
    {
     "name": "stdout",
     "output_type": "stream",
     "text": [
      "ali mohammadi\n",
      "Person('ali', 'mohammadi')\n"
     ]
    }
   ],
   "source": [
    "class Person:\n",
    "    def __init__(self , fname, lname):\n",
    "        self.fname = fname\n",
    "        self.lname = lname\n",
    "    def __str__(self):\n",
    "        return f\"{self.fname} {self.lname}\"\n",
    "        \n",
    "    def __repr__(self):\n",
    "        return f\"{self.__class__.__name__}('{self.fname}', '{self.lname}')\"\n",
    "    \n",
    "    \n",
    "person = Person(\"ali\", \"mohammadi\")\n",
    "print(person) # --> print(person.__str__) - print(str(person))\n",
    "print(repr(person)) # --> print(person.__repr__)\n",
    "\n",
    "# اگر از اس تی ار استفاده نکنیم از رپر بجای اس تی ار  استفاده میشه\n",
    "# اما اگر اس تی ار داشته باشیم رپر نداشته باشیم از رپر بجای اس تی ار استفاده نمیکند\n"
   ]
  },
  {
   "cell_type": "markdown",
   "id": "448c9514-713a-4538-8124-4dd09683d3b7",
   "metadata": {},
   "source": [
    "# classs attribute and instance attribute"
   ]
  },
  {
   "cell_type": "code",
   "execution_count": null,
   "id": "eb3d5c6a-bde9-4258-8029-11e6ab7f5477",
   "metadata": {},
   "outputs": [],
   "source": [
    "# instance attribute\n",
    "\n",
    "class Instance:\n",
    "    pass\n",
    "\n",
    "instance = Instance()\n",
    "\n",
    "instance.x = 2\n",
    "\n",
    "# x is a instance attribute\n",
    "# ممکن است در ابجکت های دیگر نباشد و اینکه مقدار های متفاوتی در ابجکت های دگر دارد\n",
    "# ویژگی ایی که مربوط فقط به یک نمونه است\n",
    " "
   ]
  },
  {
   "cell_type": "code",
   "execution_count": null,
   "id": "592170a4-b897-434d-a98d-368e7025bddc",
   "metadata": {},
   "outputs": [
    {
     "name": "stdout",
     "output_type": "stream",
     "text": [
      "User('ali', 3)\n",
      "\n",
      "[User('ali', 3), User('amir', 12), User('alis', 23)]\n",
      "\n",
      "ali\n",
      "[User('ali', 3), User('amir', 12), User('alis', 23)]\n"
     ]
    }
   ],
   "source": [
    "# class attribute\n",
    "\n",
    "# بین همه نمونه ها و آبجکت ها مشترک است\n",
    "# بیرون بدنه متد ها استفاده میشه و از سلف و غیره برای تعریف آن استفاده نمکنیم\n",
    "from typing import List\n",
    " \n",
    "class User:\n",
    "    all_users: List[\"User\"] = []\n",
    "    def __init__(self, name:str ,age:int) -> None:\n",
    "        self.name = name\n",
    "        self.age = age\n",
    "        # هرکدام از این اتریبوت ها که از سلف استفاده میکنیم یعنی مختص به آن ابجکت تعریف میشه بنابراین اینستنس اتریبیوت هستند\n",
    "        # insstance attribute\n",
    "        User.all_users.append(self)\n",
    "    \n",
    "    def __repr__(self):\n",
    "        return f\"{self.__class__.__name__}({self.name!r}, {self.age})\"\n",
    "\n",
    "user1 = User(\"ali\", 3)\n",
    "user2 = User(\"amir\", 12)\n",
    "user3 = User(\"alis\", 23)\n",
    "\n",
    "print(user)\n",
    "print()\n",
    "print(User.all_users)\n",
    "# همانطور که میبینید رپر آنها را در این اتریبیوت قرار میدهد\n",
    "\n",
    "# با توجه به این که در هر آبجکتی وجود دارد با اسم ابجکت ها هم میتوانیم به آنها دسترسی داشته باشیم    \n",
    "# اما اگر آن ابجگت همچین اتریبیوتی داشته باشد ابتدا آن اینستنس اتریبیوت را نمایش میدهد\n",
    "user1.all_users = \"ali\"\n",
    "\n",
    "print()\n",
    "print(user1.all_users)\n",
    "print(User.all_users)\n",
    "    \n",
    "# در نسخه های جدید تر نیازی به ایمپورت لیست نیست\n",
    "# List        \n"
   ]
  },
  {
   "cell_type": "code",
   "execution_count": null,
   "id": "b21eb302-fed7-4132-abaf-df40b61b3397",
   "metadata": {},
   "outputs": [],
   "source": [
    "# اگر فیوچری در پایتون وجود دارد که میدانیم در اینده قرار است بیایید اما در نسخه ایی که با آن کار میکنید وجود ندارد میتوانید بدین شکل استفاده بکنید\n",
    "from __future__ import annotations\n",
    "# حتما باید در خط اول ایمپورت شود\n"
   ]
  },
  {
   "cell_type": "code",
   "execution_count": null,
   "id": "d1012a84-8aaf-4acd-9fad-cfccef82078c",
   "metadata": {},
   "outputs": [],
   "source": [
    "# همان پرینت اما به شکل خوشکل تری  نمایش میدهد\n",
    "from pprint import pprint\n"
   ]
  },
  {
   "cell_type": "code",
   "execution_count": null,
   "id": "df54edb5-d9c6-4fd6-a87f-251d512e2ff6",
   "metadata": {},
   "outputs": [
    {
     "name": "stdout",
     "output_type": "stream",
     "text": [
      "[User('amir', 12), User('alis', 23)]\n",
      "\n",
      "['asd']\n",
      "[User('ali', 3), User('amir', 12), User('alis', 23)]\n",
      "\n",
      "[User('ali', 3), 'asd', User('amir', 12)]\n",
      "[User('ali', 3), 'asd', User('amir', 12)]\n"
     ]
    }
   ],
   "source": [
    "from typing import List\n",
    "from pprint import pprint\n",
    " \n",
    "class User:\n",
    "    all_users: List[\"User\"] = []\n",
    "    def __init__(self, name:str ,age:int) -> None:\n",
    "        self.name = name\n",
    "        self.age = age\n",
    "        User.all_users.append(self)\n",
    "    \n",
    "    def __repr__(self):\n",
    "        return f\"{self.__class__.__name__}({self.name!r}, {self.age})\"\n",
    "\n",
    "user1 = User(\"ali\", 3)\n",
    "User.all_users = []\n",
    "user2 = User(\"amir\", 12)\n",
    "user3 = User(\"alis\", 23)\n",
    "pprint(User.all_users)\n",
    "\n",
    "User.all_users = []\n",
    "\n",
    "# وقتی میخاهیم تغییراتی در این کلاس اتریبیوت دهیم باید با اسم کلاس این کار را انجام دهیم ن با اسم آبجکت ها\n",
    "# زیرا یک اتریبیوت جدید ساخته میشود در آبجکت و تغییری در آن کلاس اتریبیوت نمیافتد\n",
    "\n",
    "print()\n",
    "user1 = User(\"ali\", 3)\n",
    "user1.all_users = [\"asd\"]\n",
    "user2 = User(\"amir\", 12)\n",
    "user3 = User(\"alis\", 23)\n",
    "pprint(user1.all_users)\n",
    "pprint(User.all_users)\n",
    "\n",
    "User.all_users = []\n",
    "\n",
    "# اگر از اپند استفاده بکنیم مشکلی بوجود نمیاد\n",
    "print()\n",
    "user1 = User(\"ali\", 3)\n",
    "user1.all_users.append(\"asd\")\n",
    "user2 = User(\"amir\", 12)\n",
    "pprint(user1.all_users)\n",
    "pprint(User.all_users)"
   ]
  },
  {
   "cell_type": "code",
   "execution_count": null,
   "id": "84a16fba-b9e0-4774-99a7-034d99271521",
   "metadata": {},
   "outputs": [],
   "source": []
  }
 ],
 "metadata": {
  "kernelspec": {
   "display_name": "Python 3 (ipykernel)",
   "language": "python",
   "name": "python3"
  },
  "language_info": {
   "codemirror_mode": {
    "name": "ipython",
    "version": 3
   },
   "file_extension": ".py",
   "mimetype": "text/x-python",
   "name": "python",
   "nbconvert_exporter": "python",
   "pygments_lexer": "ipython3",
   "version": "3.10.9"
  }
 },
 "nbformat": 4,
 "nbformat_minor": 5
}
