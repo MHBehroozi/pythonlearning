{
 "cells": [
  {
   "cell_type": "markdown",
   "id": "42ea1554-b252-4e4b-a00a-e015b40a6ac0",
   "metadata": {},
   "source": [
    "# moduls and classes"
   ]
  },
  {
   "cell_type": "raw",
   "id": "324c4e1a-7af1-4eb0-815a-7b7d52830179",
   "metadata": {},
   "source": [
    "from math import *\n",
    "\n",
    "#  با ستاره میتونیم تمام متد های ماژول را ایمپورت بکنیم که یکسری معایبی دارد\n",
    "# یک وارد شدن یکسری اسامی ناخواسته\n",
    "# دو ریشه یابی و دیباگ را سخت تر میکند\n",
    "# سه تداخل با سایر اسامی ماژول هایی که ایمپورت میکنیم و ممکن است اوررایت شود\n"
   ]
  },
  {
   "cell_type": "raw",
   "id": "a945063c-341c-4d3e-93f8-3d549a96cef3",
   "metadata": {},
   "source": [
    "from parent.pk2.animal import Animal, MOUTH\n",
    "a = Animal()\n",
    "print(a)\n",
    "\n",
    "همانطور که مشاهده میکنید مسیردهی طولانی میباشد"
   ]
  },
  {
   "cell_type": "raw",
   "id": "2307575b-f2c2-4b76-8614-0df9e6947413",
   "metadata": {},
   "source": [
    "# برای جلوگیری از اینطور مسیردهی طولانی راهکاری وجود دارد\n",
    "# با ایمپورت کردن هر پکیج فایل اینیت آن نیز اجرا میشود\n",
    "# بنابراین میتوانیم در فایل اینیت پکیج های فرزند را ایمپورت کنیم\n",
    "\n",
    "__init__.py\n",
    "from .pk2.animal import Animal, MOUTH\n",
    "\n",
    "# با توجه به ایمپورت که در فایل اینیت صورت گرفت میتونیم تنها پکیج والد را ایمپورت کنید\n",
    "\n",
    "from parent import Animal, MOUTH\n",
    "a = Animal()\n",
    "print(a)"
   ]
  },
  {
   "cell_type": "raw",
   "id": "1777b5aa-98f8-4bd8-b9df-718f611d3620",
   "metadata": {},
   "source": [
    "در اکثر مواقع کلاس را ایمپورت میکنیم و بعد از آن آبجکت میسازیم \n",
    "\n",
    "اما گاهی ماژول هایی وجود دارد که یک آبجکت را برمیگردانند که باید آن آبجکت را از آن ماژول برگردانیم \n",
    "\n",
    "اما گاهی ساختن آن آبجکت طولانی است و این باعث میشه در شروع برنامه کلی وقت ماتلف شود و بهتر است همان ابتدا آبجکت ساخته نشود\n",
    "\n",
    "برای حل این موضوع یک تابع میسازیم که هر وقت میخاستیم آن آبجکت ساخته شود بسازد ن در ابتدای اجرای برنامه و بعد همان تابع را ایمپورت میکنیم\n"
   ]
  },
  {
   "cell_type": "code",
   "execution_count": 5,
   "id": "6d6197f1-eaee-415b-b516-17c50ca622f3",
   "metadata": {},
   "outputs": [],
   "source": [
    "class Point:\n",
    "    pass\n",
    "\n",
    "\n",
    "point = None\n",
    "\n",
    "\n",
    "def get_point():\n",
    "    global point\n",
    "    if not point:\n",
    "        point = Point()\n",
    "    return point"
   ]
  },
  {
   "cell_type": "code",
   "execution_count": null,
   "id": "4557c1b3-1643-4fe4-8997-a556d3ef900b",
   "metadata": {},
   "outputs": [],
   "source": [
    "# در موقع استفاده فقط همین تابع را ایمپورت میکنیم\n",
    "from point import get_point"
   ]
  },
  {
   "cell_type": "code",
   "execution_count": 4,
   "id": "738e124c-393c-4e53-ace3-8858da8b70f5",
   "metadata": {},
   "outputs": [],
   "source": [
    "# بهتره تایپ داده ها را مشخص بکنیم\n",
    "# اما در این حالت اگر بخاهیم تایپ آبجکت را کلاس پوینت قرار دهیم به خطا برخورد میکنیم زیرا نان مقدار دهی کرده ایم\n",
    "# point: Point = None\n",
    "\n",
    "# optional\n",
    "# در این مواقع از آپشنال استفاده میکنیم\n",
    "from typing import Optional\n",
    "\n",
    "class Point:\n",
    "    pass\n",
    "\n",
    "# در اینصورت هم میتواند نان باشد هم پوینت\n",
    "point: Optional[Point] = None\n",
    "\n",
    "\n",
    "def get_point():\n",
    "    global point\n",
    "    if not point:\n",
    "        point = Point()\n",
    "    return point"
   ]
  },
  {
   "cell_type": "raw",
   "id": "83996928-c405-4907-8ab4-1851145eb18a",
   "metadata": {},
   "source": [
    "ما شاید در درون یک ماژول کد هایی یا کلاسی داریم که میخاهیم در فایل های دیگر استفاده بکنیم و درون آن ماژول شاید کدهایی دیگری نیز دارند که اجرا میشوند مثل پرینت ها\n",
    "\n",
    "و این با هربار ایمپورت کردن آن ماژول فراخوانی میشود و اجرا میشود\n",
    "\n",
    "دقت کنید هر ماژول یک نام دارد\n",
    "\n",
    "که این نام در خود ماژول میین را برمیگرداند و  در سایر فایل ها اسم ماژول را\n",
    "__main__\n",
    "\n",
    "با توجه به این تمام دستوراتی که میخاهیم اجرا شود را در تابع معمولا بنام میین قرار میدهیم و از یک شرط استفاده میکنیم \n"
   ]
  },
  {
   "cell_type": "code",
   "execution_count": 7,
   "id": "01d92bb9-be5c-4bbd-b09d-052c8f439267",
   "metadata": {},
   "outputs": [
    {
     "name": "stdout",
     "output_type": "stream",
     "text": [
      "math\n"
     ]
    }
   ],
   "source": [
    "# نام هر ماژول\n",
    "import math\n",
    "\n",
    "print(math.__name__)"
   ]
  },
  {
   "cell_type": "code",
   "execution_count": 8,
   "id": "025bed56-e860-4b9e-8730-191d16b0bbdc",
   "metadata": {},
   "outputs": [
    {
     "name": "stdout",
     "output_type": "stream",
     "text": [
      "__main__\n"
     ]
    }
   ],
   "source": [
    "print(__name__)"
   ]
  },
  {
   "cell_type": "code",
   "execution_count": 11,
   "id": "6f2b955b-2fe0-4556-abf8-29fc65b4484c",
   "metadata": {},
   "outputs": [
    {
     "name": "stdout",
     "output_type": "stream",
     "text": [
      "<function get_point at 0x7fa7ed562170>\n"
     ]
    }
   ],
   "source": [
    "from typing import Optional\n",
    "\n",
    "class Point:\n",
    "    pass\n",
    " \n",
    "point: Optional[Point] = None\n",
    "\n",
    "\n",
    "def get_point():\n",
    "    global point\n",
    "    if not point:\n",
    "        point = Point()\n",
    "    return point\n",
    "\n",
    "# تمام دستوراتی که قرار است اجرا شود در این تابع قرار میدهیم\n",
    "def main():\n",
    "    print(get_point)\n",
    "    \n",
    "if __name__ == \"__main__\" :\n",
    "    main()"
   ]
  },
  {
   "cell_type": "code",
   "execution_count": 13,
   "id": "643e8589-4e52-4a08-a839-ecef4204e594",
   "metadata": {},
   "outputs": [
    {
     "name": "stdout",
     "output_type": "stream",
     "text": [
      "<class '__main__.fun.<locals>.p'>\n"
     ]
    }
   ],
   "source": [
    "# ما هم میتونیم درون کلاس تابع تعریف کنیم و هم میتونیم درون تابع کلاس تعریف کینم\n",
    "# اگر درون تابع کلاس تعریف کنیم فقط درون آن قابل دسترسی است\n",
    "\n",
    "def fun():\n",
    "    class p:\n",
    "        pass\n",
    "    print(p)\n",
    "    \n",
    "fun()"
   ]
  },
  {
   "cell_type": "markdown",
   "id": "dd9ca426-25ff-49b9-ac1c-9fc2ec71c2e3",
   "metadata": {},
   "source": [
    "# access\n",
    "# سطح  دسترسی ها در پایتون "
   ]
  },
  {
   "cell_type": "raw",
   "id": "20e5caa3-0dc1-4dd3-9d88-eadfb15bec6d",
   "metadata": {},
   "source": [
    "در زبان های برنامه نویسی\n",
    "\n",
    "public > در همه جا در دسترس است\n",
    "\n",
    "protectet > در خود کلاس و کلاس هایی که از آن کلاس ارث بری کرده اند در دسترس است\n",
    "\n",
    "private > فقط در خود کلاس دردسترس است"
   ]
  },
  {
   "cell_type": "raw",
   "id": "2e44c337-3cd4-4ad9-b027-43642cc5b73f",
   "metadata": {},
   "source": [
    "در پایتون چیزی تحت عنوان پرایوت واقعی نداریم\n",
    "\n",
    "در واقع در پایتون گفته میشود پرایوت یا پابلیک یا پروتکت است اما جلوی استفاده از آن را نمیگیرد\n",
    "\n",
    "محدودیت صد در صدی ندارد\n",
    "\n",
    "در پایتون این سطح دسترسی ها را با آندر اسکور ـ مشخص میکنیم"
   ]
  },
  {
   "cell_type": "markdown",
   "id": "87c8a097-affd-4cb4-b108-367e44e48c70",
   "metadata": {},
   "source": [
    "# 5 state of usage underscore"
   ]
  },
  {
   "cell_type": "code",
   "execution_count": 14,
   "id": "df9041cf-64cf-431e-9fd3-6e58f5d1edbb",
   "metadata": {},
   "outputs": [
    {
     "name": "stdout",
     "output_type": "stream",
     "text": [
      "hi\n",
      "hi\n",
      "hi\n",
      "hi\n",
      "hi\n",
      "hi\n",
      "hi\n",
      "hi\n",
      "hi\n",
      "hi\n",
      "amir\n"
     ]
    }
   ],
   "source": [
    "# _ به تنهایی\n",
    "\n",
    "# در حلقه وقتی که از کد درون حلقه از متغیر استفاده ایی نمیکند\n",
    "\n",
    "for _ in range(10):\n",
    "    print(\"hi\")\n",
    "\n",
    "# وقتی یک متغییر داریم که بعدا نمیخاهیم از آن استفاده بکنیم و نامگذاری آن برای ما مهم نیست\n",
    "# مثلا در کد یک تاپل داریم که نمیخاهیم از آنها استفاده کنیم \n",
    "name ,_ ,_ = (\"amir\", 23, 2)\n",
    "print(name)\n",
    "\n",
    "# در حالت تعاملی وقتی از اندر اسکور استفاده میکنیم آخرین مقدار را برمیگرداند\n",
    "# در واقع آخرین مقدار را در آندراسکور ذخیره میکند\n",
    "# >>> \"ali\"\n",
    "# 'ali'\n",
    "# >>> _\n",
    "# 'ali'"
   ]
  },
  {
   "cell_type": "raw",
   "id": "9078dafc-ab9e-46e2-9464-2fd9619dad03",
   "metadata": {},
   "source": [
    "استفاده از آندر اسکور قبل از متد یا متغییر\n",
    "\n",
    "public  > name\n",
    "بصورت عادی تعریف میکنیم\n",
    "\n",
    "private >\n",
    "\n",
    "protective > _name\n",
    "\n",
    "همانطور که میدانید این متغیرر ها یا متد ها و غیره قابل دسترسی هستند اما این نوع نوشتن فقط قرارداد است\n",
    "\n",
    "----------------------------------------------------------------------\n",
    "\n",
    "استفاده دوم در بدنه ماژول ما میتوانیم متغییر هایی داشته باشیم که قبل آنها آندر اسکور وجود دارد \n",
    "این متغییر ها وقتی از ستاره برای ایمپورت کردن استفاده میکنیم در فایلی که ایمپورت میکنیم در دسترس نیست\n",
    "\n",
    "in point.py:\n",
    "\n",
    "_x = 4\n",
    "y = 3\n",
    "\n",
    "-------\n",
    "\n",
    "in test.py:\n",
    "\n",
    "from point import *\n",
    "\n",
    "print(y) > 3\n",
    "print(_x) > Error\n",
    "\n",
    "\n",
    "راه حل :\n",
    "\n",
    "در ماژول یک متغییر آال داریم که میتوانیم در آن این متغییر را نیز تعریف کنیم\n",
    "این باعث میشود که وقتی از ستاره برای ایمپورت استفاده میکنیم مشکلی وجود نداشته باشد\n",
    "\n",
    "in point.py:\n",
    "\n",
    "__all__ = ['_x', 'y']\n",
    "\n",
    "_x = 4\n",
    "y = 3\n",
    "\n",
    "-------\n",
    "\n",
    "in test.py:\n",
    "\n",
    "from point import *\n",
    "\n",
    "print(y) > 3\n",
    "print(_x) > 4\n"
   ]
  },
  {
   "cell_type": "code",
   "execution_count": 18,
   "id": "50442841-cfd5-41b7-ac73-2f1b9aaa18d7",
   "metadata": {},
   "outputs": [
    {
     "name": "stdout",
     "output_type": "stream",
     "text": [
      "140359528837184\n"
     ]
    }
   ],
   "source": [
    "class User:\n",
    "    def __init__(self, name):\n",
    "        self._id = id(self)\n",
    "        self.name = name\n",
    "        \n",
    "        \n",
    "user1 = User(\"ali\")\n",
    "\n",
    "# همانطور که میدانید آیدی پروتکتد است\n",
    "print(user1._id)"
   ]
  },
  {
   "cell_type": "raw",
   "id": "d504b8d3-f590-4465-b7b8-e906624eb569",
   "metadata": {},
   "source": [
    "استفاده آندراسکور بعد از متغییر و متد\n",
    "\n",
    "همانطور که میدانید در پایتون ما یکسری کلمات کلیدی داریم\n",
    "و وقتی میخاهیم از این کلمات استفاده بکنیم از آندر اسکور بعد آن استفاده میکنیم\n",
    "\n",
    "min_ = 8\n",
    "class_ = \"A5\"\n"
   ]
  },
  {
   "cell_type": "raw",
   "id": "3a9aa52c-8b0b-4681-9156-ac87bd235f6f",
   "metadata": {},
   "source": [
    "استفاده از دوتا آندراسکور قبل از متغییر یا متد\n",
    "\n",
    "public  > name\n",
    "بصورت عادی تعریف میکنیم\n",
    "\n",
    "private > __name\n",
    "\n",
    "protective > _name\n",
    "\n",
    "*به دوتا آندر اسکور داندر میگوییند \n",
    "\n"
   ]
  },
  {
   "cell_type": "code",
   "execution_count": 24,
   "id": "d77fb8d1-1695-4ead-88dd-78f860aa3bde",
   "metadata": {},
   "outputs": [
    {
     "ename": "AttributeError",
     "evalue": "'User' object has no attribute '__id'",
     "output_type": "error",
     "traceback": [
      "\u001b[0;31m---------------------------------------------------------------------------\u001b[0m",
      "\u001b[0;31mAttributeError\u001b[0m                            Traceback (most recent call last)",
      "Cell \u001b[0;32mIn[24], line 10\u001b[0m\n\u001b[1;32m      7\u001b[0m user1 \u001b[38;5;241m=\u001b[39m User(\u001b[38;5;124m\"\u001b[39m\u001b[38;5;124mali\u001b[39m\u001b[38;5;124m\"\u001b[39m)\n\u001b[1;32m      9\u001b[0m \u001b[38;5;66;03m# همانطور که میدانید آیدی پرایوت است\u001b[39;00m\n\u001b[0;32m---> 10\u001b[0m \u001b[38;5;28mprint\u001b[39m(\u001b[43muser1\u001b[49m\u001b[38;5;241;43m.\u001b[39;49m\u001b[43m__id\u001b[49m)\n",
      "\u001b[0;31mAttributeError\u001b[0m: 'User' object has no attribute '__id'"
     ]
    }
   ],
   "source": [
    "class User:\n",
    "    def __init__(self, name):\n",
    "        self.__id = id(self)\n",
    "        self.name = name\n",
    "        \n",
    "        \n",
    "user1 = User(\"ali\")\n",
    "\n",
    "# همانطور که میدانید آیدی پرایوت است\n",
    "print(user1.__id)"
   ]
  },
  {
   "cell_type": "code",
   "execution_count": 29,
   "id": "e6d50fe2-7c04-4dda-b8b3-2f847814b853",
   "metadata": {},
   "outputs": [
    {
     "name": "stdout",
     "output_type": "stream",
     "text": [
      "['_User__id', '__class__', '__delattr__', '__dict__', '__dir__', '__doc__', '__eq__', '__format__', '__ge__', '__getattribute__', '__gt__', '__hash__', '__init__', '__init_subclass__', '__le__', '__lt__', '__module__', '__ne__', '__new__', '__reduce__', '__reduce_ex__', '__repr__', '__setattr__', '__sizeof__', '__str__', '__subclasshook__', '__weakref__', 'name', 'str']\n",
      "140359533848576\n"
     ]
    }
   ],
   "source": [
    "class User:\n",
    "    def __init__(self, name):\n",
    "        self.__id = id(self)\n",
    "        self.name = name\n",
    "#       درون کلاس به همین شکل قابل استفاده است  \n",
    "        self.str = str(self.__id) + \"name\" + self.name\n",
    "        \n",
    "        \n",
    "user1 = User(\"ali\")\n",
    "\n",
    "print(dir(user1))\n",
    "# همانطور که میبینید اندراسکور و اسم کلاس به آیدی شده است که به این نیم مانگلینگ میگوییند\n",
    "# name mangling\n",
    "# __id > _User__id\n",
    "\n",
    "print(user1._User__id)"
   ]
  },
  {
   "cell_type": "code",
   "execution_count": 36,
   "id": "68463aed-244b-4cd2-941a-1baa6cade364",
   "metadata": {},
   "outputs": [
    {
     "name": "stdout",
     "output_type": "stream",
     "text": [
      "['_Account__id', '_User__id', '__class__', '__delattr__', '__dict__', '__dir__', '__doc__', '__eq__', '__format__', '__ge__', '__getattribute__', '__gt__', '__hash__', '__init__', '__init_subclass__', '__le__', '__lt__', '__module__', '__ne__', '__new__', '__reduce__', '__reduce_ex__', '__repr__', '__setattr__', '__sizeof__', '__str__', '__subclasshook__', '__weakref__', 'name', 'str']\n"
     ]
    }
   ],
   "source": [
    "# اگر بخاهیم در کلاس های فرزند استفاده بکنیم از نیم انگلینگ متغییر استفاده میکنیم\n",
    "\n",
    "class User:\n",
    "    def __init__(self, name=\"\"):\n",
    "        self.__id = id(self)\n",
    "        self.name = name \n",
    "        self.str = str(self.__id) + \"name\" + self.name\n",
    "        \n",
    "        \n",
    "class Account(User):\n",
    "    def __init__(self):\n",
    "        super().__init__()\n",
    "        self.__id = \"1234\"\n",
    "        \n",
    "\n",
    "ali = User(\"ali\")\n",
    "ali_account = Account()\n",
    "\n",
    "# همانطور که میبینید هم متغییر ایدی والد را دارد هم کلاس سازنده خودش\n",
    "print(dir(ali_account))\n",
    "\n",
    "# این نیم مانگلینگ باعث میشود تداخل اسم بین متغیر ها  و غیره رخ ندهد در صورتیکه اسامی متغییر ها یکسان است"
   ]
  },
  {
   "cell_type": "raw",
   "id": "bba275a3-91bc-4e0d-879a-b7b49d718ad1",
   "metadata": {},
   "source": [
    "دوتا اندراسکور قبل و بعد از اسم متغییر یا متد و غیره\n",
    "\n",
    "special method - magic method\n",
    "\n",
    "برای متد ها و متغییر های خاص خود پایتون کاربرد دارد\n",
    "\n"
   ]
  },
  {
   "cell_type": "raw",
   "id": "b10645c8-413c-427d-b099-ffaa16e3de81",
   "metadata": {},
   "source": [
    "حالا میخاهیم برای تغییر متغییر ها یکسری کنترل هایی داشته باشیم روش\n",
    "\n",
    "setter > تغییر دادن\n",
    "getter > برگرداندن\n",
    "\n",
    "معمولا از ست و گت ابتدای اسامی آنها استفاده میکنند\n",
    "معمولا برای متغییر های پرایوت براینکه دسترسی مستقیم نداشته باشیم\n",
    "با استفاده از این دو دسترسی غیر مستقیم داریم به متغییر های پرایوت"
   ]
  },
  {
   "cell_type": "code",
   "execution_count": 40,
   "id": "d5821f18-d1bc-4790-8bb3-b3b76cfd4f3a",
   "metadata": {},
   "outputs": [
    {
     "name": "stdout",
     "output_type": "stream",
     "text": [
      "01234567889\n"
     ]
    }
   ],
   "source": [
    "class User:\n",
    "    def __init__(self, name=\"\", phone=\"---\"):\n",
    "        self.__id = id(self)\n",
    "        self.name = name \n",
    "        self.__phone = phone \n",
    "        self.str = str(self.__id) + \"name\" + self.name\n",
    "    \n",
    "    def set_phone(self, phone):\n",
    "        if len(phone) == 11 and phone.isdigit():\n",
    "            self.__phone = phone\n",
    "            \n",
    "    def get_phone(self):\n",
    "        return self.__phone\n",
    "        \n",
    "\n",
    "ali = User(\"ali\")\n",
    "ali.set_phone(\"01234567889\")\n",
    "number = ali.get_phone()\n",
    "print(number)"
   ]
  },
  {
   "cell_type": "code",
   "execution_count": null,
   "id": "128cfaef-43f6-4667-ab25-56ccc38492d1",
   "metadata": {},
   "outputs": [],
   "source": []
  }
 ],
 "metadata": {
  "kernelspec": {
   "display_name": "Python 3 (ipykernel)",
   "language": "python",
   "name": "python3"
  },
  "language_info": {
   "codemirror_mode": {
    "name": "ipython",
    "version": 3
   },
   "file_extension": ".py",
   "mimetype": "text/x-python",
   "name": "python",
   "nbconvert_exporter": "python",
   "pygments_lexer": "ipython3",
   "version": "3.10.9"
  }
 },
 "nbformat": 4,
 "nbformat_minor": 5
}
