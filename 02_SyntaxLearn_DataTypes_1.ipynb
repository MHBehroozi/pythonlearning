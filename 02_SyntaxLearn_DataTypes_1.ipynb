{
 "cells": [
  {
   "cell_type": "markdown",
   "id": "390a39bd-87ed-4959-afb9-1acfbf92c4ac",
   "metadata": {
    "tags": []
   },
   "source": [
    "# متغیر ها و داده های عددی"
   ]
  },
  {
   "cell_type": "code",
   "execution_count": 1,
   "id": "78ee4ce4-0a5d-4b39-9bfd-ea35e019d767",
   "metadata": {},
   "outputs": [
    {
     "name": "stdout",
     "output_type": "stream",
     "text": [
      "0b1101001011111010100110\n",
      "0o15137246\n",
      "0x34bea6\n",
      "\n",
      "169\n"
     ]
    }
   ],
   "source": [
    "#نمایش اعداد در مبنای باینری و اوکتایی و هگزایی:\n",
    "x = 3456678\n",
    "print(bin(x))\n",
    "print(oct(x))\n",
    "print(hex(x),end='\\n\\n')\n",
    "\n",
    "print(0b10101001)"
   ]
  },
  {
   "cell_type": "code",
   "execution_count": 2,
   "id": "b25e5855-f055-4b4a-9e23-0aff6e1fd084",
   "metadata": {},
   "outputs": [
    {
     "name": "stdout",
     "output_type": "stream",
     "text": [
      "2.95 | <class 'float'>\n",
      "2 | <class 'int'>\n",
      "\n",
      "1 | <class 'int'>\n",
      "1.0 | <class 'float'>\n",
      "\n",
      "1 | <class 'int'>\n",
      "(1+0j) | <class 'complex'>\n",
      "\n"
     ]
    }
   ],
   "source": [
    "#تبدیل اینتیجر به فلوت و بر عکس\n",
    "x = 2.95\n",
    "print(x, type(x),sep=' | ')\n",
    "y = int(x)\n",
    "print(y, type(y),sep=' | ',end='\\n\\n')\n",
    "\n",
    "x = 1\n",
    "print(x, type(x),sep=' | ')\n",
    "y = float(x)\n",
    "print(y, type(y),sep=' | ',end='\\n\\n')\n",
    "\n",
    "x = 1\n",
    "print(x, type(x),sep=' | ')\n",
    "y = complex(x) #تبدیل به اعداد مختلط\n",
    "print(y, type(y),sep=' | ',end='\\n\\n')"
   ]
  },
  {
   "cell_type": "code",
   "execution_count": 3,
   "id": "007da9a7-9cb3-4270-a4b8-1a9eaa31d720",
   "metadata": {},
   "outputs": [
    {
     "name": "stdout",
     "output_type": "stream",
     "text": [
      "12345.6789 | <class 'float'>\n",
      "\n",
      "12345.6789 | <class 'str'>\n"
     ]
    }
   ],
   "source": [
    "#تبدیل عدد در کاراکتر و برعکس\n",
    "x = \"12345.6789\"\n",
    "x = float(x)\n",
    "print(x,type(x),sep=\" | \",end=\"\\n\\n\")\n",
    "\n",
    "x = 12345.6789\n",
    "x = str(x)\n",
    "print(x,type(x),sep=\" | \")"
   ]
  },
  {
   "cell_type": "code",
   "execution_count": 4,
   "id": "67043f5a-f616-4495-aafd-18d2b7b0c844",
   "metadata": {},
   "outputs": [
    {
     "name": "stdout",
     "output_type": "stream",
     "text": [
      "0.30000000000000004\n",
      "0.8999999999999999\n",
      "False\n"
     ]
    }
   ],
   "source": [
    "#باگ اعداد اعشاری بدلیل ذخیره بصورت باینری\n",
    "print(0.1 + 0.2)\n",
    "print(0.3 + 0.6)\n",
    "print(0.1 + 0.2 == 0.3)"
   ]
  },
  {
   "cell_type": "code",
   "execution_count": 5,
   "id": "300bf69d-1265-4106-813f-df45b47f10ec",
   "metadata": {},
   "outputs": [
    {
     "name": "stdout",
     "output_type": "stream",
     "text": [
      "True\n",
      "<class 'decimal.Decimal'>\n",
      "0.3 | <class 'float'>\n",
      "True\n"
     ]
    }
   ],
   "source": [
    "#راهکار\n",
    "from decimal import Decimal # استفاده از متد دسیمال\n",
    "x = Decimal('0.1') + Decimal('0.2')\n",
    "print(x == Decimal('0.3'))\n",
    "print(type(x))\n",
    "y = float(x)\n",
    "print(y, type(y), sep=' | ')\n",
    "print(y == 0.3)"
   ]
  },
  {
   "cell_type": "code",
   "execution_count": 11,
   "id": "509c6a5a-7f17-42a6-8255-3a4124eb8470",
   "metadata": {},
   "outputs": [
    {
     "name": "stdout",
     "output_type": "stream",
     "text": [
      "3/2\n",
      "3/4\n",
      "8106479329266893/9007199254740992\n"
     ]
    }
   ],
   "source": [
    "# نمایش کسری\n",
    "import fractions\n",
    "print(fractions.Fraction(1.5))\n",
    "print(fractions.Fraction(0.75))\n",
    "print(fractions.Fraction(0.9)) # باگ اعداد اعشاری"
   ]
  },
  {
   "cell_type": "code",
   "execution_count": 19,
   "id": "a297bd47-7de7-45b3-b747-9c0393f9fe7d",
   "metadata": {},
   "outputs": [
    {
     "name": "stdout",
     "output_type": "stream",
     "text": [
      "1000000000000000\n",
      "\n",
      "10000000.0 | <class 'float'>\n"
     ]
    }
   ],
   "source": [
    "# جداکردن صفرها در برنامه نویسی\n",
    "x = 1_000_000_000_000_000 # استفاده از undersocre\n",
    "print(x, end='\\n\\n')\n",
    "\n",
    "# اعداد علمی\n",
    "y = 1e+7 # 1 * 10 ** 7\n",
    "print(y, type(y), sep=' | ')\n",
    "\n",
    "# اگر اعداد فلوت بسیار بزرگ یا بسیار کوچک باشند inf -inf نمایش داده می شود"
   ]
  },
  {
   "cell_type": "code",
   "execution_count": 22,
   "id": "85f866ce-347c-497c-b9ec-1e22a7c9264e",
   "metadata": {},
   "outputs": [
    {
     "name": "stdout",
     "output_type": "stream",
     "text": [
      "(1+3j) | <class 'complex'>\n",
      "1.0\n",
      "3.0\n",
      "(1-3j)\n"
     ]
    }
   ],
   "source": [
    "# اعداد مختلط\n",
    "c = 1 + 3j\n",
    "print(c, type(c), sep=' | ')\n",
    "print(c.real)  # قسمت حقیقی\n",
    "print(c.imag)  # قسمت مجازی\n",
    "print(c.conjugate())  # مزدوج\n",
    "\n",
    "# ضرب و تقسیم و جمع  و تفریق پشتیبانی می شود"
   ]
  },
  {
   "cell_type": "code",
   "execution_count": 25,
   "id": "f4341390-cda1-4572-9686-32ccf217ad36",
   "metadata": {},
   "outputs": [
    {
     "name": "stdout",
     "output_type": "stream",
     "text": [
      "3.26\n",
      "\n",
      "3.2565645\n",
      "\n",
      "81\n"
     ]
    }
   ],
   "source": [
    "# رند کردن\n",
    "x = 3.2575645\n",
    "y = round(x, 2)  # گرد میکند - دقت رندکردن 2\n",
    "print(y, end='\\n\\n')\n",
    "\n",
    "#قدر مطلق\n",
    "x = -3.2565645\n",
    "print(abs(x), end='\\n\\n')\n",
    "\n",
    "#توان با تابع\n",
    "x = 3\n",
    "print(pow(x,4))"
   ]
  },
  {
   "cell_type": "code",
   "execution_count": 28,
   "id": "898daca8-31cc-461d-9a61-86d8c42782f5",
   "metadata": {},
   "outputs": [
    {
     "name": "stdout",
     "output_type": "stream",
     "text": [
      "False\n",
      "True\n"
     ]
    }
   ],
   "source": [
    "# باگ اعداد اعشاری با تابع رند کردن\n",
    "print(0.1 + 0.2 == 0.3)  #باگ\n",
    "print(round(0.1 + 0.2, 3) == 0.3)  #بدون باگ\n",
    "\n",
    "# هر چند این روش مشروط به این است که از نتیجه مطمئن باشیم و گرنه روش کاملی نیست"
   ]
  },
  {
   "cell_type": "markdown",
   "id": "ca9a3ad2-0d0c-4843-a1ed-d5f50860ca71",
   "metadata": {},
   "source": [
    "# متغیر و داده های رشته ای"
   ]
  },
  {
   "cell_type": "code",
   "execution_count": 29,
   "id": "38c71a67-80ff-4b11-b0d9-2cc29a12e04a",
   "metadata": {},
   "outputs": [
    {
     "name": "stdout",
     "output_type": "stream",
     "text": [
      "int? False\n",
      "str? False\n",
      "float? True\n"
     ]
    }
   ],
   "source": [
    "#چک کردن نوع متغیر\n",
    "x = 2.36\n",
    "print(\"int?\", isinstance(x, int))\n",
    "print(\"str?\", isinstance(x, str))\n",
    "print(\"float?\", isinstance(x, float))\n",
    "\n",
    "#اینپوت تایپ رشته میگیرد "
   ]
  },
  {
   "cell_type": "raw",
   "id": "01ab7891-0700-4ab9-b7ea-cb378cfdccfb",
   "metadata": {},
   "source": [
    "در زبان پایتون فرقی بین \"\" و '' نیست\n",
    "و همچنین فرقی بین کاراکتر و رشته نیست و هر دو رشته اند"
   ]
  },
  {
   "cell_type": "raw",
   "id": "c1ac8db0-5c0a-4c80-a5f1-8306245084ea",
   "metadata": {},
   "source": [
    "چیزی به عنوان عدد ذخیره می شود که قرار باشد روی آن محاسبات شود وگرنه باید رشته ذخیره شود\n",
    "مثل کد ملی و شماره موبایل"
   ]
  },
  {
   "cell_type": "code",
   "execution_count": 30,
   "id": "168dc3c5-aa17-4431-b645-639b56758eca",
   "metadata": {},
   "outputs": [
    {
     "name": "stdout",
     "output_type": "stream",
     "text": [
      "Hello World\n",
      "Hello World\n",
      "C:\\Windows32\\new\n",
      "C:\\Windows32\\new\\tablet\n",
      "Hello World!\n",
      "I'm Programmer\n",
      "and I'm Junior\n"
     ]
    }
   ],
   "source": [
    "s1 = \"Hello World\"\n",
    "print(s1)\n",
    "s2 = 'Hello World'\n",
    "print(s2)\n",
    "s3 = \"C:\\Windows32\\\\new\"  # لازم هست برای درنظر نگرفتن دستور قبل آن یک \\ گذاشت\n",
    "print(s3)\n",
    "s4 = r\"C:\\Windows32\\new\\tablet\"  # گذاشتن آر قبل رشته کل دستورات آن را لغو می کند\n",
    "print(s4)\n",
    "s5 = \"\"\"\\\n",
    "Hello World!\n",
    "I'm Programmer\n",
    "and I'm Junior\\\n",
    "\"\"\"\n",
    "print(s5)  # با استفاده از 3 تا کوتیشن می توان متن چند خطی را نوشت"
   ]
  },
  {
   "cell_type": "code",
   "execution_count": 34,
   "id": "b08fdc09-7528-4947-8b3d-f70136112ad6",
   "metadata": {},
   "outputs": [
    {
     "name": "stdout",
     "output_type": "stream",
     "text": [
      "reza reza reza reza Dolati\n"
     ]
    }
   ],
   "source": [
    "# می توان متغیر های رشته ای را ضرب و جمع کرد\n",
    "x = \"reza \"\n",
    "print(4 * x + \"Dolati\")"
   ]
  },
  {
   "cell_type": "raw",
   "id": "ef3e62c2-abd6-4ada-8aa5-b7ad73982c33",
   "metadata": {},
   "source": [
    " ایندکس در رشته ها\n",
    " H    e    l    l    o    رشته\n",
    " 0    1    2    3    4    اندکس گذاری از چپ\n",
    "-5   -4   -3   -2   -1    اندکس گذاری از راست"
   ]
  },
  {
   "cell_type": "code",
   "execution_count": 90,
   "id": "85eaa27d-8519-4aff-af71-2cf106e43cc2",
   "metadata": {},
   "outputs": [
    {
     "name": "stdout",
     "output_type": "stream",
     "text": [
      "e\n",
      "w\n",
      "ell\n",
      "ello wor\n",
      "Hel!lo word\n",
      "Hello word\n"
     ]
    },
    {
     "ename": "IndexError",
     "evalue": "string index out of range",
     "output_type": "error",
     "traceback": [
      "\u001b[0;31m---------------------------------------------------------------------------\u001b[0m",
      "\u001b[0;31mIndexError\u001b[0m                                Traceback (most recent call last)",
      "Cell \u001b[0;32mIn[90], line 8\u001b[0m\n\u001b[1;32m      6\u001b[0m \u001b[38;5;28mprint\u001b[39m(s[:\u001b[38;5;241m3\u001b[39m]\u001b[38;5;241m+\u001b[39m\u001b[38;5;124m\"\u001b[39m\u001b[38;5;124m!\u001b[39m\u001b[38;5;124m\"\u001b[39m\u001b[38;5;241m+\u001b[39ms[\u001b[38;5;241m3\u001b[39m:])\n\u001b[1;32m      7\u001b[0m \u001b[38;5;28mprint\u001b[39m(s[:\u001b[38;5;241m456\u001b[39m])\n\u001b[0;32m----> 8\u001b[0m \u001b[38;5;28mprint\u001b[39m(\u001b[43ms\u001b[49m\u001b[43m[\u001b[49m\u001b[38;5;241;43m234\u001b[39;49m\u001b[43m]\u001b[49m)\n",
      "\u001b[0;31mIndexError\u001b[0m: string index out of range"
     ]
    }
   ],
   "source": [
    "s = \"Hello word\"\n",
    "print(s[1])\n",
    "print(s[-4])\n",
    "print(s[1:4]) # اسلایسینگ، ایندکس آخر نمایش داده نمی شود\n",
    "print(s[1:-1])\n",
    "print(s[:3]+\"!\"+s[3:])\n",
    "print(s[:456])\n",
    "print(s[234]) #error"
   ]
  },
  {
   "cell_type": "code",
   "execution_count": 91,
   "id": "9ec798e5-db68-470e-8a79-78ec81994ea7",
   "metadata": {},
   "outputs": [
    {
     "ename": "TypeError",
     "evalue": "'str' object does not support item assignment",
     "output_type": "error",
     "traceback": [
      "\u001b[0;31m---------------------------------------------------------------------------\u001b[0m",
      "\u001b[0;31mTypeError\u001b[0m                                 Traceback (most recent call last)",
      "Cell \u001b[0;32mIn[91], line 3\u001b[0m\n\u001b[1;32m      1\u001b[0m s \u001b[38;5;241m=\u001b[39m \u001b[38;5;124m\"\u001b[39m\u001b[38;5;124mHello word\u001b[39m\u001b[38;5;124m\"\u001b[39m\n\u001b[0;32m----> 3\u001b[0m s[\u001b[38;5;241m3\u001b[39m] \u001b[38;5;241m=\u001b[39m \u001b[38;5;124m'\u001b[39m\u001b[38;5;124md\u001b[39m\u001b[38;5;124m'\u001b[39m\n",
      "\u001b[0;31mTypeError\u001b[0m: 'str' object does not support item assignment"
     ]
    }
   ],
   "source": [
    "s = \"Hello word\"\n",
    "\n",
    "s[3] = 'd' #error we can`t change"
   ]
  },
  {
   "cell_type": "code",
   "execution_count": 92,
   "id": "cf4570a0-01c4-4e52-bb41-80ac9110b48f",
   "metadata": {},
   "outputs": [
    {
     "name": "stdout",
     "output_type": "stream",
     "text": [
      "HlWl\n",
      "loWr\n"
     ]
    }
   ],
   "source": [
    "# می توان در اسلایسینگ گام را هم مشخص کرد\n",
    "s = \"Hello World!\"\n",
    "print(s[::3])\n",
    "print(s[2:-2:2])"
   ]
  },
  {
   "cell_type": "code",
   "execution_count": 50,
   "id": "18125c9e-6add-4c64-895b-7074d0a589bb",
   "metadata": {},
   "outputs": [
    {
     "name": "stdout",
     "output_type": "stream",
     "text": [
      "!dlroW olleH\n"
     ]
    }
   ],
   "source": [
    "# ترفندی برای برعکس کردن رشته\n",
    "s = \"Hello World!\"\n",
    "print(s[::-1])"
   ]
  },
  {
   "cell_type": "code",
   "execution_count": 93,
   "id": "eddcc42c-c02a-4fd2-ab21-0abc5502ab47",
   "metadata": {},
   "outputs": [
    {
     "name": "stdout",
     "output_type": "stream",
     "text": [
      "12\n",
      "!\n"
     ]
    }
   ],
   "source": [
    "# بدست آوردن اندازه رشته\n",
    "s = \"Hello World!\"\n",
    "print(len(s))\n",
    "\n",
    "#print last character\n",
    "print(s[len(s)-1])"
   ]
  },
  {
   "cell_type": "code",
   "execution_count": 94,
   "id": "f2aed6e8-9c79-43c7-a811-ebcb7261b9c9",
   "metadata": {},
   "outputs": [
    {
     "name": "stdout",
     "output_type": "stream",
     "text": [
      "HELLO WORLD!\n",
      "hello world!\n",
      "3\n",
      "True\n",
      "False\n",
      "6\n",
      "9\n",
      "False\n",
      "True\n",
      "False\n",
      "AHello World!BHello World!C\n",
      "['Hello', 'World!']\n",
      "Hello World?\n",
      "Hello World\n",
      "Salam\n"
     ]
    }
   ],
   "source": [
    "# برخی متد ها رشته را تغییر نمیدهند و باید رشته را اپدیت کرد\n",
    "# s = s.upper()\n",
    "\n",
    "# متد های کلاس رشته ها\n",
    "s = \"Hello World!\"\n",
    "print(s.upper())  # تمام حروف رشته را بصورت بزرگ برمیگرداند\n",
    "print(s.lower())  # تمام حروف رشته را بصورت کوچک برمیگداند\n",
    "print(s.count('l'))  # تعداد رشته مشخص در رشته اصلی\n",
    "print(s.endswith('d!'))  # بررسی اتمام با رشته مشخص شده\n",
    "print(s.startswith('World'))  # بررسی شروع با رشته مشخص شده\n",
    "print(s.find('Wo'))  # یافتن ایندکس اولین رشته مشخص\n",
    "print(s.rfind('l'))  # جستجو از سمت راست\n",
    "print(s.isalnum())  # بررسی ترکیب کاراکتر و عدد و بدون علائم\n",
    "print('salam'.isalnum())\n",
    "print(s.isnumeric())  # بررسی عددی بودن رشته\n",
    "l = ('A', 'B', 'C')\n",
    "print(s.join(l))  # جوین کردن رشته در لیست\n",
    "print(s.split(' '))  # جدا کردن رشته در یک لیست با اسفتاده از رشته مشخص\n",
    "print(s.replace('!', '?'))  # برگرداندن جایگزینی رشته مشخص اول با رشته مشخص دوم\n",
    "print(s.strip('!'))  # حذف کاراکتر مشخص از دو طرف رشته. اگر فقط چپ باشد قبل اِل و اگر فقط راست قبل آر \n",
    "# اگر چیزی پاس ندهیم مثل trim\n",
    "print('salam'.capitalize())  # "
   ]
  },
  {
   "cell_type": "raw",
   "id": "e5a1b580-14e3-4330-8703-349a46db1c30",
   "metadata": {},
   "source": [
    "کاراکتر ها همگی کد مخصوص خود را دارند\n",
    "ASCII و UNICODE\n",
    "ASCII اولیه و زبان های سی و سی پلاس\n",
    "UNICODE جدید و پرکاربرد\n",
    "به خصوص UTF-8"
   ]
  },
  {
   "cell_type": "code",
   "execution_count": 94,
   "id": "3b53c556-824f-4df0-ac5c-b7532e8aceab",
   "metadata": {},
   "outputs": [
    {
     "name": "stdout",
     "output_type": "stream",
     "text": [
      "65\n",
      "A\n"
     ]
    }
   ],
   "source": [
    "print(ord('A'))  # برگرداند کد کاراکتر بصورت دسیمال\n",
    "print(chr(65))   # برگرداند کاراکتر مربوط به کد دسیمال"
   ]
  },
  {
   "cell_type": "code",
   "execution_count": 99,
   "id": "3ce19571-798a-4f1c-834e-fc99b90d2b1f",
   "metadata": {},
   "outputs": [
    {
     "name": "stdout",
     "output_type": "stream",
     "text": [
      "char : ҉\n",
      "char in octa : *\n",
      "char in hex  : *\n"
     ]
    }
   ],
   "source": [
    "# برای چاپ کاراکتر های خاص با داشتن کد یو تی اف آن استفاده می کنیم\n",
    "print(\"char : \\u0489\")  # utf8-chartable.de\n",
    "print(\"char in octa : \\052\")  # نحوه انتخاب کاراکتر در مبنای 8\n",
    "print(\"char in hex  : \\x2a\")  # نحوه انتخاب کاراکتر در مبنای 16"
   ]
  },
  {
   "cell_type": "raw",
   "id": "ec564f56-c5f3-450a-bd77-db28ced290a3",
   "metadata": {},
   "source": [
    "برای کاراکتر های کنترل یا فرار نیز می توان از یونیکدشان استفاده کرد\n",
    "ولی برخی موارد بصورت پیش فرض به شرح زیر هستند\n",
    "\\n  خط بعد\n",
    "\\t  فاصله تب\n",
    "\\\\  بک اسلش\n",
    "\\b  پاک کردن\n",
    "\\r  سر خط\n",
    "r در چپ کوتیشن کل عملکرد بک اسلش را از بین می برد."
   ]
  },
  {
   "cell_type": "code",
   "execution_count": 63,
   "id": "2b523494-33d4-4f0c-bcc8-580520ef09e8",
   "metadata": {},
   "outputs": [
    {
     "name": "stdin",
     "output_type": "stream",
     "text": [
      "enter your msg for delete its space asfdsf    sdf adf      \n"
     ]
    },
    {
     "name": "stdout",
     "output_type": "stream",
     "text": [
      "asfdsfsdfadf\n"
     ]
    }
   ],
   "source": [
    "# exercise\n",
    "str = input(\"enter your msg for delete its space\")\n",
    "\n",
    "print(str.replace(\" \" , \"\").replace(\"\\t\" , \"\"))"
   ]
  },
  {
   "cell_type": "code",
   "execution_count": null,
   "id": "525d5102-921d-4bb6-a981-0ad8b5d4be54",
   "metadata": {},
   "outputs": [],
   "source": []
  },
  {
   "cell_type": "markdown",
   "id": "618b769a-5d7d-40fe-93cc-3f84896799ab",
   "metadata": {
    "tags": []
   },
   "source": [
    "# لیست ها"
   ]
  },
  {
   "cell_type": "code",
   "execution_count": 4,
   "id": "cf464f82-1ddd-4b3c-9eb4-112b39a75da8",
   "metadata": {},
   "outputs": [],
   "source": [
    "Daneshjoo = [\"reza\", \"dolati\", 20, 14, 19.85, 3+2j, [1,2,3,4]] #شبیه آرایه ها در سایر زبان برنامه نویسی\n",
    "# با این تفاوت که انواع داده های متفاوت را می توان در لیست نگهداری کرد و همچنین اندازه لیست متغیر است"
   ]
  },
  {
   "cell_type": "code",
   "execution_count": 66,
   "id": "757cd198-b4cc-49f1-826b-d0507ec6e948",
   "metadata": {},
   "outputs": [
    {
     "name": "stdout",
     "output_type": "stream",
     "text": [
      "['H', 'e', 'l', 'l', 'o']\n",
      "<class 'list'>\n",
      "['W', 'o', 'r', 'l', 'd', '!']\n",
      "<class 'list'>\n",
      "\n",
      "استفاده از ایندکس ها\n",
      "r\n",
      "['W', 'o', 'r', 'l', 'd', '!']\n",
      "['r', 'd']\n",
      "\n",
      "جمع و ضرب لیست ها\n",
      "['H', 'e', 'l', 'l', 'o', 'H', 'e', 'l', 'l', 'o', 'W', 'o', 'r', 'l', 'd', '!']\n"
     ]
    }
   ],
   "source": [
    "# تبدیل رشته به لیست\n",
    "s = \"Hello\"\n",
    "L = list(s)\n",
    "print(L,type(L), sep=\"\\n\")\n",
    "\n",
    "s2 = \"W o r l d !\"\n",
    "ch = s2.split(\" \")\n",
    "print(ch,type(ch), sep=\"\\n\")\n",
    "\n",
    "print(\"\\nاستفاده از ایندکس ها\")\n",
    "print(ch[2])\n",
    "print(ch[:])\n",
    "print(ch[2:6:2])\n",
    "\n",
    "\n",
    "print(\"\\nجمع و ضرب لیست ها\")\n",
    "print(L * 2 + ch)"
   ]
  },
  {
   "cell_type": "code",
   "execution_count": 74,
   "id": "d306cab8-dcb2-45f1-a098-3c25590c4334",
   "metadata": {},
   "outputs": [
    {
     "name": "stdout",
     "output_type": "stream",
     "text": [
      "L= ['H', 'e', 'l', 'l', '!']\n",
      "L==w? True\n",
      "L==M? False\n",
      "True\n"
     ]
    }
   ],
   "source": [
    "#  mutable قابلیت تغییر عناصر لیست\n",
    "L = ['H', 'e', 'l', 'l', 'o']\n",
    "L [-1] = '!'\n",
    "print('L=',L) \n",
    "\n",
    "w = ['H', 'e', 'l', 'l', '!']\n",
    "print('L==w?',L == w)\n",
    "\n",
    "#جای عنصر ها در لیست مهم است\n",
    "M = ['e', 'H', 'l', 'l', '!']\n",
    "print('L==M?',L == M)\n",
    "\n",
    "# in list and strings\n",
    "print('e' in M)"
   ]
  },
  {
   "cell_type": "code",
   "execution_count": 72,
   "id": "628c2d65-033d-4222-9e0e-f58d7cf39040",
   "metadata": {},
   "outputs": [
    {
     "name": "stdout",
     "output_type": "stream",
     "text": [
      "a\n"
     ]
    }
   ],
   "source": [
    "#لیست در لیست\n",
    "x = [1, 2, ['a', 'b']]\n",
    "print(x[2][0]) # ایندکس در لیست در لیست"
   ]
  },
  {
   "cell_type": "code",
   "execution_count": 76,
   "id": "d41ba2c4-aa0c-4892-8bae-f2ff5da924c2",
   "metadata": {},
   "outputs": [
    {
     "name": "stdout",
     "output_type": "stream",
     "text": [
      "L1: 2 \tid(L1): 139718569230608\n",
      "L2: 5 \tid(L2): 139718569230704\n"
     ]
    }
   ],
   "source": [
    "L1 = 2\n",
    "L2 = L1\n",
    "L2 = 5\n",
    "print('L1:',L1,'\\tid(L1):',id(L1))\n",
    "print('L2:',L2,'\\tid(L2):',id(L2))"
   ]
  },
  {
   "cell_type": "code",
   "execution_count": 78,
   "id": "1939b27b-6b21-4696-acec-008e07ee8689",
   "metadata": {},
   "outputs": [
    {
     "name": "stdout",
     "output_type": "stream",
     "text": [
      "L1: [0, 2, ['a', 'b']] \tid(L1): 139718442196736\n",
      "L2: [0, 2, ['a', 'b']] \tid(L2): 139718442196736\n",
      "\n",
      "راه حل: ایجاد کپی\n",
      "L1: [0, 2, ['a', 'b']] \tid(L1): 139718442196736\n",
      "L3: [9, 2, ['a', 'b']] \tid(L3): 139718078545408\n"
     ]
    }
   ],
   "source": [
    "# محل ذخیره لیست ها\n",
    "L1 = [1, 2, ['a', 'b']]\n",
    "L2 = L1\n",
    "L2[0] = 0\n",
    "print('L1:',L1,'\\tid(L1):',id(L1))\n",
    "print('L2:',L2,'\\tid(L2):',id(L2))\n",
    "\n",
    "print(\"\\nراه حل: ایجاد کپی\")\n",
    "L3 = L1.copy() #or l3 = l1[:]\n",
    "L3[0] = 9\n",
    "print('L1:',L1,'\\tid(L1):',id(L1))\n",
    "print('L3:',L3,'\\tid(L3):',id(L3))"
   ]
  },
  {
   "cell_type": "code",
   "execution_count": 42,
   "id": "aa8c3080-06ec-4b5c-b57e-a26f30eb1d84",
   "metadata": {},
   "outputs": [
    {
     "name": "stdout",
     "output_type": "stream",
     "text": [
      "L1: [1, 2, ['c', 'b']] \tid(L1): 2431261175040\n",
      "L2: [1, 2, ['c', 'b']] \tid(L2): 2431261172992\n"
     ]
    }
   ],
   "source": [
    "# چالش محل ذخیره در لیست در لیست\n",
    "L1 = [1, 2, ['a', 'b']]\n",
    "L2 = L1.copy()\n",
    "L2[2][0] = 'c'\n",
    "print('L1:',L1,'\\tid(L1):',id(L1))\n",
    "print('L2:',L2,'\\tid(L2):',id(L2))"
   ]
  },
  {
   "cell_type": "code",
   "execution_count": 44,
   "id": "aef6f846-f1d1-417f-8615-762340152cbf",
   "metadata": {},
   "outputs": [
    {
     "name": "stdout",
     "output_type": "stream",
     "text": [
      "L1: [1, 2, ['a', 'b']] \tid(L1): 2431261169024\n",
      "L2: [1, 2, ['c', 'b']] \tid(L2): 2431261208832\n"
     ]
    }
   ],
   "source": [
    "# دو نوع کپی داریم Shallow copy و Deep Copy\n",
    "# در بالا کپی سطحی رخ داده است.\n",
    "# کپی عمیق\n",
    "import copy\n",
    "L1 = [1, 2, ['a', 'b']]\n",
    "L2 = copy.deepcopy(L1) # copy.copy کپی سطحی\n",
    "L2[2][0] = 'c'\n",
    "print('L1:',L1,'\\tid(L1):',id(L1))\n",
    "print('L2:',L2,'\\tid(L2):',id(L2))"
   ]
  },
  {
   "cell_type": "code",
   "execution_count": 85,
   "id": "caf71236-a8a6-4574-8fb6-d9cc39b6c1f5",
   "metadata": {},
   "outputs": [
    {
     "name": "stdout",
     "output_type": "stream",
     "text": [
      "append\n",
      "[1, 2, 3, 4, 5, 6, 7, [2, 4]]\n",
      "\n",
      "تغییر عضو\n",
      "[1, 2, 32, 3, 6, 7, [2, 4]]\n",
      "\n",
      "حذف عضو\n",
      "[1, 2, 7, [2, 4]]\n",
      "\n",
      "اندازه لیست\n",
      "4\n",
      "\n",
      "استفاده از لیست در مقدار دهی\n",
      "a = 1 b = [2, 3, 4, 5] c = 6\n"
     ]
    }
   ],
   "source": [
    "#متد های لیست\n",
    "L = [1,2,3,4,5,6]\n",
    "print(\"append\") # اضافه کردن عنصر به لیست\n",
    "L.append(7)\n",
    "L.append([2,4])\n",
    "print(L, end='\\n\\n')\n",
    "\n",
    "print(\"تغییر عضو\")\n",
    "L[2:5] = [ 32, 3 ]\n",
    "print(L, end='\\n\\n')\n",
    "\n",
    "print(\"حذف عضو\")\n",
    "del L[2:5]\n",
    "# del L    delete whole of list\n",
    "print(L, end='\\n\\n')\n",
    "\n",
    "print(\"اندازه لیست\")\n",
    "print(len(L), end='\\n\\n')\n",
    "\n",
    "print(\"استفاده از لیست در مقدار دهی\")\n",
    "L = [1,2,3,4,5,6]\n",
    "a, *b, c = L\n",
    "print('a =',a ,'b =',b ,'c =',c)  #با استفاده از * متغیر اضافی را در خود قرار می دهد"
   ]
  },
  {
   "cell_type": "code",
   "execution_count": 89,
   "id": "9fb1c2f4-6dc7-4674-8684-cbe27ed78c09",
   "metadata": {},
   "outputs": [
    {
     "name": "stdout",
     "output_type": "stream",
     "text": [
      "(1, 2, 'reza', [3, 4], (5, 6))\n",
      "<class 'tuple'>\n",
      "<class 'tuple'>\n",
      "<class 'int'>\n",
      "<class 'tuple'>\n",
      "(1, 2, [0, 4, 5], 6)\n",
      "('r', 'e', 'z', 'a')\n",
      "[1, 2, [0, 4, 5], 6]\n",
      "<class 'tuple'>\n",
      "استفاده از تاپل در مقدار دهی\n",
      "a = 1 b = [2, 3, 4, 5] c = 6\n"
     ]
    }
   ],
   "source": [
    "# تاپل\n",
    "x = (1,2 , 'reza', [3,4], (5,6)) # دو تفاوت با لیست یک با پرانتز دو غیر قابل تغییر\n",
    "print(x)\n",
    "#x.append(7) غیر قابل انجام\n",
    "#x[1] = 0 immutable  غیر قابل انجام\n",
    "# با توجه به غیر قابل تغییر بودن تاپل ها آنها از لیست ها حافظه کمتری مصرف میکنند و بهینه تر اند\n",
    "# از طرف تاپل ها می توانند امنیت بیشتری برای داده ها تامین کرد\n",
    "\n",
    "t = 1,2,3,4  # نوع دیگری از تعریف تاپل\n",
    "print(type(t))\n",
    "t = ()\n",
    "print(type(t))\n",
    "t = (1)\n",
    "print(type(t))\n",
    "t = (1,)\n",
    "print(type(t))\n",
    "\n",
    "\n",
    "# تغییر لیست در تاپل\n",
    "t = (1,2,[3,4,5],6)\n",
    "t[2][0] = 0\n",
    "print(t)\n",
    "print(tuple(\"reza\")) # خروجی تاپل گرفتن\n",
    "print(list(t)) # تبدیل به لیست جهت تغییر و سپس تبدیل به تاپل راهی برای تغییر تاپل\n",
    "t = tuple(list(t)); print(type(t))\n",
    "\n",
    "print(\"استفاده از تاپل در مقدار دهی\")\n",
    "L = (1,2,3,4,5,6)\n",
    "a, *b, c = L\n",
    "print('a =',a ,'b =',b ,'c =',c)  # این ویژگی در استرینگ ها هم وجود دارد\n",
    "# با استفاده از * متغیر اضافی را در خود قرار می دهد"
   ]
  },
  {
   "cell_type": "raw",
   "id": "a953a16c-7c96-4f97-ab52-2fee2f9a4ea0",
   "metadata": {},
   "source": []
  },
  {
   "cell_type": "markdown",
   "id": "90c5df37-4fc6-410e-9f3e-bc5a16242140",
   "metadata": {
    "tags": []
   },
   "source": [
    "# دیکشنری ها"
   ]
  },
  {
   "cell_type": "code",
   "execution_count": 95,
   "id": "f913279a-5837-43e5-ae3e-12243fc0dd17",
   "metadata": {},
   "outputs": [
    {
     "name": "stdout",
     "output_type": "stream",
     "text": [
      "d: {'a': 1, 'b': 2}  size: 2  type: <class 'dict'>\n",
      "1\n"
     ]
    }
   ],
   "source": [
    "d = {'a' : 1, 'b' : 2}  # دیکشنری با آکولات و هر عنصرش یک کلید و یک مقدار دارد. #key:value\n",
    "# لازم است کلید ها انحصاری باشد ولی مقادیر می تواند تکراری باشد\n",
    "print('d:',d,' size:',len(d),' type:', type(d))\n",
    "\n",
    "# برای نمایش اعضا و تکه سازی از ایندکس استفاده نمی شود از کلید استفاده می شود\n",
    "print(d[\"a\"])\n",
    "\n",
    "# کلید ها هر نوع داده غیر قابل تغییر مثلا غیر از لیست می تواند باشد\n",
    "# tuple int str\n",
    "# داخل تاپل مقدار قابل تغییر نباید داشته باشد\n",
    "# ولی مقدار هر نوعی می تواند باشد\n",
    "d1 = {1 : 5, 'l' : [1,2], (1,2,3) : 'tuple'}\n",
    "#d2 = {[1,2,3] : \"list\"}  # غلط"
   ]
  },
  {
   "cell_type": "markdown",
   "id": "a1d3591c-e3a7-4159-a068-f7dfff00d684",
   "metadata": {},
   "source": [
    "***در دیکشنری ها بر خلاف توالی ها (رشته، لیست و تاپل) ترتیب هیچ اهمیتی ندارد و لذا ایندکس هم معنی ندارد"
   ]
  },
  {
   "cell_type": "code",
   "execution_count": 26,
   "id": "ce6a3a75-a20f-486d-aa81-354215be770e",
   "metadata": {},
   "outputs": [
    {
     "name": "stdout",
     "output_type": "stream",
     "text": [
      "a : 80\n",
      "{'a': 80, 'b': 20, 'c': 40}\n"
     ]
    }
   ],
   "source": [
    "d = {'a' : 1, 'b' : 2, 'a' : 80 } # کلید های تکراری صرفا جایگزین میشوند\n",
    "print('a :',d['a'])\n",
    "\n",
    "# دیکشنری ها قابل تغییر اند\n",
    "d['b'] = 20\n",
    "d['c'] = 40 # اضافه کردن عنصر جدید با این شکل اصلاح دیکشنری\n",
    "print(d)"
   ]
  },
  {
   "cell_type": "code",
   "execution_count": 98,
   "id": "4186b22e-f967-4bc8-a171-96098142a485",
   "metadata": {},
   "outputs": [
    {
     "name": "stdout",
     "output_type": "stream",
     "text": [
      "None\n",
      "dict_keys(['a', 'b', 'c'])\n",
      "dict_values([80, 20, 40])\n",
      "dict_items([('a', 80), ('b', 20), ('c', 40)])\n",
      "['a', 'b', 'c']\n",
      "{'a': 80, 'b': 20}\n",
      "{'a': 10, 'b': 15, 'c': 40, 'd': 70}\n",
      "{1: 10, 'b': 15, (1, 2): 40}\n"
     ]
    }
   ],
   "source": [
    "# گرفتن خروجی حتی از کلید های تعریف نشده\n",
    "d = {'a': 80, 'b': 20, 'c': 40}\n",
    "print(d.get('r'))\n",
    "\n",
    "# متد ها\n",
    "print(d.keys())  # برگرداندن کلید ها\n",
    "print(d.values())  # برگرداندن مقدار ها\n",
    "print(d.items())  # برگرداندن هر دو مقدار و کلید\n",
    "\n",
    "print(list(d.keys())) # گرفتن کلید ها بصورت لیست\n",
    "\n",
    "del d[\"c\"]; print(d) # حذف یک عنصر با کلیدش\n",
    "\n",
    "d = dict(a=10, b=15, c= 40, d=70) # شکل دیگری از تعریف دیکت که لازم است کلید ها حتما رشته باشند و  کلیدها یکتا باشند\n",
    "print(d)\n",
    "d = dict([(1 ,10), (\"b\" ,15), ((1 ,2) ,40)]) \n",
    "print(d)\n"
   ]
  },
  {
   "cell_type": "markdown",
   "id": "18d18127-6f93-4a2c-a96f-6eef97e89eef",
   "metadata": {},
   "source": [
    "*** کلید را برای عنصر دیکشنری نمی توان تغییر داد. اگر نیاز به تغییر باشد باید مقدارش کپی و آن عنصر حذف و سپس اضافه شود***"
   ]
  },
  {
   "cell_type": "code",
   "execution_count": 47,
   "id": "28bb4937-0132-46b6-860b-ed7f0d3ae035",
   "metadata": {},
   "outputs": [
    {
     "name": "stdout",
     "output_type": "stream",
     "text": [
      "[3, 4, 5, 8, 9]\n",
      "[9, 8, 5, 4, 3]\n",
      "['b', 'p', 'q', 's', 'x']\n",
      "['a', 'b', 'c', 'd']\n",
      "['d', 'c', 'b', 'a']   type: <class 'list'>\n"
     ]
    }
   ],
   "source": [
    "# مرتب سازی\n",
    "l = [9,3,8,4,5]\n",
    "print(sorted(l))\n",
    "print(sorted(l, reverse = True)) # مرتب سازی معکوس\n",
    "l2 = ['s','q','b','x','p']\n",
    "print(sorted(l2))\n",
    "\n",
    "# مرتب سازی کلیدهای دیکشنری\n",
    "print(sorted(d.keys()))\n",
    "# مرتب سازی دیکشنری فقط کلید را برمیگرداند\n",
    "print(sorted(d, reverse = True),'  type:',type(sorted(d)))"
   ]
  },
  {
   "cell_type": "code",
   "execution_count": 52,
   "id": "4bf8b05d-2866-4b7a-87c3-674fca727141",
   "metadata": {},
   "outputs": [
    {
     "name": "stdout",
     "output_type": "stream",
     "text": [
      "{0: 0, 1: 1, 2: 4, 3: 9, 4: 16, 5: 25, 6: 36, 7: 49, 8: 64, 9: 81}\n"
     ]
    }
   ],
   "source": [
    "# استفاده از کامپرینهنشن (درک) برای تعریف دیکشنری\n",
    "d = {x: x**2 for x in range (10)}\n",
    "print(d)"
   ]
  },
  {
   "cell_type": "code",
   "execution_count": 101,
   "id": "f67a6311-3a9c-4baf-ae27-b4c5ae68c167",
   "metadata": {},
   "outputs": [
    {
     "name": "stdout",
     "output_type": "stream",
     "text": [
      "3\n",
      "True\n",
      "True\n",
      "{'name': 'ali', 'age': 14}\n",
      "19\n",
      "r\n"
     ]
    }
   ],
   "source": [
    "# کلید در کلید\n",
    "d = {\n",
    "    \"169\" : {\"name\":\"reza\", \"age\":25},\n",
    "    \"172\" : {\"name\":\"ali\", \"age\":14},\n",
    "    \"256\" : {\"name\":\"zahra\", \"age\":19}\n",
    "}\n",
    "\n",
    "print(len(d))\n",
    "print(\"169\" in d)\n",
    "print(d == {\n",
    "    \"169\" : {\"name\":\"reza\", \"age\":25},\n",
    "    \"172\" : {\"name\":\"ali\", \"age\":14},\n",
    "    \"256\" : {\"name\":\"zahra\", \"age\":19}\n",
    "})\n",
    "print(d[\"172\"])\n",
    "print(d[\"256\"][\"age\"])\n",
    "print(d[\"169\"][\"name\"][0]) # ایندکس گذاری برای خروجی رشته"
   ]
  },
  {
   "cell_type": "markdown",
   "id": "a1363f74-29a5-408e-94c8-b4ab07fb9de6",
   "metadata": {},
   "source": [
    "*** نام دیگر دیکشنری نگاشت یا maping\n",
    "جمع و ضرب در دیکشنری ها اعمال نمیشه"
   ]
  },
  {
   "cell_type": "code",
   "execution_count": 60,
   "id": "57f72768-a8f2-4514-8214-99608f537d7b",
   "metadata": {},
   "outputs": [
    {
     "name": "stdout",
     "output_type": "stream",
     "text": [
      "<zip object at 0x0000014278885840> | type: <class 'zip'>\n",
      "{'a': 1, 'b': 2, 'c': 3}\n"
     ]
    }
   ],
   "source": [
    "# زیپ کردن ZIP\n",
    "k = ['a', 'b', 'c']\n",
    "v = [1 , 2 , 3]\n",
    "i = zip(k,v)\n",
    "d = dict(i)\n",
    "print(i, '| type:',type(i))\n",
    "print(d)"
   ]
  },
  {
   "cell_type": "code",
   "execution_count": null,
   "id": "ad16f653-c874-4f84-b5cb-f4f8e59b1a66",
   "metadata": {},
   "outputs": [],
   "source": []
  },
  {
   "cell_type": "markdown",
   "id": "4054a35f-a1d0-48c5-bb7a-533d45e3ffeb",
   "metadata": {
    "tags": []
   },
   "source": [
    "# مجموعه ها و نوع داده SET"
   ]
  },
  {
   "cell_type": "code",
   "execution_count": 20,
   "id": "6a62dfe3-ca76-4183-b95c-2abcc147bf77",
   "metadata": {},
   "outputs": [
    {
     "name": "stdout",
     "output_type": "stream",
     "text": [
      "s : {1, 2, 3, 4, 5, 6}   type : <class 'set'>   id(s) : 2530535043584\n",
      "\n",
      "{1, 2, 3, 4, 5, 6, 12}   id(s) : 2530535043584\n",
      "\n",
      "{'a', 1, 2, 4}\n"
     ]
    }
   ],
   "source": [
    "# مجموعه ای از اشیاء و عناصر با صفات مشترک\n",
    "# قابل تغییر و اضافه و کم کردن ولی نه با دستورات لیست و تاپل\n",
    "# با آکولات نوشته می شود. عناصر تکراری قبول نکرده و حذف می کند\n",
    "s = {1,2,3,4,5,6}\n",
    "print('s :',s,'  type :',type(s),'  id(s) :',id(s),end='\\n\\n')\n",
    "\n",
    "s.add(12); print(s,'  id(s) :',id(s),end='\\n\\n')\n",
    "\n",
    "# در مجموعه ها عناصر ایندکس ندارند. کلا ایندکست برای توالی ها است\n",
    "s1 = {1,4,2,'a'}; print(s1)\n",
    "# در مواردی که تمایل ندارید تکراری ثبت کنید مجموعه ها خوب است\n",
    "#mutable\n",
    "\n",
    "s4= set([1,21,3,1])\n",
    "s2 = {} # دیکشنری است مجموعه نیست\n",
    "s3 = {' '}  # مجموعه است و دیکشنری نیست\n",
    "\n",
    "#  *** داخل مجموعه نمی توان عناصر قابل تغییر مثل لیست و دیکشنری قرار داد"
   ]
  },
  {
   "cell_type": "code",
   "execution_count": 30,
   "id": "a0f99a94-f82b-4eb1-a23e-046a0ccade78",
   "metadata": {},
   "outputs": [
    {
     "name": "stdout",
     "output_type": "stream",
     "text": [
      "{1, 2, 3, 4, 5, 6, 11, 12, 13, 14, 15, 16, 20, 21, 22, 23, 40, 50}  |  size of s : 18\n",
      "{1, 2, 3, 4, 5, 6, 11, 12, 13, 14, 15, 16, 20, 21, 22, 23, 40, 50, (4, 5)}\n"
     ]
    }
   ],
   "source": [
    "# اضافه کردن چندین عضو\n",
    "s.update([11,12,13,14,15,16],[20,21,22,23])\n",
    "print(s,' |  size of s :',len(s))  # اندازه مجموعه با len\n",
    "s.add((4,5)) # اضافه کردن تاپل به عنوان عضو\n",
    "s.update((40,50)) # اضافه کردن به عنوان عضو\n",
    "print(s)"
   ]
  },
  {
   "cell_type": "code",
   "execution_count": 31,
   "id": "54cae8ca-63ae-40aa-8800-b9b3147918d7",
   "metadata": {},
   "outputs": [
    {
     "name": "stdout",
     "output_type": "stream",
     "text": [
      "True\n"
     ]
    }
   ],
   "source": [
    "# حذف عنصر با discard و remove\n",
    "s.remove((4,5))  # اگر عضو نباشد ارور میدهد\n",
    "s.discard((4,5))  # حتی اگر عضو نباشد مشکلی نیست\n",
    "\n",
    "# بررسی عضویت\n",
    "print(40 in s)"
   ]
  },
  {
   "cell_type": "code",
   "execution_count": 45,
   "id": "a2627795-b5a6-49bf-86f1-c09ff6162080",
   "metadata": {},
   "outputs": [
    {
     "name": "stdout",
     "output_type": "stream",
     "text": [
      "تفاضل : {9, 3, 15}\n",
      "روش دیگر : {9, 3, 15}\n",
      "اجتماع مجموعه ها : {2, 3, 4, 6, 8, 9, 10, 12, 14, 15, 16, 18}\n",
      "روش دیگر : {2, 3, 4, 6, 8, 9, 10, 12, 14, 15, 16, 18}\n",
      "اشتراک مجموعه ها : {18, 12, 6}\n",
      "روش دیگر : {18, 12, 6}\n",
      "تفاضل متقارن : {2, 3, 4, 8, 9, 10, 14, 15, 16}\n",
      "روش دیگر : {2, 3, 4, 8, 9, 10, 14, 15, 16}\n"
     ]
    }
   ],
   "source": [
    "# عملگرهای مجموعه ها: اجتماع و اشتراک\n",
    "P = {3, 9, 15, 6, 12, 18}\n",
    "Q = {4, 2, 8, 10, 16, 14, 6, 12, 18}\n",
    "\n",
    "print('تفاضل :', P - Q)  # در پی هستند ولی در کیو نیستند\n",
    "print('روش دیگر :', P.difference(Q)) # خود پی تغییر نمی کند\n",
    "\n",
    "# عملگر های بیتی در مجموعه ها معنای دیگری پیدا می کنند\n",
    "print('اجتماع مجموعه ها :', P | Q)\n",
    "print('روش دیگر :', P.union(Q))\n",
    "\n",
    "print('اشتراک مجموعه ها :', P & Q)\n",
    "print('روش دیگر :', P.intersection(Q))\n",
    "\n",
    "print('تفاضل متقارن :', P ^ Q)  # در پی هست، در کیو هست ولی با هم مشترک نیستند # (P|Q)-(P&Q) # (P-Q)|(Q-P)\n",
    "print('روش دیگر :', P.symmetric_difference(Q))\n"
   ]
  },
  {
   "cell_type": "code",
   "execution_count": 53,
   "id": "9e8808a1-2575-4a0f-aa42-aeb177d842c7",
   "metadata": {},
   "outputs": [
    {
     "name": "stdout",
     "output_type": "stream",
     "text": [
      "زیرمجموعه : True\n",
      "روش دیگر : True\n",
      "رومجموعه : False\n",
      "روش دیگر : False\n"
     ]
    }
   ],
   "source": [
    "# زیر مجموعه\n",
    "B = {10, 30, 60}\n",
    "A = {10, 30, 60, 20, 40, 50}\n",
    "print('زیرمجموعه :', B < A)\n",
    "print('روش دیگر :', B.issubset(A))  # بی زیر اِی هست؟\n",
    "\n",
    "print('رومجموعه :', B > A)\n",
    "print('روش دیگر :', B.issuperset(A)) # بی در برمیگیرد اِی را؟"
   ]
  },
  {
   "cell_type": "code",
   "execution_count": 4,
   "id": "eb829462-d01a-44d3-b993-c136d2814462",
   "metadata": {},
   "outputs": [
    {
     "name": "stdout",
     "output_type": "stream",
     "text": [
      "[1, 2, ['a', 'b', 'c']]\n",
      "[1, 2, 'a', 'b', 'c']\n"
     ]
    }
   ],
   "source": [
    "l1 = [ 1, 2, 3]\n",
    "l2 = [ 'a', 'b', 'c']\n",
    "l1[-1] = l2\n",
    "print(l1)\n",
    "\n",
    "\n",
    "l1 = [ 1, 2, 3]\n",
    "l2 = [ 'a', 'b', 'c']\n",
    "l1[-1:] = l2\n",
    "print(l1)"
   ]
  },
  {
   "cell_type": "code",
   "execution_count": null,
   "id": "7dc1d22a-d428-4c1d-b084-03b0971ccad9",
   "metadata": {},
   "outputs": [],
   "source": [
    "meaning = input('enter :').split(\",\") \n",
    "# وقتی ورودی ها را با ویرگول جدا میکنیم"
   ]
  },
  {
   "cell_type": "code",
   "execution_count": null,
   "id": "9a233314-fbbb-4830-be7f-bfbad64af064",
   "metadata": {},
   "outputs": [],
   "source": []
  },
  {
   "cell_type": "markdown",
   "id": "d5e19fa4-4422-4808-a83c-28453865b293",
   "metadata": {
    "tags": []
   },
   "source": [
    "# بولین و نان تایپ"
   ]
  },
  {
   "cell_type": "code",
   "execution_count": 84,
   "id": "da96ed99-c494-4d16-abc3-f05ce95025bd",
   "metadata": {},
   "outputs": [
    {
     "name": "stdout",
     "output_type": "stream",
     "text": [
      "<class 'NoneType'>\n"
     ]
    }
   ],
   "source": [
    "x = None\n",
    "print(type(x))\n",
    "# در مواردی که خروجی چیزی را بر نمی گرداند نوع آن نان تایپ است: None"
   ]
  },
  {
   "cell_type": "code",
   "execution_count": 7,
   "id": "b7de1a65-1a01-4b9e-b477-2e0e6c6517f7",
   "metadata": {},
   "outputs": [
    {
     "name": "stdout",
     "output_type": "stream",
     "text": [
      "1\n",
      "0\n",
      "<class 'bool'>\n",
      "5\n",
      "True\n",
      "\n",
      "True\n",
      "True\n",
      "False\n",
      "\n",
      "Hello\n",
      "Asb none?\n"
     ]
    }
   ],
   "source": [
    "b1 = True\n",
    "b2 = False\n",
    "print(int(b1),int(b2),type(b1), sep='\\n')\n",
    "print(True * 5)\n",
    "print(True == 1,end='\\n\\n')\n",
    "\n",
    "print(bool(452.231))  # تبدیل بولین هر عدد غیر از صفر تُرو است\n",
    "print(bool('a'))  # تبدیل بولین هر نوع داده ای تُرو است\n",
    "print(bool(0),end='\\n\\n')\n",
    "\n",
    "if 452.232:\n",
    "    print('Hello')\n",
    "    \n",
    "# None و توالی های خالی همگی False\n",
    "# چرا که معادلشان صفر است و صفر فالس است\n",
    "if None:\n",
    "    print('World!')\n",
    "if ([]):\n",
    "    print('Asb?')\n",
    "if ([None]):\n",
    "    print('Asb none?')\n",
    "if ({}):\n",
    "    print('OHHH?')\n",
    "if (set()):\n",
    "    print('setttt')\n",
    "    \n",
    "# 0j-0.0-0 => zero , False , None , () , \"\" , set() , {} , []"
   ]
  },
  {
   "cell_type": "code",
   "execution_count": 88,
   "id": "b2bc0c29-e40b-4367-abcf-7806410ea89f",
   "metadata": {},
   "outputs": [
    {
     "name": "stdout",
     "output_type": "stream",
     "text": [
      "True\n"
     ]
    }
   ],
   "source": [
    "# ترکیب عملگر های منطقی بر روی بولین\n",
    "x = 5\n",
    "y = 10\n",
    "print(x<y and x == 5 or x < 4)"
   ]
  },
  {
   "cell_type": "code",
   "execution_count": 96,
   "id": "872b1403-022c-4cde-9b5e-85e3cff0d066",
   "metadata": {},
   "outputs": [
    {
     "name": "stdout",
     "output_type": "stream",
     "text": [
      "6\n",
      "[]\n",
      "5\n",
      "False\n"
     ]
    }
   ],
   "source": [
    "# ترکیب عملگر های منطقی بر روی انواع داده ها\n",
    "print(5 and 6) ##?\n",
    "\n",
    "# and\n",
    "# print( x and y) ?\n",
    "# if x is False -> x\n",
    "# if x is True -> y\n",
    "\n",
    "# or\n",
    "# print( x or y) ?\n",
    "# if x is False -> y\n",
    "# if x is True -> x\n",
    "\n",
    "print([] and 5)\n",
    "print([] or 5)\n",
    "\n",
    "print(0 or 1<0)"
   ]
  }
 ],
 "metadata": {
  "kernelspec": {
   "display_name": "Python 3 (ipykernel)",
   "language": "python",
   "name": "python3"
  },
  "language_info": {
   "codemirror_mode": {
    "name": "ipython",
    "version": 3
   },
   "file_extension": ".py",
   "mimetype": "text/x-python",
   "name": "python",
   "nbconvert_exporter": "python",
   "pygments_lexer": "ipython3",
   "version": "3.10.9"
  }
 },
 "nbformat": 4,
 "nbformat_minor": 5
}
